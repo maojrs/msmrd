{
 "cells": [
  {
   "cell_type": "code",
   "execution_count": null,
   "metadata": {},
   "outputs": [],
   "source": [
    "import h5py\n",
    "import numpy as np\n",
    "import matplotlib.pyplot as plt\n",
    "import msmrd2.tools as msmrdtls"
   ]
  },
  {
   "cell_type": "code",
   "execution_count": null,
   "metadata": {},
   "outputs": [],
   "source": [
    "dt = 0.00001\n",
    "timesteps = 200000000\n",
    "stride = 5000\n",
    "maxentries = int(timesteps/stride)"
   ]
  },
  {
   "cell_type": "code",
   "execution_count": null,
   "metadata": {},
   "outputs": [],
   "source": [
    "# Load H5 files into python list, each file one entry of the list\n",
    "read_data=[]\n",
    "nfiles = 100\n",
    "for i in range(nfiles):\n",
    "    filename = '../data/dimer/simDimer' + str(i).zfill(4) + '.h5'\n",
    "    f = h5py.File(filename, 'r')\n",
    "\n",
    "    # List all groups (use the firs key)\n",
    "    #print(\"Keys: %s\" % list(f.keys()))\n",
    "    a_group_key = list(f.keys())[0]\n",
    "\n",
    "    # Get the data\n",
    "    #data = list(f[a_group_key])\n",
    "    read_data.append(np.array(f[a_group_key]))"
   ]
  },
  {
   "cell_type": "code",
   "execution_count": null,
   "metadata": {},
   "outputs": [],
   "source": [
    "diffpos =[]\n",
    "for entry in range(maxentries):\n",
    "    file=8\n",
    "    time = read_data[file][entry][0]*dt\n",
    "    part1pos = np.array(read_data[file][2*entry][1:4])\n",
    "    part2pos = np.array(read_data[file][2*entry+1][1:4])\n",
    "    diffpos.append(np.linalg.norm(part1pos - part2pos))\n",
    "plt.plot(diffpos)"
   ]
  },
  {
   "cell_type": "code",
   "execution_count": null,
   "metadata": {},
   "outputs": [],
   "source": [
    "difforient =[]\n",
    "for entry in range(int(maxentries/2)):\n",
    "    file=8\n",
    "    time = read_data[file][entry][0]*dt\n",
    "    part1orient = np.array(read_data[file][2*entry][4:8])\n",
    "    part2orient = np.array(read_data[file][2*entry+1][4:8])\n",
    "    relorient = msmrdtls.quaternions.relativeOrientation(part1orient, part2orient)\n",
    "    phi = msmrdtls.quaternions.quat2angle(relorient)\n",
    "    difforient.append(np.linalg.norm(phi))\n",
    "plt.plot(difforient)"
   ]
  },
  {
   "cell_type": "code",
   "execution_count": null,
   "metadata": {},
   "outputs": [],
   "source": [
    "read_data0[3]==read_data1[3]"
   ]
  },
  {
   "cell_type": "code",
   "execution_count": null,
   "metadata": {},
   "outputs": [],
   "source": [
    "len(read_data[0])"
   ]
  },
  {
   "cell_type": "code",
   "execution_count": null,
   "metadata": {},
   "outputs": [],
   "source": [
    "a=np.array(read_data[0][0][4:8])"
   ]
  },
  {
   "cell_type": "code",
   "execution_count": null,
   "metadata": {},
   "outputs": [],
   "source": [
    "a[0:3]"
   ]
  },
  {
   "cell_type": "code",
   "execution_count": null,
   "metadata": {},
   "outputs": [],
   "source": [
    "def conjugate(q):\n",
    "    s = q[0]\n",
    "    p = -q[1:4]\n",
    "    qout = np.insert(p,0,s)\n",
    "    return qout"
   ]
  },
  {
   "cell_type": "code",
   "execution_count": null,
   "metadata": {},
   "outputs": [],
   "source": [
    "conjugate(a)"
   ]
  },
  {
   "cell_type": "code",
   "execution_count": null,
   "metadata": {},
   "outputs": [],
   "source": [
    "a"
   ]
  },
  {
   "cell_type": "code",
   "execution_count": null,
   "metadata": {},
   "outputs": [],
   "source": []
  }
 ],
 "metadata": {
  "kernelspec": {
   "display_name": "Python 3",
   "language": "python",
   "name": "python3"
  },
  "language_info": {
   "codemirror_mode": {
    "name": "ipython",
    "version": 3
   },
   "file_extension": ".py",
   "mimetype": "text/x-python",
   "name": "python",
   "nbconvert_exporter": "python",
   "pygments_lexer": "ipython3",
   "version": "3.6.6"
  }
 },
 "nbformat": 4,
 "nbformat_minor": 2
}
