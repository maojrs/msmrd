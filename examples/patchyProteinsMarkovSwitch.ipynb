{
 "cells": [
  {
   "cell_type": "code",
   "execution_count": null,
   "metadata": {},
   "outputs": [],
   "source": [
    "import numpy as np\n",
    "import matplotlib.pyplot as plt\n",
    "import msmrd2\n",
    "import msmrd2.tools.quaternions as quats\n",
    "import msmrd2.visualization as msmrdvis\n",
    "from msmrd2 import continuousTimeMarkovStateModel as ctmsm\n",
    "from msmrd2.potentials import patchyProteinMarkovSwitch\n",
    "from msmrd2.integrators import overdampedLangevinMarkovSwitch as odLangevinMS"
   ]
  },
  {
   "cell_type": "code",
   "execution_count": null,
   "metadata": {},
   "outputs": [],
   "source": [
    "# Define two particle list of rigid body particles\n",
    "numparticles = 2\n",
    "state = 0\n",
    "D = 1.0\n",
    "Drot = 1.0\n",
    "pyPartlist = [] \n",
    "positionList = [np.array([1.0,0,0]), np.array([-1.,0.,0.])]\n",
    "orientationList = [ np.array([1.,0.,0.,0.]), np.array([np.cos(np.pi/2),0.,0.,np.sin(np.pi/2)])]\n",
    "for i in range(numparticles):      \n",
    "    ptype = i\n",
    "    part = msmrd2.particleMS(ptype, state,D, Drot, positionList[i], orientationList[i])\n",
    "    pyPartlist.append(part)\n",
    "pyPartlist[0].setMSMoff()"
   ]
  },
  {
   "cell_type": "code",
   "execution_count": null,
   "metadata": {},
   "outputs": [],
   "source": [
    "# Create list of particles that can be read from msmrd\n",
    "# Note the particles in this list will be independent from the python list.\n",
    "partlist = msmrd2.integrators.particleMSList(pyPartlist)"
   ]
  },
  {
   "cell_type": "code",
   "execution_count": null,
   "metadata": {},
   "outputs": [],
   "source": [
    "# Define CTMSM\n",
    "MSMtype = 1\n",
    "ratematrix = np.array([[-5.0,5.0],[6.0,-6.0]])\n",
    "seed = 0 # If seed = -1 uses random device as seed\n",
    "markovModel = ctmsm(MSMtype, ratematrix, seed)\n",
    "Dlist = np.array([0.5, 1.0])\n",
    "Drotlist = np.array([0.5, 1.0])\n",
    "markovModel.setD(Dlist)\n",
    "markovModel.setDrot(Drotlist)"
   ]
  },
  {
   "cell_type": "code",
   "execution_count": null,
   "metadata": {},
   "outputs": [],
   "source": [
    "# Over-damped Langevin integrator definition\n",
    "dt = 0.00001 #0.000005\n",
    "seed = 0 # If seed = -1 uses random device as seed\n",
    "bodytype = 'rigidbody' # Mix indicates there can be different types of rigidbody particles\n",
    "integrator = odLangevinMS(markovModel, dt, seed, bodytype) \n",
    "integrator.setKbT(1.0)"
   ]
  },
  {
   "cell_type": "code",
   "execution_count": null,
   "metadata": {},
   "outputs": [],
   "source": [
    "# Define boundary (choose either spherical or box)\n",
    "radius = 5.0\n",
    "sphereBoundary = msmrd2.sphere(radius,'reflective')\n",
    "integrator.setBoundary(sphereBoundary)"
   ]
  },
  {
   "cell_type": "code",
   "execution_count": null,
   "metadata": {},
   "outputs": [],
   "source": [
    "# Define Patchy Protein potential\n",
    "sigma = 1.0\n",
    "strength = 65\n",
    "patchesCoordinates1 = [np.array([1.,0.,0.]), \n",
    "                       np.array([0.,1.,0.]),\n",
    "                       np.array([-1.,0.,0.]),\n",
    "                       np.array([0.,-1.,0.]),\n",
    "                       np.array([0.,0.,1.]),\n",
    "                       np.array([0.,0.,-1.])]\n",
    "patchesCoordinates2 = [np.array([1.,0.,0.])]\n",
    "potentialPatchyProteinMS = patchyProteinMarkovSwitch(sigma, strength, patchesCoordinates1, patchesCoordinates2)\n",
    "integrator.setPairPotential(potentialPatchyProteinMS)"
   ]
  },
  {
   "cell_type": "code",
   "execution_count": null,
   "metadata": {},
   "outputs": [],
   "source": [
    "# Integrate particle list and print only positions \n",
    "timesteps = 50000 #50000000\n",
    "stride = 100 #1000\n",
    "datafile  = open('../data/vmd/patchyProteinsMS.xyz', 'w')\n",
    "for i in range(timesteps):\n",
    "    if i%stride == 0:\n",
    "        datafile.write(str(9) + '\\n')\n",
    "        datafile.write(str(0) + '\\n')\n",
    "    for j, part in enumerate(partlist):\n",
    "        if i%stride == 0:\n",
    "            if part.type == 0:\n",
    "                v0 = part.position\n",
    "                v1 = v0 + 0.4*sigma*quats.rotateVec(patchesCoordinates1[0], part.orientation)\n",
    "                v2 = v0 + 0.3*sigma*quats.rotateVec(patchesCoordinates1[1], part.orientation)\n",
    "                v3 = v0 + 0.3*sigma*quats.rotateVec(patchesCoordinates1[2], part.orientation)\n",
    "                v4 = v0 + 0.3*sigma*quats.rotateVec(patchesCoordinates1[3], part.orientation)\n",
    "                v5 = v0 + 0.3*sigma*quats.rotateVec(patchesCoordinates1[4], part.orientation)\n",
    "                v6 = v0 + 0.3*sigma*quats.rotateVec(patchesCoordinates1[5], part.orientation)\n",
    "                datafile.write('type_0' + ' ' + ' '.join(map(str, v0)) + '\\n')\n",
    "                datafile.write('type_2' + ' ' + ' '.join(map(str, v1)) + '\\n')\n",
    "                datafile.write('type_1' + ' ' + ' '.join(map(str, v2)) + '\\n')\n",
    "                datafile.write('type_1' + ' ' + ' '.join(map(str, v3)) + '\\n')\n",
    "                datafile.write('type_1' + ' ' + ' '.join(map(str, v4)) + '\\n')\n",
    "                datafile.write('type_1' + ' ' + ' '.join(map(str, v5)) + '\\n')\n",
    "                datafile.write('type_1' + ' ' + ' '.join(map(str, v6)) + '\\n')\n",
    "            if part.type == 1:\n",
    "                v0 = part.position\n",
    "                if part.state == 0:\n",
    "                    v1 = v0 + 0.4*sigma*quats.rotateVec(patchesCoordinates2[0], part.orientation)\n",
    "                else:\n",
    "                    v1 = 1.0*v0\n",
    "                datafile.write('type_0' + ' ' + ' '.join(map(str, v0)) + '\\n')\n",
    "                datafile.write('type_2' + ' ' + ' '.join(map(str, v1)) + '\\n')\n",
    "    integrator.integrate(partlist)\n",
    "    if i%5000 == 0:\n",
    "        print(\"Percentage complete: \", 100*i/timesteps, \"%\", end=\"\\r\")\n",
    "datafile.close()\n",
    "# Generate TCL script to visualize with VMD\n",
    "msmrdvis.generateTCL_patchyProteinsMS(numparticles = numparticles)\n",
    "print(\"Percentage complete: \", 100, \" %\")"
   ]
  },
  {
   "cell_type": "code",
   "execution_count": null,
   "metadata": {},
   "outputs": [],
   "source": []
  }
 ],
 "metadata": {
  "kernelspec": {
   "display_name": "Python [default]",
   "language": "python",
   "name": "python3"
  },
  "language_info": {
   "codemirror_mode": {
    "name": "ipython",
    "version": 3
   },
   "file_extension": ".py",
   "mimetype": "text/x-python",
   "name": "python",
   "nbconvert_exporter": "python",
   "pygments_lexer": "ipython3",
   "version": "3.6.6"
  }
 },
 "nbformat": 4,
 "nbformat_minor": 2
}
