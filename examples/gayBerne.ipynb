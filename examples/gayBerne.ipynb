{
 "cells": [
  {
   "cell_type": "code",
   "execution_count": null,
   "metadata": {},
   "outputs": [],
   "source": [
    "import msmrd2\n",
    "import msmrd2.visualization as msmrdvis\n",
    "import numpy as np"
   ]
  },
  {
   "cell_type": "code",
   "execution_count": null,
   "metadata": {},
   "outputs": [],
   "source": [
    "# Define arbitrarily large list of rod-like particles\n",
    "numparticles = 20\n",
    "D = 1\n",
    "Drot = 1\n",
    "bodytype = 'rod'\n",
    "pyPartlist = [] \n",
    "for i in range(numparticles):\n",
    "    position = np.array([2*np.random.rand()-1,2*np.random.rand()-1,0])\n",
    "    orientation = np.array([np.random.rand(),np.random.rand(),np.random.rand(),np.random.rand()])\n",
    "    orientation = orientation/np.linalg.norm(orientation)\n",
    "    part = msmrd2.particle(D, Drot, bodytype, position, orientation)\n",
    "    pyPartlist.append(part)"
   ]
  },
  {
   "cell_type": "code",
   "execution_count": null,
   "metadata": {},
   "outputs": [],
   "source": [
    "# Create list of particles that can be read from msmrd\n",
    "# Note the particles in this list will be independent from the python list.\n",
    "partlist = msmrd2.integrators.particleList(pyPartlist)"
   ]
  },
  {
   "cell_type": "code",
   "execution_count": null,
   "metadata": {},
   "outputs": [],
   "source": [
    "# Over-damped Langevin integrator definition\n",
    "dt = 0.00005\n",
    "seed = 0 # Seed = -1 used random device as seed\n",
    "rotation = True\n",
    "intg = msmrd2.integrators.odLangevin(dt, seed, rotation) "
   ]
  },
  {
   "cell_type": "code",
   "execution_count": null,
   "metadata": {},
   "outputs": [],
   "source": [
    "# Define boundary\n",
    "boxBoundary = msmrd2.box(2,2,0.5,'periodic')\n",
    "intg.setBoundary(boxBoundary)"
   ]
  },
  {
   "cell_type": "code",
   "execution_count": null,
   "metadata": {},
   "outputs": [],
   "source": [
    "# Define Gay Berne potential\n",
    "gayBerne = msmrd2.potentials.gayBerne(2.0,2.0,-5.0,0.03)\n",
    "intg.setPairRodPotential(gayBerne)"
   ]
  },
  {
   "cell_type": "code",
   "execution_count": null,
   "metadata": {},
   "outputs": [],
   "source": [
    "# Integrate particle list and print only positions \n",
    "timesteps = 5000\n",
    "datafile  = open('../data/vmd/gayBerne.xyz', 'w')\n",
    "for i in range(timesteps):\n",
    "    datafile.write(str(2*len(partlist)) + '\\n')\n",
    "    datafile.write(str(0) + '\\n')\n",
    "    for j, part in enumerate(partlist):\n",
    "        v0 = part.position\n",
    "        v1 = v0 + 0.2*part.orientvector\n",
    "        v2 = v0 - 0.2*part.orientvector\n",
    "        datafile.write('type_0' + ' ' + ' '.join(map(str, v1)) + '\\n')\n",
    "        datafile.write('type_0' + ' ' + ' '.join(map(str, v2)) + '\\n')\n",
    "    intg.integrate(partlist)\n",
    "datafile.close()\n",
    "# Generate TCL script to visualize with VMD\n",
    "msmrdvis.generateTCL_gayBerne(numparticles = numparticles)"
   ]
  },
  {
   "cell_type": "code",
   "execution_count": null,
   "metadata": {},
   "outputs": [],
   "source": [
    "# Integrate particle list and print only positions of first and last particle in list\n",
    "timesteps = 100\n",
    "print('{:<10s}{:<15s}{:<40s}{:<40s}'.format(\"Iteration\", \"Time\", \"Position 1\", \"Position2\"))\n",
    "for i in range(timesteps):\n",
    "    print('{:<10d}{:<15f}{:<40s}{:<50s}'.format(i, intg.clock, str(partlist[0].position), str(partlist[numparticles-1].position)))\n",
    "    intg.integrate(partlist)"
   ]
  },
  {
   "cell_type": "code",
   "execution_count": null,
   "metadata": {},
   "outputs": [],
   "source": []
  }
 ],
 "metadata": {
  "kernelspec": {
   "display_name": "Python [conda env:msmrd-dev]",
   "language": "python",
   "name": "conda-env-msmrd-dev-py"
  },
  "language_info": {
   "codemirror_mode": {
    "name": "ipython",
    "version": 3
   },
   "file_extension": ".py",
   "mimetype": "text/x-python",
   "name": "python",
   "nbconvert_exporter": "python",
   "pygments_lexer": "ipython3",
   "version": "3.6.5"
  }
 },
 "nbformat": 4,
 "nbformat_minor": 2
}
