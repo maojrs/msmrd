{
 "cells": [
  {
   "cell_type": "code",
   "execution_count": null,
   "metadata": {},
   "outputs": [],
   "source": [
    "import msmrd2\n",
    "import numpy as np"
   ]
  },
  {
   "cell_type": "code",
   "execution_count": null,
   "metadata": {},
   "outputs": [],
   "source": [
    "# Particle definition\n",
    "D = 1\n",
    "Drot = 0.05\n",
    "bodytype = 'rod'\n",
    "position = np.array([1,1,1])\n",
    "orientation = np.array([1,0,0,0])\n",
    "part1 = msmrd2.particle(D, Drot, bodytype, position, orientation)\n",
    "part1.setOrientVector(np.array([1.,0.,0.]))"
   ]
  },
  {
   "cell_type": "code",
   "execution_count": null,
   "metadata": {},
   "outputs": [],
   "source": [
    "# Over-damped Langevin integrator definition\n",
    "dt = 0.001\n",
    "seed = 0 # Seed = -1 used random device as seed\n",
    "rotation = True\n",
    "intg = msmrd2.integrators.odLangevin(dt, seed, rotation)"
   ]
  },
  {
   "cell_type": "code",
   "execution_count": null,
   "metadata": {},
   "outputs": [],
   "source": [
    "# Define and set potential\n",
    "scalefactor = 100.0\n",
    "Efieldvector = np.array([0,0,1])\n",
    "dipolePot = msmrd2.potentials.dipole(scalefactor, Efieldvector)\n",
    "intg.setExternalRodPotential(dipolePot)\n",
    "#gauss3Dpot = msmrd2.potentials.gaussians3D(15,3,20,-1)\n",
    "#intg.setExternalPotential(gauss3Dpot)"
   ]
  },
  {
   "cell_type": "code",
   "execution_count": null,
   "metadata": {},
   "outputs": [],
   "source": [
    "# Integrate only one particle and print position and orientation\n",
    "t = 0\n",
    "timesteps = 5000\n",
    "print('{:<10s}{:<10s}{:<40s}{:<40s}'.format(\"Iteration\", \"Time\", \"Position 1\", \"Orientation 1\"))\n",
    "for i in range(timesteps):\n",
    "    print('{:<10d}{:<10f}{:<40s}{:<40s}'.format(i, intg.clock, str(part1.position), str(part1.orientvector)))\n",
    "    intg.integrate(part1)"
   ]
  },
  {
   "cell_type": "code",
   "execution_count": null,
   "metadata": {},
   "outputs": [],
   "source": []
  },
  {
   "cell_type": "code",
   "execution_count": null,
   "metadata": {},
   "outputs": [],
   "source": []
  }
 ],
 "metadata": {
  "kernelspec": {
   "display_name": "Python 3",
   "language": "python",
   "name": "python3"
  },
  "language_info": {
   "codemirror_mode": {
    "name": "ipython",
    "version": 3
   },
   "file_extension": ".py",
   "mimetype": "text/x-python",
   "name": "python",
   "nbconvert_exporter": "python",
   "pygments_lexer": "ipython3",
   "version": "3.6.5"
  }
 },
 "nbformat": 4,
 "nbformat_minor": 2
}
