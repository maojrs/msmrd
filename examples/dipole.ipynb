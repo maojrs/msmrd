{
 "cells": [
  {
   "cell_type": "code",
   "execution_count": null,
   "metadata": {},
   "outputs": [],
   "source": [
    "import os\n",
    "import numpy as np\n",
    "import msmrd2\n",
    "import msmrd2.visualization as msmrdvis\n",
    "from msmrd2 import continuousTimeMarkovStateModel as ctmsm\n",
    "from msmrd2.potentials import dipole\n",
    "from msmrd2.integrators import overdampedLangevinMarkovSwitch as odLangevinMS"
   ]
  },
  {
   "cell_type": "code",
   "execution_count": null,
   "metadata": {},
   "outputs": [],
   "source": [
    "# Define continuous-time MSM\n",
    "MSMtype = 1\n",
    "ratematrix = np.array([[-3.0,3.0],[1.5,-1.5]])\n",
    "seed = 0 # Seed = -1 used random device as seed\n",
    "markovModel = ctmsm(MSMtype, ratematrix, seed)\n",
    "Dlist = np.array([0.0, 0.0])\n",
    "Drotlist = np.array([1.0, 1.0])\n",
    "markovModel.setD(Dlist)\n",
    "markovModel.setDrot(Drotlist)"
   ]
  },
  {
   "cell_type": "code",
   "execution_count": null,
   "metadata": {},
   "outputs": [],
   "source": [
    "# Particle definition\n",
    "orientation = np.array([1,0,0,0])\n",
    "particlelist = []\n",
    "# Create a grid of particles\n",
    "for i in range(6):\n",
    "    for j in range(6): \n",
    "        position = np.array([i-2.5,j-2.5,0])\n",
    "        state = np.random.randint(0,2)\n",
    "        part = msmrd2.particleMS(MSMtype, state, Dlist[state], Drotlist[state], position, orientation)   \n",
    "        orientVector = np.random.normal(0,1,3)\n",
    "        orientVector = orientVector/np.linalg.norm(orientVector)\n",
    "        part.setOrientVector(orientVector)\n",
    "        particlelist.append(part)\n",
    "# Define list object that can be read by pybound functions\n",
    "partlist = msmrd2.integrators.particleMSList(particlelist)"
   ]
  },
  {
   "cell_type": "code",
   "execution_count": null,
   "metadata": {},
   "outputs": [],
   "source": [
    "# Over-damped Langevin integrator with Markovian Switch definition\n",
    "dt = 0.001\n",
    "seed = -1 # Seed = -1 used random device as seed\n",
    "bodytype = \"rod\"\n",
    "rotation = True\n",
    "integrator = odLangevinMS(markovModel, dt, seed, bodytype, rotation)"
   ]
  },
  {
   "cell_type": "code",
   "execution_count": null,
   "metadata": {},
   "outputs": [],
   "source": [
    "# Define and set potential\n",
    "scalefactor = 30.0\n",
    "Efieldvector = np.array([0,1,0])\n",
    "potentialDipole = dipole(scalefactor, Efieldvector)\n",
    "integrator.setExternalRodPotential(potentialDipole)"
   ]
  },
  {
   "cell_type": "code",
   "execution_count": null,
   "metadata": {},
   "outputs": [],
   "source": [
    "# Integrate the particles and save to .dat to plot into VMD\n",
    "datafile  = open('../data/vmd/odLangevinDipole.xyz', 'w')\n",
    "timeIters = 10\n",
    "prevstate = [None] * len(partlist)\n",
    "for i in range(timeIters):\n",
    "    #datafile  = open('odLangevinDipole.xyz', 'w')\n",
    "    datafile.write(str(2*len(partlist)) + '\\n')\n",
    "    datafile.write(str(0) + '\\n')\n",
    "    for j, part in enumerate(partlist):\n",
    "        if part.state != prevstate[j] and prevstate[j] != None:\n",
    "            part.setOrientVector(-part.orientvector)\n",
    "        if part.state == 0:\n",
    "            v0 = part.position\n",
    "            v1 = v0 + 0.35*part.orientvector\n",
    "            v2 = v0 - 0.35*part.orientvector\n",
    "            datafile.write('type_0' + ' ' + ' '.join(map(str, v1)) + '\\n')\n",
    "            datafile.write('type_0' + ' ' + ' '.join(map(str, v2)) + '\\n')\n",
    "        elif part.state == 1:\n",
    "            v0 = part.position\n",
    "            v1 = v0 + 0.35*part.orientvector\n",
    "            v2 = v0 - 0.35*part.orientvector\n",
    "            datafile.write('type_1' + ' ' + ' '.join(map(str, v1)) + '\\n')\n",
    "            datafile.write('type_1' + ' ' + ' '.join(map(str, v2)) + '\\n')\n",
    "        prevstate[j] = 1*part.state\n",
    "    integrator.integrate(partlist)\n",
    "datafile.close()"
   ]
  },
  {
   "cell_type": "code",
   "execution_count": null,
   "metadata": {},
   "outputs": [],
   "source": [
    "# Generate tcl for plotting all frames needs -1 (Note vmd cannot change colors when state \n",
    "# changes. Check dipole script in vmd_movies for this). Load using vmd -e *.tcl\n",
    "msmrdvis.generateTCL_dipole(-1,tclfname = \"../data/vmd/odLangevinDipole2vmd.tcl\")"
   ]
  },
  {
   "cell_type": "code",
   "execution_count": null,
   "metadata": {},
   "outputs": [],
   "source": [
    "# Integrate the particle and print data\n",
    "timeIters = 100\n",
    "part1list = msmrd2.integrators.particleMSList([part])\n",
    "print('{:<10s}{:<10s}{:<40s}{:<40s}'.format(\"Iteration\", \"Time\", \"Position 1\", \"Orientation 1\"))\n",
    "for i in range(timeIters):\n",
    "    print('{:<10d}{:<10f}{:<40s}{:<40s}'.format(i, integrator.clock, str(part1list[0].position), str(part1list[0].orientation)))\n",
    "    integrator.integrate(part1list)"
   ]
  },
  {
   "cell_type": "code",
   "execution_count": null,
   "metadata": {},
   "outputs": [],
   "source": []
  }
 ],
 "metadata": {
  "kernelspec": {
   "display_name": "Python [default]",
   "language": "python",
   "name": "python3"
  },
  "language_info": {
   "codemirror_mode": {
    "name": "ipython",
    "version": 3
   },
   "file_extension": ".py",
   "mimetype": "text/x-python",
   "name": "python",
   "nbconvert_exporter": "python",
   "pygments_lexer": "ipython3",
   "version": "3.6.5"
  }
 },
 "nbformat": 4,
 "nbformat_minor": 2
}
