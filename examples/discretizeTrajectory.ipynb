{
 "cells": [
  {
   "cell_type": "markdown",
   "metadata": {},
   "source": [
    "## Loads a continuous trajectory and discretizes it"
   ]
  },
  {
   "cell_type": "code",
   "execution_count": null,
   "metadata": {},
   "outputs": [],
   "source": [
    "import pickle\n",
    "import numpy as np\n",
    "import matplotlib.pyplot as plt\n",
    "import msmrd2\n",
    "import msmrd2.tools.trajectoryTools as trajectoryTools"
   ]
  },
  {
   "cell_type": "code",
   "execution_count": null,
   "metadata": {},
   "outputs": [],
   "source": [
    "# Parameters for loading continuous trajectories from files (should match values used to compute trajectories)\n",
    "nfiles = 500\n",
    "dt = 0.00001 # from original simulation\n",
    "stride = 25  # stride of sampling (every 25th dt)\n",
    "totalTimeSteps = 2000000\n",
    "boxsize = 4\n",
    "boundaryType = 'periodic'\n",
    "\n",
    "# Calculated parameters\n",
    "dtEffective = dt*stride # needed to obtain rate dictionary\n",
    "effectivetimeSteps = int(totalTimeSteps/25)\n",
    "fnamebase = '../data/dimer/simDimer_t' + \"{:.2E}\".format(totalTimeSteps) + \"_s{:d}\".format(stride) + \"_\""
   ]
  },
  {
   "cell_type": "code",
   "execution_count": null,
   "metadata": {},
   "outputs": [],
   "source": [
    "# Load trajectories\n",
    "trajs = []\n",
    "for i in range(nfiles):\n",
    "    traj = trajectoryTools.loadTrajectory(fnamebase, i)\n",
    "    trajs.append(traj)    \n",
    "    print(\"File \", i+1, \" of \", nfiles, \" done.\", end=\"\\r\")"
   ]
  },
  {
   "cell_type": "code",
   "execution_count": null,
   "metadata": {},
   "outputs": [],
   "source": [
    "# Setup for discrete trajectory (in this case patchy dimer)\n",
    "numParticles = 2\n",
    "bufferSize = effectivetimeSteps\n",
    "discretizator = msmrd2.trajectories.patchyDimer(numParticles, effectivetimeSteps)\n",
    "# Set boundary (important for discretizer)\n",
    "boxBoundary = msmrd2.box(boxsize, boxsize, boxsize, boundaryType)\n",
    "discretizator.setBoundary(boxBoundary)"
   ]
  },
  {
   "cell_type": "code",
   "execution_count": null,
   "metadata": {},
   "outputs": [],
   "source": [
    "# Generate discrete trajectories using msmrd2.trajectories.discrete\n",
    "dtrajs = []\n",
    "for i in range(nfiles):\n",
    "    currentTraj = trajs[i]\n",
    "    dtraj = discretizator.discretizeTrajectory(currentTraj)\n",
    "    dtrajs.append(dtraj)\n",
    "    if i%20 == 0:\n",
    "        print(\"File \", i+1, \" of \", nfiles, \" done.\", end=\"\\r\")\n",
    "print(\"Done\")"
   ]
  },
  {
   "cell_type": "code",
   "execution_count": null,
   "metadata": {},
   "outputs": [],
   "source": [
    "# Write discrete trajectory to xyz file\n",
    "for i, dtraj in enumerate(dtrajs):\n",
    "    datafile  = open(fnamebase + str(i).zfill(4) + '_discrete_python2.xyz', 'w')\n",
    "    for j in range(len(dtraj)):\n",
    "        datafile.write(str(dtraj[j]) + '\\n')\n",
    "    datafile.close()\n",
    "    print(\"File \", i+1, \" of \", nfiles, \" done.\", end=\"\\r\")"
   ]
  },
  {
   "cell_type": "code",
   "execution_count": null,
   "metadata": {},
   "outputs": [],
   "source": [
    "# Alternatively, export data to file with pickle (so it can be loaded later)\n",
    "#pickle_out = open(\"pickled_data/discretetrajs_patchydimer_t\" + \"{:.2E}\".format(totalTimeSteps ) + \"_s\" + \"{:d}\".format(stride) + \".pickle\",\"wb\")\n",
    "#pickle.dump(dtrajs, pickle_out)\n",
    "#pickle_out.close()"
   ]
  }
 ],
 "metadata": {
  "kernelspec": {
   "display_name": "Python [conda env:msmrd-dev]",
   "language": "python",
   "name": "conda-env-msmrd-dev-py"
  },
  "language_info": {
   "codemirror_mode": {
    "name": "ipython",
    "version": 3
   },
   "file_extension": ".py",
   "mimetype": "text/x-python",
   "name": "python",
   "nbconvert_exporter": "python",
   "pygments_lexer": "ipython3",
   "version": "3.6.7"
  }
 },
 "nbformat": 4,
 "nbformat_minor": 2
}
