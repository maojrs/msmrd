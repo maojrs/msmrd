{
 "cells": [
  {
   "cell_type": "code",
   "execution_count": null,
   "metadata": {},
   "outputs": [],
   "source": [
    "import numpy as np\n",
    "import matplotlib.pyplot as plt\n",
    "import msmrd2\n",
    "import msmrd2.tools.quaternions as quats\n",
    "import msmrd2.visualization as msmrdvis\n",
    "from msmrd2.potentials import patchyParticleAngular2\n",
    "from msmrd2.integrators import overdampedLangevin as odLangevin"
   ]
  },
  {
   "cell_type": "code",
   "execution_count": null,
   "metadata": {},
   "outputs": [],
   "source": [
    "# Define arbitrarily large list of rod-like particles\n",
    "np.random.seed(seed=1) # seed 1 good for pentamer \n",
    "numparticles = 6\n",
    "boxsize = 3\n",
    "D = 1.0\n",
    "Drot = 1.0\n",
    "pyPartlist = [] \n",
    "positionList = [np.array([-1.0,0,0]), np.array([0.,0.,0.]), np.array([1.0,0.,0.]), \n",
    "                np.array([2.0,0.,0.]), np.array([3.0,0.,0.])]\n",
    "orientationList = [ np.array([1.,0.,0.,0.]), np.array([np.cos(np.pi/2),0.,0.,np.sin(np.pi/2)])]\n",
    "\n",
    "\"\"\"\n",
    "# Position List for pentamer IC\n",
    "th0 = 3*np.pi/5.0\n",
    "th = np.pi - th0\n",
    "thextra = np.pi/2 + th/2.0\n",
    "positionList = []\n",
    "orientationList = []\n",
    "for i in range(5):\n",
    "    positionList.append(0.85*np.array([np.cos(th*i),np.sin(th*i),0.0]))\n",
    "    orientation = np.array([np.cos(0.5*(th*i + thextra)),0,0,np.sin(0.5*(th*i + thextra))])\n",
    "    orientationList.append(orientation)\n",
    "\"\"\"\n",
    "\n",
    "for i in range(numparticles):\n",
    "    \n",
    "    overlap = True\n",
    "    while overlap:\n",
    "        position = np.array([boxsize*np.random.rand()-0.5*boxsize,\n",
    "                             boxsize*np.random.rand()-0.5*boxsize,\n",
    "                             boxsize*np.random.rand()-0.5*boxsize])\n",
    "        overlap = False     \n",
    "        for j in range(len(pyPartlist)):\n",
    "            if np.linalg.norm(position - pyPartlist[j].position) < 2.0:\n",
    "                overlap = True\n",
    "                continue\n",
    "                \n",
    "    orientation = np.array([2*np.random.rand()-1, 2*np.random.rand()-1,2*np.random.rand()-1,2*np.random.rand()-1])\n",
    "    orientation = orientation/np.linalg.norm(orientation)\n",
    "    #orientation = np.array([1.,0.,0.,0.])\n",
    "    #orientation = np.array([np.cos(np.pi/4.0), np.sin(np.pi/4), 0.0, 0.0]) #Rotate 90 degrees in x axis\n",
    "    part = msmrd2.particle(D, Drot, position, orientation)\n",
    "    #part = msmrd2.particle(D, Drot, positionList[i], orientation)\n",
    "    #part = msmrd2.particle(D, Drot, positionList[i], orientationList[i])\n",
    "    pyPartlist.append(part)"
   ]
  },
  {
   "cell_type": "code",
   "execution_count": null,
   "metadata": {},
   "outputs": [],
   "source": [
    "# Create list of particles that can be read from msmrd\n",
    "# Note the particles in this list will be independent from the python list.\n",
    "partlist = msmrd2.integrators.particleList(pyPartlist)"
   ]
  },
  {
   "cell_type": "code",
   "execution_count": null,
   "metadata": {},
   "outputs": [],
   "source": [
    "# Over-damped Langevin integrator definition\n",
    "dt = 0.00001 #0.000005\n",
    "seed = -1 #1 #-1 # Negative seed, uses random device as seed\n",
    "bodytype = 'rigidbody'\n",
    "integrator = odLangevin(dt, seed, bodytype) \n",
    "#integrator.setKbT(0.1)"
   ]
  },
  {
   "cell_type": "code",
   "execution_count": null,
   "metadata": {},
   "outputs": [],
   "source": [
    "# Define boundary (choose either spherical or box)\n",
    "# sphericalBoundary = msmrd2.sphere(radius,'reflective')\n",
    "boxBoundary = msmrd2.box(boxsize,boxsize,boxsize,'reflective')\n",
    "integrator.setBoundary(boxBoundary)"
   ]
  },
  {
   "cell_type": "code",
   "execution_count": null,
   "metadata": {},
   "outputs": [],
   "source": [
    "# Define Patchy Particle potential\n",
    "sigma = 1.0\n",
    "strength = 160 #100# 60 #200.0\n",
    "angularStrength = 20 #10 #200.0\n",
    "angleDiff = 3*np.pi/5.0\n",
    "patch1 = np.array([np.cos(angleDiff/2),np.sin(angleDiff/2),0.])\n",
    "patch2 = np.array([np.cos(-angleDiff/2),np.sin(-angleDiff/2),0.])\n",
    "#patch2 = np.array([-1.,0.,0.])\n",
    "patchesCoordinates = [patch1, patch2]\n",
    "potentialPatchyParticleAngular2 = patchyParticleAngular2(sigma, strength, angularStrength, patchesCoordinates)\n",
    "integrator.setPairPotential(potentialPatchyParticleAngular2)"
   ]
  },
  {
   "cell_type": "code",
   "execution_count": null,
   "metadata": {},
   "outputs": [],
   "source": [
    "#Integrate particle list and print only positions \n",
    "timesteps = 1000000 #20000000\n",
    "stride = 250 #250 #1000\n",
    "datafile  = open('../../data/vmd/patchyParticlesAngular2.xyz', 'w')\n",
    "for i in range(timesteps):\n",
    "    if i%stride == 0:\n",
    "        datafile.write(str(3*len(partlist)) + '\\n')\n",
    "        datafile.write(str(0) + '\\n')\n",
    "    for j, part in enumerate(partlist):\n",
    "        if i%stride == 0:\n",
    "            v0 = part.position\n",
    "            v1 = v0 + 0.5*sigma*quats.rotateVec(patchesCoordinates[0], part.orientation)\n",
    "            v2 = v0 + 0.5*sigma*quats.rotateVec(patchesCoordinates[1], part.orientation)\n",
    "            datafile.write('type_0' + ' ' + ' '.join(map(str, v0)) + '\\n')\n",
    "            datafile.write('type_1' + ' ' + ' '.join(map(str, v1)) + '\\n')\n",
    "            datafile.write('type_1' + ' ' + ' '.join(map(str, v2)) + '\\n')\n",
    "    integrator.integrate(partlist)\n",
    "    if i%10000 == 0:\n",
    "        print(\"Percentage complete: \", 100*i/timesteps, \"%\", end=\"\\r\")\n",
    "datafile.close()\n",
    "# Generate TCL script to visualize with VMD\n",
    "msmrdvis.generateTCL_patchyParticles(numparticles = numparticles, \n",
    "                                    outfname = \"patchyParticlesAngular2\", \n",
    "                                    tclfname = \"../../data/vmd/patchyParticlesAngular2_2vmd.tcl\")\n",
    "print(\"Percentage complete: \", 100, \" %\")"
   ]
  },
  {
   "cell_type": "code",
   "execution_count": null,
   "metadata": {},
   "outputs": [],
   "source": [
    "# # # Colorful integration particle list and print only positions \n",
    "# timesteps = 1000000 #20000000\n",
    "# stride = 1000 #250 #1000\n",
    "# datafile  = open('../../data/vmd/patchyParticlesAngular2.xyz', 'w')\n",
    "# for i in range(timesteps):\n",
    "#     if i%stride == 0:\n",
    "#         datafile.write(str(3*len(partlist)) + '\\n')\n",
    "#         datafile.write(str(0) + '\\n')\n",
    "#     for j, part in enumerate(partlist):\n",
    "#         if i%stride == 0:\n",
    "#             v0 = part.position\n",
    "#             v1 = v0 + 0.5*sigma*quats.rotateVec(patchesCoordinates[0], part.orientation)\n",
    "#             v2 = v0 + 0.5*sigma*quats.rotateVec(patchesCoordinates[1], part.orientation)\n",
    "#             if j == 0:\n",
    "#                 datafile.write('type_00' + ' ' + ' '.join(map(str, v0)) + '\\n')\n",
    "#             else:\n",
    "#                 datafile.write('type_01' + ' ' + ' '.join(map(str, v0)) + '\\n')\n",
    "#             datafile.write('type_1' + ' ' + ' '.join(map(str, v1)) + '\\n')\n",
    "#             datafile.write('type_2' + ' ' + ' '.join(map(str, v2)) + '\\n')\n",
    "#     integrator.integrate(partlist)\n",
    "#     if i%10000 == 0:\n",
    "#         print(\"Percentage complete: \", 100*i/timesteps, \"%\", end=\"\\r\")\n",
    "# datafile.close()\n",
    "# # Generate TCL script to visualize with VMD\n",
    "# msmrdvis.generateTCL_patchyParticlesMultiColor(numparticles = numparticles, \n",
    "#                                      outfname = \"patchyParticlesAngular2\", \n",
    "#                                      tclfname = \"../../data/vmd/patchyParticlesAngular2_2vmd.tcl\")\n",
    "# print(\"Percentage complete: \", 100, \" %\")"
   ]
  },
  {
   "cell_type": "code",
   "execution_count": null,
   "metadata": {},
   "outputs": [],
   "source": []
  }
 ],
 "metadata": {
  "kernelspec": {
   "display_name": "Python [default]",
   "language": "python",
   "name": "python3"
  },
  "language_info": {
   "codemirror_mode": {
    "name": "ipython",
    "version": 3
   },
   "file_extension": ".py",
   "mimetype": "text/x-python",
   "name": "python",
   "nbconvert_exporter": "python",
   "pygments_lexer": "ipython3",
   "version": "3.6.7"
  }
 },
 "nbformat": 4,
 "nbformat_minor": 2
}
