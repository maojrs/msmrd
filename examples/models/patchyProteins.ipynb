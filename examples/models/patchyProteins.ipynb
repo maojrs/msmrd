{
 "cells": [
  {
   "cell_type": "markdown",
   "metadata": {},
   "source": [
    "# Patchy proteins potential \n",
    "\n",
    "Implempentation of two diffusing patchy particles (rigid bodies). One with 6 patches (one stronger than the others) and the second one with only one patch. The potenial based on patchy particles is defined in the code as pathcy protein potential since it is supposed to emulate protein-protein interaction. Once a binding is formed between atches, there is no preferred relative orientation."
   ]
  },
  {
   "cell_type": "code",
   "execution_count": null,
   "metadata": {},
   "outputs": [],
   "source": [
    "import numpy as np\n",
    "import matplotlib.pyplot as plt\n",
    "import msmrd2\n",
    "import msmrd2.tools.quaternions as quats\n",
    "import msmrd2.visualization as msmrdvis\n",
    "from msmrd2.potentials import patchyProtein\n",
    "from msmrd2.integrators import overdampedLangevin as odLangevin"
   ]
  },
  {
   "cell_type": "code",
   "execution_count": null,
   "metadata": {},
   "outputs": [],
   "source": [
    "# Define arbitrarily large list of patchy particles\n",
    "numparticles = 2\n",
    "D = 1.0\n",
    "Drot = 1.0\n",
    "pyPartlist = [] \n",
    "positionList = [np.array([1.0,0,0]), np.array([-1.,0.,0.])]\n",
    "orientationList = [ np.array([1.,0.,0.,0.]), np.array([np.cos(np.pi/2),0.,0.,np.sin(np.pi/2)])]\n",
    "for i in range(numparticles):           \n",
    "    part = msmrd2.particle(D, Drot, positionList[i], orientationList[i])\n",
    "    part.setType(i)\n",
    "    pyPartlist.append(part)"
   ]
  },
  {
   "cell_type": "code",
   "execution_count": null,
   "metadata": {},
   "outputs": [],
   "source": [
    "# Create list of particles that can be read from msmrd\n",
    "# note the particles in this list will be independent from the python list.\n",
    "partlist = msmrd2.integrators.particleList(pyPartlist)"
   ]
  },
  {
   "cell_type": "code",
   "execution_count": null,
   "metadata": {},
   "outputs": [],
   "source": [
    "# Over-damped Langevin integrator definition\n",
    "dt = 0.00001 #0.000005\n",
    "seed = 0 # Seed = -1 used random device as seed\n",
    "bodytype = 'rigidbody' # three rotational degrees of freedom\n",
    "integrator = odLangevin(dt, seed, bodytype) \n",
    "integrator.setKbT(1.0)"
   ]
  },
  {
   "cell_type": "code",
   "execution_count": null,
   "metadata": {},
   "outputs": [],
   "source": [
    "# Define boundary (choose either spherical or box)\n",
    "radius = 3.0\n",
    "sphereBoundary = msmrd2.sphere(radius,'reflective')\n",
    "integrator.setBoundary(sphereBoundary)"
   ]
  },
  {
   "cell_type": "code",
   "execution_count": null,
   "metadata": {},
   "outputs": [],
   "source": [
    "# Define Patchy Protein potential\n",
    "sigma = 1.0\n",
    "strength = 65\n",
    "patchesCoordinates1 = [np.array([1.,0.,0.]), \n",
    "                       np.array([0.,1.,0.]),\n",
    "                       np.array([-1.,0.,0.]),\n",
    "                       np.array([0.,-1.,0.]),\n",
    "                       np.array([0.,0.,1.]),\n",
    "                       np.array([0.,0.,-1.])]\n",
    "patchesCoordinates2 = [np.array([1.,0.,0.])]\n",
    "potentialPatchyProtein = patchyProtein(sigma, strength, patchesCoordinates1, patchesCoordinates2)\n",
    "integrator.setPairPotential(potentialPatchyProtein)"
   ]
  },
  {
   "cell_type": "code",
   "execution_count": null,
   "metadata": {},
   "outputs": [],
   "source": [
    "# Integrate particle list and print only positions \n",
    "timesteps = 1000000 #50000000\n",
    "stride = 1000 #1000\n",
    "datafile  = open('../../data/vmd/patchyProteins.xyz', 'w')\n",
    "for i in range(timesteps):\n",
    "    if i%stride == 0:\n",
    "        datafile.write(str(9) + '\\n')\n",
    "        datafile.write(str(0) + '\\n')\n",
    "    for j, part in enumerate(partlist):\n",
    "        if i%stride == 0:\n",
    "            if part.type == 0:\n",
    "                v0 = part.position\n",
    "                v1 = v0 + 0.4*sigma*quats.rotateVec(patchesCoordinates1[0], part.orientation)\n",
    "                v2 = v0 + 0.3*sigma*quats.rotateVec(patchesCoordinates1[1], part.orientation)\n",
    "                v3 = v0 + 0.3*sigma*quats.rotateVec(patchesCoordinates1[2], part.orientation)\n",
    "                v4 = v0 + 0.3*sigma*quats.rotateVec(patchesCoordinates1[3], part.orientation)\n",
    "                v5 = v0 + 0.3*sigma*quats.rotateVec(patchesCoordinates1[4], part.orientation)\n",
    "                v6 = v0 + 0.3*sigma*quats.rotateVec(patchesCoordinates1[5], part.orientation)\n",
    "                datafile.write('type_0' + ' ' + ' '.join(map(str, v0)) + '\\n')\n",
    "                datafile.write('type_2' + ' ' + ' '.join(map(str, v1)) + '\\n')\n",
    "                datafile.write('type_1' + ' ' + ' '.join(map(str, v2)) + '\\n')\n",
    "                datafile.write('type_1' + ' ' + ' '.join(map(str, v3)) + '\\n')\n",
    "                datafile.write('type_1' + ' ' + ' '.join(map(str, v4)) + '\\n')\n",
    "                datafile.write('type_1' + ' ' + ' '.join(map(str, v5)) + '\\n')\n",
    "                datafile.write('type_1' + ' ' + ' '.join(map(str, v6)) + '\\n')\n",
    "            if part.type == 1:\n",
    "                v0 = part.position\n",
    "                v1 = v0 + 0.4*sigma*quats.rotateVec(patchesCoordinates2[0], part.orientation)\n",
    "                datafile.write('type_0' + ' ' + ' '.join(map(str, v0)) + '\\n')\n",
    "                datafile.write('type_2' + ' ' + ' '.join(map(str, v1)) + '\\n')\n",
    "    integrator.integrate(partlist)\n",
    "    if i%5000 == 0:\n",
    "        print(\"Percentage complete: \", 100*i/timesteps, \"%\", end=\"\\r\")\n",
    "datafile.close()\n",
    "# Generate TCL script to visualize with VMD\n",
    "msmrdvis.generateTCL_patchyProteins(numparticles = numparticles, \n",
    "                                    outfname = \"patchyProteins\", \n",
    "                                    tclfname = \"../../data/vmd/patchyProteins_2vmd.tcl\")\n",
    "print(\"Percentage complete: \", 100, \" %\")"
   ]
  },
  {
   "cell_type": "markdown",
   "metadata": {},
   "source": [
    "To load the movie go to /data/vmd and run in a terminal \"vmd -e patchyProteins_2vmd.tcl\".\n",
    "\n",
    "## In case VMD is not desired\n",
    "\n",
    "In case VMD output is not desired, below we simply integrate the model and show the output directly."
   ]
  },
  {
   "cell_type": "code",
   "execution_count": null,
   "metadata": {},
   "outputs": [],
   "source": [
    "# Integrate particle list and print only positions of first and last particle in list\n",
    "timesteps = 10\n",
    "print('{:<10s}{:<15s}{:<40s}{:<40s}'.format(\"Iteration\", \"Time\", \"Position 1\", \"Position 2\"))\n",
    "for i in range(timesteps):\n",
    "    print('{:<10d}{:<15f}{:<40s}{:<50s}'.format(i, integrator.clock, str(partlist[0].position), str(partlist[1].position)))\n",
    "    integrator.integrate(partlist)"
   ]
  }
 ],
 "metadata": {
  "kernelspec": {
   "display_name": "Python 3",
   "language": "python",
   "name": "python3"
  },
  "language_info": {
   "codemirror_mode": {
    "name": "ipython",
    "version": 3
   },
   "file_extension": ".py",
   "mimetype": "text/x-python",
   "name": "python",
   "nbconvert_exporter": "python",
   "pygments_lexer": "ipython3",
   "version": "3.8.3"
  }
 },
 "nbformat": 4,
 "nbformat_minor": 2
}
