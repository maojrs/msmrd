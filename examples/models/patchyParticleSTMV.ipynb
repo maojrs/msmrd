{
 "cells": [
  {
   "cell_type": "markdown",
   "metadata": {},
   "source": [
    "# Patchy particle STMV potential \n",
    "\n",
    "Implempentation of the Satelitte Tobacco Mosaic virus potential based on a coarse-grained partchy particle model."
   ]
  },
  {
   "cell_type": "code",
   "execution_count": null,
   "metadata": {},
   "outputs": [],
   "source": [
    "import numpy as np\n",
    "import matplotlib.pyplot as plt\n",
    "import msmrd2\n",
    "import msmrd2.tools.quaternions as quats\n",
    "import msmrd2.visualization as msmrdvis\n",
    "from msmrd2.potentials import patchyParticleSTMV\n",
    "from msmrd2.integrators import overdampedLangevin as odLangevin"
   ]
  },
  {
   "cell_type": "code",
   "execution_count": null,
   "metadata": {},
   "outputs": [],
   "source": [
    "# Define arbitrarily large list of patchy particles\n",
    "np.random.seed(seed=1) # seed 1 good used for pentameric ring formation \n",
    "numparticles = 2\n",
    "boxsize = 10\n",
    "D = 1.0\n",
    "Drot = 1.0\n",
    "pyPartlist = [] \n",
    "positionList = [np.array([-4.0,0,0]), np.array([0.,0.,0.])]\n",
    "orientation = np.array([1.,0.,0.,0.])\n",
    "\n",
    "for i in range(numparticles):\n",
    "    part = msmrd2.particle(D, Drot, positionList[i], orientation)\n",
    "    pyPartlist.append(part)"
   ]
  },
  {
   "cell_type": "code",
   "execution_count": null,
   "metadata": {},
   "outputs": [],
   "source": [
    "# Create list of particles that can be read from msmrd\n",
    "# note the particles in this list will be independent from the python list.\n",
    "partlist = msmrd2.integrators.particleList(pyPartlist)"
   ]
  },
  {
   "cell_type": "code",
   "execution_count": null,
   "metadata": {},
   "outputs": [],
   "source": [
    "# Over-damped Langevin integrator definition\n",
    "dt = 0.00001 #0.000005\n",
    "seed = 2 # seed 2 good used for pentameric ring formation; seed = -1 uses random device as seed\n",
    "bodytype = 'rigidbody' # three rotational degrees of freedom\n",
    "integrator = odLangevin(dt, seed, bodytype) \n",
    "integrator.setKbT(0.1)"
   ]
  },
  {
   "cell_type": "code",
   "execution_count": null,
   "metadata": {},
   "outputs": [],
   "source": [
    "# Define boundary (choose either spherical or box)\n",
    "boxBoundary = msmrd2.box(boxsize,boxsize,boxsize, 'periodic')\n",
    "integrator.setBoundary(boxBoundary)"
   ]
  },
  {
   "cell_type": "code",
   "execution_count": null,
   "metadata": {},
   "outputs": [],
   "source": [
    "# Define Patchy Particle potential\n",
    "strength = 100.0\n",
    "angularStrength = 100.0\n",
    "patchySTMV = patchyParticleSTMV(strength, angularStrength)\n",
    "integrator.setPairPotential(patchySTMV)"
   ]
  },
  {
   "cell_type": "code",
   "execution_count": null,
   "metadata": {},
   "outputs": [],
   "source": [
    "# Integrate the particles, save to .xyz to produce VMD output (additional overhead)\n",
    "timesteps = 500000\n",
    "stride = 2500 #1000\n",
    "datafile  = open('../../data/vmd/patchyParticleSTMV.xyz', 'w')\n",
    "for i in range(timesteps):\n",
    "    if i%stride == 0:\n",
    "        datafile.write(str(8*len(partlist)) + '\\n')\n",
    "        datafile.write(str(0) + '\\n')\n",
    "    for j, part in enumerate(partlist):\n",
    "        if i%stride == 0:\n",
    "            m1 = patchySTMV.getPartPosition('m1', part)\n",
    "            m2 = patchySTMV.getPartPosition('m2', part)\n",
    "            m3 = patchySTMV.getPartPosition('m3', part) \n",
    "            i1 = patchySTMV.getPartPosition('i1', part) \n",
    "            i2 = patchySTMV.getPartPosition('i2', part) \n",
    "            i3 = patchySTMV.getPartPosition('i3', part) \n",
    "            i4 = patchySTMV.getPartPosition('i4', part) \n",
    "            i5 = patchySTMV.getPartPosition('i5', part) \n",
    "            datafile.write('type_0' + ' ' + ' '.join(map(str, m1)) + '\\n')\n",
    "            datafile.write('type_1' + ' ' + ' '.join(map(str, m2)) + '\\n')\n",
    "            datafile.write('type_2' + ' ' + ' '.join(map(str, m3)) + '\\n')\n",
    "            datafile.write('type_3' + ' ' + ' '.join(map(str, i1)) + '\\n')\n",
    "            datafile.write('type_3' + ' ' + ' '.join(map(str, i2)) + '\\n')\n",
    "            datafile.write('type_3' + ' ' + ' '.join(map(str, i3)) + '\\n')\n",
    "            datafile.write('type_3' + ' ' + ' '.join(map(str, i4)) + '\\n')\n",
    "            datafile.write('type_3' + ' ' + ' '.join(map(str, i5)) + '\\n')\n",
    "    integrator.integrate(partlist)\n",
    "    if i%5000 == 0:\n",
    "        print(\"Percentage complete: \", 100*i/timesteps, \"%\", end=\"\\r\")\n",
    "datafile.close()\n",
    "# Generate TCL script to visualize with VMD\n",
    "msmrdvis.generateTCL_patchyParticleSTMV(numparticles = numparticles, \n",
    "                                     outfname = \"patchyParticleSTMV\", \n",
    "                                     tclfname = \"../../data/vmd/patchyParticleSTMV_2vmd.tcl\")\n",
    "print(\"Percentage complete: \", 100, \" %\")"
   ]
  },
  {
   "cell_type": "markdown",
   "metadata": {},
   "source": [
    "To load the movie go to /data/vmd and run in a terminal \"vmd -e patchyPacrticles_2vmd.tcl\".\n",
    "\n",
    "## In case VMD is not desired\n",
    "\n",
    "In case VMD output is not desired, below we simply integrate the model and show the output directly."
   ]
  },
  {
   "cell_type": "code",
   "execution_count": null,
   "metadata": {},
   "outputs": [],
   "source": [
    "# Integrate particle list and print only positions of first and last particle in list\n",
    "timesteps = 10\n",
    "print('{:<10s}{:<15s}{:<40s}{:<40s}'.format(\"Iteration\", \"Time\", \"Position (first particle)\", \"Position (last particle)\"))\n",
    "for i in range(timesteps):\n",
    "    print('{:<10d}{:<15f}{:<40s}{:<50s}'.format(i, integrator.clock, str(partlist[0].position), str(partlist[numparticles-1].position)))\n",
    "    print(np.linalg.norm(partlist[0].position - partlist[1].position))\n",
    "    integrator.integrate(partlist)"
   ]
  }
 ],
 "metadata": {
  "kernelspec": {
   "display_name": "Python 3",
   "language": "python",
   "name": "python3"
  },
  "language_info": {
   "codemirror_mode": {
    "name": "ipython",
    "version": 3
   },
   "file_extension": ".py",
   "mimetype": "text/x-python",
   "name": "python",
   "nbconvert_exporter": "python",
   "pygments_lexer": "ipython3",
   "version": "3.8.3"
  }
 },
 "nbformat": 4,
 "nbformat_minor": 2
}
