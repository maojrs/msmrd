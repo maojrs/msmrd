{
 "cells": [
  {
   "cell_type": "markdown",
   "metadata": {},
   "source": [
    "# Patchy particle STMV potential \n",
    "\n",
    "Implempentation of the Satelitte Tobacco Mosaic virus potential based on a coarse-grained partchy particle model."
   ]
  },
  {
   "cell_type": "code",
   "execution_count": null,
   "metadata": {},
   "outputs": [],
   "source": [
    "import numpy as np\n",
    "import matplotlib.pyplot as plt\n",
    "import msmrd2\n",
    "import msmrd2.tools.quaternions as quats\n",
    "import msmrd2.visualization as msmrdvis\n",
    "from msmrd2.potentials import patchyParticleSTMV\n",
    "from msmrd2.integrators import overdampedLangevin as odLangevin"
   ]
  },
  {
   "cell_type": "code",
   "execution_count": null,
   "metadata": {},
   "outputs": [],
   "source": [
    "# Define arbitrarily list of patchy particles\n",
    "numparticles = 4\n",
    "boxsize = 10\n",
    "D = 0.3\n",
    "Drot = 0.3\n",
    "pyPartlist = [] \n",
    "positionList = [np.array([-4.0,0,0]), np.array([4.,0.,0.]), np.array([0. ,4.,0.]), np.array([0.,-4.,0.])]\n",
    "orientation = np.array([1.,0.,0.,0.])\n",
    "\n",
    "for i in range(numparticles):\n",
    "    part = msmrd2.particle(D, Drot, positionList[i], orientation)\n",
    "    pyPartlist.append(part)"
   ]
  },
  {
   "cell_type": "code",
   "execution_count": null,
   "metadata": {},
   "outputs": [],
   "source": [
    "# Create list of particles that can be read from msmrd\n",
    "# note the particles in this list will be independent from the python list.\n",
    "partlist = msmrd2.integrators.particleList(pyPartlist)"
   ]
  },
  {
   "cell_type": "code",
   "execution_count": null,
   "metadata": {},
   "outputs": [],
   "source": [
    "# Over-damped Langevin integrator definition\n",
    "dt = 0.00001 #0.000005\n",
    "seed = -1\n",
    "bodytype = 'rigidbody' # three rotational degrees of freedom\n",
    "integrator = odLangevin(dt, seed, bodytype) \n",
    "integrator.setKbT(0.1)"
   ]
  },
  {
   "cell_type": "code",
   "execution_count": null,
   "metadata": {},
   "outputs": [],
   "source": [
    "# Define boundary (choose either spherical or box)\n",
    "boxBoundary = msmrd2.box(boxsize,boxsize,boxsize, 'reflective')\n",
    "integrator.setBoundary(boxBoundary)"
   ]
  },
  {
   "cell_type": "code",
   "execution_count": null,
   "metadata": {},
   "outputs": [],
   "source": [
    "# Define Patchy Particle potential\n",
    "strength = 100.0\n",
    "angularStrength = 100.0\n",
    "patchySTMV = patchyParticleSTMV(strength, angularStrength)\n",
    "integrator.setPairPotential(patchySTMV)"
   ]
  },
  {
   "cell_type": "code",
   "execution_count": null,
   "metadata": {},
   "outputs": [],
   "source": [
    "# Integrate the particles, save to .xyz to produce VMD output (additional overhead)\n",
    "timesteps = 5000000\n",
    "stride = 250 #1000\n",
    "datafile  = open('../../data/vmd/patchyParticleSTMV.xyz', 'w')\n",
    "for i in range(timesteps):\n",
    "    if i%stride == 0:\n",
    "        datafile.write(str(8*len(partlist)) + '\\n')\n",
    "        datafile.write(str(0) + '\\n')\n",
    "    for j, part in enumerate(partlist):\n",
    "        if i%stride == 0:\n",
    "            m1 = patchySTMV.getPartPosition('m1', part)\n",
    "            m2 = patchySTMV.getPartPosition('m2', part)\n",
    "            m3 = patchySTMV.getPartPosition('m3', part) \n",
    "            i1 = patchySTMV.getPartPosition('i1', part) \n",
    "            i2 = patchySTMV.getPartPosition('i2', part) \n",
    "            i3 = patchySTMV.getPartPosition('i3', part) \n",
    "            i4 = patchySTMV.getPartPosition('i4', part) \n",
    "            i5 = patchySTMV.getPartPosition('i5', part) \n",
    "            datafile.write('type_0' + ' ' + ' '.join(map(str, m1)) + '\\n')\n",
    "            datafile.write('type_1' + ' ' + ' '.join(map(str, m2)) + '\\n')\n",
    "            datafile.write('type_2' + ' ' + ' '.join(map(str, m3)) + '\\n')\n",
    "            datafile.write('type_3' + ' ' + ' '.join(map(str, i1)) + '\\n')\n",
    "            datafile.write('type_3' + ' ' + ' '.join(map(str, i2)) + '\\n')\n",
    "            datafile.write('type_4' + ' ' + ' '.join(map(str, i3)) + '\\n')\n",
    "            datafile.write('type_4' + ' ' + ' '.join(map(str, i4)) + '\\n')\n",
    "            datafile.write('type_5' + ' ' + ' '.join(map(str, i5)) + '\\n')\n",
    "    integrator.integrate(partlist)\n",
    "    if i%5000 == 0:\n",
    "        print(\"Percentage complete: \", 100*i/timesteps, \"%\", end=\"\\r\")\n",
    "datafile.close()\n",
    "# Generate TCL script to visualize with VMD\n",
    "msmrdvis.generateTCL_patchyParticleSTMV(numparticles = numparticles, \n",
    "                                     outfname = \"patchyParticleSTMV\", \n",
    "                                     tclfname = \"../../data/vmd/patchyParticleSTMV_2vmd.tcl\")\n",
    "print(\"Percentage complete: \", 100, \" %\")"
   ]
  },
  {
   "cell_type": "markdown",
   "metadata": {},
   "source": [
    "To load the movie go to /data/vmd and run in a terminal \"vmd -e patchyPacrticleSTMV_2vmd.tcl\".\n",
    "\n",
    "## In case VMD is not desired\n",
    "\n",
    "In case VMD output is not desired, below we simply integrate the model and show the output directly."
   ]
  },
  {
   "cell_type": "code",
   "execution_count": null,
   "metadata": {},
   "outputs": [],
   "source": [
    "# Integrate particle list and print only positions of first and last particle in list\n",
    "timesteps = 10\n",
    "print('{:<10s}{:<15s}{:<40s}{:<40s}'.format(\"Iteration\", \"Time\", \"Position (first particle)\", \"Position (last particle)\"))\n",
    "for i in range(timesteps):\n",
    "    print('{:<10d}{:<15f}{:<40s}{:<50s}'.format(i, integrator.clock, str(partlist[0].position), str(partlist[numparticles-1].position)))\n",
    "    print(np.linalg.norm(partlist[0].position - partlist[1].position))\n",
    "    integrator.integrate(partlist)"
   ]
  },
  {
   "cell_type": "markdown",
   "metadata": {},
   "source": [
    "# Calculate potential and plot\n",
    "\n",
    "Plots the potential for the case when bidning sites i3 and i4 are aligned in one axis"
   ]
  },
  {
   "cell_type": "code",
   "execution_count": null,
   "metadata": {},
   "outputs": [],
   "source": [
    "# Calculate potential for aligned molecules interaction between i3 and i4\n",
    "patchySTMValt = patchyParticleSTMV(100,20)\n",
    "\n",
    "def patchyParticleSTMVevaluate(p1,p2,or1,or2):\n",
    "    part1 = msmrd2.particle(1.0, 1.0, p1, or1)\n",
    "    part2 = msmrd2.particle(1.0, 1.0, p2, or2)\n",
    "    return patchySTMValt.evaluate(part1, part2)\n",
    "\n",
    "dist = np.arange(0,10, 0.01)\n",
    "pos1 = np.array([0, 0., 0.])\n",
    "pos2 = np.array([[i, 0., 0.] for i in dist])\n",
    "unitX = np.array([1,0,0])\n",
    "\n",
    "# patches coordinates in rest position and orientation\n",
    "I1 = np.array([1.694500527, 0.674187053, -0.694570924])\n",
    "I2 = np.array([2.198599972, -0.207424062, -0.826036629])\n",
    "I3 = np.array([-0.487943602, -0.924886815, -0.163915576])\n",
    "I4 = np.array([-1.348049652, 0.841422688, -0.057270532])\n",
    "I5 = np.array([-1.003689633, 1.739415955, -0.562472092])\n",
    "\n",
    "# Orientation of particle 1 to have i1 in x-axis \n",
    "unitI1 = I1/np.linalg.norm(I1)\n",
    "rotVector = np.cross(unitI1,unitX)\n",
    "rotTheta = np.arcsin(np.linalg.norm(rotVector))\n",
    "rotVector =  rotTheta * rotVector/np.linalg.norm(rotVector)\n",
    "orientation1 = quats.angle2quat(rotVector)\n",
    "\n",
    "# Orientation of particle 2 to have i2 in x-axis (looking towards the negtive side)\n",
    "unitI2 = I2/np.linalg.norm(I2)\n",
    "rotVector = np.cross(unitI2, unitX)\n",
    "rotTheta = np.pi + np.arcsin(np.linalg.norm(rotVector))\n",
    "rotVector =  rotTheta * rotVector/np.linalg.norm(rotVector)\n",
    "orientation2 = quats.angle2quat(rotVector)\n",
    "\n",
    "# Orientation of particle 3 to have i3 in x-axis\n",
    "unitI3 = I3/np.linalg.norm(I3)\n",
    "rotVector = np.cross(unitI3,unitX)\n",
    "rotTheta = np.pi - np.arcsin(np.linalg.norm(rotVector))\n",
    "rotVector =  rotTheta * rotVector/np.linalg.norm(rotVector)\n",
    "orientation3 = quats.angle2quat(rotVector)\n",
    "\n",
    "# Orientation of particle 4 to have i4 in x-axis (looking towards the negtive side)\n",
    "unitI4 = I4/np.linalg.norm(I4)\n",
    "rotVector = np.cross(unitI4, -1*unitX)\n",
    "rotTheta = np.arcsin(np.linalg.norm(rotVector))\n",
    "rotVector =  rotTheta * rotVector/np.linalg.norm(rotVector)\n",
    "orientation4 = quats.angle2quat(rotVector)\n",
    "\n",
    "# Orientation of particle 5 to have i5 in x-axis\n",
    "unitI5 = I5/np.linalg.norm(I5)\n",
    "rotVector = np.cross(unitI5, -1*unitX)\n",
    "rotTheta = np.pi + np.arcsin(np.linalg.norm(rotVector))\n",
    "rotVector =  rotTheta * rotVector/np.linalg.norm(rotVector)\n",
    "orientation5 = quats.angle2quat(rotVector)\n",
    "\n",
    "# Orientation of particle 6 to have i5 in x-axis (looking towards the negtive side)\n",
    "rotVector = np.cross(unitI5, -1*unitX)\n",
    "rotTheta = np.arcsin(np.linalg.norm(rotVector))\n",
    "rotVector =  rotTheta * rotVector/np.linalg.norm(rotVector)\n",
    "orientation6 = quats.angle2quat(rotVector)\n",
    "\n",
    "potentialAlignedI1I2 = [patchyParticleSTMVevaluate(pos1,p2,orientation1,orientation2) for p2 in pos2]\n",
    "potentialAlignedI3I4 = [patchyParticleSTMVevaluate(pos1,p2,orientation3,orientation4) for p2 in pos2]\n",
    "potentialAlignedI5I5 = [patchyParticleSTMVevaluate(pos1,p2,orientation5,orientation6) for p2 in pos2]"
   ]
  },
  {
   "cell_type": "code",
   "execution_count": null,
   "metadata": {},
   "outputs": [],
   "source": [
    "# Check orientation of binding sites are indeed in x-axis\n",
    "orientation = np.array([1,0,0,0])\n",
    "part1 = msmrd2.particle(1.0, 1.0, pos1, orientation1)\n",
    "part2 = msmrd2.particle(1.0, 1.0, pos1, orientation2)\n",
    "part3 = msmrd2.particle(1.0, 1.0, pos1, orientation3)\n",
    "part4 = msmrd2.particle(1.0, 1.0, pos1, orientation4)\n",
    "part5 = msmrd2.particle(1.0, 1.0, pos1, orientation5)\n",
    "part6 = msmrd2.particle(1.0, 1.0, pos1, orientation6)\n",
    "\n",
    "print(patchySTMValt.getPartPosition('i1', part1))\n",
    "print(patchySTMValt.getPartPosition('i2', part2))\n",
    "print(patchySTMValt.getPartPosition('i3', part3))\n",
    "print(patchySTMValt.getPartPosition('i4', part4))\n",
    "print(patchySTMValt.getPartPosition('i5', part5))\n",
    "print(patchySTMValt.getPartPosition('i5', part6))"
   ]
  },
  {
   "cell_type": "code",
   "execution_count": null,
   "metadata": {},
   "outputs": [],
   "source": [
    "# Plot potential\n",
    "plt.figure(figsize=(7,5))\n",
    "fsize = 22\n",
    "plt.rcParams.update({'font.size': fsize})\n",
    "plt.plot(dist, potentialAlignedI1I2, label = r'aligned i1-i2', lw =2)\n",
    "plt.plot(dist, potentialAlignedI3I4, label = r'aligned i3-i4', lw =2)\n",
    "plt.plot(dist, potentialAlignedI5I5, label = r'aligned i5-i5', lw =2)\n",
    "plt.plot(dist, 0*dist, '--k', lw=0.5)\n",
    "#plt.legend(fancybox=True)\n",
    "plt.legend(fontsize=28, labelspacing=2, framealpha=1.0, edgecolor='white', fancybox=True, bbox_to_anchor=(1.3, 1.0))\n",
    "plt.xlim([0,10])\n",
    "plt.xlabel(r'Relative distance')\n",
    "plt.ylabel(r'Potential')\n",
    "plt.yticks([])\n",
    "#plt.savefig('patchyParticles_potential.pdf', bbox_inches='tight')"
   ]
  },
  {
   "cell_type": "code",
   "execution_count": null,
   "metadata": {},
   "outputs": [],
   "source": []
  },
  {
   "cell_type": "code",
   "execution_count": null,
   "metadata": {},
   "outputs": [],
   "source": []
  }
 ],
 "metadata": {
  "kernelspec": {
   "display_name": "Python 3",
   "language": "python",
   "name": "python3"
  },
  "language_info": {
   "codemirror_mode": {
    "name": "ipython",
    "version": 3
   },
   "file_extension": ".py",
   "mimetype": "text/x-python",
   "name": "python",
   "nbconvert_exporter": "python",
   "pygments_lexer": "ipython3",
   "version": "3.8.3"
  }
 },
 "nbformat": 4,
 "nbformat_minor": 2
}
