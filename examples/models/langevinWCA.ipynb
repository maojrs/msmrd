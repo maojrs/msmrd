{
 "cells": [
  {
   "cell_type": "markdown",
   "metadata": {},
   "source": [
    "# Langevin integrator with WCA potential\n",
    "\n",
    "Simple implementation of two particles following Langevin dynamics"
   ]
  },
  {
   "cell_type": "code",
   "execution_count": 1,
   "metadata": {},
   "outputs": [
    {
     "name": "stdout",
     "output_type": "stream",
     "text": [
      "Failed to import pyEVTK, export2visit functions will not work\n"
     ]
    }
   ],
   "source": [
    "import numpy as np\n",
    "import matplotlib.pyplot as plt\n",
    "import msmrd2\n",
    "import msmrd2.visualization as msmrdvis\n",
    "from msmrd2.integrators import langevin \n",
    "from msmrd2.potentials import WCA"
   ]
  },
  {
   "cell_type": "code",
   "execution_count": 2,
   "metadata": {},
   "outputs": [],
   "source": [
    "# Define arbitrarily large list of particles\n",
    "np.random.seed(seed=1)\n",
    "numparticles = 500\n",
    "boxsize = 25\n",
    "D = 0.1\n",
    "mass = 1.0\n",
    "velocity = np.zeros(3)\n",
    "pyPartlist = [] \n",
    "for i in range(numparticles):\n",
    "    overlap = True\n",
    "    while overlap:\n",
    "        position = np.array([boxsize*np.random.rand()-0.5*boxsize,\n",
    "                             boxsize*np.random.rand()-0.5*boxsize,\n",
    "                             boxsize*np.random.rand()-0.5*boxsize])\n",
    "        overlap = False     \n",
    "        for j in range(len(pyPartlist)):\n",
    "            if np.linalg.norm(position - pyPartlist[j].position) < 2.0:\n",
    "                overlap = True\n",
    "                continue\n",
    "                \n",
    "    part = msmrd2.particle(D, position, velocity, mass)\n",
    "    pyPartlist.append(part)"
   ]
  },
  {
   "cell_type": "code",
   "execution_count": 3,
   "metadata": {},
   "outputs": [],
   "source": [
    "# Create list of particles that can be read from msmrd\n",
    "# note the particles in this list will be independent from the python list.\n",
    "partlist = msmrd2.integrators.particleList(pyPartlist)"
   ]
  },
  {
   "cell_type": "code",
   "execution_count": 4,
   "metadata": {},
   "outputs": [],
   "source": [
    "# Over-damped Langevin integrator definition\n",
    "dt = 0.0005\n",
    "seed = -1 # Seed = -1 used random device as seed\n",
    "bodytype = 'point'\n",
    "integrator = langevin(dt, seed, bodytype) "
   ]
  },
  {
   "cell_type": "code",
   "execution_count": 5,
   "metadata": {},
   "outputs": [],
   "source": [
    "# Define boundary (choose either spherical or box)\n",
    "boxBoundary = msmrd2.box(boxsize,boxsize,boxsize,'periodic')\n",
    "#boxBoundary = msmrd2.box(boxsize,boxsize,boxsize,'reflective')\n",
    "integrator.setBoundary(boxBoundary)"
   ]
  },
  {
   "cell_type": "code",
   "execution_count": 6,
   "metadata": {},
   "outputs": [],
   "source": [
    "# Define Lennard-Jones potential (rm=2^(1/6)sigma)\n",
    "epsilon = 1.0\n",
    "rm = 1.0\n",
    "sigma = rm * 2**(-1/6)\n",
    "potentialWCA = WCA(epsilon, sigma)\n",
    "integrator.setPairPotential(potentialWCA)"
   ]
  },
  {
   "cell_type": "code",
   "execution_count": 7,
   "metadata": {},
   "outputs": [
    {
     "name": "stdout",
     "output_type": "stream",
     "text": [
      "Percentage complete:  100  %\n"
     ]
    }
   ],
   "source": [
    "# Integrate the particles, save to .xyz to produce VMD output (additional overhead)\n",
    "timesteps = 200000\n",
    "stride = 20\n",
    "datafile  = open('../../data/vmd/langevinWCA.xyz', 'w')\n",
    "for i in range(timesteps):\n",
    "    if i%stride == 0:\n",
    "        datafile.write(str(len(partlist)) + '\\n')\n",
    "        datafile.write(str(0) + '\\n')\n",
    "    for j, part in enumerate(partlist):\n",
    "        if i%stride == 0:\n",
    "            v0 = part.position\n",
    "            datafile.write('type_0' + ' ' + ' '.join(map(str, v0)) + '\\n')\n",
    "    integrator.integrate(partlist)\n",
    "    if i%1000 == 0:\n",
    "        print(\"Percentage complete: \", 100*i/timesteps, \"%\", end=\"\\r\")\n",
    "datafile.close()\n",
    "print(\"Percentage complete: \", 100, \" %\")"
   ]
  },
  {
   "cell_type": "code",
   "execution_count": 8,
   "metadata": {},
   "outputs": [],
   "source": [
    "# Generate TCL script to visualize with VMD\n",
    "msmrdvis.generateTCL_sphericalParticles(numparticles = numparticles, outfname = \"langevinWCA\", \n",
    "                              tclfname = \"../../data/vmd/langevinWCA_2vmd.tcl\")"
   ]
  },
  {
   "cell_type": "markdown",
   "metadata": {},
   "source": [
    "To load the movie go to /data/vmd and run in a terminal \"vmd -e langevinLennardJones_2vmd.tcl\".\n",
    "\n",
    "\n",
    "## In case VMD is not desired\n",
    "\n",
    "In case VMD output is not desired, below we simply integrate the model and show the output directly."
   ]
  },
  {
   "cell_type": "code",
   "execution_count": 9,
   "metadata": {},
   "outputs": [
    {
     "name": "stdout",
     "output_type": "stream",
     "text": [
      "Iteration Time           Positions                               Velocites                               \n",
      "0         100.000000[  0.42809468   3.65997266 -10.37536422][ 0.19513591 -0.18824145 -1.64016208]             \n",
      "                    [ -0.46419401 -10.02064718 -12.11023387][ 0.8137655   0.69096922 -1.35578348]             \n",
      "1         100.000500[  0.42821821   3.65988148 -10.37621099][ 0.29898739 -0.17648374 -1.74688915]             \n",
      "                    [ -0.46378557 -10.02029821 -12.11092609][ 0.82001475  0.7048955  -1.41311348]             \n",
      "2         100.001000[  0.42836246   3.65978601 -10.37707961][ 0.27801059 -0.20540749 -1.72760175]             \n",
      "                    [ -0.46335098 -10.01995468 -12.11163679][ 0.9183296   0.66923688 -1.42967418]             \n",
      "3         100.001500[  0.42852311   3.659705   -10.37790118][ 0.36461242 -0.11864998 -1.55866973]             \n",
      "                    [ -0.4628982  -10.01962321 -12.11237121][ 0.89276806  0.65661477 -1.50802871]             \n",
      "4         100.002000[  0.42865598   3.65964022 -10.37865612][ 0.16686    -0.14045845 -1.46110567]             \n",
      "                    [ -0.46245978 -10.01925358 -12.11309849][ 0.86092431  0.82190484 -1.4010946 ]             \n",
      "5         100.002500[  0.4287391    3.65957981 -10.37935142][ 0.16558949 -0.10116559 -1.32010976]             \n",
      "                    [ -0.46201449 -10.01884322 -12.11379647][ 0.92022554  0.81957277 -1.39082405]             \n",
      "6         100.003000[  0.42882875   3.6595336  -10.38000201][ 0.19303798 -0.08370208 -1.28223641]             \n",
      "                    [ -0.46156212 -10.01841783 -12.11452193][ 0.88925857  0.88196816 -1.51099302]             \n",
      "7         100.003500[  0.42889677   3.65949395 -10.38068775][ 0.07905211 -0.07487113 -1.46071056]             \n",
      "                    [ -0.46112058 -10.01795548 -12.11529455][ 0.87692357  0.96742077 -1.57948178]             \n",
      "8         100.004000[  0.42898796   3.65946687 -10.38144557][ 0.28568758 -0.03348062 -1.57056741]             \n",
      "                    [ -0.46069964 -10.01746312 -12.11604638][ 0.80682183  1.0020142  -1.42785053]             \n",
      "9         100.004500[  0.42908356   3.65941561 -10.38224444][ 0.09671492 -0.17154733 -1.62491717]             \n",
      "                    [ -0.4602895  -10.01700269 -12.11674917][ 0.8337349   0.83971457 -1.38331434]             \n",
      "10        100.005000[  0.42912073   3.65935543 -10.38304129][ 0.05194846 -0.06914591 -1.56249404]             \n",
      "                    [ -0.45987663 -10.01657136 -12.11748595][ 0.81776479  0.88561532 -1.56380904]             \n",
      "11        100.005500[  0.42916899   3.65930373 -10.38380965][ 0.14110756 -0.13765413 -1.51096302]             \n",
      "                    [ -0.45950912 -10.01617012 -12.11830211][ 0.6522684   0.71934238 -1.70083845]             \n",
      "12        100.006000[  0.42925397   3.65926182 -10.3845938 ][ 0.19882193 -0.0300239  -1.62560569]             \n",
      "                    [ -0.45917372 -10.01583642 -12.11912864][ 0.68932496  0.61546343 -1.60528963]             \n",
      "13        100.006500[  0.42931586   3.65925809 -10.38538421][ 0.04874469  0.01512044 -1.53602826]             \n",
      "                    [ -0.45883325 -10.01558208 -12.11997171][ 0.6725426   0.40187696 -1.76695618]             \n",
      "14        100.007000[  0.42931424   3.65927831 -10.3861906 ][-0.05524586  0.06574617 -1.68956943]             \n",
      "                    [ -0.4584794  -10.0154213  -12.12083604][ 0.74286185  0.24127462 -1.69037287]             \n",
      "15        100.007500[  0.42925143   3.65930131 -10.38705921][-0.19597419  0.0262746  -1.78486216]             \n",
      "                    [ -0.45807852 -10.01529523 -12.12169788][ 0.86068536  0.26300677 -1.75701193]             \n",
      "16        100.008000[  0.42915702   3.65931631 -10.38792687][-0.18169523  0.03373123 -1.68577529]             \n",
      "                    [ -0.4576631 -10.0151515 -12.1225909]   [ 0.80099427  0.31191029 -1.81504164]             \n",
      "17        100.008500[  0.4290428    3.65934689 -10.38873925][-0.27515728  0.08858091 -1.56373096]             \n",
      "                    [ -0.45727931 -10.01498411 -12.12344419][ 0.73413809  0.357652   -1.5981342 ]             \n",
      "18        100.009000[  0.42894161   3.65937396 -10.38950842][-0.12963276  0.01970955 -1.51294643]             \n",
      "                    [ -0.45690693 -10.01480693 -12.1242974 ][ 0.75538907  0.35105661 -1.8146772 ]             \n",
      "19        100.009500[  0.42886794   3.65942794 -10.39027385][-0.16502863  0.19619885 -1.54877703]             \n",
      "                    [ -0.45651409 -10.01462657 -12.12520381][ 0.81597548  0.37037239 -1.81097036]             \n",
      "20        100.010000[  0.42878257   3.65948378 -10.39106415][-0.17646767  0.02714506 -1.61241561]             \n",
      "                    [ -0.45611849 -10.01440818 -12.1260784 ][ 0.76641196  0.50318914 -1.68741533]             \n",
      "21        100.010500[  0.42870917   3.65945336 -10.39186193][-0.11710328 -0.14882152 -1.57870082]             \n",
      "                    [ -0.45574336 -10.01415923 -12.12693   ][ 0.73412991  0.49262688 -1.71895893]             \n",
      "22        100.011000[  0.42861408   3.65937933 -10.39260966][-0.26328356 -0.14727476 -1.41223572]             \n",
      "                    [ -0.45536598 -10.01391777 -12.12774544][ 0.77539918  0.47320813 -1.54279739]             \n",
      "23        100.011500[  0.42844792   3.65929466 -10.3933113 ][-0.40134717 -0.1914156  -1.39433356]             \n",
      "                    [ -0.4549898  -10.01364344 -12.12850957][ 0.72928966  0.62410989 -1.51373434]             \n",
      "24        100.012000[  0.42826133   3.65917624 -10.39402608][-0.34501094 -0.28227068 -1.46478931]             \n",
      "                    [ -0.45460105 -10.01334174 -12.12928811][ 0.82573681  0.5826936  -1.60042296]             \n",
      "25        100.012500[  0.42806903   3.65900099 -10.39475789][-0.42418951 -0.41870814 -1.46241965]             \n",
      "                    [ -0.45418772 -10.01303542 -12.13010342][ 0.82757107  0.64256344 -1.66084037]             \n",
      "26        100.013000[  0.42783413   3.65878258 -10.39542299][-0.51541033 -0.45494576 -1.19799776]             \n",
      "                    [ -0.45378842 -10.01267476 -12.13092469][ 0.76963831  0.80007778 -1.624234  ]             \n",
      "27        100.013500[  0.4275449    3.65856083 -10.39600981][-0.64151266 -0.43206406 -1.14928896]             \n",
      "                    [ -0.45339082 -10.01227594 -12.13174978][ 0.8207523   0.79523071 -1.67610081]             \n",
      "28        100.014000[  0.42721725   3.65831652 -10.39656409][-0.66907856 -0.54515204 -1.06782972]             \n",
      "                    [ -0.4529586  -10.01184654 -12.1325392 ][ 0.90810811  0.92236129 -1.48157691]             \n",
      "29        100.014500[  0.42688358   3.65803773 -10.39711236][-0.66560524 -0.57003722 -1.1252355 ]             \n",
      "                    [ -0.45252482 -10.01142147 -12.1332754 ][ 0.82702317  0.77790551 -1.46325444]             \n",
      "30        100.015000[  0.42658502   3.65773329 -10.39768866][-0.52863539 -0.64769228 -1.17995579]             \n",
      "                    [ -0.45212256 -10.01107572 -12.13402951][ 0.78202371  0.60508754 -1.55316727]             \n",
      "31        100.015500[  0.42633575   3.65737203 -10.3983268 ][-0.46842943 -0.79736383 -1.37262081]             \n",
      "                    [ -0.45164683 -10.01071823 -12.13479617][ 1.12090908  0.82487874 -1.51348482]             \n",
      "32        100.016000[  0.42608243   3.6569498  -10.39901311][-0.54487796 -0.89155998 -1.37262281]             \n",
      "                    [ -0.45109277 -10.01033053 -12.13555659][ 1.0953222   0.7259286  -1.52816674]             \n",
      "33        100.016500[  0.42577616   3.65644276 -10.39970372][-0.68019374 -1.13658749 -1.38981832]             \n",
      "                    [ -0.45052419 -10.00993751 -12.1363744 ][ 1.17900054  0.84613275 -1.74308462]             \n",
      "34        100.017000[  0.42544081   3.65592516 -10.40040126][-0.66119914 -0.93383755 -1.40032984]             \n",
      "                    [ -0.44991405 -10.00954134 -12.13724357][ 1.26153796  0.73857512 -1.73359502]             \n",
      "35        100.017500[  0.42504811   3.65546032 -10.40112851][-0.90958803 -0.92550797 -1.50867836]             \n",
      "                    [ -0.44925018 -10.00918599 -12.13808422][ 1.39395989  0.68281113 -1.62900115]             \n",
      "36        100.018000[  0.42461931   3.65497055 -10.40187233][-0.80563763 -1.03358741 -1.46659087]             \n",
      "                    [ -0.44859993 -10.00884456 -12.13892293][ 1.20703194  0.68291033 -1.72585077]             \n",
      "37        100.018500[  0.42422209   3.65450295 -10.40262363][-0.78323812 -0.83680377 -1.5386258 ]             \n",
      "                    [ -0.44797948 -10.00851675 -12.13974892][ 1.27476322  0.62833739 -1.57810576]             \n",
      "38        100.019000[  0.42383962   3.65411681 -10.40337063][-0.74664866 -0.7077415  -1.44938645]             \n",
      "                    [ -0.44733207 -10.00819857 -12.14052196][ 1.31488919  0.64437355 -1.51407681]             \n",
      "39        100.019500[  0.42348044   3.65378958 -10.40408496][-0.69005588 -0.60119    -1.40789647]             \n",
      "                    [ -0.44664345 -10.00788794 -12.14130217][ 1.43956768  0.59813576 -1.60675895]             \n",
      "40        100.020000[  0.42315007   3.65349644 -10.40476189][-0.63142852 -0.57136922 -1.29986075]             \n",
      "                    [ -0.445909   -10.00760852 -12.14210579][ 1.49824932  0.51954825 -1.60770174]             \n",
      "41        100.020500[  0.42279624   3.65322724 -10.40539947][-0.78388487 -0.50541032 -1.25043839]             \n",
      "                    [ -0.44516177 -10.00735478 -12.1429489 ][ 1.49067728  0.49542244 -1.76473694]             \n",
      "42        100.021000[  0.42239279   3.65297458 -10.40605115][-0.82991844 -0.50525992 -1.35629124]             \n",
      "                    [ -0.44435111 -10.00712264 -12.14381228][ 1.75197171  0.43313408 -1.68877089]             \n",
      "43        100.021500[  0.42196781   3.65276342 -10.40673237][-0.87001834 -0.33938699 -1.36856805]             \n",
      "                    [ -0.44347954 -10.00693032 -12.14470551][ 1.73430191  0.336163   -1.88418316]             \n",
      "44        100.022000[  0.42152582   3.65258791 -10.40738282][-0.89790773 -0.36261919 -1.23322896]             \n",
      "                    [ -0.44260315 -10.00674832 -12.14564768][ 1.77126417  0.3918336  -1.88449672]             \n",
      "45        100.022500[  0.42107705   3.65237586 -10.40800023][-0.89717199 -0.48557734 -1.23641403]             \n",
      "                    [ -0.44170789 -10.00656209 -12.1466327 ][ 1.80976885  0.35307695 -2.05555871]             \n",
      "46        100.023000[  0.42064941   3.65210278 -10.40862125][-0.81341358 -0.60676241 -1.24766687]             \n",
      "                    [ -0.44081557 -10.00639027 -12.14768464][ 1.75951479  0.33420184 -2.1522169 ]             \n",
      "47        100.023500[  0.42024809   3.65181049 -10.40927182][-0.79187191 -0.56241098 -1.35462747]             \n",
      "                    [ -0.43991349 -10.00623178 -12.14874849][ 1.84880049  0.29976881 -2.10317556]             \n",
      "48        100.024000[  0.41984666   3.65155168 -10.40999692][-0.81382479 -0.47281373 -1.54576739]             \n",
      "                    [ -0.43898329 -10.00607094 -12.14979424][ 1.87199493  0.34359781 -2.07982602]             \n",
      "49        100.024500[  0.41938772   3.65131618 -10.41078945][-1.02193624 -0.46919865 -1.62435694]             \n",
      "                    [ -0.43806192 -10.00588491 -12.15080129][ 1.81348341  0.40050513 -1.94836239]             \n",
      "50        100.025000[  0.41891798   3.65110389 -10.4116018 ][-0.85705405 -0.3799342  -1.62503691]             \n",
      "                    [ -0.43718936 -10.00567567 -12.15181389][ 1.67676215  0.43645053 -2.10204991]             \n",
      "51        100.025500[  0.41851111   3.65092049 -10.41242401][-0.77042406 -0.35367776 -1.66380722]             \n",
      "                    [ -0.43630656 -10.00543784 -12.15290049][ 1.85443744  0.514876   -2.24433772]             \n",
      "52        100.026000[  0.41815376   3.65079424 -10.41330406][-0.65893807 -0.15133648 -1.8563856 ]             \n",
      "                    [ -0.43537271 -10.00512534 -12.15401441][ 1.88094807  0.73510514 -2.21135697]             \n",
      "53        100.026500[  0.41780656   3.65071643 -10.41421219][-0.72989748 -0.1599057  -1.77614556]             \n",
      "                    [ -0.4344552  -10.00471325 -12.15509828][ 1.78911409  0.91328448 -2.12410995]             \n",
      "54        100.027000[  0.41750382   3.65066028 -10.41509825][-0.48104084 -0.06466353 -1.76810822]             \n",
      "                    [ -0.433576   -10.0042576  -12.15615382][ 1.72769385  0.90931878 -2.09804766]             \n",
      "55        100.027500[  0.41725373   3.65064093 -10.41598443][-0.51933634 -0.0127617  -1.77657666]             \n",
      "                    [ -0.43271731 -10.00382157 -12.15722189][ 1.70705877  0.83479616 -2.17422595]             \n",
      "56        100.028000[  0.41694511   3.65063735 -10.41685571][-7.15123389e-01 -1.54090350e-03 -1.70857462e+00] \n",
      "                    [ -0.43186901 -10.00343556 -12.15829793][ 1.68611517  0.70921595 -2.12995805]             \n"
     ]
    },
    {
     "name": "stdout",
     "output_type": "stream",
     "text": [
      "57        100.028500[  0.41654265   3.65067148 -10.41770916][-0.89472002  0.13804864 -1.70519737]             \n",
      "                    [ -0.43103579 -10.00308632 -12.15930665][ 1.64677404  0.68774189 -1.90492123]             \n",
      "58        100.029000[  0.41610316   3.6507535  -10.41855368][-0.86324363  0.19002577 -1.67289642]             \n",
      "                    [ -0.43019362 -10.00270638 -12.16025734][ 1.72191731  0.83202872 -1.897843  ]             \n",
      "59        100.029500[  0.41565057   3.65084472 -10.41934318][-0.94713465  0.17485791 -1.48511718]             \n",
      "                    [ -0.42934339 -10.00227455 -12.16115193][ 1.67898112  0.89531461 -1.68050828]             \n",
      "60        100.030000[  0.41518567   3.6509272  -10.42009401][-0.91244332  0.15507783 -1.51817562]             \n",
      "                    [ -0.42853035 -10.0017759  -12.16198512][ 1.57320026  1.09925893 -1.65223621]             \n",
      "61        100.030500[  0.41472842   3.65099112 -10.42083749][-0.91656438  0.10060183 -1.45574045]             \n",
      "                    [ -0.42769168 -10.00124318 -12.16282542][ 1.78147134  1.03163156 -1.70897916]             \n",
      "62        100.031000[  0.41427881   3.65102553 -10.42155798][-0.88188953  0.0370203  -1.42624984]             \n",
      "                    [ -0.4268761  -10.00072218 -12.16363672][ 1.48086927  1.05236212 -1.53623916]             \n",
      "63        100.031500[  0.41387143   3.65104747 -10.42226101][-0.74759485  0.05073497 -1.38585056]             \n",
      "                    [ -0.42616799 -10.0001977  -12.16439022][ 1.35154732  1.0455745  -1.4777459 ]             \n",
      "64        100.032000[  0.41351455   3.65107478 -10.42296013][-0.6799311   0.05852977 -1.41064729]             \n",
      "                    [ -0.42551103  -9.99968623 -12.16513107][ 1.27630041  1.00027542 -1.48566823]             \n",
      "65        100.032500[  0.41312021   3.65113851 -10.42370143][-0.89744048  0.19635706 -1.55454416]             \n",
      "                    [ -0.42492772  -9.99919751 -12.16585067][ 1.05693421  0.95461391 -1.39272047]             \n",
      "66        100.033000[  0.41266131   3.65123411 -10.4244434 ][-0.93817403  0.18607541 -1.41332168]             \n",
      "                    [ -0.42435904  -9.99876633 -12.16656028][ 1.21779442  0.77012666 -1.44571325]             \n",
      "67        100.033500[  0.41219984   3.65135707 -10.42510237][-0.9077042   0.30576862 -1.22258184]             \n",
      "                    [ -0.4237841   -9.99837611 -12.16728919][ 1.08197435  0.79075089 -1.46993076]             \n",
      "68        100.034000[  0.41172991   3.65155511 -10.42574285][-0.97201789  0.48636422 -1.33931756]             \n",
      "                    [ -0.42323127  -9.99796678 -12.16804528][ 1.12932742  0.84656317 -1.55444038]             \n",
      "69        100.034500[  0.41125353   3.65182529 -10.42640437][-0.93347765  0.59435819 -1.30676919]             \n",
      "                    [ -0.42270886  -9.99748913 -12.16880963][ 0.96032557  1.06405006 -1.50294729]             \n",
      "70        100.035000[  0.41078119   3.65215329 -10.42702137][-0.95587621  0.71765175 -1.16122575]             \n",
      "                    [ -0.4221969   -9.99694578 -12.16958378][ 1.08750701  1.10934371 -1.59364342]             \n",
      "71        100.035500[  0.41030628   3.65252604 -10.42760051][-0.94377676  0.77335003 -1.15534854]             \n",
      "                    [ -0.4216662   -9.99636615 -12.17039631][ 1.03530367  1.20916615 -1.65649477]             \n",
      "72        100.036000[  0.40977307   3.65286673 -10.42819915][-1.18907958  0.58941422 -1.23921459]             \n",
      "                    [ -0.42114964  -9.99579128 -12.17123473][ 1.03091958  1.09031431 -1.69719096]             \n",
      "73        100.036500[  0.40919193   3.65319179 -10.4287874 ][-1.13545214  0.71082724 -1.11378695]             \n",
      "                    [ -0.42065766  -9.99531095 -12.17209943][ 0.93698921  0.83100783 -1.76160461]             \n",
      "74        100.037000[  0.40863785   3.65350684 -10.4293279 ][-1.0808714   0.54934696 -1.04819315]             \n",
      "                    [ -0.42022667  -9.99492211 -12.17297242][ 0.78697254  0.7243607  -1.73036068]             \n",
      "75        100.037500[  0.40811088   3.6537573  -10.42980963][-1.0270315   0.45252284 -0.87872966]             \n",
      "                    [ -0.41986501  -9.99460478 -12.17386077][ 0.65967957  0.54493668 -1.82302125]             \n",
      "76        100.038000[  0.40760997   3.65399353 -10.43022284][-0.97660263  0.49238788 -0.77412929]             \n",
      "                    [ -0.41953176  -9.99434034 -12.17473297][ 0.67333828  0.5128464  -1.66579535]             \n",
      "77        100.038500[  0.4071345    3.6542575  -10.43060417][-0.92525873  0.56348491 -0.75116413]             \n",
      "                    [ -0.41921839  -9.99406998 -12.17553485][ 0.58012643  0.56859193 -1.54169438]             \n",
      "78        100.039000[  0.40664032   3.654558   -10.43096695][-1.05147844  0.63850916 -0.69997527]             \n",
      "                    [ -0.41895101  -9.99379354 -12.17627384][ 0.48941079  0.53717086 -1.41426002]             \n",
      "79        100.039500[  0.4061053    3.65484868 -10.43132605][-1.08858004  0.52422304 -0.736432  ]             \n",
      "                    [ -0.41868689  -9.99354614 -12.17695106][ 0.56704144  0.45243163 -1.29465129]             \n",
      "80        100.040000[  0.40553328   3.6551593  -10.43169893][-1.19952291  0.71823965 -0.75506759]             \n",
      "                    [ -0.41843309  -9.99331561 -12.17760943][ 0.44815686  0.469685   -1.33883439]             \n",
      "81        100.040500[  0.40495858   3.65550503 -10.43204402][-1.09925806  0.664686   -0.62528414]             \n",
      "                    [ -0.41818583  -9.99312682 -12.17827398][ 0.5409023   0.28546296 -1.31935435]             \n",
      "82        100.041000[  0.40442092   3.65581099 -10.43237052][-1.0513843   0.559179   -0.68071316]             \n",
      "                    [ -0.41792547  -9.99298801 -12.17889114][ 0.50054742  0.26976212 -1.14926776]             \n",
      "83        100.041500[  0.40387912   3.65610279 -10.43270303][-1.11581335  0.60800777 -0.6493549 ]             \n",
      "                    [ -0.41766816  -9.99283748 -12.17948326][ 0.52869427  0.33237047 -1.21922673]             \n",
      "84        100.042000[  0.40330652   3.65639768 -10.43299541][-1.17460729  0.57156596 -0.5201521 ]             \n",
      "                    [ -0.41740574  -9.99264096 -12.1801144 ][ 0.52096439  0.45370794 -1.3053322 ]             \n",
      "85        100.042500[  0.40273307   3.65668818 -10.43323167][-1.11919638  0.59042363 -0.42487281]             \n",
      "                    [ -0.41713997  -9.99240348 -12.18078494][ 0.54211923  0.49619848 -1.37684442]             \n",
      "86        100.043000[  0.40218224   3.65701896 -10.4334709 ][-1.08409881  0.7326935  -0.53208158]             \n",
      "                    [ -0.41686428  -9.99214237 -12.18142025][ 0.56064974  0.54825618 -1.16439446]             \n",
      "87        100.043500[  0.40166853   3.65739125 -10.43371756][-0.9707761   0.7564718  -0.45454249]             \n",
      "                    [ -0.41663158  -9.99185165 -12.18198734][ 0.37012486  0.61461068 -1.10394243]             \n",
      "88        100.044000[  0.40117689   3.65775737 -10.43394038][-0.99577356  0.70799147 -0.43675385]             \n",
      "                    [ -0.41647581  -9.99155371 -12.18256447][ 0.25296508  0.57718102 -1.20460146]             \n",
      "89        100.044500[  0.40068604   3.65813895 -10.43416518][-0.96762598  0.81832315 -0.46242471]             \n",
      "                    [ -0.41635894  -9.99126428 -12.18317912][ 0.21450675  0.58053468 -1.25399414]             \n",
      "90        100.045000[  0.40018874   3.65849851 -10.4343938 ][-1.02156746  0.61992683 -0.45207961]             \n",
      "                    [ -0.41627916  -9.99094957 -12.18381224][ 0.10462936  0.67829665 -1.27848127]             \n",
      "91        100.045500[  0.39969958   3.65879614 -10.43461981][-0.93506227  0.57058378 -0.45193285]             \n",
      "                    [ -0.41622262  -9.99055673 -12.18441189][ 0.12152529  0.89305859 -1.12011912]             \n",
      "92        100.046000[  0.39920997   3.65907189 -10.43484197][-1.02340287  0.5324148  -0.43671069]             \n",
      "                    [ -0.4161643   -9.99014492 -12.1849739 ][ 0.11177613  0.75416753 -1.12790338]             \n",
      "93        100.046500[  0.39872288   3.65937051 -10.43507784][-0.92495495  0.6620953  -0.50678133]             \n",
      "                    [ -0.41611197  -9.98976894 -12.18554903][ 0.09754122  0.74976277 -1.1726186 ]             \n",
      "94        100.047000[  0.39828622   3.65970317 -10.43536125][-0.82168655  0.66851774 -0.62686874]             \n",
      "                    [ -0.41609852  -9.98938439 -12.1861381 ][-0.04375162  0.78843269 -1.18364916]             \n",
      "95        100.047500[  0.3978637    3.66006601 -10.43564896][-0.86836128  0.7828511  -0.5239691 ]             \n",
      "                    [ -0.41614059  -9.98896871 -12.1867054 ][-0.12454488  0.87428954 -1.08555474]             \n",
      "96        100.048000[  0.39739228   3.66044563 -10.435894  ][-1.01734233  0.73563314 -0.4561947 ]             \n",
      "                    [ -0.41620263  -9.98851088 -12.18726051][-0.12359176  0.95702989 -1.13490048]             \n"
     ]
    },
    {
     "name": "stdout",
     "output_type": "stream",
     "text": [
      "97        100.048500[  0.39689052   3.66079834 -10.43607861][-0.98968031  0.67518576 -0.2822197 ]             \n",
      "                    [ -0.41624521  -9.98801349 -12.18784424][-0.04674347  1.03253076 -1.20000937]             \n",
      "98        100.049000[  0.39637398   3.6611332  -10.43621465][-1.07649856  0.66426031 -0.26194803]             \n",
      "                    [ -0.41626148  -9.98750368 -12.18843373][-0.01832527  1.00669949 -1.15794556]             \n",
      "99        100.049500[  0.3958386    3.66145975 -10.43637158][-1.06499876  0.64196295 -0.36576988]             \n",
      "                    [ -0.4162456   -9.98701538 -12.18900797][ 0.08184601  0.94651344 -1.13902891]             \n"
     ]
    }
   ],
   "source": [
    "# Integrate particle list and print only positions (prints positions and orientations of both particles)\n",
    "timesteps = 100\n",
    "print('{:<10s}{:<15s}{:<40s}{:<40s}'.format(\"Iteration\", \"Time\", \"Positions\", \"Velocites\"))\n",
    "for i in range(timesteps):\n",
    "    print('{:<10d}{:<10f}{:<40s}{:<50s}'.format(i, integrator.clock, str(partlist[0].position), str(partlist[0].velocity)))\n",
    "    print('{:<10s}{:<10s}{:<40s}{:<50s}'.format(str(\" \"), str(\" \"), str(partlist[1].position), str(partlist[1].velocity)))\n",
    "    integrator.integrate(partlist)"
   ]
  },
  {
   "cell_type": "markdown",
   "metadata": {},
   "source": [
    "# Calculate and plot potential\n",
    "\n",
    "Plots the Lennard jones potential for a set of given parameters:"
   ]
  },
  {
   "cell_type": "code",
   "execution_count": 10,
   "metadata": {},
   "outputs": [
    {
     "data": {
      "image/png": "[encoded data removed]",
      "text/plain": [
       "<Figure size 432x288 with 1 Axes>"
      ]
     },
     "metadata": {
      "needs_background": "light"
     },
     "output_type": "display_data"
    }
   ],
   "source": [
    "# Redefine potential\n",
    "epsilon = 1\n",
    "rm = 1.0\n",
    "sigma = rm * 2**(-1/6)\n",
    "cutOff = 5\n",
    "potentialWCA = WCA(epsilon, sigma)\n",
    "\n",
    "# Construct evaluate function\n",
    "def WCAevaluate(r):\n",
    "    p1 = np.zeros(3)\n",
    "    p2 = np.array([r,0,0])\n",
    "    vel = np.zeros(3)\n",
    "    part1 = msmrd2.particle(1.0, p1, vel, 1)\n",
    "    part2 = msmrd2.particle(1.0, p2, vel, 1)\n",
    "    return potentialWCA.evaluate(part1, part2)\n",
    "\n",
    "rarray = np.linspace(0.1,5,100)\n",
    "V_WCA = [WCAevaluate(r) for r in rarray]\n",
    "plt.plot(rarray, V_WCA)\n",
    "plt.xlabel(\"Distance r\")\n",
    "plt.ylabel(\"WCA potential\")\n",
    "plt.ylim([-1.5,3])\n",
    "plt.show()"
   ]
  },
  {
   "cell_type": "code",
   "execution_count": null,
   "metadata": {},
   "outputs": [],
   "source": []
  }
 ],
 "metadata": {
  "kernelspec": {
   "display_name": "Python 3",
   "language": "python",
   "name": "python3"
  },
  "language_info": {
   "codemirror_mode": {
    "name": "ipython",
    "version": 3
   },
   "file_extension": ".py",
   "mimetype": "text/x-python",
   "name": "python",
   "nbconvert_exporter": "python",
   "pygments_lexer": "ipython3",
   "version": "3.8.3"
  }
 },
 "nbformat": 4,
 "nbformat_minor": 2
}
