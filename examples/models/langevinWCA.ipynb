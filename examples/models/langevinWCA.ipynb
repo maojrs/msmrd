{
 "cells": [
  {
   "cell_type": "markdown",
   "metadata": {},
   "source": [
    "# Langevin integrator with WCA potential\n",
    "\n",
    "Simple implementation of two particles following Langevin dynamics"
   ]
  },
  {
   "cell_type": "code",
   "execution_count": null,
   "metadata": {},
   "outputs": [],
   "source": [
    "import numpy as np\n",
    "import matplotlib.pyplot as plt\n",
    "import msmrd2\n",
    "import msmrd2.visualization as msmrdvis\n",
    "from msmrd2.integrators import langevin \n",
    "from msmrd2.potentials import WCA"
   ]
  },
  {
   "cell_type": "code",
   "execution_count": null,
   "metadata": {},
   "outputs": [],
   "source": [
    "# Define arbitrarily large list of particles\n",
    "np.random.seed(seed=1)\n",
    "numparticles = 500\n",
    "boxsize = 25\n",
    "D = 0.1\n",
    "mass = 1.0\n",
    "velocity = np.zeros(3)\n",
    "pyPartlist = [] \n",
    "for i in range(numparticles):\n",
    "    overlap = True\n",
    "    while overlap:\n",
    "        position = np.array([boxsize*np.random.rand()-0.5*boxsize,\n",
    "                             boxsize*np.random.rand()-0.5*boxsize,\n",
    "                             boxsize*np.random.rand()-0.5*boxsize])\n",
    "        overlap = False     \n",
    "        for j in range(len(pyPartlist)):\n",
    "            if np.linalg.norm(position - pyPartlist[j].position) < 2.0:\n",
    "                overlap = True\n",
    "                continue\n",
    "                \n",
    "    part = msmrd2.particle(D, position, velocity, mass)\n",
    "    pyPartlist.append(part)"
   ]
  },
  {
   "cell_type": "code",
   "execution_count": null,
   "metadata": {},
   "outputs": [],
   "source": [
    "# Create list of particles that can be read from msmrd\n",
    "# note the particles in this list will be independent from the python list.\n",
    "partlist = msmrd2.integrators.particleList(pyPartlist)"
   ]
  },
  {
   "cell_type": "code",
   "execution_count": null,
   "metadata": {},
   "outputs": [],
   "source": [
    "# Over-damped Langevin integrator definition\n",
    "dt = 0.0005\n",
    "seed = -1 # Seed = -1 used random device as seed\n",
    "bodytype = 'point'\n",
    "integrator = langevin(dt, seed, bodytype) "
   ]
  },
  {
   "cell_type": "code",
   "execution_count": null,
   "metadata": {},
   "outputs": [],
   "source": [
    "# Define boundary (choose either spherical or box)\n",
    "boxBoundary = msmrd2.box(boxsize,boxsize,boxsize,'periodic')\n",
    "#boxBoundary = msmrd2.box(boxsize,boxsize,boxsize,'reflective')\n",
    "integrator.setBoundary(boxBoundary)"
   ]
  },
  {
   "cell_type": "code",
   "execution_count": null,
   "metadata": {},
   "outputs": [],
   "source": [
    "# Define Lennard-Jones potential (rm=2^(1/6)sigma)\n",
    "epsilon = 1.0\n",
    "rm = 0.5\n",
    "sigma = rm * 2**(-1/6)\n",
    "potentialWCA = WCA(epsilon, sigma)\n",
    "integrator.setPairPotential(potentialWCA)"
   ]
  },
  {
   "cell_type": "code",
   "execution_count": null,
   "metadata": {},
   "outputs": [],
   "source": [
    "# Integrate the particles, save to .xyz to produce VMD output (additional overhead)\n",
    "timesteps = 200000\n",
    "stride = 20\n",
    "datafile  = open('../../data/vmd/langevinWCA.xyz', 'w')\n",
    "for i in range(timesteps):\n",
    "    if i%stride == 0:\n",
    "        datafile.write(str(len(partlist)) + '\\n')\n",
    "        datafile.write(str(0) + '\\n')\n",
    "    for j, part in enumerate(partlist):\n",
    "        if i%stride == 0:\n",
    "            v0 = part.position\n",
    "            datafile.write('type_0' + ' ' + ' '.join(map(str, v0)) + '\\n')\n",
    "    integrator.integrate(partlist)\n",
    "    if i%1000 == 0:\n",
    "        print(\"Percentage complete: \", 100*i/timesteps, \"%\", end=\"\\r\")\n",
    "datafile.close()\n",
    "print(\"Percentage complete: \", 100, \" %\")"
   ]
  },
  {
   "cell_type": "code",
   "execution_count": null,
   "metadata": {},
   "outputs": [],
   "source": [
    "# Generate TCL script to visualize with VMD\n",
    "msmrdvis.generateTCL_sphericalParticles(numparticles = numparticles, outfname = \"langevinWCA\", \n",
    "                              tclfname = \"../../data/vmd/langevinWCA_2vmd.tcl\")"
   ]
  },
  {
   "cell_type": "markdown",
   "metadata": {},
   "source": [
    "To load the movie go to /data/vmd and run in a terminal \"vmd -e langevinLennardJones_2vmd.tcl\".\n",
    "\n",
    "\n",
    "## In case VMD is not desired\n",
    "\n",
    "In case VMD output is not desired, below we simply integrate the model and show the output directly."
   ]
  },
  {
   "cell_type": "code",
   "execution_count": null,
   "metadata": {},
   "outputs": [],
   "source": [
    "# Integrate particle list and print only positions (prints positions and orientations of both particles)\n",
    "timesteps = 100\n",
    "print('{:<10s}{:<15s}{:<40s}{:<40s}'.format(\"Iteration\", \"Time\", \"Positions\", \"Velocites\"))\n",
    "for i in range(timesteps):\n",
    "    print('{:<10d}{:<10f}{:<40s}{:<50s}'.format(i, integrator.clock, str(partlist[0].position), str(partlist[0].velocity)))\n",
    "    print('{:<10s}{:<10s}{:<40s}{:<50s}'.format(str(\" \"), str(\" \"), str(partlist[1].position), str(partlist[1].velocity)))\n",
    "    integrator.integrate(partlist)"
   ]
  },
  {
   "cell_type": "markdown",
   "metadata": {},
   "source": [
    "# Calculate and plot potential\n",
    "\n",
    "Plots the Lennard jones potential for a set of given parameters:"
   ]
  },
  {
   "cell_type": "code",
   "execution_count": null,
   "metadata": {},
   "outputs": [],
   "source": [
    "# Redefine potential\n",
    "epsilon = 1\n",
    "rm = 1.0\n",
    "sigma = rm * 2**(-1/6)\n",
    "cutOff = 5\n",
    "potentialWCA = WCA(epsilon, sigma)\n",
    "\n",
    "# Construct evaluate function\n",
    "def WCAevaluate(r):\n",
    "    p1 = np.zeros(3)\n",
    "    p2 = np.array([r,0,0])\n",
    "    vel = np.zeros(3)\n",
    "    part1 = msmrd2.particle(1.0, p1, vel, 1)\n",
    "    part2 = msmrd2.particle(1.0, p2, vel, 1)\n",
    "    return potentialWCA.evaluate(part1, part2)\n",
    "\n",
    "rarray = np.linspace(0.1,5,100)\n",
    "V_WCA = [WCAevaluate(r) for r in rarray]\n",
    "plt.plot(rarray, V_WCA)\n",
    "plt.xlabel(\"Distance r\")\n",
    "plt.ylabel(\"WCA potential\")\n",
    "plt.ylim([-1.5,3])\n",
    "plt.show()"
   ]
  },
  {
   "cell_type": "code",
   "execution_count": null,
   "metadata": {},
   "outputs": [],
   "source": []
  }
 ],
 "metadata": {
  "kernelspec": {
   "display_name": "Python 3",
   "language": "python",
   "name": "python3"
  },
  "language_info": {
   "codemirror_mode": {
    "name": "ipython",
    "version": 3
   },
   "file_extension": ".py",
   "mimetype": "text/x-python",
   "name": "python",
   "nbconvert_exporter": "python",
   "pygments_lexer": "ipython3",
   "version": "3.8.3"
  }
 },
 "nbformat": 4,
 "nbformat_minor": 2
}
