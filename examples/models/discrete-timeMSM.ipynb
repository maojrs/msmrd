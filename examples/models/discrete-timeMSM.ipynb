{
 "cells": [
  {
   "cell_type": "markdown",
   "metadata": {},
   "source": [
    "# Discrete-time Markov state model\n",
    "\n",
    "Simple implementation of a particle with three states that switches between states following a discrete-time Markov state model (MSM)."
   ]
  },
  {
   "cell_type": "code",
   "execution_count": null,
   "metadata": {},
   "outputs": [],
   "source": [
    "import numpy as np\n",
    "import msmrd2\n",
    "from msmrd2.markovModels import discreteTimeMarkovStateModel as msm"
   ]
  },
  {
   "cell_type": "code",
   "execution_count": null,
   "metadata": {},
   "outputs": [],
   "source": [
    "# Particle definition (type,initial state, diffusion coefficients, initial configuration)\n",
    "ptype = 1 # different types will correspond to different MSMs\n",
    "pstate = 0\n",
    "D = 1\n",
    "Drot = 0\n",
    "position = np.array([1,1,1])\n",
    "orientation = np.array([0,1,0,0])\n",
    "part1 = msmrd2.particle(ptype, pstate, D, Drot, position, orientation)"
   ]
  },
  {
   "cell_type": "code",
   "execution_count": null,
   "metadata": {},
   "outputs": [],
   "source": [
    "# Define discrete-time MSM\n",
    "MSMtype = 1 # should match particle type (ptype)\n",
    "probmatrix = np.array([[0.3, 0.6, 0.1],\n",
    "                       [0.1, 0.2, 0.7],\n",
    "                       [0.6, 0.2, 0.2]])\n",
    "lagtime = 0.5 # one MSM iteration corresponds to advancing time by lagtime\n",
    "seed = 0 # If seed = -1 uses random device as seed\n",
    "markovModel = msm(MSMtype, probmatrix, lagtime, seed)"
   ]
  },
  {
   "cell_type": "code",
   "execution_count": null,
   "metadata": {},
   "outputs": [],
   "source": [
    "# Propagate CTMSM by changing state of particle\n",
    "totalsteps = 10 # number of time steps\n",
    "ksteps = 1 # number of MSM transitions per time step\n",
    "t = 0\n",
    "print('{:<15s}{:<15s}{:<10s}'.format(\"Iteration\", \"Time\", \"State\"))\n",
    "for i in range(totalsteps):\n",
    "    print('{:<15d}{:<15f}{:<10d}'.format(i, t, part1.state))\n",
    "    #print(i, t, part1.state, ctmsm.lagtime)\n",
    "    markovModel.propagate(part1, ksteps)\n",
    "    t += markovModel.lagtime"
   ]
  }
 ],
 "metadata": {
  "kernelspec": {
   "display_name": "Python 3",
   "language": "python",
   "name": "python3"
  },
  "language_info": {
   "codemirror_mode": {
    "name": "ipython",
    "version": 3
   },
   "file_extension": ".py",
   "mimetype": "text/x-python",
   "name": "python",
   "nbconvert_exporter": "python",
   "pygments_lexer": "ipython3",
   "version": "3.8.3"
  }
 },
 "nbformat": 4,
 "nbformat_minor": 2
}
