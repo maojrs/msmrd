{
 "cells": [
  {
   "cell_type": "markdown",
   "metadata": {},
   "source": [
    "# Langevin bistable dimer with WCA potentials\n",
    "\n",
    "Simple implementation of a bistable dimer in a reservoir with particles interacting through WCA potentials"
   ]
  },
  {
   "cell_type": "code",
   "execution_count": null,
   "metadata": {},
   "outputs": [],
   "source": [
    "import numpy as np\n",
    "import matplotlib.pyplot as plt\n",
    "import msmrd2\n",
    "import msmrd2.visualization as msmrdvis\n",
    "import msmrd2.tools.particleTools as particleTools\n",
    "from msmrd2.integrators import langevinBAOAB\n",
    "from msmrd2.potentials import WCA, pairBistable"
   ]
  },
  {
   "cell_type": "code",
   "execution_count": null,
   "metadata": {},
   "outputs": [],
   "source": [
    "# Main parameters\n",
    "numBathParticles = 500 #500 #500\n",
    "numparticles = 2 + numBathParticles #Added distinguished particles (index 0 and 1)\n",
    "# D = 3.0E-2 #1.0E-3 #(nm^2/ns) Note 1.0E-3 nm^2/ns = 1 micrometer^2/s #0.1\n",
    "Gamma = 0.3 #30 # Friction coefficient (units of KbT/D = mass over time (gram/mol)/ns)\n",
    "particlemass = 18.0 # (g/mol) approximately mass of water\n",
    "distinguishedParticleMass = 3 * particlemass # (kg)\n",
    "particleDiameter = 0.5 #0.3 # (nm) if 0.4nm spherical volume = water molecule volume approx\n",
    "separationDistance = 1 * particleDiameter # minimum separation distance for initial condition\n",
    "# For computations, we assume KbT=1, thus the force F must be: F=KbT f, where f is the force computed\n",
    "# from the potential. This means the plotted potential is on reduced units (not the distances though);\n",
    "KbT = 1\n",
    "\n",
    "# Main parameters for integrator\n",
    "dt = 0.05 #0.001 #0.0005 #0.05 # (ns)\n",
    "seed = -1 # Seed = -1 used random device as seed\n",
    "bodytype = 'point'\n",
    "\n",
    "# Define simulation boundaries (choose either spherical or box)\n",
    "boxsize = 15 #5 #(nm)\n",
    "boundaryType = 'periodic'\n",
    "\n",
    "# Parameters for WCA potential (rm=2^(1/6)sigma)\n",
    "epsilon = 1.0\n",
    "rm = particleDiameter # (diameter in nm)\n",
    "sigma = rm * 2**(-1/6)\n",
    "excludeParticleTypesPairs = [1] # Two particles of this same type wll not interact with each other.\n",
    "\n",
    "# Parameters for pair bistable potential (will only act on distinguished particles (type 1))\n",
    "x0 = 1.0*particleDiameter # location of first minima\n",
    "rad = 1.0*particleDiameter # half the distance between minimas\n",
    "distinguishedTypes = [1]\n",
    "scalefactor = 2\n",
    "\n",
    "# Over-damped Langevin integrator parameters\n",
    "dt = 0.05\n",
    "seed = -1 # Seed = -1 used random device as seed\n",
    "bodytype = 'point'\n",
    "Gamma = 0.3"
   ]
  },
  {
   "cell_type": "code",
   "execution_count": null,
   "metadata": {},
   "outputs": [],
   "source": [
    "# Setup simulation\n",
    "\n",
    "# Create list of particles that can be read from msmrd\n",
    "partlist = particleTools.randomLangevinParticleListTwoDistinguished(numparticles, boxsize, separationDistance,\n",
    "                                                        particlemass, seed, x0)\n",
    "# Set distinguished particle (default type is zero)\n",
    "partlist[0].setType(1)\n",
    "partlist[1].setType(1)\n",
    "partlist[0].setMass(distinguishedParticleMass)\n",
    "partlist[1].setMass(distinguishedParticleMass)\n",
    "    \n",
    "# Define boundary\n",
    "boxBoundary = msmrd2.box(boxsize, boxsize, boxsize, boundaryType)\n",
    "\n",
    "# Define pair potential (potentialWCA will be set as aux potnetial because we want to store its data\n",
    "# separately for our coarse-graining method).\n",
    "potentialWCA = WCA(epsilon, sigma, excludeParticleTypesPairs)\n",
    "potentialWCA.setForceCapValue(100.0)\n",
    "potentialPairBistable = pairBistable(x0, rad, distinguishedTypes, scalefactor)\n",
    "\n",
    "# Integrator definition\n",
    "seed = 1\n",
    "integrator = langevinBAOAB(dt, seed, bodytype, Gamma)\n",
    "integrator.setBoundary(boxBoundary)\n",
    "integrator.setPairPotential(potentialPairBistable)\n",
    "integrator.setAuxPairPotential(potentialWCA)\n",
    "integrator.setKbT(KbT)"
   ]
  },
  {
   "cell_type": "code",
   "execution_count": null,
   "metadata": {},
   "outputs": [],
   "source": [
    "# Integrate the particles, save to .xyz to produce VMD output (additional overhead)\n",
    "timesteps = 50000 #50000 #200000\n",
    "stride = 5 #20 #1\n",
    "datafile  = open('../../data/vmd/langevinDimerWCA.xyz', 'w')\n",
    "for i in range(timesteps):\n",
    "    if i%stride == 0:\n",
    "        datafile.write(str(len(partlist)) + '\\n')\n",
    "        datafile.write(str(0) + '\\n')\n",
    "    for j, part in enumerate(partlist):\n",
    "        if i%stride == 0:\n",
    "            v0 = part.position\n",
    "            if j == 0 or j == 1:\n",
    "                datafile.write('type_1' + ' ' + ' '.join(map(str, v0)) + '\\n')\n",
    "            else:\n",
    "                datafile.write('type_0' + ' ' + ' '.join(map(str, v0)) + '\\n')\n",
    "    integrator.integrate(partlist)\n",
    "    if i%1000 == 0:\n",
    "        print(\"Percentage complete: \", 100*i/timesteps, \"%\", end=\"\\r\")\n",
    "datafile.close()\n",
    "print(\"Percentage complete: \", 100, \" %\")"
   ]
  },
  {
   "cell_type": "code",
   "execution_count": null,
   "metadata": {},
   "outputs": [],
   "source": [
    "# Generate TCL script to visualize with VMD\n",
    "msmrdvis.generateTCL_MoriZwanzig(numparticles = numparticles, outfname = \"langevinDimerWCA\", \n",
    "                              tclfname = \"../../data/vmd/langevinDimerWCA_2vmd.tcl\", \n",
    "                                 particleDiameter = 0.2)"
   ]
  },
  {
   "cell_type": "markdown",
   "metadata": {},
   "source": [
    "To load the movie go to /data/vmd and run in a terminal \"vmd -e langevinDimerWCA_2vmd.tcl\".\n",
    "\n",
    "\n",
    "## In case VMD is not desired\n",
    "\n",
    "In case VMD output is not desired, below we simply integrate the model and show the output directly."
   ]
  },
  {
   "cell_type": "code",
   "execution_count": null,
   "metadata": {},
   "outputs": [],
   "source": [
    "# Integrate particle list and print only positions (prints positions and orientations of both particles)\n",
    "timesteps = 100\n",
    "print('{:<10s}{:<15s}{:<40s}{:<40s}'.format(\"Iteration\", \"Time\", \"Positions\", \"Velocites\"))\n",
    "for i in range(timesteps):\n",
    "    print('{:<10d}{:<10f}{:<40s}{:<50s}'.format(i, integrator.clock, str(partlist[0].position), str(partlist[0].velocity)))\n",
    "    print('{:<10s}{:<10s}{:<40s}{:<50s}'.format(str(\" \"), str(\" \"), str(partlist[1].position), str(partlist[1].velocity)))\n",
    "    integrator.integrate(partlist)"
   ]
  },
  {
   "cell_type": "code",
   "execution_count": null,
   "metadata": {},
   "outputs": [],
   "source": []
  }
 ],
 "metadata": {
  "kernelspec": {
   "display_name": "Python 3",
   "language": "python",
   "name": "python3"
  },
  "language_info": {
   "codemirror_mode": {
    "name": "ipython",
    "version": 3
   },
   "file_extension": ".py",
   "mimetype": "text/x-python",
   "name": "python",
   "nbconvert_exporter": "python",
   "pygments_lexer": "ipython3",
   "version": "3.8.3"
  }
 },
 "nbformat": 4,
 "nbformat_minor": 2
}
