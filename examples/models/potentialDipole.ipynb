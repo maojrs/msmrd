{
 "cells": [
  {
   "cell_type": "markdown",
   "metadata": {},
   "source": [
    "# Dipole potential \n",
    "\n",
    "Implempentation of a grid of 36 rod-like particles fixed in place with a dipole under an external constant isotropic eletric field. The direction of the dipole of each particle inverts its direction following a Markovian Switch given by a continuous-time Markvo state model (MSM)."
   ]
  },
  {
   "cell_type": "code",
   "execution_count": null,
   "metadata": {},
   "outputs": [],
   "source": [
    "import os\n",
    "import numpy as np\n",
    "import msmrd2\n",
    "import msmrd2.visualization as msmrdvis\n",
    "from msmrd2.markovModels import continuousTimeMarkovStateModel as ctmsm\n",
    "from msmrd2.potentials import dipole\n",
    "from msmrd2.integrators import overdampedLangevinMarkovSwitch as odLangevinMS"
   ]
  },
  {
   "cell_type": "code",
   "execution_count": null,
   "metadata": {},
   "outputs": [],
   "source": [
    "# Define continuous-time MSM\n",
    "MSMtype = 0\n",
    "ratematrix = np.array([[-3.0,3.0],[1.5,-1.5]])\n",
    "seed = 0 # Seed = -1 used random device as seed\n",
    "markovModel = ctmsm(MSMtype, ratematrix, seed)\n",
    "Dlist = np.array([0.0, 0.0])\n",
    "Drotlist = np.array([1.0, 1.0])\n",
    "markovModel.setD(Dlist)\n",
    "markovModel.setDrot(Drotlist)"
   ]
  },
  {
   "cell_type": "code",
   "execution_count": null,
   "metadata": {},
   "outputs": [],
   "source": [
    "# Particle list definition (creates 6x6 grid of particles)\n",
    "orientation = np.array([1,0,0,0])\n",
    "particlelist = 36*[None]\n",
    "# Create a grid of particles\n",
    "for i in range(6):\n",
    "    for j in range(6): \n",
    "        position = np.array([i-2.5,j-2.5,0])\n",
    "        state = np.random.randint(0,2)\n",
    "        part = msmrd2.particle(MSMtype, state, Dlist[state], Drotlist[state], position, orientation)   \n",
    "        orientVector = np.random.normal(0,1,3)\n",
    "        orientVector = orientVector/np.linalg.norm(orientVector)\n",
    "        part.setOrientVector(orientVector)\n",
    "        particlelist[6*i + j] = part\n",
    "# Define list object that can be read by pybound functions\n",
    "partlist = msmrd2.integrators.particleList(particlelist)"
   ]
  },
  {
   "cell_type": "code",
   "execution_count": null,
   "metadata": {},
   "outputs": [],
   "source": [
    "# Over-damped Langevin integrator with Markovian Switch definition\n",
    "dt = 0.001\n",
    "seed = -1 # seed = -1 uses random device as seed\n",
    "bodytype = \"rod\" # orientation has only two-degrees of freedom (vector on unit-sphere)\n",
    "integrator = odLangevinMS(markovModel, dt, seed, bodytype)"
   ]
  },
  {
   "cell_type": "code",
   "execution_count": null,
   "metadata": {},
   "outputs": [],
   "source": [
    "# Define and set potential\n",
    "scalefactor = 30.0\n",
    "Efieldvector = np.array([0,1,0])\n",
    "potentialDipole = dipole(scalefactor, Efieldvector)\n",
    "integrator.setExternalPotential(potentialDipole)"
   ]
  },
  {
   "cell_type": "code",
   "execution_count": null,
   "metadata": {},
   "outputs": [],
   "source": [
    "# Integrate the particles, save to .xyz to produce VMD output (additional overhead)\n",
    "datafile  = open('../../data/vmd/dipole.xyz', 'w')\n",
    "timeIters = 20000\n",
    "prevstate = [None] * len(partlist)\n",
    "for i in range(timeIters):\n",
    "    #datafile  = open('odLangevinDipole.xyz', 'w')\n",
    "    datafile.write(str(2*len(partlist)) + '\\n')\n",
    "    datafile.write(str(0) + '\\n')\n",
    "    for j, part in enumerate(partlist):\n",
    "        if part.state != prevstate[j] and prevstate[j] != None:\n",
    "            part.setOrientVector(-part.orientvector)\n",
    "        if part.state == 0:\n",
    "            v0 = part.position\n",
    "            v1 = v0 + 0.35*part.orientvector\n",
    "            v2 = v0 - 0.35*part.orientvector\n",
    "            datafile.write('type_0' + ' ' + ' '.join(map(str, v1)) + '\\n')\n",
    "            datafile.write('type_0' + ' ' + ' '.join(map(str, v2)) + '\\n')\n",
    "        elif part.state == 1:\n",
    "            v0 = part.position\n",
    "            v1 = v0 + 0.35*part.orientvector\n",
    "            v2 = v0 - 0.35*part.orientvector\n",
    "            datafile.write('type_1' + ' ' + ' '.join(map(str, v1)) + '\\n')\n",
    "            datafile.write('type_1' + ' ' + ' '.join(map(str, v2)) + '\\n')\n",
    "        prevstate[j] = 1*part.state\n",
    "    integrator.integrate(partlist)\n",
    "    if i%1000 == 0:\n",
    "        print(\"Percentage complete: \", 100*i/timeIters, \"%\", end=\"\\r\")\n",
    "datafile.close()\n",
    "print(\"Percentage complete: \", 100, \" %\")"
   ]
  },
  {
   "cell_type": "code",
   "execution_count": null,
   "metadata": {},
   "outputs": [],
   "source": [
    "# Generates tcl for VMD visualization all frames needs -1 (Note vmd assigns the color depending on the initial\n",
    "# state. However it cannot change colors during the same session, so particles wont change color when\n",
    "# changing state.\n",
    "msmrdvis.generateTCL_dipole(-1, outfname = \"dipole\", tclfname = \"../../data/vmd/dipole_2vmd.tcl\")"
   ]
  },
  {
   "cell_type": "markdown",
   "metadata": {},
   "source": [
    "To load the movie go to /data/vmd and run in a terminal \"vmd -e potentialDipole_2vmd.tcl\".\n",
    "\n",
    "## In case VMD is not desired\n",
    "\n",
    "In case VMD output is not desired, below we simply integrate the model and show the output directly."
   ]
  },
  {
   "cell_type": "code",
   "execution_count": null,
   "metadata": {},
   "outputs": [],
   "source": [
    "# Integrate the particle and print data\n",
    "timeIters = 100\n",
    "part1list = msmrd2.integrators.particleList([part])\n",
    "print('{:<10s}{:<10s}{:<40s}{:<40s}'.format(\"Iteration\", \"Time\", \"Position 1\", \"Orientation 1\"))\n",
    "for i in range(timeIters):\n",
    "    print('{:<10d}{:<10f}{:<40s}{:<40s}'.format(i, integrator.clock, str(part1list[0].position), str(part1list[0].orientation)))\n",
    "    integrator.integrate(part1list)"
   ]
  }
 ],
 "metadata": {
  "kernelspec": {
   "display_name": "Python 3",
   "language": "python",
   "name": "python3"
  },
  "language_info": {
   "codemirror_mode": {
    "name": "ipython",
    "version": 3
   },
   "file_extension": ".py",
   "mimetype": "text/x-python",
   "name": "python",
   "nbconvert_exporter": "python",
   "pygments_lexer": "ipython3",
   "version": "3.8.3"
  }
 },
 "nbformat": 4,
 "nbformat_minor": 2
}
