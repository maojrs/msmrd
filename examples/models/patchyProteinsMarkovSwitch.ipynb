{
 "cells": [
  {
   "cell_type": "code",
   "execution_count": null,
   "metadata": {},
   "outputs": [],
   "source": [
    "import numpy as np\n",
    "import matplotlib.pyplot as plt\n",
    "import msmrd2\n",
    "import msmrd2.tools.quaternions as quats\n",
    "import msmrd2.visualization as msmrdvis\n",
    "from msmrd2.markovModels import continuousTimeMarkovStateModel as ctmsm\n",
    "from msmrd2.potentials import patchyProteinMarkovSwitch\n",
    "from msmrd2.integrators import overdampedLangevinMarkovSwitch as odLangevinMS"
   ]
  },
  {
   "cell_type": "code",
   "execution_count": null,
   "metadata": {},
   "outputs": [],
   "source": [
    "# Define CTMSMs\n",
    "# MSM for particle type0\n",
    "MSMtype = 0\n",
    "seed = 0 # If seed = -1 uses random device as seed\n",
    "markovModel0 = ctmsm(MSMtype, seed) # If no rate matrix specified, yields ratematrix [[0]]\n",
    "D0list = np.array([1.0])\n",
    "Drot0list = np.array([1.0])\n",
    "markovModel0.setD(D0list)\n",
    "markovModel0.setDrot(Drot0list)\n",
    "\n",
    "# MSM for particle type1 \n",
    "MSMtype = 1\n",
    "ratematrix = np.array([[-0.5,0.5],[6.0,-6.0]])\n",
    "seed = 0 # If seed = -1 uses random device as seed\n",
    "markovModel1 = ctmsm(MSMtype, ratematrix, seed)\n",
    "D1list = np.array([0.5, 1.0])\n",
    "Drot1list = np.array([0.5, 1.0])\n",
    "markovModel1.setD(D1list)\n",
    "markovModel1.setDrot(Drot1list)\n",
    "\n",
    "# Create MSMlist\n",
    "MSMlist = [markovModel0, markovModel1] "
   ]
  },
  {
   "cell_type": "code",
   "execution_count": null,
   "metadata": {},
   "outputs": [],
   "source": [
    "# Particle definition\n",
    "numparticles = 2\n",
    "p1type = 0\n",
    "p2type = 1\n",
    "p1state = 0\n",
    "p2state = 1\n",
    "positions = [np.array([1.,0,0]), np.array([-1.,0.,0.])]\n",
    "orientations = [ np.array([1.,0.,0.,0.]), np.array([np.cos(np.pi/2),0.,0.,np.sin(np.pi/2)])]\n",
    "part1 = msmrd2.particle(p1type, p1state, D0list[p1state], Drot0list[p1state], positions[0], orientations[0])\n",
    "part2 = msmrd2.particle(p2type, p2state, D1list[p2state], Drot1list[p2state], positions[1], orientations[1])\n",
    "partlist = msmrd2.integrators.particleList([part1, part2])"
   ]
  },
  {
   "cell_type": "code",
   "execution_count": null,
   "metadata": {},
   "outputs": [],
   "source": [
    "# Over-damped Langevin integrator definition\n",
    "dt = 0.00001 #0.000005\n",
    "seed = 0 # If seed = -1 uses random device as seed\n",
    "bodytype = 'rigidbody' # Mix indicates there can be different types of rigidbody particles\n",
    "integrator = odLangevinMS(MSMlist, dt, seed, bodytype) \n",
    "integrator.setKbT(1.0)"
   ]
  },
  {
   "cell_type": "code",
   "execution_count": null,
   "metadata": {},
   "outputs": [],
   "source": [
    "# Define boundary (choose either spherical or box)\n",
    "radius = 2.0 #3.0\n",
    "sphereBoundary = msmrd2.sphere(radius,'reflective')\n",
    "integrator.setBoundary(sphereBoundary)"
   ]
  },
  {
   "cell_type": "code",
   "execution_count": null,
   "metadata": {},
   "outputs": [],
   "source": [
    "# Define Patchy Protein potential\n",
    "sigma = 1.0\n",
    "strength = 65\n",
    "# This values are fixed and should match those used to determine metastable states in potential and trajectory.\n",
    "patchesCoordinates1 = [np.array([1.,0.,0.]), \n",
    "                       np.array([0.,1.,0.]),\n",
    "                       np.array([0.,0.,1.]),\n",
    "                       np.array([-1.,0.,0.]),\n",
    "                       np.array([0.,-1.,0.]),\n",
    "                       np.array([0.,0.,-1.])]\n",
    "patchesCoordinates2 = [np.array([1.,0.,0.])]\n",
    "# Defines patchy protein potential\n",
    "potentialPatchyProteinMS = patchyProteinMarkovSwitch(sigma, strength, patchesCoordinates1, patchesCoordinates2)\n",
    "# Incorporate potential into integrator\n",
    "integrator.setPairPotential(potentialPatchyProteinMS)"
   ]
  },
  {
   "cell_type": "code",
   "execution_count": null,
   "metadata": {},
   "outputs": [],
   "source": [
    "# Integrate particle list and print only positions. Adds an extra far away particle to \n",
    "# emulate change of color/conformation since VMD can only handle a fixed number of particle with fixed types.\n",
    "timesteps = 500000 #50000000\n",
    "stride = 100 #10 #1000\n",
    "datafile  = open('../../data/vmd/patchyProteinsMS.xyz', 'w')\n",
    "farAwayPostion = np.array([30*radius, 0, 0])\n",
    "numSpheres2Draw= 15\n",
    "# Define reference vectors for plotting small protein\n",
    "refVec1 = np.array([0., 1., 0.])\n",
    "refVec2 = np.array([-1., 0., 0.])\n",
    "refVec3 = np.array([0., -1., 0.])\n",
    "refVec4 = np.array([0., 0., 1.])\n",
    "refVec5 = np.array([0., 0., -1.])\n",
    "# Loop over all timesteps, read data and output plot.\n",
    "for i in  range(timesteps):\n",
    "    if i%stride == 0:\n",
    "        datafile.write(str(numSpheres2Draw) + '\\n')\n",
    "        datafile.write(str(0) + '\\n')\n",
    "    for j, part in enumerate(partlist):\n",
    "        if i%stride == 0:\n",
    "            if part.type == 0:\n",
    "                v0 = part.position\n",
    "                v1 = v0 + 0.4*sigma*quats.rotateVec(patchesCoordinates1[0], part.orientation)\n",
    "                v2 = v0 + 0.3*sigma*quats.rotateVec(patchesCoordinates1[1], part.orientation)\n",
    "                v3 = v0 + 0.3*sigma*quats.rotateVec(patchesCoordinates1[2], part.orientation)\n",
    "                v4 = v0 + 0.3*sigma*quats.rotateVec(patchesCoordinates1[3], part.orientation)\n",
    "                v5 = v0 + 0.3*sigma*quats.rotateVec(patchesCoordinates1[4], part.orientation)\n",
    "                v6 = v0 + 0.3*sigma*quats.rotateVec(patchesCoordinates1[5], part.orientation)\n",
    "                # Main particle 1\n",
    "                datafile.write('type_0' + ' ' + ' '.join(map(str, v0)) + '\\n')\n",
    "                # Pacthes\n",
    "                datafile.write('type_2' + ' ' + ' '.join(map(str, v1)) + '\\n')\n",
    "                datafile.write('type_1' + ' ' + ' '.join(map(str, v2)) + '\\n')\n",
    "                datafile.write('type_1' + ' ' + ' '.join(map(str, v3)) + '\\n')\n",
    "                datafile.write('type_1' + ' ' + ' '.join(map(str, v4)) + '\\n')\n",
    "                datafile.write('type_1' + ' ' + ' '.join(map(str, v5)) + '\\n')\n",
    "                datafile.write('type_1' + ' ' + ' '.join(map(str, v6)) + '\\n')\n",
    "            if part.type == 1:\n",
    "                    v0 = part.position\n",
    "                    #if part.state == 0:\n",
    "                    v1 = v0 + 0.3*sigma*quats.rotateVec(patchesCoordinates2[0], part.orientation)\n",
    "                    v2 = v0 + 0.3*sigma*quats.rotateVec(refVec1, part.orientation)\n",
    "                    v3 = v0 + 0.3*sigma*quats.rotateVec(refVec2, part.orientation)\n",
    "                    v4 = v0 + 0.3*sigma*quats.rotateVec(refVec3, part.orientation)\n",
    "                    v5 = v0 + 0.3*sigma*quats.rotateVec(refVec4, part.orientation)\n",
    "                    v6 = v0 + 0.3*sigma*quats.rotateVec(refVec5, part.orientation)\n",
    "                    # Main particle 2\n",
    "                    datafile.write('type_3' + ' ' + ' '.join(map(str, v0)) + '\\n')\n",
    "                    datafile.write('type_3' + ' ' + ' '.join(map(str, v1)) + '\\n')\n",
    "                    datafile.write('type_3' + ' ' + ' '.join(map(str, v2)) + '\\n')\n",
    "                    datafile.write('type_3' + ' ' + ' '.join(map(str, v3)) + '\\n')\n",
    "                    datafile.write('type_3' + ' ' + ' '.join(map(str, v4)) + '\\n')\n",
    "                    datafile.write('type_3' + ' ' + ' '.join(map(str, v5)) + '\\n')\n",
    "                    datafile.write('type_3' + ' ' + ' '.join(map(str, v6)) + '\\n')\n",
    "                    if part.state == 1:\n",
    "                        datafile.write('type_4' + ' ' + ' '.join(map(str, farAwayPostion)) + '\\n')\n",
    "                    else:\n",
    "                        datafile.write('type_4' + ' ' + ' '.join(map(str, v1)) + '\\n')\n",
    "                    \n",
    "    integrator.integrate(partlist)\n",
    "    if i%5000 == 0:\n",
    "        print(\"Percentage complete: \", 100*i/timesteps, \"%\", end=\"\\r\")\n",
    "datafile.close()\n",
    "# Generate TCL script to visualize with VMD\n",
    "msmrdvis.generateTCL_patchyProteinsMSV2(numparticles = numparticles, tclfname = \"../../data/vmd/patchyProteinsMS2vmd.tcl\")\n",
    "print(\"Percentage complete: \", 100, \" %\")"
   ]
  },
  {
   "cell_type": "code",
   "execution_count": null,
   "metadata": {},
   "outputs": [],
   "source": [
    "msmrdvis.generateTCL_patchyProteinsMSV2(numparticles = numparticles, tclfname = \"../../data/vmd/patchyProteinsMS2vmd.tcl\")"
   ]
  },
  {
   "cell_type": "code",
   "execution_count": null,
   "metadata": {},
   "outputs": [],
   "source": [
    "## Old version of plotting patchy proteinMS\n",
    "# v0 = part.position\n",
    "# if part.state == 0:\n",
    "#     v1 = v0 + 0.4*sigma*quats.rotateVec(patchesCoordinates2[0], part.orientation)\n",
    "#     # Main particle 2\n",
    "#     datafile.write('type_0' + ' ' + ' '.join(map(str, v0)) + '\\n')\n",
    "#     datafile.write('type_3' + ' ' + ' '.join(map(str, farAwayPostion)) + '\\n')\n",
    "#     # Patch\n",
    "#     datafile.write('type_2' + ' ' + ' '.join(map(str, v1)) + '\\n')\n",
    "#     datafile.write('type_4' + ' ' + ' '.join(map(str, farAwayPostion)) + '\\n')\n",
    "\n",
    "# else:\n",
    "#     v1 = v0 + 0.4*sigma*quats.rotateVec(patchesCoordinates2[0], part.orientation)\n",
    "#     # Main particle 2\n",
    "#     datafile.write('type_0' + ' ' + ' '.join(map(str, farAwayPostion)) + '\\n')\n",
    "#     datafile.write('type_3' + ' ' + ' '.join(map(str, v0)) + '\\n')\n",
    "#     # Patch\n",
    "#     datafile.write('type_2' + ' ' + ' '.join(map(str, farAwayPostion)) + '\\n')\n",
    "#     datafile.write('type_4' + ' ' + ' '.join(map(str, v1)) + '\\n')"
   ]
  },
  {
   "cell_type": "code",
   "execution_count": null,
   "metadata": {},
   "outputs": [],
   "source": []
  }
 ],
 "metadata": {
  "kernelspec": {
   "display_name": "Python [default]",
   "language": "python",
   "name": "python3"
  },
  "language_info": {
   "codemirror_mode": {
    "name": "ipython",
    "version": 3
   },
   "file_extension": ".py",
   "mimetype": "text/x-python",
   "name": "python",
   "nbconvert_exporter": "python",
   "pygments_lexer": "ipython3",
   "version": "3.6.7"
  }
 },
 "nbformat": 4,
 "nbformat_minor": 2
}
