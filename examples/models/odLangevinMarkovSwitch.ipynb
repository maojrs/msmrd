{
 "cells": [
  {
   "cell_type": "code",
   "execution_count": null,
   "metadata": {},
   "outputs": [],
   "source": [
    "import numpy as np\n",
    "import msmrd2\n",
    "from msmrd2.markovModels import continuousTimeMarkovStateModel as ctmsm\n",
    "from msmrd2.integrators import overdampedLangevinMarkovSwitch as odLangevinMS "
   ]
  },
  {
   "cell_type": "code",
   "execution_count": null,
   "metadata": {},
   "outputs": [],
   "source": [
    "# Define continuous-time MSM\n",
    "MSMtype = 1\n",
    "ratematrix = np.array([[-5.0,2.0,3.0],[1.0,-2.0,1.0],[3.3,5.4,-8.7]])\n",
    "seed = 0 # Seed = -1 used random device as seed\n",
    "markovModel = ctmsm(MSMtype, ratematrix, seed)\n",
    "Dlist = np.array([1.0, 3.0, 2.0])\n",
    "Drotlist = np.array([0.5, 0.2, 0.1])\n",
    "markovModel.setD(Dlist)\n",
    "markovModel.setDrot(Drotlist)"
   ]
  },
  {
   "cell_type": "code",
   "execution_count": null,
   "metadata": {},
   "outputs": [],
   "source": [
    "# Particle definition\n",
    "ptype = 0\n",
    "pstate = 0\n",
    "D = Dlist[pstate]\n",
    "Drot = Drotlist[pstate]\n",
    "position = np.array([1,1,1])\n",
    "orientation = np.array([1,0,0,0])\n",
    "part1 = msmrd2.particle(ptype, pstate, D, Drot, position, orientation)"
   ]
  },
  {
   "cell_type": "code",
   "execution_count": null,
   "metadata": {},
   "outputs": [],
   "source": [
    "# Over-damped Langevin integrator with Markovian switch definition\n",
    "dt = 0.05 # should be smaller than Gillespie inverse transition rates\n",
    "seed = 0 # Seed = -1 used random device as seed\n",
    "bodytype = 'rigidbody'\n",
    "integrator1 = odLangevinMS(markovModel, dt, seed, bodytype) \n",
    "# Create second integrator for list integration\n",
    "integrator2 = odLangevinMS(markovModel, dt, seed, bodytype) "
   ]
  },
  {
   "cell_type": "code",
   "execution_count": null,
   "metadata": {},
   "outputs": [],
   "source": [
    "# Integrate only one particle and print position and orientation\n",
    "timesteps = 50\n",
    "# Need to define a one particle list (note part1 object is not modified when list is modified)\n",
    "part1list = msmrd2.integrators.particleList([part1])\n",
    "print('{:<10s}{:<15s}{:<15s}{:<15s}{:<15s}{:<40s}'.format(\"Iteration\", \"Time\", \"State\", \"D\", \"Drot\", \"Position 1\"))\n",
    "for i in range(timesteps):\n",
    "    print('{:<10d}{:<15f}{:<15d}{:<15f}{:<15f}{:<40s}'\n",
    "          .format(i, integrator1.clock, part1list[0].state, part1list[0].D, part1list[0].Drot, str(part1list[0].position)))\n",
    "    integrator1.integrate(part1list)"
   ]
  },
  {
   "cell_type": "code",
   "execution_count": null,
   "metadata": {},
   "outputs": [],
   "source": [
    "# For a list of particles\n",
    "pairInteractions = False\n",
    "position2 = np.array([2,2,2])\n",
    "part1 = msmrd2.particle(ptype, pstate, D, Drot, position, orientation)\n",
    "part2 = msmrd2.particle(ptype, pstate, D, Drot, position2, orientation)\n",
    "partlist = msmrd2.integrators.particleList([part1,part2])\n",
    "# Integrate particle list and print only positions (with integratelist)\n",
    "t = 0\n",
    "timesteps = 50\n",
    "print('{:<10s}{:^10s}{:<40s}{:^15s}{:<30s}'.format(\"Time\", \"State 1\", \"Position 1\", \"State 2\", \"Position2\"))\n",
    "for i in range(timesteps):\n",
    "    print('{:<10f}{:^10d}{:<40s}{:^15d}{:<30s}'\n",
    "          .format(integrator2.clock, partlist[0].state, str(partlist[0].position), partlist[1].state, str(partlist[1].position)))\n",
    "    integrator2.integrate(partlist)"
   ]
  },
  {
   "cell_type": "code",
   "execution_count": null,
   "metadata": {},
   "outputs": [],
   "source": []
  }
 ],
 "metadata": {
  "kernelspec": {
   "display_name": "Python [default]",
   "language": "python",
   "name": "python3"
  },
  "language_info": {
   "codemirror_mode": {
    "name": "ipython",
    "version": 3
   },
   "file_extension": ".py",
   "mimetype": "text/x-python",
   "name": "python",
   "nbconvert_exporter": "python",
   "pygments_lexer": "ipython3",
   "version": "3.6.7"
  }
 },
 "nbformat": 4,
 "nbformat_minor": 2
}
