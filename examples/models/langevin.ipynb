{
 "cells": [
  {
   "cell_type": "markdown",
   "metadata": {},
   "source": [
    "# Langevin integrator\n",
    "\n",
    "Simple implementation of two particles following Langevin dynamics"
   ]
  },
  {
   "cell_type": "code",
   "execution_count": null,
   "metadata": {},
   "outputs": [],
   "source": [
    "import numpy as np\n",
    "import msmrd2\n",
    "from msmrd2.integrators import langevinBAOAB"
   ]
  },
  {
   "cell_type": "code",
   "execution_count": null,
   "metadata": {},
   "outputs": [],
   "source": [
    "# Particles definition (diffusion coefficients, initial configurations)\n",
    "particleMass = 1.0\n",
    "position = np.array([1,1,1])\n",
    "position2 = np.array([2,2,2])\n",
    "velocity = np.array([0.05,0,0])\n",
    "velocity2 = np.array([-0.05,0,0])\n",
    "# Note particles for Langevin use different constructor specifications\n",
    "part1 = msmrd2.particle(position, velocity, particleMass)\n",
    "part2 = msmrd2.particle(position2, velocity2, particleMass)"
   ]
  },
  {
   "cell_type": "code",
   "execution_count": null,
   "metadata": {},
   "outputs": [],
   "source": [
    "# Create list of particles to be integrated\n",
    "# note the particles in the list will be independent from the original ones.\n",
    "partlist = msmrd2.integrators.particleList([part1,part2])"
   ]
  },
  {
   "cell_type": "code",
   "execution_count": null,
   "metadata": {},
   "outputs": [],
   "source": [
    "# Over-damped Langevin integrator definition\n",
    "dt = 0.001\n",
    "seed = -1 # Seed = -1 used random device as seed\n",
    "Gamma = 1.0\n",
    "bodytype = 'point'\n",
    "integrator = langevinBAOAB(dt, seed, bodytype, Gamma) "
   ]
  },
  {
   "cell_type": "code",
   "execution_count": null,
   "metadata": {},
   "outputs": [],
   "source": [
    "# Integrate particle list and print only positions (prints positions and orientations of both particles)\n",
    "timesteps = 100\n",
    "print('{:<10s}{:<15s}{:<40s}{:<40s}'.format(\"Iteration\", \"Time\", \"Positions\", \"Velocites\"))\n",
    "for i in range(timesteps):\n",
    "    print('{:<10d}{:<10f}{:<40s}{:<50s}'.format(i, integrator.clock, str(partlist[0].position), str(partlist[0].velocity)))\n",
    "    print('{:<10s}{:<10s}{:<40s}{:<50s}'.format(str(\" \"), str(\" \"), str(partlist[1].position), str(partlist[1].velocity)))\n",
    "    integrator.integrate(partlist)"
   ]
  },
  {
   "cell_type": "code",
   "execution_count": null,
   "metadata": {},
   "outputs": [],
   "source": []
  }
 ],
 "metadata": {
  "kernelspec": {
   "display_name": "Python 3",
   "language": "python",
   "name": "python3"
  },
  "language_info": {
   "codemirror_mode": {
    "name": "ipython",
    "version": 3
   },
   "file_extension": ".py",
   "mimetype": "text/x-python",
   "name": "python",
   "nbconvert_exporter": "python",
   "pygments_lexer": "ipython3",
   "version": "3.8.3"
  }
 },
 "nbformat": 4,
 "nbformat_minor": 2
}
