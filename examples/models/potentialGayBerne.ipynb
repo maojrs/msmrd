{
 "cells": [
  {
   "cell_type": "markdown",
   "metadata": {},
   "source": [
    "# Gay Berne potential \n",
    "\n",
    "Implempentation of freely diffusing rod-like particles with pair interactions given by the Gay-Berne potential. "
   ]
  },
  {
   "cell_type": "code",
   "execution_count": null,
   "metadata": {},
   "outputs": [],
   "source": [
    "import numpy as np\n",
    "import msmrd2\n",
    "import msmrd2.visualization as msmrdvis\n",
    "from msmrd2.integrators import overdampedLangevin as odLangevin\n",
    "from msmrd2.potentials import gayBerne\n",
    "import matplotlib.pyplot as plt\n",
    "%matplotlib inline"
   ]
  },
  {
   "cell_type": "code",
   "execution_count": null,
   "metadata": {},
   "outputs": [],
   "source": [
    "# Define arbitrarily large list of rod-like particles\n",
    "numparticles = 100\n",
    "boxsize = 35\n",
    "D = 1.0\n",
    "Drot = 1.0\n",
    "pyPartlist = [] \n",
    "for i in range(numparticles):\n",
    "    overlap = True\n",
    "    while overlap:\n",
    "        position = np.array([boxsize*np.random.rand()-0.5*boxsize,\n",
    "                             boxsize*np.random.rand()-0.5*boxsize,\n",
    "                             boxsize*np.random.rand()-0.5*boxsize])\n",
    "        overlap = False\n",
    "        # Comment if statement for box boundary\n",
    "        #if np.linalg.norm(position) > radius:\n",
    "        #        overlap = True\n",
    "        #        continue     \n",
    "        for j in range(len(pyPartlist)):\n",
    "            if np.linalg.norm(position - pyPartlist[j].position) < 3.0:\n",
    "                overlap = True\n",
    "                continue\n",
    "    orientation = np.array([np.random.rand(),np.random.rand(),np.random.rand(),np.random.rand()])\n",
    "    orientation = orientation/np.linalg.norm(orientation)\n",
    "    #orientation = np.array([np.cos(np.pi/4.0), np.sin(np.pi/4), 0.0, 0.0]) #Rotate 90 degrees in x axis\n",
    "    part = msmrd2.particle(D, Drot, position, orientation)\n",
    "    pyPartlist.append(part)"
   ]
  },
  {
   "cell_type": "code",
   "execution_count": null,
   "metadata": {},
   "outputs": [],
   "source": [
    "# Create list of particles that can be read from msmrd\n",
    "# Note the particles in this list will be independent from the python list.\n",
    "partlist = msmrd2.integrators.particleList(pyPartlist)"
   ]
  },
  {
   "cell_type": "code",
   "execution_count": null,
   "metadata": {},
   "outputs": [],
   "source": [
    "# Over-damped Langevin integrator definition\n",
    "dt = 0.000005\n",
    "seed = 0 # Seed = -1 used random device as seed\n",
    "bodytype = 'rod'\n",
    "integrator = odLangevin(dt, seed, bodytype) \n",
    "integrator.setKbT(0.1)"
   ]
  },
  {
   "cell_type": "code",
   "execution_count": null,
   "metadata": {},
   "outputs": [],
   "source": [
    "# Define boundary (choose either spherical or box)\n",
    "# sphericalBoundary = msmrd2.sphere(radius,'reflective')\n",
    "boxBoundary = msmrd2.box(boxsize,boxsize,boxsize,'reflective')\n",
    "integrator.setBoundary(boxBoundary)"
   ]
  },
  {
   "cell_type": "code",
   "execution_count": null,
   "metadata": {},
   "outputs": [],
   "source": [
    "# Define Gay Berne potential\n",
    "potentialGB = gayBerne(3.0,5.0,5.0,1.0)\n",
    "integrator.setPairPotential(potentialGB)"
   ]
  },
  {
   "cell_type": "code",
   "execution_count": null,
   "metadata": {},
   "outputs": [],
   "source": [
    "# Integrate the particles, save to .xyz to produce VMD output (additional overhead)\n",
    "timesteps = 20000\n",
    "stride = 20\n",
    "datafile  = open('../../data/vmd/potentialGayBerne.xyz', 'w')\n",
    "for i in range(timesteps):\n",
    "    if i%stride == 0:\n",
    "        datafile.write(str(2*len(partlist)) + '\\n')\n",
    "        datafile.write(str(0) + '\\n')\n",
    "    for j, part in enumerate(partlist):\n",
    "        v0 = part.position\n",
    "        v1 = v0 + 1.7*part.orientvector\n",
    "        v2 = v0 - 1.7*part.orientvector\n",
    "        if i%stride == 0:\n",
    "            datafile.write('type_0' + ' ' + ' '.join(map(str, v1)) + '\\n')\n",
    "            datafile.write('type_0' + ' ' + ' '.join(map(str, v2)) + '\\n')\n",
    "    integrator.integrate(partlist)\n",
    "    if i%1000 == 0:\n",
    "        print(\"Percentage complete: \", 100*i/timesteps, \"%\", end=\"\\r\")\n",
    "datafile.close()\n",
    "print(\"Percentage complete: \", 100, \" %\")"
   ]
  },
  {
   "cell_type": "code",
   "execution_count": null,
   "metadata": {},
   "outputs": [],
   "source": [
    "# Generate TCL script to visualize with VMD\n",
    "msmrdvis.generateTCL_gayBerne(numparticles = numparticles, outfname = \"potentialGayBerne\", \n",
    "                              tclfname = \"../../data/vmd/potentialGayBerne_2vmd.tcl\")"
   ]
  },
  {
   "cell_type": "markdown",
   "metadata": {},
   "source": [
    "To load the movie go to /data/vmd and run in a terminal \"vmd -e potentialGayBerne_2vmd.tcl\".\n",
    "\n",
    "\n",
    "## In case VMD is not desired\n",
    "\n",
    "In case VMD output is not desired, below we simply integrate the model and show the output directly."
   ]
  },
  {
   "cell_type": "code",
   "execution_count": null,
   "metadata": {},
   "outputs": [],
   "source": [
    "# Integrate particle list and print only positions of first and last particle in list\n",
    "timesteps = 100\n",
    "print('{:<10s}{:<15s}{:<40s}{:<40s}'.format(\"Iteration\", \"Time\", \"Position 1\", \"Position2\"))\n",
    "for i in range(timesteps):\n",
    "    print('{:<10d}{:<15f}{:<40s}{:<50s}'.format(i, integrator.clock, str(partlist[0].position), str(partlist[numparticles-1].position)))\n",
    "    integrator.integrate(partlist)"
   ]
  }
 ],
 "metadata": {
  "kernelspec": {
   "display_name": "Python 3",
   "language": "python",
   "name": "python3"
  },
  "language_info": {
   "codemirror_mode": {
    "name": "ipython",
    "version": 3
   },
   "file_extension": ".py",
   "mimetype": "text/x-python",
   "name": "python",
   "nbconvert_exporter": "python",
   "pygments_lexer": "ipython3",
   "version": "3.8.3"
  }
 },
 "nbformat": 4,
 "nbformat_minor": 2
}
