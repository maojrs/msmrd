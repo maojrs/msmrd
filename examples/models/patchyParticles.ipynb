{
 "cells": [
  {
   "cell_type": "markdown",
   "metadata": {},
   "source": [
    "# Patchy particles potential \n",
    "\n",
    "Implempentation of five freely diffusing patchy particles (rigid bodies) with two patches each and pair interactions given by the patchy particle potential defined in the main code. In principle, with the current seeds, it will generate a pentameric ring formation. If it does not, you might have different versions of c++ or python."
   ]
  },
  {
   "cell_type": "code",
   "execution_count": null,
   "metadata": {},
   "outputs": [],
   "source": [
    "import numpy as np\n",
    "import matplotlib.pyplot as plt\n",
    "import msmrd2\n",
    "import msmrd2.tools.quaternions as quats\n",
    "import msmrd2.visualization as msmrdvis\n",
    "from msmrd2.potentials import patchyParticle\n",
    "from msmrd2.integrators import overdampedLangevin as odLangevin"
   ]
  },
  {
   "cell_type": "code",
   "execution_count": null,
   "metadata": {},
   "outputs": [],
   "source": [
    "# Define arbitrarily large list of patchy particles\n",
    "np.random.seed(seed=1) # seed 1 good used for pentameric ring formation \n",
    "numparticles = 5\n",
    "boxsize = 3\n",
    "D = 1.0\n",
    "Drot = 1.0\n",
    "pyPartlist = [] \n",
    "positionList = [np.array([-1.0,0,0]), np.array([0.,0.,0.]), np.array([1.0,0.,0.]), \n",
    "                np.array([2.0,0.,0.]), np.array([3.0,0.,0.])]\n",
    "orientationList = [ np.array([1.,0.,0.,0.]), np.array([np.cos(np.pi/2),0.,0.,np.sin(np.pi/2)])]\n",
    "\n",
    "for i in range(numparticles):\n",
    "    \n",
    "    overlap = True\n",
    "    while overlap:\n",
    "        position = np.array([boxsize*np.random.rand()-0.5*boxsize,\n",
    "                             boxsize*np.random.rand()-0.5*boxsize,\n",
    "                             boxsize*np.random.rand()-0.5*boxsize])\n",
    "        overlap = False     \n",
    "        for j in range(len(pyPartlist)):\n",
    "            if np.linalg.norm(position - pyPartlist[j].position) < 2.0:\n",
    "                overlap = True\n",
    "                continue\n",
    "                \n",
    "    orientation = np.array([np.random.rand(),np.random.rand(),np.random.rand(),np.random.rand()])\n",
    "    orientation = orientation/np.linalg.norm(orientation)\n",
    "    part = msmrd2.particle(D, Drot, position, orientation)\n",
    "    pyPartlist.append(part)"
   ]
  },
  {
   "cell_type": "code",
   "execution_count": null,
   "metadata": {},
   "outputs": [],
   "source": [
    "# Create list of particles that can be read from msmrd\n",
    "# note the particles in this list will be independent from the python list.\n",
    "partlist = msmrd2.integrators.particleList(pyPartlist)"
   ]
  },
  {
   "cell_type": "code",
   "execution_count": null,
   "metadata": {},
   "outputs": [],
   "source": [
    "# Over-damped Langevin integrator definition\n",
    "dt = 0.00001 #0.000005\n",
    "seed = 2 # seed 2 good used for pentameric ring formation; seed = -1 uses random device as seed\n",
    "bodytype = 'rigidbody' # three rotational degrees of freedom\n",
    "integrator = odLangevin(dt, seed, bodytype) \n",
    "integrator.setKbT(0.1)"
   ]
  },
  {
   "cell_type": "code",
   "execution_count": null,
   "metadata": {},
   "outputs": [],
   "source": [
    "# Define boundary (choose either spherical or box)\n",
    "sphereBoundary = msmrd2.sphere(boxsize,'reflective')\n",
    "integrator.setBoundary(sphereBoundary)"
   ]
  },
  {
   "cell_type": "code",
   "execution_count": null,
   "metadata": {},
   "outputs": [],
   "source": [
    "# Define Patchy Particle potential\n",
    "sigma = 1.0\n",
    "strength = 200.0\n",
    "patch1 = np.array([1.,0.,0.])\n",
    "patch2 = np.array([np.cos(3*np.pi/5.0),np.sin(3*np.pi/5.0),0.])\n",
    "patchesCoordinates = [patch1, patch2]\n",
    "potentialPatchyParticle = patchyParticle(sigma, strength, patchesCoordinates)\n",
    "integrator.setPairPotential(potentialPatchyParticle)"
   ]
  },
  {
   "cell_type": "code",
   "execution_count": null,
   "metadata": {},
   "outputs": [],
   "source": [
    "# Integrate the particles, save to .xyz to produce VMD output (additional overhead)\n",
    "timesteps = 5000000\n",
    "stride = 2500 #1000\n",
    "datafile  = open('../../data/vmd/patchyParticles.xyz', 'w')\n",
    "for i in range(timesteps):\n",
    "    if i%stride == 0:\n",
    "        datafile.write(str(3*len(partlist)) + '\\n')\n",
    "        datafile.write(str(0) + '\\n')\n",
    "    for j, part in enumerate(partlist):\n",
    "        if i%stride == 0:\n",
    "            v0 = part.position\n",
    "            v1 = v0 + 0.5*sigma*quats.rotateVec(patchesCoordinates[0], part.orientation)\n",
    "            v2 = v0 + 0.5*sigma*quats.rotateVec(patchesCoordinates[1], part.orientation)\n",
    "            datafile.write('type_0' + ' ' + ' '.join(map(str, v0)) + '\\n')\n",
    "            datafile.write('type_1' + ' ' + ' '.join(map(str, v1)) + '\\n')\n",
    "            datafile.write('type_1' + ' ' + ' '.join(map(str, v2)) + '\\n')\n",
    "    integrator.integrate(partlist)\n",
    "    if i%5000 == 0:\n",
    "        print(\"Percentage complete: \", 100*i/timesteps, \"%\", end=\"\\r\")\n",
    "datafile.close()\n",
    "# Generate TCL script to visualize with VMD\n",
    "msmrdvis.generateTCL_patchyParticles(numparticles = numparticles, \n",
    "                                     outfname = \"patchyParticles\", \n",
    "                                     tclfname = \"../../data/vmd/patchyParticles_2vmd.tcl\")\n",
    "print(\"Percentage complete: \", 100, \" %\")"
   ]
  },
  {
   "cell_type": "markdown",
   "metadata": {},
   "source": [
    "To load the movie go to /data/vmd and run in a terminal \"vmd -e patchyPacrticles_2vmd.tcl\".\n",
    "\n",
    "## In case VMD is not desired\n",
    "\n",
    "In case VMD output is not desired, below we simply integrate the model and show the output directly."
   ]
  },
  {
   "cell_type": "code",
   "execution_count": null,
   "metadata": {},
   "outputs": [],
   "source": [
    "# Integrate particle list and print only positions of first and last particle in list\n",
    "timesteps = 10\n",
    "print('{:<10s}{:<15s}{:<40s}{:<40s}'.format(\"Iteration\", \"Time\", \"Position (first particle)\", \"Position (last particle)\"))\n",
    "for i in range(timesteps):\n",
    "    print('{:<10d}{:<15f}{:<40s}{:<50s}'.format(i, integrator.clock, str(partlist[0].position), str(partlist[numparticles-1].position)))\n",
    "    integrator.integrate(partlist)"
   ]
  },
  {
   "cell_type": "markdown",
   "metadata": {},
   "source": [
    "# Calculate potential and plot\n",
    "\n",
    "Plots the potential for the aligned and misaligned case"
   ]
  },
  {
   "cell_type": "code",
   "execution_count": null,
   "metadata": {},
   "outputs": [],
   "source": [
    "# Calculate potential for aligned and misaligned molecules\n",
    "def patchyParticlesEvaluate(p1,p2,or1,or2):\n",
    "    part1 = msmrd2.particle(1.0, 1.0, p1, or1)\n",
    "    part2 = msmrd2.particle(1.0, 1.0, p2, or2)\n",
    "    return potentialPatchyParticle.evaluate(part1, part2)\n",
    "\n",
    "dist = np.arange(0, 2*sigma, 0.01)\n",
    "pos1 = np.array([0., 0., 0.])\n",
    "pos2 = np.array([[i, 0., 0.] for i in dist])\n",
    "phi1 = 0.0\n",
    "phi2 = np.pi\n",
    "phi1p = np.pi\n",
    "phi2p = 0.0\n",
    "u = np.array([0.,0.,1.]) #rotationAxis\n",
    "# Quaternions that rotate phi along axis u\n",
    "theta1 = np.array([np.cos(0.5*phi1 ),\n",
    "                   np.sin(0.5*phi1 )*u[0],\n",
    "                   np.sin(0.5*phi1 )*u[1],\n",
    "                   np.sin(0.5*phi1 )*u[2]]) \n",
    "theta2 = np.array([np.cos(0.5*phi2 ),\n",
    "                   np.sin(0.5*phi2 )*u[0],\n",
    "                   np.sin(0.5*phi2 )*u[1],\n",
    "                   np.sin(0.5*phi2 )*u[2]]) \n",
    "theta1p = np.array([np.cos(0.5*phi1p ),\n",
    "                   np.sin(0.5*phi1p )*u[0],\n",
    "                   np.sin(0.5*phi1p )*u[1],\n",
    "                   np.sin(0.5*phi1p )*u[2]]) \n",
    "theta2p = np.array([np.cos(0.5*phi2p ),\n",
    "                   np.sin(0.5*phi2p )*u[0],\n",
    "                   np.sin(0.5*phi2p )*u[1],\n",
    "                   np.sin(0.5*phi2p )*u[2]]) \n",
    "\n",
    "potantialAligned = [patchyParticlesEvaluate(pos1,p2,theta1,theta2) for p2 in pos2]\n",
    "potantialMisaligned = [patchyParticlesEvaluate(pos1,p2,theta1p,theta2p) for p2 in pos2]"
   ]
  },
  {
   "cell_type": "code",
   "execution_count": null,
   "metadata": {},
   "outputs": [],
   "source": [
    "# Plot potential\n",
    "plt.figure(figsize=(7,5))\n",
    "fsize = 22\n",
    "plt.rcParams.update({'font.size': fsize})\n",
    "plt.plot(dist, potantialAligned, label = r'aligned', lw =2)\n",
    "plt.plot(dist, potantialMisaligned, label = r'misaligned', lw=2)\n",
    "plt.plot(dist, 0*dist, '--k', lw=0.5)\n",
    "#plt.legend(fancybox=True)\n",
    "plt.legend(fontsize=28, labelspacing=2, framealpha=1.0, edgecolor='white', fancybox=True, bbox_to_anchor=(1.3, 1.0))\n",
    "plt.xlim([0,2*sigma])\n",
    "plt.xlabel(r'Relative distance')\n",
    "plt.ylabel(r'Potential')\n",
    "plt.yticks([])\n",
    "#plt.savefig('patchyParticles_potential.pdf', bbox_inches='tight')"
   ]
  },
  {
   "cell_type": "code",
   "execution_count": null,
   "metadata": {},
   "outputs": [],
   "source": []
  }
 ],
 "metadata": {
  "kernelspec": {
   "display_name": "Python 3",
   "language": "python",
   "name": "python3"
  },
  "language_info": {
   "codemirror_mode": {
    "name": "ipython",
    "version": 3
   },
   "file_extension": ".py",
   "mimetype": "text/x-python",
   "name": "python",
   "nbconvert_exporter": "python",
   "pygments_lexer": "ipython3",
   "version": "3.8.3"
  }
 },
 "nbformat": 4,
 "nbformat_minor": 2
}
