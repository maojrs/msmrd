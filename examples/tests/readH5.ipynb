{
 "cells": [
  {
   "cell_type": "code",
   "execution_count": null,
   "metadata": {},
   "outputs": [],
   "source": [
    "import h5py\n",
    "import numpy as np\n",
    "import os\n",
    "np.set_printoptions(threshold=np.inf)"
   ]
  },
  {
   "cell_type": "code",
   "execution_count": null,
   "metadata": {},
   "outputs": [],
   "source": [
    "# Load H5 file into python\n",
    "#filename = '../../data/dimer/60strength/simDimer_0000_discrete_debug_test.h5'\n",
    "#filename = '../../data/patchyProtein/benchmark/simPatchyProtein_0018.h5'\n",
    "#filename = '../../data/testPatchyProtein/benchmark/simPatchyProtein_0076_discrete.h5'\n",
    "#filename = '../../data/testPatchyProtein/benchmark_t6E6_s25_new_equaldiff/simPatchyProtein_0078.h5'\n",
    "#filename = '../../data/patchyProtein/benchmark/simPatchyProtein_0258.h5'\n",
    "#filename = '../../data/MAPK/benchmark_kinase/simMAPK_0000.h5'\n",
    "filename = os.environ.get('DATA') + 'stochasticClosure/dimer/boxsize8/benchmark/simMoriZwanzig_0000.h5'\n",
    "\n",
    "f = h5py.File(filename, 'r')\n",
    "\n",
    "# List all groups (use the firs key)\n",
    "print(\"Keys: %s\" % list(f.keys()))\n",
    "a_group_key = list(f.keys())[0]\n",
    "\n",
    "# Get the data (different possibilities)\n",
    "# data = list(f[a_group_key])\n",
    "# data = np.array(f[a_group_key])\n",
    "# data = f[a_group_key]\n",
    "data = f[a_group_key]"
   ]
  },
  {
   "cell_type": "code",
   "execution_count": null,
   "metadata": {},
   "outputs": [],
   "source": [
    "a = np.array(data)"
   ]
  },
  {
   "cell_type": "code",
   "execution_count": null,
   "metadata": {},
   "outputs": [],
   "source": [
    "a[0:10]"
   ]
  },
  {
   "cell_type": "code",
   "execution_count": null,
   "metadata": {},
   "outputs": [],
   "source": [
    "a[2*200150:2*200160]"
   ]
  },
  {
   "cell_type": "code",
   "execution_count": null,
   "metadata": {},
   "outputs": [],
   "source": [
    "for i in range(200):\n",
    "    print(i, a[a==i].size)"
   ]
  },
  {
   "cell_type": "code",
   "execution_count": null,
   "metadata": {},
   "outputs": [],
   "source": [
    "data = f[a_group_key]"
   ]
  },
  {
   "cell_type": "code",
   "execution_count": null,
   "metadata": {},
   "outputs": [],
   "source": [
    "data[0]"
   ]
  },
  {
   "cell_type": "code",
   "execution_count": null,
   "metadata": {},
   "outputs": [],
   "source": [
    "data[0:10]"
   ]
  },
  {
   "cell_type": "code",
   "execution_count": null,
   "metadata": {},
   "outputs": [],
   "source": [
    "a[0:100]"
   ]
  },
  {
   "cell_type": "code",
   "execution_count": null,
   "metadata": {},
   "outputs": [],
   "source": [
    "np.array(read_data)"
   ]
  },
  {
   "cell_type": "code",
   "execution_count": null,
   "metadata": {},
   "outputs": [],
   "source": [
    "read_data"
   ]
  },
  {
   "cell_type": "code",
   "execution_count": null,
   "metadata": {},
   "outputs": [],
   "source": [
    "read_data0 == read_data1"
   ]
  },
  {
   "cell_type": "code",
   "execution_count": null,
   "metadata": {},
   "outputs": [],
   "source": [
    "read_data0"
   ]
  },
  {
   "cell_type": "code",
   "execution_count": null,
   "metadata": {},
   "outputs": [],
   "source": [
    "read_data0[3]==read_data1[3]"
   ]
  },
  {
   "cell_type": "code",
   "execution_count": null,
   "metadata": {},
   "outputs": [],
   "source": [
    "# Load nonH5 trajectory\n",
    "import msmrd2.tools.trajectoryTools as trajectoryTools\n",
    "filetype = 'xyz' # 'h5' or 'xyz'\n",
    "filenumber = 0\n",
    "fnamesuffix = '_discrete'\n",
    "filename = '../../data/patchyProtein/benchmark/simPatchyProtein_'\n",
    "dtraj = trajectoryTools.loadDiscreteTrajectory(filename, filenumber, fnamesuffix, filetype)"
   ]
  },
  {
   "cell_type": "code",
   "execution_count": null,
   "metadata": {},
   "outputs": [],
   "source": [
    "for i in range(200):\n",
    "    print(i, dtraj[dtraj==i].size)"
   ]
  }
 ],
 "metadata": {
  "kernelspec": {
   "display_name": "Python 3",
   "language": "python",
   "name": "python3"
  },
  "language_info": {
   "codemirror_mode": {
    "name": "ipython",
    "version": 3
   },
   "file_extension": ".py",
   "mimetype": "text/x-python",
   "name": "python",
   "nbconvert_exporter": "python",
   "pygments_lexer": "ipython3",
   "version": "3.8.3"
  }
 },
 "nbformat": 4,
 "nbformat_minor": 2
}
