{
 "cells": [
  {
   "cell_type": "code",
   "execution_count": null,
   "metadata": {},
   "outputs": [],
   "source": [
    "import numpy as np\n",
    "import matplotlib.pyplot as plt\n",
    "import msmrd2\n",
    "import msmrd2.tools.quaternions as quats\n",
    "import msmrd2.visualization as msmrdvis\n",
    "from msmrd2.potentials import patchyProteinMAPK\n",
    "from msmrd2.integrators import integratorMAPK "
   ]
  },
  {
   "cell_type": "code",
   "execution_count": null,
   "metadata": {},
   "outputs": [],
   "source": [
    "# Define arbitrarily large list of patchy particles\n",
    "np.random.seed(seed=1) # seed 1 good used for pentameric ring formation \n",
    "numparticles = 3\n",
    "boxsize = 4\n",
    "D = 1.0\n",
    "Drot = 1.0\n",
    "pyPartlist = [] \n",
    "\n",
    "for i in range(numparticles):    \n",
    "    overlap = True\n",
    "    while overlap:\n",
    "        position = np.array([boxsize*np.random.rand()-0.5*boxsize,\n",
    "                             boxsize*np.random.rand()-0.5*boxsize,\n",
    "                             boxsize*np.random.rand()-0.5*boxsize])\n",
    "        overlap = False     \n",
    "        for j in range(len(pyPartlist)):\n",
    "            if np.linalg.norm(position - pyPartlist[j].position) < 2.0:\n",
    "                overlap = True\n",
    "                continue\n",
    "                \n",
    "    orientation = np.array([np.random.rand(),np.random.rand(),np.random.rand(),np.random.rand()])\n",
    "    orientation = orientation/np.linalg.norm(orientation)\n",
    "    part = msmrd2.particle(D, Drot, position, orientation)\n",
    "    part.setType(i)\n",
    "    part.setState(0)\n",
    "    pyPartlist.append(part)"
   ]
  },
  {
   "cell_type": "code",
   "execution_count": null,
   "metadata": {},
   "outputs": [],
   "source": [
    "# alternative fixed position set up\n",
    "position1 = np.array([0.0, 0.0, 0.0]);\n",
    "position2 = np.array([np.cos(np.pi/4), np.sin(-np.pi/4), 0]);\n",
    "position3 = np.array([-2, 0, 0]);\n",
    "orientation1 = np.array([1.0, 0.0, 0.0, 0.0]);\n",
    "orientation2 = np.array([np.cos(np.pi/2), 0.0, 0.0, np.sin(np.pi/2)]);\n",
    "orientation3 = np.array([1.0, 0.0, 0.0, 0.0]);\n",
    "part1 = msmrd2.particle(0,0,D, Drot, position1, orientation1)\n",
    "part2 = msmrd2.particle(1,0,D, Drot, position2, orientation2)\n",
    "part3 = msmrd2.particle(2,0,D, Drot, position3, orientation3)\n",
    "pyPartlist = [part1, part2, part3] "
   ]
  },
  {
   "cell_type": "code",
   "execution_count": null,
   "metadata": {},
   "outputs": [],
   "source": [
    "# Create list of particles that can be read from msmrd\n",
    "# note the particles in this list will be independent from the python list.\n",
    "partlist = msmrd2.integrators.particleList(pyPartlist)"
   ]
  },
  {
   "cell_type": "code",
   "execution_count": null,
   "metadata": {},
   "outputs": [],
   "source": [
    "# Over-damped Langevin integrator definition\n",
    "dt = 0.00001 #0.000005\n",
    "seed = -1 # seed = -1 uses random device as seed\n",
    "bodytype = 'rigidbody' # three rotational degrees of freedom\n",
    "anglePatches = np.pi/2\n",
    "reactivationRateK = 10\n",
    "reactivationRateP = 10\n",
    "mapkIndex = [0]\n",
    "kinaseIndex = [1]\n",
    "phosIndex = [2]\n",
    "integrator = integratorMAPK(dt, seed, bodytype, anglePatches, reactivationRateK, reactivationRateP, \n",
    "                            mapkIndex, kinaseIndex, phosIndex) \n",
    "#integrator.setKbT(0.1)"
   ]
  },
  {
   "cell_type": "code",
   "execution_count": null,
   "metadata": {},
   "outputs": [],
   "source": [
    "# Define boundary (choose either spherical or box)\n",
    "boxBoundary = msmrd2.box(boxsize,boxsize,boxsize,'reflective')\n",
    "integrator.setBoundary(boxBoundary)"
   ]
  },
  {
   "cell_type": "code",
   "execution_count": null,
   "metadata": {},
   "outputs": [],
   "source": [
    "# Define MAPK potntial based on patchy particles\n",
    "sigma = 1.0\n",
    "strength = 60 #65\n",
    "# This values are fixed and should match those used to determine metastable states in potential and trajectory.\n",
    "patchesCoordinates1 = [np.array([np.cos(anglePatches/2), np.sin(anglePatches/2), 0.]), \n",
    "                       np.array([np.cos(-anglePatches/2), np.sin(-anglePatches/2), 0.])]\n",
    "patchesCoordinates2 = [ np.array([np.cos(-anglePatches/2), np.sin(-anglePatches/2), 0.]) ]\n",
    "# Defines patchy protein potential\n",
    "potentialPatchyProteinMAPK = patchyProteinMAPK(sigma, strength, patchesCoordinates1, patchesCoordinates2)\n",
    "# Incorporate potential into integrator\n",
    "integrator.setPairPotential(potentialPatchyProteinMAPK)"
   ]
  },
  {
   "cell_type": "code",
   "execution_count": null,
   "metadata": {},
   "outputs": [],
   "source": [
    "# Integrate the particles, save to .xyz to produce VMD output (additional overhead)\n",
    "timesteps = 5000000\n",
    "stride = 250 #250 #1000\n",
    "datafile  = open('../../data/vmd/patchyProteinMAPK.xyz', 'w')\n",
    "for i in range(timesteps):\n",
    "    if i%stride == 0:\n",
    "        datafile.write(str(9) + '\\n')\n",
    "        datafile.write(str(0) + '\\n')\n",
    "    for j, part in enumerate(partlist):\n",
    "        if i%stride == 0:\n",
    "            if part.type == 0:\n",
    "                v0 = part.position\n",
    "                v1 = v0 + 0.4*sigma*quats.rotateVec(patchesCoordinates1[0], part.orientation)\n",
    "                v2 = v0 + 0.4*sigma*quats.rotateVec(patchesCoordinates1[1], part.orientation)\n",
    "                datafile.write('type_0' + ' ' + ' '.join(map(str, v0)) + '\\n')\n",
    "                if (part.state == 0):\n",
    "                    datafile.write('type_1' + ' ' + ' '.join(map(str, v1)) + '\\n')\n",
    "                    datafile.write('type_1' + ' ' + ' '.join(map(str, v2)) + '\\n')\n",
    "                    datafile.write('type_2' + ' ' + ' '.join(map(str, v0)) + '\\n')\n",
    "                    datafile.write('type_2' + ' ' + ' '.join(map(str, v0)) + '\\n')\n",
    "                elif (part.state == 1):\n",
    "                    datafile.write('type_1' + ' ' + ' '.join(map(str, v0)) + '\\n')\n",
    "                    datafile.write('type_1' + ' ' + ' '.join(map(str, v2)) + '\\n')\n",
    "                    datafile.write('type_2' + ' ' + ' '.join(map(str, v1)) + '\\n')\n",
    "                    datafile.write('type_2' + ' ' + ' '.join(map(str, v0)) + '\\n')\n",
    "                elif (part.state == 2):\n",
    "                    datafile.write('type_1' + ' ' + ' '.join(map(str, v1)) + '\\n')\n",
    "                    datafile.write('type_1' + ' ' + ' '.join(map(str, v0)) + '\\n')\n",
    "                    datafile.write('type_2' + ' ' + ' '.join(map(str, v0)) + '\\n')\n",
    "                    datafile.write('type_2' + ' ' + ' '.join(map(str, v2)) + '\\n')\n",
    "                else:\n",
    "                    datafile.write('type_1' + ' ' + ' '.join(map(str, v0)) + '\\n')\n",
    "                    datafile.write('type_1' + ' ' + ' '.join(map(str, v0)) + '\\n')\n",
    "                    datafile.write('type_2' + ' ' + ' '.join(map(str, v1)) + '\\n')\n",
    "                    datafile.write('type_2' + ' ' + ' '.join(map(str, v2)) + '\\n')\n",
    "            if part.type == 1:\n",
    "                v0 = part.position\n",
    "                if part.state == 0:\n",
    "                    v1 = v0 + 0.4*sigma*quats.rotateVec(patchesCoordinates2[0], part.orientation)\n",
    "                else:\n",
    "                    v1 = 1 * v0\n",
    "                datafile.write('type_0' + ' ' + ' '.join(map(str, v0)) + '\\n')\n",
    "                datafile.write('type_2' + ' ' + ' '.join(map(str, v1)) + '\\n')\n",
    "            if part.type == 2:\n",
    "                v0 = part.position\n",
    "                if part.state == 0:\n",
    "                    v1 = v0 + 0.4*sigma*quats.rotateVec(patchesCoordinates2[0], part.orientation)\n",
    "                else:\n",
    "                    v1 = 1 * v0\n",
    "                datafile.write('type_0' + ' ' + ' '.join(map(str, v0)) + '\\n')\n",
    "                datafile.write('type_1' + ' ' + ' '.join(map(str, v1)) + '\\n')\n",
    "    integrator.integrate(partlist)\n",
    "    if i%5000 == 0:\n",
    "        print(\"Percentage complete: \", 100*i/timesteps, \"%\", end=\"\\r\")\n",
    "datafile.close()\n",
    "# Generate TCL script to visualize with VMD\n",
    "msmrdvis.generateTCL_patchyProteinMAPK(numparticles = numparticles, \n",
    "                                    outfname = \"patchyProteinMAPK\", \n",
    "                                    tclfname = \"../../data/vmd/patchyProteinMAPK_2vmd.tcl\")\n",
    "print(\"Percentage complete: \", 100, \" %\")"
   ]
  },
  {
   "cell_type": "markdown",
   "metadata": {},
   "source": [
    "To load the movie go to /data/vmd and run in a terminal \"vmd -e patchyProteinMAPK_2vmd.tcl\".\n",
    "\n",
    "## In case VMD is not desired\n",
    "\n",
    "In case VMD output is not desired, below we simply integrate the model and show the output directly."
   ]
  },
  {
   "cell_type": "code",
   "execution_count": null,
   "metadata": {},
   "outputs": [],
   "source": [
    "# Integrate particle list and print only positions of first and last particle in list\n",
    "timesteps = 100\n",
    "print('{:<10s}{:<15s}{:<40s}{:<40s}'.format(\"Iteration\", \"Time\", \"Position 1\", \"Position 2\"))\n",
    "for i in range(timesteps):\n",
    "    print('{:<10d}{:<15f}{:<40s}{:<50s}'.format(i, integrator.clock, str(partlist[0].position), str(partlist[1].position)))\n",
    "    print('{:<10d}{:<15f}{:<40s}{:<50s}'.format(i, integrator.clock, str(partlist[0].state), str(partlist[1].state)))\n",
    "\n",
    "    integrator.integrate(partlist)"
   ]
  },
  {
   "cell_type": "code",
   "execution_count": null,
   "metadata": {},
   "outputs": [],
   "source": []
  }
 ],
 "metadata": {
  "kernelspec": {
   "display_name": "Python 3",
   "language": "python",
   "name": "python3"
  },
  "language_info": {
   "codemirror_mode": {
    "name": "ipython",
    "version": 3
   },
   "file_extension": ".py",
   "mimetype": "text/x-python",
   "name": "python",
   "nbconvert_exporter": "python",
   "pygments_lexer": "ipython3",
   "version": "3.8.3"
  }
 },
 "nbformat": 4,
 "nbformat_minor": 4
}
