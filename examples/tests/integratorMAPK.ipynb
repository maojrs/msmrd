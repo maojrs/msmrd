{
 "cells": [
  {
   "cell_type": "code",
   "execution_count": null,
   "metadata": {},
   "outputs": [],
   "source": [
    "import numpy as np\n",
    "import matplotlib.pyplot as plt\n",
    "import msmrd2\n",
    "import msmrd2.tools.quaternions as quats\n",
    "import msmrd2.visualization as msmrdvis\n",
    "from msmrd2.potentials import patchyParticle\n",
    "from msmrd2.integrators import integratorMAPK "
   ]
  },
  {
   "cell_type": "code",
   "execution_count": null,
   "metadata": {},
   "outputs": [],
   "source": [
    "# Define arbitrarily large list of patchy particles\n",
    "np.random.seed(seed=1) # seed 1 good used for pentameric ring formation \n",
    "numparticles = 3\n",
    "boxsize = 3\n",
    "D = 1.0\n",
    "Drot = 1.0\n",
    "pyPartlist = [] \n",
    "\n",
    "for i in range(numparticles):    \n",
    "    overlap = True\n",
    "    while overlap:\n",
    "        position = np.array([boxsize*np.random.rand()-0.5*boxsize,\n",
    "                             boxsize*np.random.rand()-0.5*boxsize,\n",
    "                             boxsize*np.random.rand()-0.5*boxsize])\n",
    "        overlap = False     \n",
    "        for j in range(len(pyPartlist)):\n",
    "            if np.linalg.norm(position - pyPartlist[j].position) < 2.0:\n",
    "                overlap = True\n",
    "                continue\n",
    "                \n",
    "    orientation = np.array([np.random.rand(),np.random.rand(),np.random.rand(),np.random.rand()])\n",
    "    orientation = orientation/np.linalg.norm(orientation)\n",
    "    part = msmrd2.particle(D, Drot, position, orientation)\n",
    "    pyPartlist.append(part)"
   ]
  },
  {
   "cell_type": "code",
   "execution_count": null,
   "metadata": {},
   "outputs": [],
   "source": [
    "# Create list of particles that can be read from msmrd\n",
    "# note the particles in this list will be independent from the python list.\n",
    "partlist = msmrd2.integrators.particleList(pyPartlist)"
   ]
  },
  {
   "cell_type": "code",
   "execution_count": null,
   "metadata": {},
   "outputs": [],
   "source": [
    "# Over-damped Langevin integrator definition\n",
    "dt = 0.00001 #0.000005\n",
    "seed = 2 # seed 2 good used for pentameric ring formation; seed = -1 uses random device as seed\n",
    "bodytype = 'rigidbody' # three rotational degrees of freedom\n",
    "anglePatches = np.pi\n",
    "reactivationRateK = 0.5\n",
    "reactivationRateP = 0.5\n",
    "mapkIndex = [0]\n",
    "kinaseIndex = [1]\n",
    "phosIndex = [2]\n",
    "integrator = integratorMAPK(dt, seed, bodytype, anglePatches, reactivationRateK, reactivationRateP, \n",
    "                            mapkIndex, kinaseIndex, phosIndex) \n",
    "integrator.setKbT(0.1)"
   ]
  },
  {
   "cell_type": "code",
   "execution_count": null,
   "metadata": {},
   "outputs": [],
   "source": [
    "# Define boundary (choose either spherical or box)\n",
    "boxBoundary = msmrd2.box(boxsize,boxsize,boxsize,'reflective')\n",
    "integrator.setBoundary(boxBoundary)"
   ]
  },
  {
   "cell_type": "code",
   "execution_count": null,
   "metadata": {},
   "outputs": [],
   "source": [
    "# Define MAPK potntial based on patchy particles\n",
    "sigma = 1.0\n",
    "strength = 60 #65\n",
    "# This values are fixed and should match those used to determine metastable states in potential and trajectory.\n",
    "patchesCoordinates1 = [np.array([np.cos(anglePatches/2), np.sin(anglePatches/2), 0.]), \n",
    "                       np.array([np.cos(-anglePatches/2), np.sin(-anglePatches/2), 0.])]\n",
    "patchesCoordinates2 = [np.array([1.,0.,0.])]\n",
    "# Defines patchy protein potential\n",
    "potentialPatchyProteinMS = patchyProteinMarkovSwitch(sigma, strength, angularStrength, \n",
    "                                                     patchesCoordinates1, patchesCoordinates2)\n",
    "# Incorporate potential into integrator\n",
    "integrator.setPairPotential(potentialPatchyProteinMS)"
   ]
  },
  {
   "cell_type": "code",
   "execution_count": null,
   "metadata": {},
   "outputs": [],
   "source": [
    "# Integrate the particles, save to .xyz to produce VMD output (additional overhead)\n",
    "timesteps = 5000000\n",
    "stride = 2500 #1000\n",
    "datafile  = open('../../data/vmd/patchyParticles.xyz', 'w')\n",
    "for i in range(timesteps):\n",
    "    if i%stride == 0:\n",
    "        datafile.write(str(3*len(partlist)) + '\\n')\n",
    "        datafile.write(str(0) + '\\n')\n",
    "    for j, part in enumerate(partlist):\n",
    "        if i%stride == 0:\n",
    "            v0 = part.position\n",
    "            v1 = v0 + 0.5*sigma*quats.rotateVec(patchesCoordinates[0], part.orientation)\n",
    "            v2 = v0 + 0.5*sigma*quats.rotateVec(patchesCoordinates[1], part.orientation)\n",
    "            datafile.write('type_0' + ' ' + ' '.join(map(str, v0)) + '\\n')\n",
    "            datafile.write('type_1' + ' ' + ' '.join(map(str, v1)) + '\\n')\n",
    "            datafile.write('type_1' + ' ' + ' '.join(map(str, v2)) + '\\n')\n",
    "    integrator.integrate(partlist)\n",
    "    if i%5000 == 0:\n",
    "        print(\"Percentage complete: \", 100*i/timesteps, \"%\", end=\"\\r\")\n",
    "datafile.close()\n",
    "# Generate TCL script to visualize with VMD\n",
    "msmrdvis.generateTCL_patchyParticles(numparticles = numparticles, \n",
    "                                     outfname = \"patchyParticles\", \n",
    "                                     tclfname = \"../../data/vmd/patchyParticles_2vmd.tcl\")\n",
    "print(\"Percentage complete: \", 100, \" %\")"
   ]
  }
 ],
 "metadata": {
  "kernelspec": {
   "display_name": "Python 3",
   "language": "python",
   "name": "python3"
  },
  "language_info": {
   "codemirror_mode": {
    "name": "ipython",
    "version": 3
   },
   "file_extension": ".py",
   "mimetype": "text/x-python",
   "name": "python",
   "nbconvert_exporter": "python",
   "pygments_lexer": "ipython3",
   "version": "3.8.3"
  }
 },
 "nbformat": 4,
 "nbformat_minor": 4
}
