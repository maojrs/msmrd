{
 "cells": [
  {
   "cell_type": "markdown",
   "metadata": {},
   "source": [
    "# Estimate rotational diffusion coefficients of Brownian particle"
   ]
  },
  {
   "cell_type": "code",
   "execution_count": null,
   "metadata": {},
   "outputs": [],
   "source": [
    "import numpy as np\n",
    "import matplotlib.pyplot as plt\n",
    "import msmrd2.tools.quaternions as quats"
   ]
  },
  {
   "cell_type": "code",
   "execution_count": null,
   "metadata": {},
   "outputs": [],
   "source": [
    "# Define particle class move and rotate function\n",
    "class particle:\n",
    "    def __init__(self, position, orientation):\n",
    "        self.position = position\n",
    "        self.orientation = orientation\n",
    "        self.dim = len(self.position)\n",
    "        \n",
    "    def move(self,dt,D):\n",
    "        dr = np.sqrt(2 * D * dt) * np.random.normal(0,1,self.dim)\n",
    "        self.position += dr\n",
    "        \n",
    "    def rotate(self,dt,Drot):\n",
    "        '''\n",
    "        Donev implementation\n",
    "        '''\n",
    "        dphi = np.sqrt(2 * Drot* dt) * np.random.normal(0,1,self.dim)\n",
    "        dquat = quats.angle2quat(dphi)\n",
    "        self.orientation = quats.multiply(dquat,self.orientation)\n",
    "        \n",
    "    def rotate2(self,dt,Drot):\n",
    "        '''\n",
    "        Hummer implementation\n",
    "        '''\n",
    "        dphi = np.sqrt(Drot * dt/2) * np.random.normal(0,1,self.dim)\n",
    "        dquat = np.zeros(4)\n",
    "        dquat[1:] = dphi\n",
    "        dquat[0] = np.sqrt(1 - 3 * Drot * dt/2)\n",
    "        dquat = dquat/np.linalg.norm(dquat)\n",
    "        self.orientation = quats.multiply(dquat,self.orientation)"
   ]
  },
  {
   "cell_type": "code",
   "execution_count": null,
   "metadata": {},
   "outputs": [],
   "source": [
    "# Define simulation parameters\n",
    "dt = 0.0001\n",
    "Drot = 1.0\n",
    "timesteps = 500000\n",
    "x0 = np.array([0.0, 0.0, 0.0])\n",
    "q0 = np.array([1.0, 0.0, 0.0, 0.0])"
   ]
  },
  {
   "cell_type": "code",
   "execution_count": null,
   "metadata": {},
   "outputs": [],
   "source": [
    "# Euler Maruyama simulation\n",
    "orientationArray = [q0]\n",
    "particle1 = particle(x0,q0)\n",
    "for i in range(timesteps):\n",
    "    particle1.rotate(dt,Drot)\n",
    "    orientationArray.append(1*particle1.orientation)"
   ]
  },
  {
   "cell_type": "code",
   "execution_count": null,
   "metadata": {},
   "outputs": [],
   "source": [
    "# Calculate auto-correlation/mean-square displacement for several lagtimes\n",
    "lagtimesIndexes = np.arange(100,2000,100)\n",
    "lagtimes = np.zeros(len(lagtimesIndexes) + 1)\n",
    "MSD_3D = np.zeros(len(lagtimesIndexes) + 1)\n",
    "for i, lagtimeIndex in enumerate(lagtimesIndexes):\n",
    "    lagtimes[i+1] = dt * lagtimeIndex\n",
    "    MSD = 0.0\n",
    "    for j in range(timesteps-lagtimeIndex):\n",
    "        dq = orientationArray[j+lagtimeIndex] - orientationArray[j]\n",
    "        MSD += dq*dq\n",
    "    MSD = MSD/(timesteps - lagtimeIndex + 1)\n",
    "    # MSD_3D = 3*(1-exp(-2Dtau))/4 ~ 3 * D * tau/2 (see Hummer paper appendix:  Anis Rot Diff)\n",
    "    MSD_3D[i+1] = sum(MSD[1:])"
   ]
  },
  {
   "cell_type": "code",
   "execution_count": null,
   "metadata": {},
   "outputs": [],
   "source": [
    "index = 15\n",
    "DrotApprox = - np.log(1-4*MSD_3D[index]/3.0)/(2*lagtimes[index])\n",
    "DrotApprox"
   ]
  },
  {
   "cell_type": "code",
   "execution_count": null,
   "metadata": {},
   "outputs": [],
   "source": [
    "# Least square approximation with numpy\n",
    "A = np.vstack([lagtimes, np.ones(len(lagtimes))]).T\n",
    "y = - np.log(1-4*MSD_3D/3.0)/2\n",
    "slope,b = np.linalg.lstsq(A, y, rcond=None)[0]\n",
    "print(slope,b)"
   ]
  },
  {
   "cell_type": "code",
   "execution_count": null,
   "metadata": {},
   "outputs": [],
   "source": [
    "plt.plot(lagtimes, - np.log(1-4*MSD_3D/3.0)/2, 'o', label='orientation')\n",
    "plt.plot(lagtimes, slope*lagtimes + b, '-', label = 'orientation fit')\n",
    "plt.legend()"
   ]
  },
  {
   "cell_type": "code",
   "execution_count": null,
   "metadata": {},
   "outputs": [],
   "source": [
    "DrotApprox = slope\n",
    "print(DrotApprox)"
   ]
  },
  {
   "cell_type": "code",
   "execution_count": null,
   "metadata": {},
   "outputs": [],
   "source": [
    "# Least square approximation with numpy\n",
    "A = np.vstack([lagtimes, np.ones(len(lagtimes))]).T\n",
    "slope,b = np.linalg.lstsq(A, 2*MSD_3D/3, rcond=None)[0] # Approximation valid for small lagtimes\n",
    "print(slope,b)"
   ]
  },
  {
   "cell_type": "code",
   "execution_count": null,
   "metadata": {},
   "outputs": [],
   "source": []
  }
 ],
 "metadata": {
  "kernelspec": {
   "display_name": "Python 3",
   "language": "python",
   "name": "python3"
  },
  "language_info": {
   "codemirror_mode": {
    "name": "ipython",
    "version": 3
   },
   "file_extension": ".py",
   "mimetype": "text/x-python",
   "name": "python",
   "nbconvert_exporter": "python",
   "pygments_lexer": "ipython3",
   "version": "3.8.3"
  }
 },
 "nbformat": 4,
 "nbformat_minor": 4
}
