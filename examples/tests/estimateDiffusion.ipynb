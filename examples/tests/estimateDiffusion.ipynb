{
 "cells": [
  {
   "cell_type": "markdown",
   "metadata": {},
   "source": [
    "# Estimating diffusion coefficients of Brownian particle"
   ]
  },
  {
   "cell_type": "code",
   "execution_count": null,
   "metadata": {},
   "outputs": [],
   "source": [
    "import numpy as np\n",
    "import matplotlib.pyplot as plt"
   ]
  },
  {
   "cell_type": "code",
   "execution_count": null,
   "metadata": {},
   "outputs": [],
   "source": [
    "# Define particle class and move function\n",
    "class particle:\n",
    "    def __init__(self, position):\n",
    "        self.position = position\n",
    "        self.dim = len(self.position)\n",
    "        \n",
    "    def move(self,dt,D):\n",
    "        rr = np.random.rand()\n",
    "        dr = np.sqrt(2 * D* dt) * np.random.normal(0,1,self.dim)\n",
    "        self.position += dr"
   ]
  },
  {
   "cell_type": "code",
   "execution_count": null,
   "metadata": {},
   "outputs": [],
   "source": [
    "# Define simulation parameters\n",
    "dt = 0.0001\n",
    "D = 1.0\n",
    "timesteps = 500000\n",
    "x0 = np.array([0.0, 0.0, 0.0])"
   ]
  },
  {
   "cell_type": "code",
   "execution_count": null,
   "metadata": {},
   "outputs": [],
   "source": [
    "# Euler-Maruyama simulation\n",
    "positionArray = [x0]\n",
    "particle1 = particle(x0)\n",
    "for i in range(timesteps):\n",
    "    particle1.move(dt,D)\n",
    "    positionArray.append(1*particle1.position)"
   ]
  },
  {
   "cell_type": "code",
   "execution_count": null,
   "metadata": {},
   "outputs": [],
   "source": [
    "# Calculate auto-correlation/mean-square displacement for several lagtimes\n",
    "lagtimesIndexes = np.arange(100,2000,100)\n",
    "lagtimes = np.zeros(len(lagtimesIndexes) + 1)\n",
    "MSD_3D = np.zeros(len(lagtimesIndexes) + 1)\n",
    "for i, lagtimeIndex in enumerate(lagtimesIndexes):\n",
    "    lagtimes[i+1] = dt * lagtimeIndex\n",
    "    MSD = 0.0\n",
    "    for j in range(timesteps-lagtimeIndex):\n",
    "        dr = positionArray[j+lagtimeIndex] - positionArray[j]\n",
    "        MSD += dr*dr\n",
    "    MSD = MSD/(timesteps - lagtimeIndex + 1)\n",
    "    MSD_3D[i+1] = sum(MSD) # D = sum(MSD)/(6*lagtime)"
   ]
  },
  {
   "cell_type": "code",
   "execution_count": null,
   "metadata": {},
   "outputs": [],
   "source": [
    "# Least square approximation with numpy\n",
    "A = np.vstack([lagtimes, np.ones(len(lagtimes))]).T\n",
    "slope,b = np.linalg.lstsq(A, MSD_3D/6, rcond=None)[0]\n",
    "print(slope,b)"
   ]
  },
  {
   "cell_type": "code",
   "execution_count": null,
   "metadata": {},
   "outputs": [],
   "source": [
    "# Plot MSD against lagtime\n",
    "plt.plot(lagtimes, MSD_3D/6, 'o', label = 'position')\n",
    "plt.plot(lagtimes, slope*lagtimes + b, '-', label = 'position fit')\n",
    "plt.legend()"
   ]
  },
  {
   "cell_type": "code",
   "execution_count": null,
   "metadata": {},
   "outputs": [],
   "source": [
    "Dapprox = slope\n",
    "print(Dapprox)"
   ]
  },
  {
   "cell_type": "code",
   "execution_count": null,
   "metadata": {},
   "outputs": [],
   "source": [
    "MSD_3D[15]/(6*lagtimes[15])"
   ]
  },
  {
   "cell_type": "code",
   "execution_count": null,
   "metadata": {},
   "outputs": [],
   "source": []
  }
 ],
 "metadata": {
  "kernelspec": {
   "display_name": "Python 3",
   "language": "python",
   "name": "python3"
  },
  "language_info": {
   "codemirror_mode": {
    "name": "ipython",
    "version": 3
   },
   "file_extension": ".py",
   "mimetype": "text/x-python",
   "name": "python",
   "nbconvert_exporter": "python",
   "pygments_lexer": "ipython3",
   "version": "3.8.3"
  }
 },
 "nbformat": 4,
 "nbformat_minor": 4
}
