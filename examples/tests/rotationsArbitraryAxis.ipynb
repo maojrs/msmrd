{
 "cells": [
  {
   "cell_type": "code",
   "execution_count": null,
   "metadata": {},
   "outputs": [],
   "source": [
    "import numpy as np\n",
    "import matplotlib.pyplot as plt\n",
    "from mpl_toolkits.mplot3d import Axes3D\n",
    "import msmrd2.tools.quaternions as quats\n",
    "%matplotlib notebook"
   ]
  },
  {
   "cell_type": "code",
   "execution_count": null,
   "metadata": {},
   "outputs": [],
   "source": [
    "# Define original vectors\n",
    "v0 = np.array([0,0,0])\n",
    "v1 = np.array([1,1,0])\n",
    "v2 = np.array([1,-1,0])"
   ]
  },
  {
   "cell_type": "code",
   "execution_count": null,
   "metadata": {},
   "outputs": [],
   "source": [
    "fig = plt.figure()\n",
    "ax = fig.gca(projection='3d')\n",
    "x1 = [v0[0], v1[0]]\n",
    "y1 = [v0[1], v1[1]]\n",
    "z1 = [v0[2], v1[2]]\n",
    "x2 = [v0[0], v2[0]]\n",
    "y2 = [v0[1], v2[1]]\n",
    "z2 = [v0[2], v2[2]]\n",
    "ax.plot(x1, y1, z1)\n",
    "ax.plot(x2, y2, z2)\n",
    "ax.set_xlim3d(-5,5)\n",
    "ax.set_ylim3d(-5,5)\n",
    "ax.set_zlim3d(0,10)\n",
    "plt.show()"
   ]
  },
  {
   "cell_type": "code",
   "execution_count": null,
   "metadata": {},
   "outputs": [],
   "source": [
    "# 90 degree rotaton around z-axis\n",
    "axisAngRot = np.array([0,0,1]) \n",
    "#axisAngRot = np.array([-0.5,0,1])\n",
    "axisAngRot = np.pi * axisAngRot/ np.linalg.norm(axisAngRot)\n",
    "rotquat = quats.angle2quat(axisAngRot)\n",
    "rotv1 = quats.rotateVec(v1,rotquat)\n",
    "rotv2 = quats.rotateVec(v2,rotquat)"
   ]
  },
  {
   "cell_type": "code",
   "execution_count": null,
   "metadata": {},
   "outputs": [],
   "source": [
    "fig = plt.figure()\n",
    "ax = fig.gca(projection='3d')\n",
    "x1 = [v0[0], rotv1[0]]\n",
    "y1 = [v0[1], rotv1[1]]\n",
    "z1 = [v0[2], rotv1[2]]\n",
    "x2 = [v0[0], rotv2[0]]\n",
    "y2 = [v0[1], rotv2[1]]\n",
    "z2 = [v0[2], rotv2[2]]\n",
    "ax.plot(x1, y1, z1)\n",
    "ax.plot(x2, y2, z2)\n",
    "ax.set_xlim3d(-5,5)\n",
    "ax.set_ylim3d(-5,5)\n",
    "ax.set_zlim3d(0,10)\n",
    "plt.show()"
   ]
  },
  {
   "cell_type": "code",
   "execution_count": null,
   "metadata": {},
   "outputs": [],
   "source": [
    "# 90 degree rotaton around z-axis passing through point translaton\n",
    "offAxisPoint = np.array([2,0,0]) # Of the frame of reference \n",
    "v0p = quats.rotateVecOffAxis(v0,rotquat,offAxisPoint)\n",
    "v1p = quats.rotateVecOffAxis(v1,rotquat,offAxisPoint)\n",
    "v2p = quats.rotateVecOffAxis(v2,rotquat,offAxisPoint)"
   ]
  },
  {
   "cell_type": "code",
   "execution_count": null,
   "metadata": {},
   "outputs": [],
   "source": [
    "v1p"
   ]
  },
  {
   "cell_type": "code",
   "execution_count": null,
   "metadata": {},
   "outputs": [],
   "source": [
    "fig = plt.figure()\n",
    "ax = fig.gca(projection='3d')\n",
    "x1 = [v0p[0], v1p[0]]\n",
    "y1 = [v0p[1], v1p[1]]\n",
    "z1 = [v0p[2], v1p[2]]\n",
    "x2 = [v0p[0], v2p[0]]\n",
    "y2 = [v0p[1], v2p[1]]\n",
    "z2 = [v0p[2], v2p[2]]\n",
    "ax.plot(x1, y1, z1)\n",
    "ax.plot(x2, y2, z2)\n",
    "ax.set_xlim3d(-5,5)\n",
    "ax.set_ylim3d(-5,5)\n",
    "ax.set_zlim3d(0,10)\n",
    "plt.show()"
   ]
  },
  {
   "cell_type": "code",
   "execution_count": null,
   "metadata": {},
   "outputs": [],
   "source": [
    "# Recover quaternion representation (and axis-angle rep) from rotated vectors\n",
    "finalQuat = quats.recoverRotationFromVectors(v0,v1,v2,v0p,v1p,v2p)\n",
    "finalAxisAngle = quats.quat2angle(finalQuat)"
   ]
  },
  {
   "cell_type": "code",
   "execution_count": null,
   "metadata": {},
   "outputs": [],
   "source": [
    "print(finalAxisAngle)\n",
    "print(finalQuat)"
   ]
  },
  {
   "cell_type": "code",
   "execution_count": null,
   "metadata": {},
   "outputs": [],
   "source": [
    "axisAngRot"
   ]
  },
  {
   "cell_type": "code",
   "execution_count": null,
   "metadata": {},
   "outputs": [],
   "source": [
    "rotquat"
   ]
  },
  {
   "cell_type": "code",
   "execution_count": null,
   "metadata": {},
   "outputs": [],
   "source": []
  }
 ],
 "metadata": {
  "kernelspec": {
   "display_name": "Python 3",
   "language": "python",
   "name": "python3"
  },
  "language_info": {
   "codemirror_mode": {
    "name": "ipython",
    "version": 3
   },
   "file_extension": ".py",
   "mimetype": "text/x-python",
   "name": "python",
   "nbconvert_exporter": "python",
   "pygments_lexer": "ipython3",
   "version": "3.8.3"
  }
 },
 "nbformat": 4,
 "nbformat_minor": 4
}
