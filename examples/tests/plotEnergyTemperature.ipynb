{
 "cells": [
  {
   "cell_type": "code",
   "execution_count": null,
   "metadata": {},
   "outputs": [],
   "source": [
    "import msmrd2\n",
    "from msmrd2.integrators import langevin\n",
    "from msmrd2.potentials import WCA, gaussians3D\n",
    "import msmrd2.tools.particleTools as particleTools\n",
    "import msmrd2.tools.analysis as analysisTools\n",
    "\n",
    "import matplotlib.pyplot as plt\n",
    "import numpy as np\n",
    "import h5py\n",
    "import random\n",
    "import sys\n",
    "import os"
   ]
  },
  {
   "cell_type": "code",
   "execution_count": null,
   "metadata": {},
   "outputs": [],
   "source": [
    "## Units\n",
    "\n",
    "# ### Boltzman constant\n",
    "# - $k_B = 1.38064852 \\times 10^{-23} \\frac{m^2}{s^2} \\frac{kg}{K} \\left(= \\frac{nm^2}{ns^2}\\frac{kg}{K}\\right)$.\n",
    "#\n",
    "# ### Basic units\n",
    "# - Length (l): nanometers (nm)\n",
    "# - Energy ($\\epsilon$) : $k_B T = g/mol \\frac{nm^2}{ns^2}$\n",
    "# - Mass (m): gram/mol (g/mol)\n",
    "#\n",
    "# ### Derived units\n",
    "# - Time: $l\\sqrt{m/\\epsilon} = ns$\n",
    "# - Temperature: $\\epsilon/k_B =$ Kelvin ($K$)\n",
    "# - Force: $\\epsilon/l = kg \\frac{nm}{ns^2}$\n",
    "#\n",
    "# ### Reduced quantities (dimensionless)\n",
    "# - Reduced pair potential: $U^* = U/\\epsilon$\n",
    "# - Reduced force: $F^* = F l /\\epsilon$\n",
    "# - Reduced distance: $r^* = r/l$\n",
    "# - Reduced density: $\\rho^*=\\rho l^3$\n",
    "# - Reduced Temperature: $T^* = k_B T/\\epsilon$\n",
    "# - Reduced Pressure: $P^* = Pl^3/\\epsilon$\n",
    "# - Reduced friction: $\\sigma^2/time$"
   ]
  },
  {
   "cell_type": "code",
   "execution_count": null,
   "metadata": {},
   "outputs": [],
   "source": [
    "# Main parameters\n",
    "numBathParticles = 100 \n",
    "numparticles = 1 + numBathParticles #Added distinguished particle (index 0)\n",
    "D = 3.0E-2 #3.0E-2 #3.0E-2 #1.0E-3 #(nm^2/ns) Note 1.0E-3 nm^2/ns = 1 micrometer^2/s #0.1\n",
    "particlemass = 18.0 # (g/mol) approximately mass of water\n",
    "distinguishedParticleMass = 3 * particlemass # (kg)\n",
    "particleDiameter = 0.3 # (nm)\n",
    "separationDistance = 2 * particleDiameter # minimum separation distance for initial condition\n",
    "# For computations, we assume KbT=1, thus the force F must be: F=KbT f, where f is the force computed\n",
    "# from the potential. This means the plotted potential is on reduced units (not the distances though);\n",
    "KbT = 0.0000\n",
    "\n",
    "# Main parameters for integrator\n",
    "dt = 0.005 #0.005 #0.001 #0.0005 # (ns)\n",
    "seed = -1 # Seed = -1 used random device as seed\n",
    "bodytype = 'point'\n",
    "\n",
    "# Define simulation boundaries (choose either spherical or box)\n",
    "boxsize = 8 #(nm)\n",
    "boundaryType = 'periodic'\n",
    "\n",
    "# Parameters for WCA potential (rm=2^(1/6)sigma)\n",
    "epsilon = 1.0\n",
    "rm = particleDiameter # (diameter in nm)\n",
    "sigma = rm * 2**(-1/6)\n",
    "\n",
    "# Parameters for external potential (will only acts on distinguished particles (type 1))\n",
    "minimas = np.array([[-1.5,0,0], [1.5,0,0]])\n",
    "sigma = 1\n",
    "standardDevs = np.array([[sigma, sigma, sigma], [sigma, sigma, sigma]])\n",
    "scalefactor = 75\n",
    "\n",
    "# Simulation parameters\n",
    "tfinal = 10 #50.0 #50.0\n",
    "timesteps = int(tfinal/dt) \n",
    "bufferSize = 100 * 1024\n",
    "stride = 5 \n",
    "outTxt = False\n",
    "outH5 = True\n",
    "outChunked = True\n",
    "outputEnergyTempTrajectory = True\n",
    "trajtype = \"positionVelocityDistinguished\" # Samples position and velocity of distinguished particle (type 1) + raux variables\n",
    "distinguishedTypes = [1] # Only saves positions of particle with these types\n",
    "equilibrationSteps = 0 #2000"
   ]
  },
  {
   "cell_type": "code",
   "execution_count": null,
   "metadata": {},
   "outputs": [],
   "source": [
    "# Parent directory location\n",
    "parentDirectory = \"./testsData/\"\n",
    "\n",
    "# Create folder for data\n",
    "try:\n",
    "    os.mkdir(parentDirectory)\n",
    "except OSError as error:\n",
    "    proceed = True\n",
    "\n",
    "basefilename = os.path.join(parentDirectory, \"simulationDistinguished\")"
   ]
  },
  {
   "cell_type": "code",
   "execution_count": null,
   "metadata": {},
   "outputs": [],
   "source": [
    "# Run one simulation and saves data on H5 file\n",
    "\n",
    "# Define particle list\n",
    "partlist = particleTools.randomLangevinParticleList(numparticles, boxsize, separationDistance, D,\n",
    "                                                    particlemass, seed, distinguishedParticleOrigin=True)\n",
    "# Set distinguished particle (default type is zero)\n",
    "partlist[0].setType(1)\n",
    "partlist[0].setMass(distinguishedParticleMass)\n",
    "\n",
    "# Define boundary\n",
    "boxBoundary = msmrd2.box(boxsize, boxsize, boxsize, boundaryType)\n",
    "\n",
    "# Define pair potential\n",
    "potentialWCA = WCA(epsilon, sigma)\n",
    "potentialWCA.setForceCapValue(100)\n",
    "\n",
    "# Define external potential\n",
    "#externalPotential = gaussians3D(minimas, standardDevs, distinguishedTypes, scalefactor)\n",
    "\n",
    "# Integrator definition\n",
    "seed = int(-1) \n",
    "integrator = langevin(dt, seed, bodytype)\n",
    "integrator.setBoundary(boxBoundary)\n",
    "integrator.setPairPotential(potentialWCA)\n",
    "#integrator.setExternalPotential(externalPotential)\n",
    "integrator.setKbT(KbT)\n",
    "\n",
    "# Creates simulation\n",
    "sim = msmrd2.simulation(integrator)\n",
    "\n",
    "# Runs simulation\n",
    "sim.setEquilibrationSteps(equilibrationSteps)\n",
    "sim.setOutputEnergyTemperature(outputEnergyTempTrajectory) \n",
    "sim.setDistinguishedTypes(distinguishedTypes)\n",
    "\n",
    "sim.run(partlist, timesteps, stride, bufferSize, basefilename, outTxt, outH5, outChunked, trajtype)\n",
    "print(\"Simulation done\")"
   ]
  },
  {
   "cell_type": "code",
   "execution_count": null,
   "metadata": {},
   "outputs": [],
   "source": [
    "#potentialWCA.setForceCapValue(0.1)\n"
   ]
  },
  {
   "cell_type": "code",
   "execution_count": null,
   "metadata": {},
   "outputs": [],
   "source": [
    "potentialWCA.getPotentialCapValue()"
   ]
  },
  {
   "cell_type": "code",
   "execution_count": null,
   "metadata": {},
   "outputs": [],
   "source": [
    "#potentialWCA = WCA(epsilon, sigma)\n",
    "rr = 2**(1/6)\n",
    "drr = rr/2000\n",
    "part1 = msmrd2.particle(0,0,0,0, [0,0,0], [1,0,0,0])\n",
    "part2 = msmrd2.particle(0,0,0,0, [0.9063881040098023,0,0], [1,0,0,0])\n",
    "np.linalg.norm(potentialWCA.forceTorque(part1,part2)[0])"
   ]
  },
  {
   "cell_type": "code",
   "execution_count": null,
   "metadata": {},
   "outputs": [],
   "source": [
    "potentialWCA.evaluate(part1,part2)"
   ]
  },
  {
   "cell_type": "code",
   "execution_count": null,
   "metadata": {},
   "outputs": [],
   "source": [
    "# Read H5 file for the energy and temperature\n",
    "f = h5py.File(basefilename + '_energytemp.h5', 'r')\n",
    "\n",
    "# List all groups (use the firs key)\n",
    "print(\"Keys: %s\" % list(f.keys()))\n",
    "a_group_key = list(f.keys())[0]\n",
    "\n",
    "# Get the data (different possibilities)\n",
    "dataET = f[a_group_key]"
   ]
  },
  {
   "cell_type": "code",
   "execution_count": null,
   "metadata": {},
   "outputs": [],
   "source": [
    "# Plot energy and temperature\n",
    "time = dataET[:,0]\n",
    "time = time - time[0]\n",
    "kineticEnergy = dataET[:,1]\n",
    "potentialEnergy = dataET[:,2]\n",
    "totalEnergy = dataET[:,3]\n",
    "temperature = dataET[:,4]\n",
    "plt.plot(time, totalEnergy)\n",
    "plt.plot(time, kineticEnergy)\n",
    "plt.xlabel('time(ns)')\n",
    "plt.ylabel('energy')"
   ]
  },
  {
   "cell_type": "code",
   "execution_count": null,
   "metadata": {},
   "outputs": [],
   "source": [
    "plt.plot(time, potentialEnergy)"
   ]
  },
  {
   "cell_type": "code",
   "execution_count": null,
   "metadata": {},
   "outputs": [],
   "source": [
    "plt.plot(time, temperature)\n",
    "plt.xlabel('time(ns)')\n",
    "plt.ylabel('temperature')"
   ]
  },
  {
   "cell_type": "code",
   "execution_count": null,
   "metadata": {},
   "outputs": [],
   "source": [
    "# Read H5 file for distinguished particle position\n",
    "f2 = h5py.File(basefilename + '.h5', 'r')\n",
    "\n",
    "# List all groups (use the firs key)\n",
    "print(\"Keys: %s\" % list(f2.keys()))\n",
    "a_group_key2 = list(f2.keys())[0]\n",
    "\n",
    "# Get the data (different possibilities)\n",
    "data = f2[a_group_key2]"
   ]
  },
  {
   "cell_type": "code",
   "execution_count": null,
   "metadata": {},
   "outputs": [],
   "source": [
    "# Plot distinguished particle position\n",
    "positionx = data[:,1]\n",
    "positiony = data[:,2]\n",
    "positionz = data[:,3]\n",
    "plt.plot(positionx, positionz)"
   ]
  },
  {
   "cell_type": "code",
   "execution_count": null,
   "metadata": {},
   "outputs": [],
   "source": [
    "# NEED TO CHECK UNITS OF KINETIC ENERGY. AT THE MOMENT KINETIC ENERGY DOMINATES COMPLETELY THE SUMS OF THE ENERGIES\n"
   ]
  },
  {
   "cell_type": "code",
   "execution_count": null,
   "metadata": {},
   "outputs": [],
   "source": []
  }
 ],
 "metadata": {
  "kernelspec": {
   "display_name": "Python 3",
   "language": "python",
   "name": "python3"
  },
  "language_info": {
   "codemirror_mode": {
    "name": "ipython",
    "version": 3
   },
   "file_extension": ".py",
   "mimetype": "text/x-python",
   "name": "python",
   "nbconvert_exporter": "python",
   "pygments_lexer": "ipython3",
   "version": "3.8.3"
  }
 },
 "nbformat": 4,
 "nbformat_minor": 4
}
