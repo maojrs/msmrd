{
 "cells": [
  {
   "cell_type": "markdown",
   "metadata": {},
   "source": [
    "# Plot pentamer formation FPT comparison plots\n",
    "\n",
    "Loads data computed in scripts and generates the plots (used in paper) comparing first passage times (FPTs) distribution between the benchmark model and MSM/RD for the pentameric ring formation example. The pentamer formation example consists of five equal patchy particles, each with two patches. The interaction potential is given by the patchy particle angular 2. it can be modified to obtain the FPT distributions of th formation of trimeric and tetrameric ring molecules as well."
   ]
  },
  {
   "cell_type": "code",
   "execution_count": null,
   "metadata": {},
   "outputs": [],
   "source": [
    "import numpy as np\n",
    "import matplotlib.pyplot as plt\n",
    "import msmrd2.tools.analysis as analysisTools\n",
    "import timeit\n",
    "from matplotlib import rc\n",
    "rc('text', usetex=True)"
   ]
  },
  {
   "cell_type": "code",
   "execution_count": null,
   "metadata": {},
   "outputs": [],
   "source": [
    "# Main parameters\n",
    "numparticles = 5\n",
    "boxsize = 6 #2.5 #10 #8 #6 #5 \n",
    "D = 1.0\n",
    "Drot = 1.0\n",
    "lagtime = 40 # 100\n",
    "rootDirectory = '../../data/pentamer/first_passage_times/'"
   ]
  },
  {
   "cell_type": "code",
   "execution_count": null,
   "metadata": {},
   "outputs": [],
   "source": [
    "# Color definitions\n",
    "c1 = '#ff3300' #'xkcd:bright orange' # 'darkorange' #'C1' # '#ff3300' # for benchmark\n",
    "c2 = '#0099ff' #'royalblue' #'royalblue' # 'C0' # '#0099ff' # for MSM/RD\n",
    "c1alt = 'xkcd:bright orange'\n",
    "c2alt = 'royalblue'\n",
    "# Alpha transparency definition\n",
    "a1 = 0.2 #0.2\n",
    "a2 = 0.7 #0.9 #0.7\n",
    "# referenceState = 'trimeric-loop' or 'tetrameric-loop' or 'pentameric-loop' (sometimes 'pentamer' for the last one)\n",
    "referenceState = 'pentameric-loop' # change to evaluate trimeric/tetrameric or pentameric formations"
   ]
  },
  {
   "cell_type": "markdown",
   "metadata": {},
   "source": [
    "## Load FPT for trimer formation data (bechmark and MSMRD)"
   ]
  },
  {
   "cell_type": "code",
   "execution_count": null,
   "metadata": {},
   "outputs": [],
   "source": [
    "# Load benchmark FPT data computed by script\n",
    "numTrajs = 600000\n",
    "filename1 = rootDirectory + 'pentamerFPTs_trajs' + str(numTrajs) + '_boxsize' + str(boxsize) + '_final.xyz'\n",
    "fpts = []\n",
    "\n",
    "with open(filename1) as file:\n",
    "    for line in file:\n",
    "        state, time = line.split(\" \")\n",
    "        if state == referenceState:\n",
    "            time = float(time)\n",
    "            fpts.append(time)\n",
    "            if len(fpts) >= 5000:\n",
    "                break\n",
    "\n",
    "# Normalize weights\n",
    "weights = np.ones_like(fpts)/float(len(fpts))\n",
    "print('The number of trajectories ending in ' + referenceState + 's is: ', len(fpts))"
   ]
  },
  {
   "cell_type": "code",
   "execution_count": null,
   "metadata": {},
   "outputs": [],
   "source": [
    "# Load FPT data obtained with MSMRD integrator\n",
    "numTrajs = 25000 #20000 #25000 \n",
    "filename = rootDirectory + 'MSMRDpentamerFPTs_trajs' + str(numTrajs) \\\n",
    "                         + '_lagt' + str(lagtime) +  '_boxsize' + str(boxsize) + '_final.xyz'\n",
    "MSMRDfpts = []\n",
    "i=1\n",
    "with open(filename) as file:\n",
    "    for line in file:\n",
    "        state, time = line.split(\" \")\n",
    "        if state == referenceState:\n",
    "            time = float(time)\n",
    "            MSMRDfpts.append(time)\n",
    "            if len(MSMRDfpts) >= 5000:\n",
    "                break\n",
    "            \n",
    "# Normalize weights\n",
    "#MSMRDfpts = MSMRDfpts[4000:9000]\n",
    "weightsMSMRD = np.ones_like(MSMRDfpts)/float(len(MSMRDfpts))\n",
    "print('The number of MSMRD trajectories ending in ' + referenceState + 's is: ', len(MSMRDfpts))"
   ]
  },
  {
   "cell_type": "markdown",
   "metadata": {},
   "source": [
    "### Calculation of FPTs and comparisons plots"
   ]
  },
  {
   "cell_type": "code",
   "execution_count": null,
   "metadata": {},
   "outputs": [],
   "source": [
    "# Compuate mean and standard deviation of bootstrapped samples of benchmark\n",
    "calculateRates = True\n",
    "numBootsrapSamples = 2000\n",
    "mfpt, fptstd = analysisTools.bootstrapping(fpts, numBootsrapSamples)\n",
    "print(\"Raw MFPTs: \", np.array(fpts).mean())\n",
    "print(\"Bootstrapping mean and std (A): \", mfpt, fptstd)\n",
    "# Compuate mean and standard deviation of bootstrapped samples of MSMRD simulation\n",
    "MSMRDmfpt, MSMRDfptstd = analysisTools.bootstrapping(MSMRDfpts, numBootsrapSamples)\n",
    "print(\"Raw MSMRD MFPTs: \",np.array(MSMRDfpts).mean())\n",
    "print(\"MSMRD bootstrapping mean and std: \", MSMRDmfpt, MSMRDfptstd)\n",
    "print(\"Trajectory lengths\")\n",
    "if calculateRates:\n",
    "    mkon = 1.0/mfpt\n",
    "    MSMRDmkon = 1.0/MSMRDmfpt\n",
    "    konstd = fptstd/(mfpt*mfpt)\n",
    "    MSMRDkonstd = MSMRDfptstd/(MSMRDmfpt*MSMRDmfpt)\n",
    "    errorKon = np.abs(mkon - MSMRDmkon)\n",
    "    relErrorKon = errorKon/mkon\n",
    "    print(\"On rates:\")\n",
    "    print(\"Bootstrapping mean and std:\", mkon, konstd)\n",
    "    print(\"Bootstrapping MSMRD mean and std:\", MSMRDmkon, MSMRDkonstd)\n",
    "    print(\"Error and relative error:\", errorKon, relErrorKon)"
   ]
  },
  {
   "cell_type": "code",
   "execution_count": null,
   "metadata": {},
   "outputs": [],
   "source": [
    "# PLOT FOR PAPER #\n",
    "# Configure figure\n",
    "fig, ax1 = plt.subplots(nrows=1, figsize=(7,5))\n",
    "fig.subplots_adjust(hspace=0)\n",
    "fsize = 18\n",
    "plt.rcParams['xtick.labelsize']=fsize\n",
    "plt.rcParams['ytick.labelsize']=fsize\n",
    "# Set outer common axes titles\n",
    "ax0 = fig.add_subplot(111, frameon=False)\n",
    "ax0.set_xlabel(r'$\\mathrm{time}$', fontsize=fsize + 4)\n",
    "ax0.set_ylabel(r'$\\mathrm{FPTs \\ distribution}$', labelpad=17, fontsize=fsize + 4)\n",
    "ax0.set_xticks([0])\n",
    "ax0.set_yticks([0])\n",
    "#hbins = range(0, 500,15)\n",
    "#hbins = range(0, 400,12)\n",
    "hbins = range(0, 200,6)\n",
    "#hbins = range(0, 300,9)\n",
    "#hbins = range(0, 100,3)\n",
    "#hbins = range(0, 33,1)\n",
    "\n",
    "\n",
    "# Plot A to unbound histogram\n",
    "#legendTitle = r'Trimeric ring'\n",
    "#legendTitle = r'Tetrameric ring'\n",
    "legendTitle = r'Pentameric ring'\n",
    "\n",
    "ax1.hist(fpts, bins = hbins, alpha=a1, color=c1, weights = weights );\n",
    "ax1.hist(fpts, bins = hbins, alpha=a2, edgecolor=c1, lw=2, histtype='step', \n",
    "         facecolor = 'None', weights = weights, label =r'$\\mathrm{Benchmark}$');\n",
    "ax1.hist(MSMRDfpts, bins = hbins, alpha=a1, color=c2, weights = weightsMSMRD);\n",
    "ax1.hist(MSMRDfpts, bins = hbins, alpha=a2, edgecolor=c2, lw=2, histtype='step', \n",
    "         weights = weightsMSMRD, label =r'$\\mathrm{MSM/RD}$');\n",
    "ax1.legend(fontsize=fsize, title=legendTitle, title_fontsize = fsize, fancybox=True)\n",
    "#ax1.text(45, 0.125, r'$\\tau = {:.2f} \\pm {:.2f}$'.format(mfpt, fptstd), fontsize=fsize, color=c1)\n",
    "#ax1.text(55, 0.11, r'$\\tau = {:.2f} \\pm {:.2f}$'.format(MSMRDmfpt, MSMRDfptstd), fontsize=fsize, color=c2alt)\n",
    "ax1.text(48, 0.11, r'$\\tau = {:.2f} \\pm {:.2f}$'.format(mfpt, fptstd), fontsize=fsize, color=c1)\n",
    "ax1.text(55, 0.10, r'$\\tau = {:.2f} \\pm {:.2f}$'.format(MSMRDmfpt, MSMRDfptstd), fontsize=fsize, color=c2alt)\n",
    "ax1.set_yticks(np.arange(0, 0.18, step=0.1));\n",
    "#ax1.set_xlim([0,33])\n",
    "#ax1.set_ylim([0,0.18])\n",
    "#ax1.set_xlim([0,400])\n",
    "ax1.set_xlim([0,200])\n",
    "\n",
    "#plt.savefig('trimerFPTs.pdf', bbox_inches='tight')\n",
    "#plt.savefig('trimerFPTs.svg', bbox_inches='tight')\n",
    "#plt.savefig('tetramerFPTs.pdf', bbox_inches='tight')\n",
    "#plt.savefig('tetramerFPTs.svg', bbox_inches='tight')\n",
    "#plt.savefig('pentamerFPTs.pdf', bbox_inches='tight')\n",
    "#plt.savefig('pentamerFPTs.svg', bbox_inches='tight')"
   ]
  },
  {
   "cell_type": "markdown",
   "metadata": {},
   "source": [
    " ## Load FPTs for pentameric $k_\\text{on}$ plot"
   ]
  },
  {
   "cell_type": "code",
   "execution_count": null,
   "metadata": {},
   "outputs": [],
   "source": [
    "# Load FPT data obtained with MSMRD integrator\n",
    "numTrajs = 20000 #20000 #25000 \n",
    "numValues = 1000\n",
    "boxsizes = [6,7,8,9,10,11]\n",
    "#boxsizes = [6,7,8,9,10]\n",
    "numBoxes = len(boxsizes)\n",
    "fpt = [[] for i in range(numBoxes)]\n",
    "MSMRDfpt = [[] for i in range(numBoxes)]\n",
    "for i, boxlen in enumerate(boxsizes):\n",
    "    filename1 = rootDirectory + 'pentamerFPTs_boxsize' + str(boxlen) + '.xyz'\n",
    "    filename2 = rootDirectory + 'MSMRDpentamerFPTs_trajs' + str(numTrajs) \\\n",
    "                         + '_lagt' + str(lagtime) +  '_boxsize' + str(boxlen) + '.xyz'\n",
    "    with open(filename1) as file:\n",
    "        for line in file:\n",
    "            state, time = line.split(\" \")\n",
    "            fpt[i].append(float(time))\n",
    "            if len(fpt[i]) >= numValues:\n",
    "                break\n",
    "    with open(filename2) as file:\n",
    "        for line in file:\n",
    "            state, time = line.split(\" \")\n",
    "            if state == 'pentameric-loop':\n",
    "                MSMRDfpt[i].append(float(time))\n",
    "                if len(MSMRDfpt[i]) >= numValues:\n",
    "                    break\n",
    "    print(boxlen, len(fpt[i]), len(MSMRDfpt[i]))"
   ]
  },
  {
   "cell_type": "code",
   "execution_count": null,
   "metadata": {},
   "outputs": [],
   "source": [
    "### Calculate meand and bootstrapping error\n",
    "numBootsrapSamples = 100\n",
    "meanKon = np.zeros(numBoxes)\n",
    "meanKonMSMRD = np.zeros(numBoxes)\n",
    "stdDevKon = np.zeros(numBoxes)\n",
    "stdDevKonMSMRD = np.zeros(numBoxes)\n",
    "errorKon = np.zeros(numBoxes)\n",
    "errorKonMSMRD = np.zeros(numBoxes)\n",
    "diffKon = np.zeros(numBoxes)\n",
    "relErrorKon = np.zeros(numBoxes)\n",
    "for i, boxlen in enumerate(boxsizes):\n",
    "    # Calculate bootstrapping samples of mean first passage times\n",
    "    mfpt, fptStdDev = analysisTools.bootstrapping(fpt[i], numBootsrapSamples)\n",
    "    MSMRDmfpt, MSMRDfptStdDev = analysisTools.bootstrapping(MSMRDfpt[i], numBootsrapSamples)\n",
    "    # Calculate on rate corresponding to bootstrapping samples\n",
    "    meanKon[i], stdDevKon[i] = 1.0/mfpt, fptStdDev/(mfpt*mfpt)\n",
    "    meanKonMSMRD[i], stdDevKonMSMRD[i] = 1.0/MSMRDmfpt, MSMRDfptStdDev/(MSMRDmfpt*MSMRDmfpt)\n",
    "    # Percentual errors\n",
    "    errorKon[i] = stdDevKon[i] #1.96*stdDevKon[i]/numBootsrapSamples\n",
    "    errorKonMSMRD[i] = stdDevKonMSMRD[i] #1.96*stdDevKonMSMRD[i]/numBootsrapSamples\n",
    "    \n",
    "    diffKon[i] = np.abs(meanKon[i] - meanKonMSMRD[i])\n",
    "    relErrorKon[i] = diffKon[i]/meanKon[i]\n",
    "    print(\"On rates for boxsize:\",boxlen)\n",
    "    print(\"  Bootstrapping mean and std:\", meanKon[i], stdDevKon[i])\n",
    "    print(\"  Bootstrapping MSMRD mean and std:\", meanKonMSMRD[i], stdDevKonMSMRD[i])\n",
    "    print(\"  Error and relative error:\", diffKon[i], relErrorKon[i])"
   ]
  },
  {
   "cell_type": "code",
   "execution_count": null,
   "metadata": {},
   "outputs": [],
   "source": [
    "# Plot on rates vs concentration:\n",
    "fig = plt.figure()\n",
    "fsize = 16\n",
    "plt.rcParams['xtick.labelsize']=fsize\n",
    "plt.rcParams['ytick.labelsize']=fsize\n",
    "ax = fig.add_subplot(111)\n",
    "linewidth = 2\n",
    "concentrations = 5/pow(5*np.array(boxsizes),3)\n",
    "# Assuming moleculas have a diameter of 5nm, the actual boxsize is 5*boxisze nm,\n",
    "# lets convert to Molar concentration\n",
    "avogadro = 6.022E23\n",
    "oneLiter2nm = 1.0E24\n",
    "concentrationsMolar = concentrations*oneLiter2nm/avogadro\n",
    "\n",
    "# Plots with shaded regions as error bars\n",
    "ax.plot(concentrationsMolar, meanKon, marker='o', markersize=6, linewidth=linewidth , color='#ff5b00', \n",
    "        label=r'$\\mathrm{Benchmark}$')\n",
    "ax.fill_between(concentrationsMolar, meanKon-errorKon, meanKon+errorKon, alpha=0.3, edgecolor='#ff5b00', \n",
    "                facecolor='#ff5b00')\n",
    "\n",
    "# Traditional error bar plots\n",
    "ax.errorbar(concentrationsMolar, meanKonMSMRD, yerr=errorKonMSMRD, marker='o', markersize=6, linestyle='--',\n",
    "            elinewidth=2, linewidth=linewidth, capsize=5, color='#4169e1', label=r'$\\mathrm{MSM/RD}$')\n",
    "\n",
    "ax.set_yscale('log')\n",
    "#ax.set_xlabel(r'$\\mathrm{Concentration}$ ($1/\\mathrm{Volume}$)', fontsize = fsize+4)\n",
    "ax.set_xlabel(r'$\\mathrm{Concentration}$ ($M$)', fontsize = fsize+4)\n",
    "ax.set_ylabel(r'$\\mathrm{log}(k_\\mathrm{on}$)', fontsize = fsize+6)\n",
    "#ax.set_yticks([0.001,.01])\n",
    "#ax.set_ylim([0,0.12])\n",
    "ax.ticklabel_format(axis=\"x\", style=\"sci\",scilimits=(0,0))\n",
    "ax.legend(fontsize=fsize, title_fontsize = fsize, fancybox=True)\n",
    "#plt.savefig('kon_pentamer.pdf', bbox_inches='tight')"
   ]
  },
  {
   "cell_type": "code",
   "execution_count": null,
   "metadata": {},
   "outputs": [],
   "source": []
  }
 ],
 "metadata": {
  "kernelspec": {
   "display_name": "Python 3",
   "language": "python",
   "name": "python3"
  },
  "language_info": {
   "codemirror_mode": {
    "name": "ipython",
    "version": 3
   },
   "file_extension": ".py",
   "mimetype": "text/x-python",
   "name": "python",
   "nbconvert_exporter": "python",
   "pygments_lexer": "ipython3",
   "version": "3.8.3"
  }
 },
 "nbformat": 4,
 "nbformat_minor": 2
}
