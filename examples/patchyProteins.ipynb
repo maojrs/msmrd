{
 "cells": [
  {
   "cell_type": "code",
   "execution_count": null,
   "metadata": {},
   "outputs": [],
   "source": [
    "import numpy as np\n",
    "import matplotlib.pyplot as plt\n",
    "import msmrd2\n",
    "import msmrd2.tools.quaternions as quats\n",
    "import msmrd2.visualization as msmrdvis\n",
    "from msmrd2.potentials import patchyProtein\n",
    "from msmrd2.integrators import overdampedLangevin as odLangevin"
   ]
  },
  {
   "cell_type": "code",
   "execution_count": null,
   "metadata": {},
   "outputs": [],
   "source": [
    "# Define two particle list of rod-like particles\n",
    "numparticles = 2\n",
    "D = 1.0\n",
    "Drot = 1.0\n",
    "pyPartlist = [] \n",
    "positionList = [np.array([1.0,0,0]), np.array([-1.,0.,0.])]\n",
    "orientationList = [ np.array([1.,0.,0.,0.]), np.array([np.cos(np.pi/2),0.,0.,np.sin(np.pi/2)])]\n",
    "for i in range(numparticles):           \n",
    "    part = msmrd2.particle(D, Drot, positionList[i], orientationList[i])\n",
    "    part.setType(i)\n",
    "    pyPartlist.append(part)"
   ]
  },
  {
   "cell_type": "code",
   "execution_count": null,
   "metadata": {},
   "outputs": [],
   "source": [
    "# Create list of particles that can be read from msmrd\n",
    "# Note the particles in this list will be independent from the python list.\n",
    "partlist = msmrd2.integrators.particleList(pyPartlist)"
   ]
  },
  {
   "cell_type": "code",
   "execution_count": null,
   "metadata": {},
   "outputs": [],
   "source": [
    "# Over-damped Langevin integrator definition\n",
    "dt = 0.00001 #0.000005\n",
    "seed = 0 # Seed = -1 used random device as seed\n",
    "bodytype = 'rigidbodyMix' # Mix indicates there can be different types of rigidbody particles\n",
    "integrator = odLangevin(dt, seed, bodytype) \n",
    "integrator.setKbT(1.0)"
   ]
  },
  {
   "cell_type": "code",
   "execution_count": null,
   "metadata": {},
   "outputs": [],
   "source": [
    "# Define boundary (choose either spherical or box)\n",
    "radius = 5.0\n",
    "sphereBoundary = msmrd2.sphere(radius,'reflective')\n",
    "integrator.setBoundary(sphereBoundary)"
   ]
  },
  {
   "cell_type": "code",
   "execution_count": null,
   "metadata": {},
   "outputs": [],
   "source": [
    "# Define Patchy Protein potential\n",
    "sigma = 1.0\n",
    "strength = 65\n",
    "patchesCoordinates1 = [np.array([1.,0.,0.]), \n",
    "                       np.array([0.,1.,0.]),\n",
    "                       np.array([-1.,0.,0.]),\n",
    "                       np.array([0.,-1.,0.]),\n",
    "                       np.array([0.,0.,1.]),\n",
    "                       np.array([0.,0.,-1.])]\n",
    "patchesCoordinates2 = [np.array([1.,0.,0.])]\n",
    "potentialPatchyProtein = patchyProtein(sigma, strength, patchesCoordinates1, patchesCoordinates2)\n",
    "integrator.setPairRigidBodyMixPotential(potentialPatchyProtein)"
   ]
  },
  {
   "cell_type": "code",
   "execution_count": null,
   "metadata": {},
   "outputs": [],
   "source": [
    "# Integrate particle list and print only positions \n",
    "timesteps = 50000000\n",
    "stride = 1000 #1000\n",
    "datafile  = open('../data/vmd/patchyProteins.xyz', 'w')\n",
    "for i in range(timesteps):\n",
    "    if i%stride == 0:\n",
    "        datafile.write(str(9) + '\\n')\n",
    "        datafile.write(str(0) + '\\n')\n",
    "    for j, part in enumerate(partlist):\n",
    "        if i%stride == 0:\n",
    "            if part.type == 0:\n",
    "                v0 = part.position\n",
    "                v1 = v0 + 0.4*sigma*quats.rotateVec(patchesCoordinates1[0], part.orientation)\n",
    "                v2 = v0 + 0.3*sigma*quats.rotateVec(patchesCoordinates1[1], part.orientation)\n",
    "                v3 = v0 + 0.3*sigma*quats.rotateVec(patchesCoordinates1[2], part.orientation)\n",
    "                v4 = v0 + 0.3*sigma*quats.rotateVec(patchesCoordinates1[3], part.orientation)\n",
    "                v5 = v0 + 0.3*sigma*quats.rotateVec(patchesCoordinates1[4], part.orientation)\n",
    "                v6 = v0 + 0.3*sigma*quats.rotateVec(patchesCoordinates1[5], part.orientation)\n",
    "                datafile.write('type_0' + ' ' + ' '.join(map(str, v0)) + '\\n')\n",
    "                datafile.write('type_2' + ' ' + ' '.join(map(str, v1)) + '\\n')\n",
    "                datafile.write('type_1' + ' ' + ' '.join(map(str, v2)) + '\\n')\n",
    "                datafile.write('type_1' + ' ' + ' '.join(map(str, v3)) + '\\n')\n",
    "                datafile.write('type_1' + ' ' + ' '.join(map(str, v4)) + '\\n')\n",
    "                datafile.write('type_1' + ' ' + ' '.join(map(str, v5)) + '\\n')\n",
    "                datafile.write('type_1' + ' ' + ' '.join(map(str, v6)) + '\\n')\n",
    "            if part.type == 1:\n",
    "                v0 = part.position\n",
    "                v1 = v0 + 0.4*sigma*quats.rotateVec(patchesCoordinates2[0], part.orientation)\n",
    "                datafile.write('type_0' + ' ' + ' '.join(map(str, v0)) + '\\n')\n",
    "                datafile.write('type_2' + ' ' + ' '.join(map(str, v1)) + '\\n')\n",
    "    integrator.integrate(partlist)\n",
    "    if i%5000 == 0:\n",
    "        print(\"Percentage complete: \", 100*i/timesteps, \"%\", end=\"\\r\")\n",
    "datafile.close()\n",
    "# Generate TCL script to visualize with VMD\n",
    "msmrdvis.generateTCL_patchyProteins(numparticles = numparticles)\n",
    "print(\"Percentage complete: \", 100, \" %\")"
   ]
  },
  {
   "cell_type": "code",
   "execution_count": null,
   "metadata": {},
   "outputs": [],
   "source": [
    "# Calculate potential for aligned and misaligned molecules\n",
    "dist = np.arange(0, 2*sigma, 0.01)\n",
    "pos1 = np.array([0., 0., 0.])\n",
    "pos2 = np.array([[i, 0., 0.] for i in dist])\n",
    "phi1 = 0.0\n",
    "phi2 = np.pi\n",
    "phi1p = np.pi\n",
    "phi2p = 0.0\n",
    "u = np.array([0.,0.,1.]) #rotationAxis\n",
    "# Quaternions that rotate phi along axis u\n",
    "theta1 = np.array([np.cos(0.5*phi1 ),\n",
    "                   np.sin(0.5*phi1 )*u[0],\n",
    "                   np.sin(0.5*phi1 )*u[1],\n",
    "                   np.sin(0.5*phi1 )*u[2]]) \n",
    "theta2 = np.array([np.cos(0.5*phi2 ),\n",
    "                   np.sin(0.5*phi2 )*u[0],\n",
    "                   np.sin(0.5*phi2 )*u[1],\n",
    "                   np.sin(0.5*phi2 )*u[2]]) \n",
    "theta1p = np.array([np.cos(0.5*phi1p ),\n",
    "                   np.sin(0.5*phi1p )*u[0],\n",
    "                   np.sin(0.5*phi1p )*u[1],\n",
    "                   np.sin(0.5*phi1p )*u[2]]) \n",
    "theta2p = np.array([np.cos(0.5*phi2p ),\n",
    "                   np.sin(0.5*phi2p )*u[0],\n",
    "                   np.sin(0.5*phi2p )*u[1],\n",
    "                   np.sin(0.5*phi2p )*u[2]]) \n",
    "\n",
    "potantialAligned = [potentialPatchyProtein.evaluate(pos1,p2,theta1,theta2, 0, 1) for p2 in pos2]\n",
    "potantialMisaligned = [potentialPatchyProtein.evaluate(pos1,p2,theta1p,theta2p, 0, 1) for p2 in pos2]"
   ]
  },
  {
   "cell_type": "code",
   "execution_count": null,
   "metadata": {},
   "outputs": [],
   "source": [
    "# Plot potential\n",
    "plt.plot(dist, potantialAligned, label = \"aligned\")\n",
    "plt.plot(dist, potantialMisaligned, label = \"misaligned\")\n",
    "plt.plot(dist, 0*dist, '--k', lw=0.5)\n",
    "plt.legend()\n",
    "plt.xlim([0,2*sigma])"
   ]
  },
  {
   "cell_type": "code",
   "execution_count": null,
   "metadata": {},
   "outputs": [],
   "source": [
    "potentialPatchyProtein.forceTorque(pos1,pos2[20],theta1p,theta2p, 0, 1)"
   ]
  },
  {
   "cell_type": "code",
   "execution_count": null,
   "metadata": {},
   "outputs": [],
   "source": []
  }
 ],
 "metadata": {
  "kernelspec": {
   "display_name": "Python [default]",
   "language": "python",
   "name": "python3"
  },
  "language_info": {
   "codemirror_mode": {
    "name": "ipython",
    "version": 3
   },
   "file_extension": ".py",
   "mimetype": "text/x-python",
   "name": "python",
   "nbconvert_exporter": "python",
   "pygments_lexer": "ipython3",
   "version": "3.6.5"
  }
 },
 "nbformat": 4,
 "nbformat_minor": 2
}
