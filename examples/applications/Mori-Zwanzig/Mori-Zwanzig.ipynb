{
 "cells": [
  {
   "cell_type": "markdown",
   "metadata": {},
   "source": [
    "# Simulation for Mori-Zwanzig formalism\n",
    "\n",
    " We implement a Langevin integrator with WCA potential to model the dynamics of a bath of particles together with a distinguished particle."
   ]
  },
  {
   "cell_type": "code",
   "execution_count": 1,
   "metadata": {},
   "outputs": [
    {
     "name": "stdout",
     "output_type": "stream",
     "text": [
      "Failed to import pyEVTK, export2visit functions will not work\n"
     ]
    }
   ],
   "source": [
    "import numpy as np\n",
    "import matplotlib.pyplot as plt\n",
    "import msmrd2\n",
    "import msmrd2.visualization as msmrdvis\n",
    "from msmrd2.integrators import langevin \n",
    "from msmrd2.potentials import WCA"
   ]
  },
  {
   "cell_type": "code",
   "execution_count": 2,
   "metadata": {},
   "outputs": [],
   "source": [
    "# Define arbitrarily large list of particles\n",
    "np.random.seed(seed=1)\n",
    "numBathParticles = 500\n",
    "numparticles = 1 + numBathParticles #Added distinguished particle (index 0)\n",
    "boxsize = 25\n",
    "D = 0.1 \n",
    "mass = 1.0\n",
    "velocity = np.zeros(3)\n",
    "pyPartlist = [] \n",
    "for i in range(numparticles):\n",
    "    overlap = True\n",
    "    while overlap:\n",
    "        if i==0:\n",
    "            position = np.array([0,0,0]) # distinguished particle always at origin\n",
    "        else:\n",
    "            position = np.array([boxsize*np.random.rand()-0.5*boxsize,\n",
    "                                 boxsize*np.random.rand()-0.5*boxsize,\n",
    "                                 boxsize*np.random.rand()-0.5*boxsize])\n",
    "        overlap = False     \n",
    "        for j in range(len(pyPartlist)):\n",
    "            if np.linalg.norm(position - pyPartlist[j].position) < 2.0:\n",
    "                overlap = True\n",
    "                continue\n",
    "                \n",
    "    \n",
    "    part = msmrd2.particle(D, position, velocity, mass)\n",
    "    if i==0:\n",
    "        part.setType(1) # distinguished particle\n",
    "    pyPartlist.append(part)"
   ]
  },
  {
   "cell_type": "code",
   "execution_count": 3,
   "metadata": {},
   "outputs": [],
   "source": [
    "# Create list of particles that can be read from msmrd\n",
    "# note the particles in this list will be independent from the python list.\n",
    "partlist = msmrd2.integrators.particleList(pyPartlist)"
   ]
  },
  {
   "cell_type": "code",
   "execution_count": 4,
   "metadata": {},
   "outputs": [],
   "source": [
    "# Over-damped Langevin integrator definition\n",
    "dt = 0.005\n",
    "seed = -1 # Seed = -1 used random device as seed\n",
    "bodytype = 'point'\n",
    "integrator = langevin(dt, seed, bodytype) "
   ]
  },
  {
   "cell_type": "code",
   "execution_count": 5,
   "metadata": {},
   "outputs": [],
   "source": [
    "# Define boundary (choose either spherical or box)\n",
    "boxBoundary = msmrd2.box(boxsize,boxsize,boxsize,'periodic')\n",
    "#boxBoundary = msmrd2.box(boxsize,boxsize,boxsize,'reflective')\n",
    "integrator.setBoundary(boxBoundary)"
   ]
  },
  {
   "cell_type": "code",
   "execution_count": 6,
   "metadata": {},
   "outputs": [],
   "source": [
    "# Define Lennard-Jones potential (rm=2^(1/6)sigma)\n",
    "epsilon = 1.0\n",
    "rm = 1.0\n",
    "sigma = rm * 2**(-1/6)\n",
    "potentialWCA = WCA(epsilon, sigma)\n",
    "integrator.setPairPotential(potentialWCA)"
   ]
  },
  {
   "cell_type": "code",
   "execution_count": 7,
   "metadata": {},
   "outputs": [
    {
     "name": "stdout",
     "output_type": "stream",
     "text": [
      "Percentage complete:  100  %\n"
     ]
    }
   ],
   "source": [
    "# Integrate the particles, save to .xyz to produce VMD output (additional overhead)\n",
    "timesteps = 20000\n",
    "stride = 10\n",
    "datafile  = open('../../../data/vmd/MoriZwanzig.xyz', 'w')\n",
    "for i in range(timesteps):\n",
    "    if i%stride == 0:\n",
    "        datafile.write(str(len(partlist)) + '\\n')\n",
    "        datafile.write(str(0) + '\\n')\n",
    "    for j, part in enumerate(partlist):\n",
    "        if i%stride == 0:\n",
    "            v0 = part.position\n",
    "            if part.type == 0:\n",
    "                datafile.write('type_0' + ' ' + ' '.join(map(str, v0)) + '\\n')\n",
    "            else:\n",
    "                datafile.write('type_1' + ' ' + ' '.join(map(str, v0)) + '\\n')\n",
    "    integrator.integrate(partlist)\n",
    "    if i%1000 == 0:\n",
    "        print(\"Percentage complete: \", 100*i/timesteps, \"%\", end=\"\\r\")\n",
    "datafile.close()\n",
    "print(\"Percentage complete: \", 100, \" %\")"
   ]
  },
  {
   "cell_type": "code",
   "execution_count": 8,
   "metadata": {},
   "outputs": [],
   "source": [
    "# Generate TCL script to visualize with VMD\n",
    "msmrdvis.generateTCL_MoriZwanzig(numparticles = numparticles, outfname = \"MoriZwanzig\", \n",
    "                              tclfname = \"../../../data/vmd/MoriZwanzig_2vmd.tcl\")"
   ]
  },
  {
   "cell_type": "markdown",
   "metadata": {},
   "source": [
    "To load the movie go to /data/vmd and run in a terminal \"vmd -e langevinLennardJones_2vmd.tcl\".\n",
    "\n",
    "\n",
    "## In case VMD is not desired\n",
    "\n",
    "In case VMD output is not desired, below we simply integrate the model and show the output directly."
   ]
  },
  {
   "cell_type": "code",
   "execution_count": 9,
   "metadata": {},
   "outputs": [
    {
     "name": "stdout",
     "output_type": "stream",
     "text": [
      "Iteration Time           Positions                               Velocites                               \n",
      "0         100.000000[ 6.77336514 -4.68136263 -2.18893359]   [ 1.09266971  0.60211756 -1.69878392]             \n",
      "                    [-0.35321036  6.05961544 11.24613906]   [ 1.05624919 -1.45540687  1.00714343]             \n",
      "1         100.005000[ 6.77703254 -4.67821619 -2.19819777]   [ 0.3742904   0.65645886 -2.00688932]             \n",
      "                    [-0.348102    6.05355501 11.25094361]   [ 0.98709364 -0.96876634  0.91467406]             \n",
      "2         100.010000[ 6.77940712 -4.67453367 -2.20625274]   [ 0.57554086  0.81655061 -1.21509918]             \n",
      "                    [-0.34291337  6.04853685 11.25698789]   [ 1.08835637 -1.03849743  1.50303885]             \n",
      "3         100.015000[ 6.78152389 -4.67114012 -2.21228962]   [ 0.27116689  0.54087027 -1.19965231]             \n",
      "                    [-0.33684806  6.04358661 11.26621583]   [ 1.33776938 -0.94159977  2.1881354 ]             \n",
      "4         100.020000[ 6.7826082  -4.66789814 -2.21846503]   [ 0.16256035  0.75591886 -1.27051168]             \n",
      "                    [-0.33087113  6.03816205 11.2766799 ]   [ 1.05300206 -1.22822152  1.99749522]             \n",
      "5         100.025000[ 6.78252028 -4.66458409 -2.22606071]   [-0.19772838  0.56970151 -1.76775865]             \n",
      "                    [-0.32517867  6.03259842 11.28560128]   [ 1.22398113 -0.99723351  1.57105755]             \n",
      "6         100.030000[ 6.78227731 -4.66164261 -2.23552653]   [ 0.10053977  0.60689213 -2.0185693 ]             \n",
      "                    [-0.3190467   6.02746915 11.2931101 ]   [ 1.22880656 -1.05447441  1.43246927]             \n",
      "7         100.035000[ 6.7840101  -4.65864534 -2.24521236]   [ 0.59257577  0.59201563 -1.8557656 ]             \n",
      "                    [-0.31100051  6.0224348  11.30029892]   [ 1.98966965 -0.95926448  1.44305617]             \n",
      "8         100.040000[ 6.78639708 -4.65628951 -2.25503446]   [ 0.36221579  0.3503173  -2.07307438]             \n",
      "                    [-0.3009409   6.01671569 11.30769371]   [ 2.03417666 -1.32838036  1.51486247]             \n",
      "9         100.045000[ 6.78772675 -4.6556234  -2.26524186]   [ 0.16965267 -0.08387346 -2.00988312]             \n",
      "                    [-0.29161117  6.01046855 11.31536346]   [ 1.69771242 -1.17047466  1.55303713]             \n",
      "10        100.050000[ 6.78751178 -4.65516757 -2.27613011]   [-0.25564198  0.26620567 -2.34541807]             \n",
      "                    [-0.28393561  6.00280735 11.3236937 ]   [ 1.37251436 -1.89400411  1.77906034]             \n",
      "11        100.055000[ 6.78578402 -4.65251394 -2.28678128]   [-0.43545978  0.79524347 -1.91505171]             \n",
      "                    [-0.27707013  5.99310945 11.33369903]   [ 1.37367852 -1.98515797  2.22306944]             \n",
      "12        100.060000[ 6.78430133 -4.64759808 -2.29541881]   [-0.15761878  1.17110047 -1.53995913]             \n",
      "                    [-0.27008153  5.98315582 11.34237723]   [ 1.42176116 -1.99629393  1.24821026]             \n",
      "13        100.065000[ 6.78412707 -4.64043474 -2.30391262]   [ 0.08791774  1.69423817 -1.85756565]             \n",
      "                    [-0.26292975  5.97320456 11.34845266]   [ 1.43894998 -1.98420842  1.18196364]             \n",
      "14        100.070000[ 6.78431134 -4.63155446 -2.31253948]   [-0.01421097  1.85787045 -1.59317835]             \n",
      "                    [-0.25561357  5.96289069 11.35411426]   [ 1.48752205 -2.1413396   1.08267401]             \n",
      "15        100.075000[ 6.78543436 -4.62233917 -2.31986472]   [ 0.46341887  1.82824882 -1.33691605]             \n",
      "                    [-0.24735613  5.95233334 11.35851773]   [ 1.81545192 -2.08160217  0.67871613]             \n",
      "16        100.080000[ 6.78817887 -4.61307738 -2.32531526]   [ 0.63438637  1.87646679 -0.8433009 ]             \n",
      "                    [-0.23646178  5.93994779 11.36165875]   [ 2.54229128 -2.87261661  0.57769145]             \n",
      "17        100.085000[ 6.79154402 -4.6032614  -2.32949179]   [ 0.71167256  2.04992455 -0.82731188]             \n",
      "                    [-0.22317162  5.92540479 11.36401213]   [ 2.77376917 -2.94458259  0.36365909]             \n",
      "18        100.090000[ 6.79466621 -4.59244089 -2.33375913]   [ 0.53720184  2.27827845 -0.87962118]             \n",
      "                    [-0.20988459  5.91053537 11.36693477]   [ 2.54104419 -3.00318668  0.80539912]             \n",
      "19        100.095000[ 6.7992661  -4.58327584 -2.33841441]   [ 1.30275525  1.38774367 -0.98249358]             \n",
      "                    [-0.19870236  5.89712614 11.37050241]   [ 1.93185003 -2.36050357  0.62165677]             \n",
      "20        100.100000[ 6.80428193 -4.57734519 -2.34337912]   [ 0.70357586  0.98451451 -1.0033887 ]             \n",
      "                    [-0.18928251  5.88593216 11.37229897]   [ 1.83608759 -2.11709102  0.09696717]             \n",
      "21        100.105000[ 6.80695674 -4.57200397 -2.34858984]   [ 0.36634826  1.15197424 -1.08089828]             \n",
      "                    [-0.18147035  5.87645026 11.37424072]   [ 1.28877803 -1.67566786  0.67973183]             \n",
      "22        100.110000[ 6.80992023 -4.56690861 -2.35454862]   [ 0.81904818  0.88616961 -1.3026156 ]             \n",
      "                    [-0.17629637  5.86785576 11.37833938]   [ 0.78081403 -1.76213059  0.95973153]             \n",
      "23        100.115000[ 6.81484432 -4.56255064 -2.36006244]   [ 1.15058858  0.85701985 -0.90291182]             \n",
      "                    [-0.17137665  5.85884272 11.38379377]   [ 1.18707258 -1.84308922  1.22202352]             \n",
      "24        100.120000[ 6.82176997 -4.55826167 -2.36595382]   [ 1.61967172  0.85856828 -1.45363872]             \n",
      "                    [-0.16524817  5.84964705 11.39090427]   [ 1.26431977 -1.83517655  1.62217901]             \n",
      "25        100.125000[ 6.82931114 -4.55324829 -2.37278276]   [ 1.39679553  1.1467836  -1.2779376 ]             \n",
      "                    [-0.15925463  5.84114683 11.40014994]   [ 1.13309802 -1.56491095  2.07608871]             \n",
      "26        100.130000[ 6.8352659  -4.54891225 -2.37916835]   [ 0.98510733  0.58763197 -1.27630109]             \n",
      "                    [-0.15383346  5.83338807 11.41199766]   [ 1.03536854 -1.53859417  2.66299691]             \n",
      "27        100.135000[ 6.84127301 -4.54643957 -2.38536227]   [ 1.41773721  0.40143815 -1.20126393]             \n",
      "                    [-0.14768215  5.82582464 11.4250426 ]   [ 1.42515557 -1.48677942  2.55498251]             \n",
      "28        100.140000[ 6.84807661 -4.54331674 -2.39029735]   [ 1.30370323  0.84769307 -0.77276927]             \n",
      "                    [-0.14005705  5.81811847 11.43723016]   [ 1.62488396 -1.59568753  2.32004097]             \n",
      "29        100.145000[ 6.85490745 -4.5371624  -2.3932442 ]   [ 1.4286318   1.61404375 -0.40597136]             \n",
      "                    [-0.1318682   5.81031731 11.44931722]   [ 1.65065496 -1.52477393  2.51478227]             \n",
      "30        100.150000[ 6.86163888 -4.53001957 -2.39473761]   [ 1.26394211  1.24308746 -0.19139117]             \n",
      "                    [-0.12369158  5.80158065 11.46163283]   [ 1.61999353 -1.96989061  2.41146162]             \n",
      "31        100.155000[ 6.86788826 -4.52275942 -2.3952564 ]   [ 1.23581077  1.66097354 -0.01612529]             \n",
      "                    [-0.11721223  5.79238338 11.47257863]   [ 0.97174798 -1.70901756  1.96685619]             \n",
      "32        100.160000[ 6.87482163 -4.5133898  -2.3942601 ]   [1.53753509 2.08687644 0.41464509]                \n",
      "                    [-0.11337173  5.78325444 11.48196031]   [ 0.56445156 -1.94255958  1.78581914]             \n",
      "33        100.165000[ 6.88158538 -4.50247861 -2.39135302]   [1.16796534 2.27759815 0.7481844 ]                \n",
      "                    [-0.11066486  5.77395158 11.48975501]   [ 0.51829706 -1.77858331  1.33205902]             \n",
      "34        100.170000[ 6.88777203 -4.49277308 -2.38771113]   [1.30669632 1.60461385 0.70857452]                \n",
      "                    [-0.10876981  5.766664   11.49572738]   [ 0.23972355 -1.13644778  1.05688902]             \n",
      "35        100.175000[ 6.89420586 -4.48506104 -2.38325747]   [1.26683371 1.48020078 1.07288844]                \n",
      "                    [-0.1082523   5.76191691 11.49977163]   [-0.03271987 -0.7623887   0.56081314]             \n",
      "36        100.180000[ 6.90126724 -4.47946553 -2.37788188]   [1.55771817 0.75800566 1.07734925]                \n",
      "                    [-0.1079233   5.75914448 11.5031755 ]   [ 0.16431674 -0.34658265  0.80073462]             \n",
      "37        100.185000[ 6.9082333  -4.47661758 -2.37275291]   [1.22870731 0.38117454 0.97423563]                \n",
      "                    [-0.1076842   5.75796177 11.50594154]   [-0.06867531 -0.12650277  0.30567998]             \n",
      "38        100.190000[ 6.91544693 -4.4746614  -2.36899672]   [1.65674491 0.40129763 0.52824141]                \n",
      "                    [-0.10849989  5.75609662 11.50890382]   [-0.25759963 -0.61955733  0.87923194]             \n",
      "39        100.195000[ 6.92403422 -4.47205863 -2.36558308]   [1.77817101 0.63980801 0.83721557]                \n",
      "                    [-0.11074016  5.75400875 11.51352768]   [-0.63850768 -0.21558935  0.97031387]             \n",
      "40        100.200000[ 6.93307076 -4.4685642  -2.36098416]   [1.83644556 0.75796434 1.00235092]                \n",
      "                    [-0.11283351  5.75306164 11.51985475]   [-0.19883264 -0.16325492  1.56051346]             \n",
      "41        100.205000[ 6.94197355 -4.46555643 -2.35717626]   [1.72466834 0.4451441  0.52080935]                \n",
      "                    [-0.11386615  5.75336668 11.52674733]   [-0.21422346  0.28526844  1.1965186 ]             \n",
      "42        100.210000[ 6.94941145 -4.46291784 -2.35307242]   [1.25049047 0.61029341 1.12072694]                \n",
      "                    [-0.11422338  5.75469609 11.53284817]   [0.0713311  0.24649828 1.24381464]                \n",
      "43        100.215000[ 6.95514139 -4.4612702  -2.34666899]   [1.04148835 0.048762   1.44064693]                \n",
      "                    [-0.11473019  5.75589599 11.5390549 ]   [-0.2740565   0.2334602   1.23887778]             \n",
      "44        100.220000[ 6.95959663 -4.46026124 -2.33941243]   [0.74060682 0.35482297 1.46197409]                \n",
      "                    [-0.11594624  5.75585282 11.54535361]   [-0.21236427 -0.2507298   1.28060896]             \n",
      "45        100.225000[ 6.96326018 -4.45982071 -2.33190727]   [ 0.72481139 -0.17861093  1.54009012]             \n",
      "                    [-0.11700901  5.75453724 11.55167479]   [-0.21274189 -0.27550238  1.24785975]             \n",
      "46        100.230000[ 6.96562481 -4.46140527 -2.32428458]   [ 0.22104308 -0.45521368  1.50898623]             \n",
      "                    [-0.11836737  5.75211466 11.55767604]   [-0.3306007  -0.69352648  1.15264297]             \n",
      "47        100.235000[ 6.96615271 -4.46360914 -2.31653443]   [-0.00988291 -0.42633645  1.59107439]             \n",
      "                    [-0.11866854  5.74865663 11.56330753]   [ 0.21012996 -0.68968807  1.09995261]             \n",
      "48        100.240000[ 6.96881716 -4.46627838 -2.30980007]   [ 1.0756625  -0.64135776  1.10267   ]             \n",
      "                    [-0.11764081  5.74439299 11.56794112]   [ 0.20096125 -1.01576635  0.75348284]             \n",
      "49        100.245000[ 6.97408644 -4.46844212 -2.30443227]   [ 1.03204801 -0.22413831  1.04445163]             \n",
      "                    [-0.11702841  5.74015218 11.57136045]   [ 0.04400222 -0.68055957  0.61424843]             \n",
      "50        100.250000[ 6.97970612 -4.46975766 -2.30024797]   [ 1.21582445 -0.30208034  0.62926677]             \n",
      "                    [-0.11666966  5.73719193 11.57401576]   [ 0.0994965  -0.50354001  0.44787526]             \n",
      "51        100.255000[ 6.9850048  -4.47224908 -2.29759753]   [ 0.90364664 -0.69448455  0.43090922]             \n",
      "                    [-0.11714063  5.73526005 11.57698973]   [-0.28788304 -0.26921014  0.74171433]             \n",
      "52        100.260000[ 6.98994394 -4.47652787 -2.29597314]   [ 1.07200985 -1.01703391  0.21884591]             \n",
      "                    [-0.11857643  5.73259834 11.58061118]   [-0.28643904 -0.79547399  0.70686489]             \n",
      "53        100.265000[ 6.99471443 -4.48084388 -2.2942997 ]   [ 0.83618759 -0.70936959  0.45053203]             \n",
      "                    [-0.12048882  5.72843305 11.58350238]   [-0.47851601 -0.8706432   0.44961422]             \n",
      "54        100.270000[ 6.99841344 -4.4851585  -2.2933325 ]   [ 0.64341743 -1.0164765  -0.06365496]             \n",
      "                    [-0.12358928  5.72300677 11.58700898]   [-0.76167074 -1.29986922  0.95302861]             \n",
      "55        100.275000[ 7.00222091 -4.4894966  -2.29418208]   [ 0.87956713 -0.71876465 -0.27617389]             \n",
      "                    [-0.12714473  5.7169283  11.59217947]   [-0.66050815 -1.13151726  1.11516508]             \n",
      "56        100.280000[ 7.00546361 -4.49262465 -2.29475793]   [ 0.41751386 -0.53245644  0.04583301]             \n",
      "                    [-0.13103067  5.71027125 11.59714865]   [-0.89386708 -1.53130494  0.87250605]             \n",
      "57        100.285000[ 7.00763407 -4.49491641 -2.29448113]   [ 0.45066956 -0.38424756  0.06488702]             \n",
      "                    [-0.13470168  5.70187914 11.60138731]   [-0.57453519 -1.82553827  0.82295921]             \n"
     ]
    },
    {
     "name": "stdout",
     "output_type": "stream",
     "text": [
      "58        100.290000[ 7.00973476 -4.49728074 -2.29318713]   [ 0.38960565 -0.56148279  0.45271299]             \n",
      "                    [-0.13841383  5.69383555 11.6050537 ]   [-0.91032805 -1.39189618  0.64359718]             \n",
      "59        100.295000[ 7.01136445 -4.50009653 -2.28912578]   [ 0.26227229 -0.5648353   1.17182603]             \n",
      "                    [-0.14235513  5.68561799 11.60975701]   [-0.66619132 -1.89512938  1.23772791]             \n",
      "60        100.300000[ 7.01282765 -4.50319492 -2.28288186]   [ 0.3230084  -0.67452028  1.32574336]             \n",
      "                    [-0.14556201  5.67596383 11.6152814 ]   [-0.61656121 -1.96653342  0.97202648]             \n",
      "61        100.305000[ 7.01527323 -4.50633698 -2.27635812]   [ 0.65522318 -0.58230081  1.28375185]             \n",
      "                    [-0.14826615  5.66618302 11.61907817]   [-0.46509222 -1.94579141  0.54668352]             \n",
      "62        100.310000[ 7.01724467 -4.50821961 -2.26955396]   [ 0.13335192 -0.17075137  1.43791051]             \n",
      "                    [-0.15072991  5.65716943 11.62110923]   [-0.52041133 -1.6596444   0.26573984]             \n",
      "63        100.315000[ 7.01854307 -4.50836501 -2.26312681]   [0.38600797 0.11259154 1.13295241]                \n",
      "                    [-0.15291378  5.65045828 11.6235076 ]   [-0.3531395  -1.02481634  0.693608  ]             \n",
      "64        100.320000[ 7.01898288 -4.50903304 -2.25644241]   [-0.21008223 -0.37980726  1.54080509]             \n",
      "                    [-0.15502517  5.64465329 11.62561153]   [-0.49141497 -1.29717828  0.14796362]             \n",
      "65        100.325000[ 7.01757368 -4.51145175 -2.2490193 ]   [-0.35359883 -0.58767393  1.4284404 ]             \n",
      "                    [-0.15808522  5.63871699 11.6257544 ]   [-0.73260427 -1.07734088 -0.0908165 ]             \n",
      "66        100.330000[ 7.01638437 -4.51347737 -2.24169132]   [-0.1221253  -0.22257365  1.50275129]             \n",
      "                    [-0.16312718  5.63398053 11.62523378]   [-1.28418154 -0.81724583 -0.1174333 ]             \n",
      "67        100.335000[ 7.01551269 -4.51512795 -2.23602921]   [-0.22654479 -0.43765886  0.76209081]             \n",
      "                    [-0.16983189  5.62975869 11.62497672]   [-1.39770143 -0.8714899   0.01461007]             \n",
      "68        100.340000[ 7.01438986 -4.51531957 -2.23309105]   [-0.22258979  0.36100812  0.41317335]             \n",
      "                    [-0.1768303   5.62535866 11.62495268]   [-1.40166256 -0.88851919 -0.02422474]             \n",
      "69        100.345000[ 7.01396496 -4.51374213 -2.22949193]   [0.05263229 0.26997149 1.02647749]                \n",
      "                    [-0.18508003  5.62188532 11.6254267 ]   [-1.89822849 -0.50081751  0.21383279]             \n",
      "70        100.350000[ 7.01372778 -4.51274133 -2.22404428]   [-0.1475064   0.13034594  1.15257989]             \n",
      "                    [-0.19500794  5.61961145 11.62643851]   [-2.07293618 -0.4087297   0.19088961]             \n",
      "71        100.355000[ 7.01135859 -4.51155265 -2.21976227]   [-0.80016956  0.34512734  0.56022615]             \n",
      "                    [-0.20401119  5.61787265 11.62766103]   [-1.52836458 -0.28679326  0.29812126]             \n",
      "72        100.360000[ 7.00686372 -4.50969266 -2.21705798]   [-0.99777879  0.39886753  0.52148733]             \n",
      "                    [-0.21187456  5.61731457 11.62842924]   [-1.616984    0.06356145  0.00916321]             \n",
      "73        100.365000[ 7.00194489 -4.50872567 -2.21444635]   [-0.9697523  -0.01207101  0.52316745]             \n",
      "                    [-0.21939492  5.61725493 11.6290605 ]   [-1.39116013 -0.08741726  0.24333821]             \n",
      "74        100.370000[ 6.99732113 -4.50811128 -2.21234285]   [-0.87975354  0.25782581  0.31823002]             \n",
      "                    [-0.22638908  5.6154869  11.62933935]   [-1.40650294 -0.61979447 -0.13179703]             \n",
      "75        100.375000[ 6.99342642 -4.50776165 -2.20995053]   [-0.67812936 -0.11797403  0.63869942]             \n",
      "                    [-0.23474061  5.6133078  11.62944403]   [-1.93410949 -0.25184711  0.17366745]             \n",
      "76        100.380000[ 6.99004906 -4.50873819 -2.20725247]   [-0.67281557 -0.27264145  0.44052363]             \n",
      "                    [-0.24487477  5.61246227 11.62951751]   [-2.11955397 -0.08636134 -0.14427391]             \n",
      "77        100.385000[ 6.98794026 -4.50986478 -2.20532418]   [-0.17070263 -0.17799506  0.33079352]             \n",
      "                    [-0.25463618  5.61181284 11.62921048]   [-1.78501012 -0.17341338  0.02146032]             \n",
      "78        100.390000[ 6.98735524 -4.51105733 -2.20323996]   [-0.06330747 -0.29902306  0.50289389]             \n",
      "                    [-0.263512    5.61032758 11.62969869]   [-1.76531801 -0.42068936  0.17382493]             \n",
      "79        100.395000[ 6.98787396 -4.51289167 -2.2002974 ]   [ 0.2707955  -0.43471466  0.67412853]             \n",
      "                    [-0.27204762  5.60782229 11.62923192]   [-1.6489286  -0.58142582 -0.36053115]             \n",
      "80        100.400000[ 6.98875219 -4.51595141 -2.19787306]   [ 0.0804996  -0.78918094  0.29560904]             \n",
      "                    [-0.28048015  5.60440275 11.62784894]   [-1.7240845  -0.78639169 -0.1926629 ]             \n",
      "81        100.405000[ 6.98960599 -4.52052253 -2.19743457]   [ 0.26101875 -1.0392674  -0.12021292]             \n",
      "                    [-0.28838458  5.59903489 11.62835651]   [-1.43768725 -1.36075022  0.39568951]             \n",
      "82        100.410000[ 6.99046571 -4.52648364 -2.19747496]   [ 0.08286855 -1.34517557  0.10405848]             \n",
      "                    [-0.29413965  5.59195079 11.62911243]   [-0.86434276 -1.4728911  -0.09332118]             \n",
      "83        100.415000[ 6.99053404 -4.53251094 -2.19562872]   [-0.05553555 -1.06574512  0.63443731]             \n",
      "                    [-0.29873111  5.5851559  11.62784154]   [-0.97224022 -1.24506421 -0.41503209]             \n",
      "84        100.420000[ 6.98947546 -4.5376719  -2.19361212]   [-0.3678961  -0.99863711  0.1722028 ]             \n",
      "                    [-0.30445811  5.57857317 11.62534617]   [-1.31855756 -1.38802803 -0.58311923]             \n",
      "85        100.425000[ 6.98746924 -4.54294044 -2.19327515]   [-0.43459253 -1.10878112 -0.03741776]             \n",
      "                    [-0.31017716  5.57111726 11.62335823]   [-0.96906421 -1.59433584 -0.21205463]             \n",
      "86        100.430000[ 6.98481873 -4.5498591  -2.19266261]   [-0.62561073 -1.65868022  0.28243419]             \n",
      "                    [-0.31579153  5.56387667 11.62193603]   [-1.27668451 -1.30189992 -0.35682759]             \n",
      "87        100.435000[ 6.98120416 -4.55864231 -2.190965  ]   [-0.82021776 -1.85460609  0.39661001]             \n",
      "                    [-0.32318603  5.55813204 11.61988063]   [-1.68111566 -0.99595293 -0.46533103]             \n",
      "88        100.440000[ 6.9764587  -4.56691546 -2.18799513]   [-1.07796424 -1.45465443  0.79134035]             \n",
      "                    [-0.3317737   5.55358439 11.61740524]   [-1.75395002 -0.82310699 -0.52482314]             \n",
      "89        100.445000[ 6.9704956  -4.57488223 -2.18530689]   [-1.30727816 -1.73205394  0.28395294]             \n",
      "                    [-0.340672    5.5507188  11.61428152]   [-1.805373   -0.32312788 -0.72466651]             \n",
      "90        100.450000[ 6.96317933 -4.58498425 -2.18471002]   [-1.61922795 -2.30875064 -0.04520233]             \n",
      "                    [-0.34969847  5.55003667 11.61236319]   [-1.80521216  0.0502727  -0.0426635 ]             \n",
      "91        100.455000[ 6.95524807 -4.59615855 -2.18486467]   [-1.55327674 -2.16097159 -0.01665982]             \n",
      "                    [-0.35945593  5.54974827 11.61259601]   [-2.09777204 -0.16563064  0.13578863]             \n",
      "92        100.460000[ 6.94882554 -4.60754669 -2.18499993]   [-1.015737   -2.39428184 -0.03744131]             \n",
      "                    [-0.3704153   5.54949961 11.61186845]   [-2.28597708  0.06616465 -0.42681302]             \n",
      "93        100.465000[ 6.94350157 -4.61858717 -2.1853357 ]   [-1.11385072 -2.02191257 -0.09686719]             \n",
      "                    [-0.38038168  5.54876253 11.60925801]   [-1.70057365 -0.36099651 -0.61736095]             \n",
      "94        100.470000[ 6.93846908 -4.62886331 -2.1854544 ]   [-0.89914634 -2.08854212  0.04938667]             \n",
      "                    [-0.38883303  5.54555074 11.60558479]   [-1.67996769 -0.92371648 -0.85192585]             \n",
      "95        100.475000[ 6.93424593 -4.63905216 -2.18575684]   [-0.79011008 -1.98699755 -0.17036533]             \n",
      "                    [-0.3965329   5.54155025 11.60155477]   [-1.39998184 -0.67648064 -0.76008471]             \n",
      "96        100.480000[ 6.93046533 -4.65056834 -2.18731597]   [-0.7221299  -2.61947377 -0.45328562]             \n",
      "                    [-0.40293718  5.53584047 11.59778595]   [-1.16172898 -1.60743226 -0.74744042]             \n",
      "97        100.485000[ 6.92731178 -4.66319419 -2.18911557]   [-0.53929301 -2.43086695 -0.26655404]             \n",
      "                    [-0.40968661  5.52747691 11.59473882]   [-1.53804181 -1.73799088 -0.47141297]             \n",
      "98        100.490000[ 6.92437867 -4.67384082 -2.19048771]   [-0.63394984 -1.82778783 -0.28230338]             \n",
      "                    [-0.41738212  5.51860784 11.59213589]   [-1.54016078 -1.80963814 -0.56976075]             \n",
      "99        100.495000[ 6.92319925 -4.683734   -2.19095905]   [ 0.16218111 -2.12948422  0.09377045]             \n",
      "                    [-0.42604297  5.50915661 11.58864988]   [-1.92418282 -1.97085499 -0.82464123]             \n"
     ]
    }
   ],
   "source": [
    "# Integrate particle list and print only positions (prints positions and orientations of both particles)\n",
    "timesteps = 100\n",
    "print('{:<10s}{:<15s}{:<40s}{:<40s}'.format(\"Iteration\", \"Time\", \"Positions\", \"Velocites\"))\n",
    "for i in range(timesteps):\n",
    "    print('{:<10d}{:<10f}{:<40s}{:<50s}'.format(i, integrator.clock, str(partlist[0].position), str(partlist[0].velocity)))\n",
    "    print('{:<10s}{:<10s}{:<40s}{:<50s}'.format(str(\" \"), str(\" \"), str(partlist[1].position), str(partlist[1].velocity)))\n",
    "    integrator.integrate(partlist)"
   ]
  },
  {
   "cell_type": "markdown",
   "metadata": {},
   "source": [
    "# Calculate and plot potential\n",
    "\n",
    "Plots the Lennard jones potential for a set of given parameters:"
   ]
  },
  {
   "cell_type": "code",
   "execution_count": 10,
   "metadata": {},
   "outputs": [
    {
     "data": {
      "image/png": "[encoded data removed]",
      "text/plain": [
       "<Figure size 432x288 with 1 Axes>"
      ]
     },
     "metadata": {
      "needs_background": "light"
     },
     "output_type": "display_data"
    }
   ],
   "source": [
    "# Redefine potential\n",
    "epsilon = 1\n",
    "rm = 1.0\n",
    "sigma = rm * 2**(-1/6)\n",
    "cutOff = 5\n",
    "potentialWCA = WCA(epsilon, sigma)\n",
    "\n",
    "# Construct evaluate function\n",
    "def WCAevaluate(r):\n",
    "    p1 = np.zeros(3)\n",
    "    p2 = np.array([r,0,0])\n",
    "    vel = np.zeros(3)\n",
    "    part1 = msmrd2.particle(1.0, p1, vel, 1)\n",
    "    part2 = msmrd2.particle(1.0, p2, vel, 1)\n",
    "    return potentialWCA.evaluate(part1, part2)\n",
    "\n",
    "rarray = np.linspace(0.1,5,100)\n",
    "V_WCA = [WCAevaluate(r) for r in rarray]\n",
    "plt.plot(rarray, V_WCA)\n",
    "plt.xlabel(\"Distance r\")\n",
    "plt.ylabel(\"WCA potential\")\n",
    "plt.ylim([-1.5,3])\n",
    "plt.show()"
   ]
  },
  {
   "cell_type": "code",
   "execution_count": null,
   "metadata": {},
   "outputs": [],
   "source": []
  }
 ],
 "metadata": {
  "kernelspec": {
   "display_name": "Python 3",
   "language": "python",
   "name": "python3"
  },
  "language_info": {
   "codemirror_mode": {
    "name": "ipython",
    "version": 3
   },
   "file_extension": ".py",
   "mimetype": "text/x-python",
   "name": "python",
   "nbconvert_exporter": "python",
   "pygments_lexer": "ipython3",
   "version": "3.8.3"
  }
 },
 "nbformat": 4,
 "nbformat_minor": 2
}
