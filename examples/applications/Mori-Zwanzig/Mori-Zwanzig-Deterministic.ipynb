{
 "cells": [
  {
   "cell_type": "markdown",
   "metadata": {},
   "source": [
    "# Simulation for Mori-Zwanzig formalism (deterministic)\n",
    "\n",
    " We implement a Langevin integrator with WCA potential to model the dynamics of a bath of particles together with a distinguished particle without any noise (Actually Hamilton equations using an ABOBA algorithm without noise)"
   ]
  },
  {
   "cell_type": "code",
   "execution_count": null,
   "metadata": {},
   "outputs": [],
   "source": [
    "import numpy as np\n",
    "import matplotlib.pyplot as plt\n",
    "import msmrd2\n",
    "import msmrd2.visualization as msmrdvis\n",
    "from msmrd2.integrators import integratorMoriZwanzigDeterministic \n",
    "from msmrd2.potentials import WCA, harmonic\n",
    "import msmrd2.tools.particleTools as particleTools"
   ]
  },
  {
   "cell_type": "markdown",
   "metadata": {},
   "source": [
    "## Units\n",
    "\n",
    "### Boltzman constant\n",
    "- $k_B = 1.38064852 \\times 10^{-23} \\frac{m^2}{s^2} \\frac{kg}{K} \\left(= \\frac{nm^2}{ns^2}\\frac{kg}{K}\\right)$.\n",
    "\n",
    "### Basic units\n",
    "- Length (l): nanometers (nm)\n",
    "- Energy ($\\epsilon$) : $k_B T = (g/mol) \\frac{nm^2}{ns^2}=1$\n",
    "- Mass (m): gram/mol (g/mol)\n",
    "\n",
    "### Derived units\n",
    "- Time: $l\\sqrt{m/\\epsilon} = nm$\n",
    "- Temperature: $\\epsilon/k_B =$ Kelvin ($K$)\n",
    "- Force: $\\epsilon/l = kg \\frac{nm}{ns^2}$\n",
    "\n",
    "### Reduced quantities (dimensionless)\n",
    "- Reduced pair potential: $U^* = U/\\epsilon$\n",
    "- Reduced force: $F^* = F l/\\epsilon$\n",
    "- Reduced distance: $r^* = r/l$\n",
    "- Reduced density: $\\rho^*=\\rho l^3$\n",
    "- Reduced Temperature: $T^* = k_B T/\\epsilon$\n",
    "- Reduced Pressure: $P^* = Pl^3/\\epsilon$"
   ]
  },
  {
   "cell_type": "code",
   "execution_count": null,
   "metadata": {},
   "outputs": [],
   "source": [
    "# Main parameters\n",
    "numBathParticles = 500 #500\n",
    "numparticles = 1 + numBathParticles #Added distinguished particle (index 0)\n",
    "Gamma = 0.3 #30 # Friction coefficient (units of KbT/D = mass over time (gram/mol)/ns)\n",
    "particlemass = 18.0 # (g/mol) approximately mass of H20\n",
    "distinguishedParticleMass = 3 * particlemass # (kg)\n",
    "distinguishedTypes = [1]\n",
    "\n",
    "numSimulations = 500 #250 #500\n",
    "boxsize = 8\n",
    "particleDiameter = 0.3 #nm\n",
    "separationDistance = 2*particleDiameter # minimum separation distance for initial condition\n",
    "# For computations, we assume KbT=1, thus the force F must be: F=KbT f, where f is the force computed\n",
    "# from the potential. This means the plotted potential is on reduced units (not the distances though);\n",
    "KbT = 0.01\n",
    "sigmavel=2*KbT*Gamma\n",
    "seed = -1 # Seed = -1 used random device as seed\n",
    "\n",
    "# Define arbitrarily large list of particles (velocities assumed zero at initial position)\n",
    "partlist = particleTools.randomLangevinParticleVelocityList(numparticles, boxsize, separationDistance,sigmavel,\n",
    "                                                        particlemass, seed, distinguishedParticleOrigin=False)\n",
    "# Set distinguished particle (default type is zero)\n",
    "partlist[0].setType(1)\n",
    "partlist[0].setMass(distinguishedParticleMass)"
   ]
  },
  {
   "cell_type": "code",
   "execution_count": null,
   "metadata": {},
   "outputs": [],
   "source": [
    "# Over-damped Langevin integrator definition\n",
    "dt = 0.05 #0.2\n",
    "seed = -1 # Seed = -1 used random device as seed\n",
    "bodytype = 'point'\n",
    "integrator = integratorMoriZwanzigDeterministic(dt, seed, bodytype, Gamma) \n",
    "integrator.setKbT(KbT)"
   ]
  },
  {
   "cell_type": "code",
   "execution_count": null,
   "metadata": {},
   "outputs": [],
   "source": [
    "# Define boundary (choose either spherical or box)\n",
    "boxBoundary = msmrd2.box(boxsize,boxsize,boxsize,'periodic')\n",
    "#boxBoundary = msmrd2.box(boxsize,boxsize,boxsize,'reflective')\n",
    "integrator.setBoundary(boxBoundary)\n",
    "integrator.setDistinguishedTypes(distinguishedTypes)"
   ]
  },
  {
   "cell_type": "code",
   "execution_count": null,
   "metadata": {},
   "outputs": [],
   "source": [
    "# Define WCA potential (rm=2^(1/6)sigma)\n",
    "epsilon = 1.0\n",
    "rm = particleDiameter\n",
    "sigma = rm * 2**(-1/6)\n",
    "forceCapVal = 100.0\n",
    "potentialWCA = WCA(epsilon, sigma)\n",
    "potentialWCA.setForceCapValue(forceCapVal)\n",
    "integrator.setAuxPairPotential(potentialWCA) # Aux so it can be saved into aux variable"
   ]
  },
  {
   "cell_type": "code",
   "execution_count": null,
   "metadata": {},
   "outputs": [],
   "source": [
    "# Define external potential\n",
    "minima = np.array([0.,0.,0.])\n",
    "kconstant = np.array([0.3,0.3,0.3])\n",
    "partTypes = [1] # Only acts on particle types one\n",
    "scalefactor = 1\n",
    "externalPotential = harmonic(minima, kconstant, partTypes, scalefactor)\n",
    "integrator.setExternalPotential(externalPotential)"
   ]
  },
  {
   "cell_type": "code",
   "execution_count": null,
   "metadata": {},
   "outputs": [],
   "source": [
    "# Integrate the particles, save to .xyz to produce VMD output (additional overhead)\n",
    "timesteps = 2000\n",
    "stride = 5\n",
    "datafile  = open('../../../data/vmd/MoriZwanzigDeterministic.xyz', 'w')\n",
    "for i in range(timesteps):\n",
    "    if i%stride == 0:\n",
    "        datafile.write(str(len(partlist)) + '\\n')\n",
    "        datafile.write(str(0) + '\\n')\n",
    "    for j, part in enumerate(partlist):\n",
    "        if i%stride == 0:\n",
    "            v0 = part.position\n",
    "            if part.type == 0:\n",
    "                datafile.write('type_0' + ' ' + ' '.join(map(str, v0)) + '\\n')\n",
    "            else:\n",
    "                datafile.write('type_1' + ' ' + ' '.join(map(str, v0)) + '\\n')\n",
    "    integrator.integrate(partlist)\n",
    "    if i%1000 == 0:\n",
    "        print(\"Percentage complete: \", 100*i/timesteps, \"%\", end=\"\\r\")\n",
    "datafile.close()\n",
    "print(\"Percentage complete: \", 100, \" %\")"
   ]
  },
  {
   "cell_type": "code",
   "execution_count": null,
   "metadata": {},
   "outputs": [],
   "source": [
    "# Generate TCL script to visualize with VMD\n",
    "msmrdvis.generateTCL_MoriZwanzig(numparticles = numparticles, outfname = \"MoriZwanzigDeterministic\", \n",
    "                              tclfname = \"../../../data/vmd/MoriZwanzigDeterministic_2vmd.tcl\", \n",
    "                                 particleDiameter = particleDiameter)"
   ]
  },
  {
   "cell_type": "markdown",
   "metadata": {},
   "source": [
    "To load the movie go to /data/vmd and run in a terminal \"vmd -e langevinLennardJones_2vmd.tcl\".\n",
    "\n",
    "\n",
    "## In case VMD is not desired\n",
    "\n",
    "In case VMD output is not desired, below we simply integrate the model and show the output directly."
   ]
  },
  {
   "cell_type": "code",
   "execution_count": null,
   "metadata": {},
   "outputs": [],
   "source": [
    "# Integrate particle list and print only positions (prints positions and orientations of both particles)\n",
    "timesteps = 100\n",
    "print('{:<10s}{:<15s}{:<40s}{:<40s}'.format(\"Iteration\", \"Time\", \"Positions\", \"Velocites\"))\n",
    "for i in range(timesteps):\n",
    "    print('{:<10d}{:<10f}{:<40s}{:<50s}'.format(i, integrator.clock, str(partlist[0].position), str(partlist[0].velocity)))\n",
    "    print('{:<10s}{:<10s}{:<40s}{:<50s}'.format(str(\" \"), str(\" \"), str(partlist[1].position), str(partlist[1].velocity)))\n",
    "    integrator.integrate(partlist)"
   ]
  }
 ],
 "metadata": {
  "kernelspec": {
   "display_name": "Python 3",
   "language": "python",
   "name": "python3"
  },
  "language_info": {
   "codemirror_mode": {
    "name": "ipython",
    "version": 3
   },
   "file_extension": ".py",
   "mimetype": "text/x-python",
   "name": "python",
   "nbconvert_exporter": "python",
   "pygments_lexer": "ipython3",
   "version": "3.8.3"
  }
 },
 "nbformat": 4,
 "nbformat_minor": 2
}
