{
 "cells": [
  {
   "cell_type": "code",
   "execution_count": null,
   "metadata": {},
   "outputs": [],
   "source": [
    "import msmrd2\n",
    "import numpy as np\n",
    "import matplotlib.pyplot as plt"
   ]
  },
  {
   "cell_type": "code",
   "execution_count": null,
   "metadata": {},
   "outputs": [],
   "source": [
    "# Define Patchy Particle potential\n",
    "sigma = 1.0\n",
    "strength = 100.0\n",
    "patchesCoordinates = [np.array([1.,0.,0.])]\n",
    "patchyParticle = msmrd2.potentials.patchyParticle(sigma, strength, patchesCoordinates)"
   ]
  },
  {
   "cell_type": "code",
   "execution_count": null,
   "metadata": {},
   "outputs": [],
   "source": [
    "dist = np.arange(0, 2, 0.01)\n",
    "pos1 = np.array([0., 0., 0.])\n",
    "pos2 = np.array([[i, 0., 0.] for i in dist])\n",
    "phi1 = 0.0\n",
    "phi2 = np.pi\n",
    "phi1p = np.pi/4.0\n",
    "phi2p = 0.0\n",
    "u = np.array([0.,0.,1.]) #rotationAxis\n",
    "# Quaternions that rotate phi along axis u\n",
    "theta1 = np.array([np.cos(0.5*phi1 ),\n",
    "                   np.sin(0.5*phi1 )*u[0],\n",
    "                   np.sin(0.5*phi1 )*u[1],\n",
    "                   np.sin(0.5*phi1 )*u[2]]) \n",
    "theta2 = np.array([np.cos(0.5*phi2 ),\n",
    "                   np.sin(0.5*phi2 )*u[0],\n",
    "                   np.sin(0.5*phi2 )*u[1],\n",
    "                   np.sin(0.5*phi2 )*u[2]]) \n",
    "theta1p = np.array([np.cos(0.5*phi1p ),\n",
    "                   np.sin(0.5*phi1p )*u[0],\n",
    "                   np.sin(0.5*phi1p )*u[1],\n",
    "                   np.sin(0.5*phi1p )*u[2]]) \n",
    "theta2p = np.array([np.cos(0.5*phi2p ),\n",
    "                   np.sin(0.5*phi2p )*u[0],\n",
    "                   np.sin(0.5*phi2p )*u[1],\n",
    "                   np.sin(0.5*phi2p )*u[2]]) \n",
    "\n",
    "potantialAligned = [patchyParticle.evaluate(pos1,p2,theta1,theta2) for p2 in pos2]\n",
    "potantialMisaligned = [patchyParticle.evaluate(pos1,p2,theta1p,theta2p) for p2 in pos2]"
   ]
  },
  {
   "cell_type": "code",
   "execution_count": null,
   "metadata": {},
   "outputs": [],
   "source": [
    "plt.plot(dist, potantialAligned, label = \"aligned\")\n",
    "plt.plot(dist, potantialMisaligned, label = \"misaligned\")\n",
    "plt.plot(dist, 0*dist, '--k', lw=0.5)\n",
    "plt.legend()\n",
    "plt.xlim([0,2])"
   ]
  },
  {
   "cell_type": "code",
   "execution_count": null,
   "metadata": {},
   "outputs": [],
   "source": [
    "patchyParticle.forceTorque(pos1,pos2[20],theta1p,theta2p)"
   ]
  },
  {
   "cell_type": "code",
   "execution_count": null,
   "metadata": {},
   "outputs": [],
   "source": [
    "def U(x, sigma, xstar, xcritical, eps, a, b):\n",
    "    if (xstar>xcritical):\n",
    "        raise ValueError('xstar should be smaller than xcritical.')\n",
    "    resultm2 = np.array([])\n",
    "    resultm1 = np.array([])\n",
    "    result0 = np.array([])\n",
    "    x0 = x[x<0]\n",
    "    if len(x0) > 0:\n",
    "        xm2 = x0[x0 < -xcritical]\n",
    "        resultm2 = 0.0*xm2\n",
    "        xm1 = x0[x0 >= -xcritical]\n",
    "        xm1 = xm1[xm1 < -xstar]\n",
    "        resultm1 = eps*b*(xcritical/sigma + xm1/sigma)**2\n",
    "        x0 = x0[x0 >= -xstar]\n",
    "        result0 = eps*(1.0 - a*(x0/sigma)**2)\n",
    "    x1 = x[x>=0]\n",
    "    x1 = x1[x1<xstar]\n",
    "    result1 = eps*(1.0 - a*(x1/sigma)**2)\n",
    "    x2 = x[x>=xstar]\n",
    "    x2 = x2[x2<xcritical]\n",
    "    result2 = eps*b*(xcritical/sigma - x2/sigma)**2\n",
    "    x3 = x[x>=xcritical]\n",
    "    result3 = 0.0*x3 \n",
    "    return np.concatenate((resultm2, resultm1, result0, result1, result2, result3))"
   ]
  },
  {
   "cell_type": "code",
   "execution_count": null,
   "metadata": {},
   "outputs": [],
   "source": [
    "def calculateContinuityParametrs(sigma, xstar, a):\n",
    "    xcritical = sigma**2/(a*xstar)\n",
    "    b = (1.0 - a*(xstar/sigma)**2)/(xcritical/sigma - xstar/sigma)**2\n",
    "    return xcritical, b\n",
    "def calculateContinuityParametrs2(sigma, xstar, a):\n",
    "    xcritical = sigma**2/(a*xstar)\n",
    "    b = -(1.0 - a*(xstar/sigma)**2)/(xcritical/sigma - xstar/sigma)**2\n",
    "    return xcritical, b"
   ]
  },
  {
   "cell_type": "code",
   "execution_count": null,
   "metadata": {},
   "outputs": [],
   "source": [
    "sigma = 1.0\n",
    "# Repulsive part\n",
    "eps = 100.0\n",
    "a = 1.0\n",
    "xstar = 0.85*sigma\n",
    "xcritical, b = calculateContinuityParametrs(sigma,xstar,a)\n",
    "# Attractive patches part\n",
    "eps2 = -20.0\n",
    "a2 = 20.0\n",
    "xstar2 = 0.1*sigma\n",
    "xcritical2, b2 = calculateContinuityParametrs(sigma,xstar2,a2)\n",
    "# Isotropic attractive\n",
    "eps3 = -10.0\n",
    "a3 = 0.5#0.55\n",
    "xstar3 = 0.85*sigma\n",
    "xcritical3, b3 = calculateContinuityParametrs(sigma,xstar3,a3)"
   ]
  },
  {
   "cell_type": "code",
   "execution_count": null,
   "metadata": {},
   "outputs": [],
   "source": [
    "x = np.arange(0,2.0*sigma,0.001)\n",
    "y1 = U(x, sigma, xstar, xcritical, eps, a, b)\n",
    "y21 = U(x - sigma, sigma, xstar2, xcritical2, eps2, a2, b2)\n",
    "y22 = U(x + sigma, sigma, xstar2, xcritical2, eps2, a2, b2)\n",
    "y3 = U(x, sigma, xstar3, xcritical3, eps3, a3, b3)\n",
    "ym = y1 + y21 + y3\n",
    "yp = y1 + y22 + y3\n",
    "plt.plot(x,ym, '-b')\n",
    "plt.plot(x,yp, '-r')\n",
    "plt.plot(x, 0*x, '--k', lw=0.5)\n",
    "plt.xlim([0, 2*sigma])\n",
    "#plt.ylim([-25.0, 100])\n"
   ]
  },
  {
   "cell_type": "code",
   "execution_count": null,
   "metadata": {},
   "outputs": [],
   "source": []
  }
 ],
 "metadata": {
  "kernelspec": {
   "display_name": "Python 3",
   "language": "python",
   "name": "python3"
  },
  "language_info": {
   "codemirror_mode": {
    "name": "ipython",
    "version": 3
   },
   "file_extension": ".py",
   "mimetype": "text/x-python",
   "name": "python",
   "nbconvert_exporter": "python",
   "pygments_lexer": "ipython3",
   "version": "3.6.5"
  }
 },
 "nbformat": 4,
 "nbformat_minor": 2
}
