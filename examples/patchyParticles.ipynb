{
 "cells": [
  {
   "cell_type": "code",
   "execution_count": 1,
   "metadata": {},
   "outputs": [
    {
     "name": "stdout",
     "output_type": "stream",
     "text": [
      "Failed to import pyEVTK, export2visit functions will not work\n"
     ]
    }
   ],
   "source": [
    "import numpy as np\n",
    "import matplotlib.pyplot as plt\n",
    "import msmrd2\n",
    "import msmrd2.tools.quaternions as quats\n",
    "import msmrd2.visualization as msmrdvis\n",
    "from msmrd2.potentials import patchyParticle\n",
    "from msmrd2.integrators import overdampedLangevin as odLangevin"
   ]
  },
  {
   "cell_type": "code",
   "execution_count": 2,
   "metadata": {},
   "outputs": [],
   "source": [
    "# Define arbitrarily large list of rod-like particles\n",
    "np.random.seed(seed=1) # seed 1 good for pentamer \n",
    "numparticles = 5\n",
    "boxsize = 3\n",
    "D = 1.0\n",
    "Drot = 1.0\n",
    "pyPartlist = [] \n",
    "positionList = [np.array([-1.0,0,0]), np.array([0.,0.,0.]), np.array([1.0,0.,0.]), \n",
    "                np.array([2.0,0.,0.]), np.array([3.0,0.,0.])]\n",
    "orientationList = [ np.array([1.,0.,0.,0.]), np.array([np.cos(np.pi/2),0.,0.,np.sin(np.pi/2)])]\n",
    "\n",
    "\"\"\"\n",
    "# Position List for pentamer IC\n",
    "th0 = 3*np.pi/5.0\n",
    "th = np.pi - th0\n",
    "thextra = np.pi/2 + th/2.0\n",
    "positionList = []\n",
    "orientationList = []\n",
    "for i in range(5):\n",
    "    positionList.append(0.85*np.array([np.cos(th*i),np.sin(th*i),0.0]))\n",
    "    orientation = np.array([np.cos(0.5*(th*i + thextra)),0,0,np.sin(0.5*(th*i + thextra))])\n",
    "    orientationList.append(orientation)\n",
    "\"\"\"\n",
    "\n",
    "for i in range(numparticles):\n",
    "    \n",
    "    overlap = True\n",
    "    while overlap:\n",
    "        position = np.array([boxsize*np.random.rand()-0.5*boxsize,\n",
    "                             boxsize*np.random.rand()-0.5*boxsize,\n",
    "                             boxsize*np.random.rand()-0.5*boxsize])\n",
    "        overlap = False     \n",
    "        for j in range(len(pyPartlist)):\n",
    "            if np.linalg.norm(position - pyPartlist[j].position) < 2.0:\n",
    "                overlap = True\n",
    "                continue\n",
    "                \n",
    "    orientation = np.array([np.random.rand(),np.random.rand(),np.random.rand(),np.random.rand()])\n",
    "    orientation = orientation/np.linalg.norm(orientation)\n",
    "    #orientation = np.array([1.,0.,0.,0.])\n",
    "    #orientation = np.array([np.cos(np.pi/4.0), np.sin(np.pi/4), 0.0, 0.0]) #Rotate 90 degrees in x axis\n",
    "    part = msmrd2.particle(D, Drot, position, orientation)\n",
    "    #part = msmrd2.particle(D, Drot, positionList[i], orientation)\n",
    "    #part = msmrd2.particle(D, Drot, positionList[i], orientationList[i])\n",
    "    pyPartlist.append(part)"
   ]
  },
  {
   "cell_type": "code",
   "execution_count": 3,
   "metadata": {},
   "outputs": [],
   "source": [
    "# Create list of particles that can be read from msmrd\n",
    "# Note the particles in this list will be independent from the python list.\n",
    "partlist = msmrd2.integrators.particleList(pyPartlist)"
   ]
  },
  {
   "cell_type": "code",
   "execution_count": 4,
   "metadata": {},
   "outputs": [],
   "source": [
    "# Over-damped Langevin integrator definition\n",
    "dt = 0.00001 #0.000005\n",
    "seed = 2 # Seed = -1 used random device as seed\n",
    "bodytype = 'rigidbody'\n",
    "integrator = odLangevin(dt, seed, bodytype) \n",
    "integrator.setKbT(0.1)"
   ]
  },
  {
   "cell_type": "code",
   "execution_count": 5,
   "metadata": {},
   "outputs": [],
   "source": [
    "# Define boundary (choose either spherical or box)\n",
    "# sphericalBoundary = msmrd2.sphere(radius,'reflective')\n",
    "#boxBoundary = msmrd2.box(boxsize,boxsize,boxsize,'reflective')\n",
    "sphereBoundary = msmrd2.sphere(boxsize,'reflective')\n",
    "integrator.setBoundary(sphereBoundary)"
   ]
  },
  {
   "cell_type": "code",
   "execution_count": 6,
   "metadata": {},
   "outputs": [],
   "source": [
    "# Define Patchy Particle potential\n",
    "sigma = 1.0\n",
    "strength = 200.0\n",
    "patch1 = np.array([1.,0.,0.])\n",
    "patch2 = np.array([np.cos(3*np.pi/5.0),np.sin(3*np.pi/5.0),0.])\n",
    "#patch2 = np.array([-1.,0.,0.])\n",
    "patchesCoordinates = [patch1, patch2]\n",
    "potentialPatchyParticle = patchyParticle(sigma, strength, patchesCoordinates)\n",
    "integrator.setPairPotential(potentialPatchyParticle)"
   ]
  },
  {
   "cell_type": "code",
   "execution_count": null,
   "metadata": {},
   "outputs": [],
   "source": [
    "# Integrate particle list and print only positions \n",
    "timesteps = 5000000\n",
    "stride = 2500 #1000\n",
    "datafile  = open('../data/vmd/patchyParticles.xyz', 'w')\n",
    "for i in range(timesteps):\n",
    "    if i%stride == 0:\n",
    "        datafile.write(str(3*len(partlist)) + '\\n')\n",
    "        datafile.write(str(0) + '\\n')\n",
    "    for j, part in enumerate(partlist):\n",
    "        if i%stride == 0:\n",
    "            v0 = part.position\n",
    "            v1 = v0 + 0.6*sigma*quats.rotateVec(patchesCoordinates[0], part.orientation)\n",
    "            v2 = v0 + 0.6*sigma*quats.rotateVec(patchesCoordinates[1], part.orientation)\n",
    "            datafile.write('type_0' + ' ' + ' '.join(map(str, v0)) + '\\n')\n",
    "            datafile.write('type_1' + ' ' + ' '.join(map(str, v1)) + '\\n')\n",
    "            datafile.write('type_1' + ' ' + ' '.join(map(str, v2)) + '\\n')\n",
    "    integrator.integrate(partlist)\n",
    "    if i%5000 == 0:\n",
    "        print(\"Percentage complete: \", 100*i/timesteps, \"%\", end=\"\\r\")\n",
    "datafile.close()\n",
    "# Generate TCL script to visualize with VMD\n",
    "msmrdvis.generateTCL_patchyParticles(numparticles = numparticles)\n",
    "print(\"Percentage complete: \", 100, \" %\")"
   ]
  },
  {
   "cell_type": "code",
   "execution_count": 7,
   "metadata": {},
   "outputs": [],
   "source": [
    "# Calculate potential for aligned and misaligned molecules\n",
    "def patchyParticlesEvaluate(p1,p2,or1,or2):\n",
    "    part1 = msmrd2.particle(1.0, 1.0, p1, or1)\n",
    "    part2 = msmrd2.particle(1.0, 1.0, p2, or2)\n",
    "    return potentialPatchyParticle.evaluate(part1, part2)\n",
    "\n",
    "dist = np.arange(0, 2*sigma, 0.01)\n",
    "pos1 = np.array([0., 0., 0.])\n",
    "pos2 = np.array([[i, 0., 0.] for i in dist])\n",
    "phi1 = 0.0\n",
    "phi2 = np.pi\n",
    "phi1p = np.pi\n",
    "phi2p = 0.0\n",
    "u = np.array([0.,0.,1.]) #rotationAxis\n",
    "# Quaternions that rotate phi along axis u\n",
    "theta1 = np.array([np.cos(0.5*phi1 ),\n",
    "                   np.sin(0.5*phi1 )*u[0],\n",
    "                   np.sin(0.5*phi1 )*u[1],\n",
    "                   np.sin(0.5*phi1 )*u[2]]) \n",
    "theta2 = np.array([np.cos(0.5*phi2 ),\n",
    "                   np.sin(0.5*phi2 )*u[0],\n",
    "                   np.sin(0.5*phi2 )*u[1],\n",
    "                   np.sin(0.5*phi2 )*u[2]]) \n",
    "theta1p = np.array([np.cos(0.5*phi1p ),\n",
    "                   np.sin(0.5*phi1p )*u[0],\n",
    "                   np.sin(0.5*phi1p )*u[1],\n",
    "                   np.sin(0.5*phi1p )*u[2]]) \n",
    "theta2p = np.array([np.cos(0.5*phi2p ),\n",
    "                   np.sin(0.5*phi2p )*u[0],\n",
    "                   np.sin(0.5*phi2p )*u[1],\n",
    "                   np.sin(0.5*phi2p )*u[2]]) \n",
    "\n",
    "potantialAligned = [patchyParticlesEvaluate(pos1,p2,theta1,theta2) for p2 in pos2]\n",
    "potantialMisaligned = [patchyParticlesEvaluate(pos1,p2,theta1p,theta2p) for p2 in pos2]"
   ]
  },
  {
   "cell_type": "code",
   "execution_count": 8,
   "metadata": {},
   "outputs": [
    {
     "data": {
      "text/plain": [
       "(0, 2.0)"
      ]
     },
     "execution_count": 8,
     "metadata": {},
     "output_type": "execute_result"
    },
    {
     "data": {
      "image/png": "[encoded data removed]",
      "text/plain": [
       "<Figure size 432x288 with 1 Axes>"
      ]
     },
     "metadata": {
      "needs_background": "light"
     },
     "output_type": "display_data"
    }
   ],
   "source": [
    "# Plot potential\n",
    "plt.plot(dist, potantialAligned, label = \"aligned\")\n",
    "plt.plot(dist, potantialMisaligned, label = \"misaligned\")\n",
    "plt.plot(dist, 0*dist, '--k', lw=0.5)\n",
    "plt.legend()\n",
    "plt.xlim([0,2*sigma])"
   ]
  },
  {
   "cell_type": "code",
   "execution_count": null,
   "metadata": {},
   "outputs": [],
   "source": [
    "part1 = msmrd2.particle(1.0, 1.0, pos1, theta1)\n",
    "part2 = msmrd2.particle(1.0, 1.0, pos2[20], theta2p)\n",
    "potentialPatchyParticle.forceTorque(part1,part2)"
   ]
  },
  {
   "cell_type": "code",
   "execution_count": null,
   "metadata": {},
   "outputs": [],
   "source": [
    "def U(x, sigma, xstar, xcritical, eps, a, b):\n",
    "    if (xstar>xcritical):\n",
    "        raise ValueError('xstar should be smaller than xcritical.')\n",
    "    resultm2 = np.array([])\n",
    "    resultm1 = np.array([])\n",
    "    result0 = np.array([])\n",
    "    x0 = x[x<0]\n",
    "    if len(x0) > 0:\n",
    "        xm2 = x0[x0 < -xcritical]\n",
    "        resultm2 = 0.0*xm2\n",
    "        xm1 = x0[x0 >= -xcritical]\n",
    "        xm1 = xm1[xm1 < -xstar]\n",
    "        resultm1 = eps*b*(xcritical/sigma + xm1/sigma)**2\n",
    "        x0 = x0[x0 >= -xstar]\n",
    "        result0 = eps*(1.0 - a*(x0/sigma)**2)\n",
    "    x1 = x[x>=0]\n",
    "    x1 = x1[x1<xstar]\n",
    "    result1 = eps*(1.0 - a*(x1/sigma)**2)\n",
    "    x2 = x[x>=xstar]\n",
    "    x2 = x2[x2<xcritical]\n",
    "    result2 = eps*b*(xcritical/sigma - x2/sigma)**2\n",
    "    x3 = x[x>=xcritical]\n",
    "    result3 = 0.0*x3 \n",
    "    return np.concatenate((resultm2, resultm1, result0, result1, result2, result3))"
   ]
  },
  {
   "cell_type": "code",
   "execution_count": null,
   "metadata": {},
   "outputs": [],
   "source": [
    "def calculateContinuityParametrs(sigma, xstar, a):\n",
    "    xcritical = sigma**2/(a*xstar)\n",
    "    b = (1.0 - a*(xstar/sigma)**2)/(xcritical/sigma - xstar/sigma)**2\n",
    "    return xcritical, b\n",
    "def calculateContinuityParametrs2(sigma, xstar, a):\n",
    "    xcritical = sigma**2/(a*xstar)\n",
    "    b = -(1.0 - a*(xstar/sigma)**2)/(xcritical/sigma - xstar/sigma)**2\n",
    "    return xcritical, b"
   ]
  },
  {
   "cell_type": "code",
   "execution_count": null,
   "metadata": {},
   "outputs": [],
   "source": [
    "sigmaRep = 1.0\n",
    "# Repulsive part\n",
    "eps = 50.0 #100.0\n",
    "a = 1.5\n",
    "xstar = 0.75*sigmaRep\n",
    "xcritical, b = calculateContinuityParametrs(sigmaRep,xstar,a)\n",
    "sigma = 1.0\n",
    "# Attractive patches part\n",
    "eps2 = -7.5\n",
    "a2 = 40.0\n",
    "xstar2 = 0.1*sigma\n",
    "xcritical2, b2 = calculateContinuityParametrs(sigma,xstar2,a2)\n",
    "# Isotropic attractive\n",
    "eps3 = -0.0\n",
    "a3 = 0.75 # 0.5#0.55\n",
    "xstar3 = 0.95*sigma\n",
    "xcritical3, b3 = calculateContinuityParametrs(sigma,xstar3,a3)"
   ]
  },
  {
   "cell_type": "code",
   "execution_count": null,
   "metadata": {},
   "outputs": [],
   "source": [
    "x = np.arange(0,2.0*sigma,0.001)\n",
    "y1 = U(x, sigmaRep, xstar, xcritical, eps, a, b)\n",
    "y21 = U(x - sigma, sigma, xstar2, xcritical2, eps2, a2, b2)\n",
    "y22 = U(x + -0.8*sigma, sigma, xstar2, xcritical2, eps2, a2, b2)\n",
    "y3 = U(x, sigma, xstar3, xcritical3, eps3, a3, b3)\n",
    "ym = y1 + y21 + y3\n",
    "yp = y1 + y22 + y3\n",
    "plt.plot(x,ym, '-b')\n",
    "plt.plot(x,yp, '-r')\n",
    "plt.plot(x, 0*x, '--k', lw=0.5)\n",
    "plt.xlim([0, 2*sigma])\n",
    "#plt.ylim([-25.0, 100])\n"
   ]
  },
  {
   "cell_type": "code",
   "execution_count": null,
   "metadata": {},
   "outputs": [],
   "source": [
    "yy = U(x, sigma, xstar2, xcritical2, eps2, a2, b2)\n",
    "plt.plot(x,yy, '-b')\n"
   ]
  }
 ],
 "metadata": {
  "kernelspec": {
   "display_name": "Python [default]",
   "language": "python",
   "name": "python3"
  },
  "language_info": {
   "codemirror_mode": {
    "name": "ipython",
    "version": 3
   },
   "file_extension": ".py",
   "mimetype": "text/x-python",
   "name": "python",
   "nbconvert_exporter": "python",
   "pygments_lexer": "ipython3",
   "version": "3.6.6"
  }
 },
 "nbformat": 4,
 "nbformat_minor": 2
}
