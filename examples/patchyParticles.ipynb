{
 "cells": [
  {
   "cell_type": "code",
   "execution_count": null,
   "metadata": {},
   "outputs": [],
   "source": [
    "import numpy as np\n",
    "import matplotlib.pyplot as plt\n",
    "import msmrd2\n",
    "import msmrd2.tools.quaternions as quats\n",
    "import msmrd2.visualization as msmrdvis\n",
    "from msmrd2.potentials import patchyParticle\n",
    "from msmrd2.integrators import overdampedLangevin as odLangevin"
   ]
  },
  {
   "cell_type": "code",
   "execution_count": null,
   "metadata": {},
   "outputs": [],
   "source": [
    "# Define arbitrarily large list of rod-like particles\n",
    "numparticles = 5\n",
    "boxsize = 3\n",
    "D = 1.0\n",
    "Drot = 1.0\n",
    "bodytype = 'rigidbody'\n",
    "pyPartlist = [] \n",
    "for i in range(numparticles):\n",
    "    overlap = True\n",
    "    while overlap:\n",
    "        position = np.array([boxsize*np.random.rand()-0.5*boxsize,\n",
    "                             boxsize*np.random.rand()-0.5*boxsize,\n",
    "                             boxsize*np.random.rand()-0.5*boxsize])\n",
    "        overlap = False     \n",
    "        for j in range(len(pyPartlist)):\n",
    "            if np.linalg.norm(position - pyPartlist[j].position) < 2.0:\n",
    "                overlap = True\n",
    "                continue\n",
    "    orientation = np.array([np.random.rand(),np.random.rand(),np.random.rand(),np.random.rand()])\n",
    "    orientation = orientation/np.linalg.norm(orientation)\n",
    "    #orientation = np.array([np.cos(np.pi/4.0), np.sin(np.pi/4), 0.0, 0.0]) #Rotate 90 degrees in x axis\n",
    "    part = msmrd2.particle(D, Drot, bodytype, position, orientation)\n",
    "    pyPartlist.append(part)"
   ]
  },
  {
   "cell_type": "code",
   "execution_count": null,
   "metadata": {},
   "outputs": [],
   "source": [
    "# Create list of particles that can be read from msmrd\n",
    "# Note the particles in this list will be independent from the python list.\n",
    "partlist = msmrd2.integrators.particleList(pyPartlist)"
   ]
  },
  {
   "cell_type": "code",
   "execution_count": null,
   "metadata": {},
   "outputs": [],
   "source": [
    "# Over-damped Langevin integrator definition\n",
    "dt = 0.00001 #0.000005\n",
    "seed = 6 # Seed = -1 used random device as seed\n",
    "rotation = True\n",
    "integrator = odLangevin(dt, seed, rotation) \n",
    "#intg.setKbT(1.0)"
   ]
  },
  {
   "cell_type": "code",
   "execution_count": null,
   "metadata": {},
   "outputs": [],
   "source": [
    "# Define boundary (choose either spherical or box)\n",
    "# sphericalBoundary = msmrd2.sphere(radius,'reflective')\n",
    "boxBoundary = msmrd2.box(boxsize,boxsize,boxsize,'reflective')\n",
    "integrator.setBoundary(boxBoundary)"
   ]
  },
  {
   "cell_type": "code",
   "execution_count": null,
   "metadata": {},
   "outputs": [],
   "source": [
    "# Define Patchy Particle potential\n",
    "sigma = 1.0\n",
    "strength = 100.0\n",
    "patchesCoordinates = [np.array([1.,0.,0.]), np.array([np.cos(3*np.pi/5.0),np.sin(3*np.pi/5.0),0.])]\n",
    "potentialPatchyParticle = patchyParticle(sigma, strength, patchesCoordinates)\n",
    "integrator.setPairRigidBodyPotential(potentialPatchyParticle)"
   ]
  },
  {
   "cell_type": "code",
   "execution_count": null,
   "metadata": {},
   "outputs": [],
   "source": [
    "# Integrate particle list and print only positions \n",
    "timesteps = 10000000\n",
    "stride = 200\n",
    "datafile  = open('../data/vmd/patchyParticles.xyz', 'w')\n",
    "for i in range(timesteps):\n",
    "    if i%stride == 0:\n",
    "        datafile.write(str(3*len(partlist)) + '\\n')\n",
    "        datafile.write(str(0) + '\\n')\n",
    "    for j, part in enumerate(partlist):\n",
    "        if i%stride == 0:\n",
    "            v0 = part.position\n",
    "            v1 = v0 + 0.6*sigma*quats.rotateVec(patchesCoordinates[0], part.orientation)\n",
    "            v2 = v0 + 0.6*sigma*quats.rotateVec(patchesCoordinates[1], part.orientation)\n",
    "            datafile.write('type_0' + ' ' + ' '.join(map(str, v0)) + '\\n')\n",
    "            datafile.write('type_1' + ' ' + ' '.join(map(str, v1)) + '\\n')\n",
    "            datafile.write('type_1' + ' ' + ' '.join(map(str, v2)) + '\\n')\n",
    "    integrator.integrate(partlist)\n",
    "    if i%1000 == 0:\n",
    "        print(\"Percentage complete: \", 100*i/timesteps, \"%\", end=\"\\r\")\n",
    "datafile.close()\n",
    "# Generate TCL script to visualize with VMD\n",
    "msmrdvis.generateTCL_patchyParticles(numparticles = numparticles)\n",
    "print(\"Percentage complete: \", 100, \" %\")"
   ]
  },
  {
   "cell_type": "code",
   "execution_count": null,
   "metadata": {},
   "outputs": [],
   "source": [
    "# Calculate potential for aligned and misaligned molecules\n",
    "dist = np.arange(0, 2*sigma, 0.01)\n",
    "pos1 = np.array([0., 0., 0.])\n",
    "pos2 = np.array([[i, 0., 0.] for i in dist])\n",
    "phi1 = 0.0\n",
    "phi2 = np.pi\n",
    "phi1p = np.pi\n",
    "phi2p = 0.0\n",
    "u = np.array([0.,0.,1.]) #rotationAxis\n",
    "# Quaternions that rotate phi along axis u\n",
    "theta1 = np.array([np.cos(0.5*phi1 ),\n",
    "                   np.sin(0.5*phi1 )*u[0],\n",
    "                   np.sin(0.5*phi1 )*u[1],\n",
    "                   np.sin(0.5*phi1 )*u[2]]) \n",
    "theta2 = np.array([np.cos(0.5*phi2 ),\n",
    "                   np.sin(0.5*phi2 )*u[0],\n",
    "                   np.sin(0.5*phi2 )*u[1],\n",
    "                   np.sin(0.5*phi2 )*u[2]]) \n",
    "theta1p = np.array([np.cos(0.5*phi1p ),\n",
    "                   np.sin(0.5*phi1p )*u[0],\n",
    "                   np.sin(0.5*phi1p )*u[1],\n",
    "                   np.sin(0.5*phi1p )*u[2]]) \n",
    "theta2p = np.array([np.cos(0.5*phi2p ),\n",
    "                   np.sin(0.5*phi2p )*u[0],\n",
    "                   np.sin(0.5*phi2p )*u[1],\n",
    "                   np.sin(0.5*phi2p )*u[2]]) \n",
    "\n",
    "potantialAligned = [potentialPatchyParticle.evaluate(pos1,p2,theta1,theta2) for p2 in pos2]\n",
    "potantialMisaligned = [potentialPatchyParticle.evaluate(pos1,p2,theta1p,theta2p) for p2 in pos2]"
   ]
  },
  {
   "cell_type": "code",
   "execution_count": null,
   "metadata": {},
   "outputs": [],
   "source": [
    "# Plot potential\n",
    "plt.plot(dist, potantialAligned, label = \"aligned\")\n",
    "plt.plot(dist, potantialMisaligned, label = \"misaligned\")\n",
    "plt.plot(dist, 0*dist, '--k', lw=0.5)\n",
    "plt.legend()\n",
    "plt.xlim([0,2*sigma])"
   ]
  },
  {
   "cell_type": "code",
   "execution_count": null,
   "metadata": {},
   "outputs": [],
   "source": [
    "potentialPatchyParticle.forceTorque(pos1,pos2[20],theta1p,theta2p)"
   ]
  },
  {
   "cell_type": "code",
   "execution_count": null,
   "metadata": {},
   "outputs": [],
   "source": [
    "def U(x, sigma, xstar, xcritical, eps, a, b):\n",
    "    if (xstar>xcritical):\n",
    "        raise ValueError('xstar should be smaller than xcritical.')\n",
    "    resultm2 = np.array([])\n",
    "    resultm1 = np.array([])\n",
    "    result0 = np.array([])\n",
    "    x0 = x[x<0]\n",
    "    if len(x0) > 0:\n",
    "        xm2 = x0[x0 < -xcritical]\n",
    "        resultm2 = 0.0*xm2\n",
    "        xm1 = x0[x0 >= -xcritical]\n",
    "        xm1 = xm1[xm1 < -xstar]\n",
    "        resultm1 = eps*b*(xcritical/sigma + xm1/sigma)**2\n",
    "        x0 = x0[x0 >= -xstar]\n",
    "        result0 = eps*(1.0 - a*(x0/sigma)**2)\n",
    "    x1 = x[x>=0]\n",
    "    x1 = x1[x1<xstar]\n",
    "    result1 = eps*(1.0 - a*(x1/sigma)**2)\n",
    "    x2 = x[x>=xstar]\n",
    "    x2 = x2[x2<xcritical]\n",
    "    result2 = eps*b*(xcritical/sigma - x2/sigma)**2\n",
    "    x3 = x[x>=xcritical]\n",
    "    result3 = 0.0*x3 \n",
    "    return np.concatenate((resultm2, resultm1, result0, result1, result2, result3))"
   ]
  },
  {
   "cell_type": "code",
   "execution_count": null,
   "metadata": {},
   "outputs": [],
   "source": [
    "def calculateContinuityParametrs(sigma, xstar, a):\n",
    "    xcritical = sigma**2/(a*xstar)\n",
    "    b = (1.0 - a*(xstar/sigma)**2)/(xcritical/sigma - xstar/sigma)**2\n",
    "    return xcritical, b\n",
    "def calculateContinuityParametrs2(sigma, xstar, a):\n",
    "    xcritical = sigma**2/(a*xstar)\n",
    "    b = -(1.0 - a*(xstar/sigma)**2)/(xcritical/sigma - xstar/sigma)**2\n",
    "    return xcritical, b"
   ]
  },
  {
   "cell_type": "code",
   "execution_count": null,
   "metadata": {},
   "outputs": [],
   "source": [
    "sigma = 1.0\n",
    "# Repulsive part\n",
    "eps = 100.0\n",
    "a = 1.0\n",
    "xstar = 0.85*sigma\n",
    "xcritical, b = calculateContinuityParametrs(sigma,xstar,a)\n",
    "# Attractive patches part\n",
    "eps2 = -50.0\n",
    "a2 = 20.0\n",
    "xstar2 = 0.1*sigma\n",
    "xcritical2, b2 = calculateContinuityParametrs(sigma,xstar2,a2)\n",
    "# Isotropic attractive\n",
    "eps3 = -20.0\n",
    "a3 = 0.55 # 0.5#0.55\n",
    "xstar3 = 0.85*sigma\n",
    "xcritical3, b3 = calculateContinuityParametrs(sigma,xstar3,a3)"
   ]
  },
  {
   "cell_type": "code",
   "execution_count": null,
   "metadata": {},
   "outputs": [],
   "source": [
    "x = np.arange(0,2.0*sigma,0.001)\n",
    "y1 = U(x, sigma, xstar, xcritical, eps, a, b)\n",
    "y21 = U(x - sigma, sigma, xstar2, xcritical2, eps2, a2, b2)\n",
    "y22 = U(x + sigma, sigma, xstar2, xcritical2, eps2, a2, b2)\n",
    "y3 = U(x, sigma, xstar3, xcritical3, eps3, a3, b3)\n",
    "ym = y1 + y21 + y3\n",
    "yp = y1 + y22 + y3\n",
    "plt.plot(x,ym, '-b')\n",
    "plt.plot(x,yp, '-r')\n",
    "plt.plot(x, 0*x, '--k', lw=0.5)\n",
    "plt.xlim([0, 2*sigma])\n",
    "#plt.ylim([-25.0, 100])\n"
   ]
  },
  {
   "cell_type": "code",
   "execution_count": null,
   "metadata": {},
   "outputs": [],
   "source": []
  },
  {
   "cell_type": "code",
   "execution_count": null,
   "metadata": {},
   "outputs": [],
   "source": []
  }
 ],
 "metadata": {
  "kernelspec": {
   "display_name": "Python [default]",
   "language": "python",
   "name": "python3"
  },
  "language_info": {
   "codemirror_mode": {
    "name": "ipython",
    "version": 3
   },
   "file_extension": ".py",
   "mimetype": "text/x-python",
   "name": "python",
   "nbconvert_exporter": "python",
   "pygments_lexer": "ipython3",
   "version": "3.6.5"
  }
 },
 "nbformat": 4,
 "nbformat_minor": 2
}
