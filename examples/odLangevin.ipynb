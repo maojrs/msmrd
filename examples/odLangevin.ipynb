{
 "cells": [
  {
   "cell_type": "code",
   "execution_count": 1,
   "metadata": {},
   "outputs": [],
   "source": [
    "import msmrd2\n",
    "import numpy as np"
   ]
  },
  {
   "cell_type": "code",
   "execution_count": 2,
   "metadata": {},
   "outputs": [],
   "source": [
    "# Particle definition\n",
    "D = 1\n",
    "Drot = 1\n",
    "position = np.array([1,1,1])\n",
    "position2 = np.array([2,2,2])\n",
    "orientation = np.array([1,0,0,0])\n",
    "part1 = msmrd2.particle(D, Drot, position, orientation)\n",
    "part2 = msmrd2.particle(D, Drot, position2, orientation)"
   ]
  },
  {
   "cell_type": "code",
   "execution_count": 3,
   "metadata": {},
   "outputs": [],
   "source": [
    "# Create list of particles to be integrated\n",
    "# Note the particles in the list will be independent from the original ones.\n",
    "partlist = msmrd2.particleList([part1,part2])"
   ]
  },
  {
   "cell_type": "code",
   "execution_count": 4,
   "metadata": {},
   "outputs": [],
   "source": [
    "# Over-damped Langevin integrator definition\n",
    "dt = 0.001\n",
    "seed = 0 # Seed = -1 used random device as seed\n",
    "rotation = True\n",
    "intg = msmrd2.odLangevin(dt, seed, rotation) "
   ]
  },
  {
   "cell_type": "code",
   "execution_count": 5,
   "metadata": {},
   "outputs": [
    {
     "name": "stdout",
     "output_type": "stream",
     "text": [
      "Iteration Time           Position 1                              \n",
      "0         0.000000       [1. 1. 1.]                              [1. 0. 0. 0.]                           \n",
      "1         0.001000       [1.00455794 0.97847456 0.96956251]      [ 0.99795996 -0.02449329  0.0421508   0.04122268]\n",
      "2         0.002000       [0.99551638 1.00348359 0.9532562 ]      [ 0.99788362 -0.00701448  0.06455817  0.00336325]\n",
      "3         0.003000       [1.00657235 0.954081   0.90270293]      [0.99629242 0.03362614 0.07631588 0.02113234]\n",
      "4         0.004000       [0.98548448 0.93230531 0.82732183]      [0.99688928 0.04254489 0.0556991  0.03604593]\n",
      "5         0.005000       [0.97816302 0.92582545 0.85997104]      [0.9997651  0.00956435 0.01570534 0.01147179]\n",
      "6         0.006000       [0.99197145 0.90523334 0.84311511]      [ 0.99755347  0.01733421 -0.01242477  0.0665749 ]\n",
      "7         0.007000       [0.94650624 0.90914832 0.86158623]      [ 0.99766162  0.01405084 -0.02485163  0.06209885]\n",
      "8         0.008000       [0.97926463 0.95544917 0.90255493]      [ 0.99695201  0.00904097 -0.00922654  0.07694035]\n",
      "9         0.009000       [1.04472943 0.98209672 0.86088926]      [0.99577025 0.0057765  0.04638705 0.07909798]\n"
     ]
    }
   ],
   "source": [
    "# Integrate only one particle and print position and orientation\n",
    "t = 0\n",
    "timesteps = 10\n",
    "print('{:<10s}{:<15s}{:<40s}'.format(\"Iteration\", \"Time\", \"Position 1\"))\n",
    "for i in range(timesteps):\n",
    "    print('{:<10d}{:<15f}{:<40s}{:<40s}'.format(i, t, str(part1.position), str(part1.orientation)))\n",
    "    intg.integrate(part1)\n",
    "    t += dt"
   ]
  },
  {
   "cell_type": "code",
   "execution_count": 6,
   "metadata": {},
   "outputs": [
    {
     "name": "stdout",
     "output_type": "stream",
     "text": [
      "Iteration Time           Position 1                              Position2                               \n",
      "0         0.000000       [1. 1. 1.]                              [2. 2. 2.]                                        \n",
      "1         0.001000       [1.05778776 0.98179663 0.9649866 ]      [1.96772063 2.06194909 2.00888501]                \n",
      "2         0.002000       [1.10837246 1.02526462 0.99334779]      [1.9367227  2.06193898 2.08459493]                \n",
      "3         0.003000       [1.11136693 1.00230305 0.93859655]      [1.98613404 2.08044589 2.1840984 ]                \n",
      "4         0.004000       [1.1341989  0.95377795 0.99353374]      [1.91598241 2.17313026 2.21198396]                \n",
      "5         0.005000       [1.19195709 0.98918621 1.01802686]      [1.92594229 2.15168411 2.21319718]                \n",
      "6         0.006000       [1.18000402 0.92632507 1.10286064]      [1.92205281 2.15907307 2.17969549]                \n",
      "7         0.007000       [1.20554323 0.93627198 1.11229438]      [1.92173416 2.16244622 2.20938065]                \n",
      "8         0.008000       [1.19403427 0.84678603 1.13571729]      [1.91766356 2.20093754 2.25902173]                \n",
      "9         0.009000       [1.22491497 0.70108652 1.19863708]      [1.88378642 2.21542533 2.25682622]                \n"
     ]
    }
   ],
   "source": [
    "# Integrate particle list and print only positions (with integratelist)\n",
    "t = 0\n",
    "timesteps = 10\n",
    "print('{:<10s}{:<15s}{:<40s}{:<40s}'.format(\"Iteration\", \"Time\", \"Position 1\", \"Position2\"))\n",
    "for i in range(timesteps):\n",
    "    print('{:<10d}{:<15f}{:<40s}{:<50s}'.format(i, t, str(partlist[0].position), str(partlist[1].position)))\n",
    "    intg.integrateList(partlist)\n",
    "    t += dt"
   ]
  },
  {
   "cell_type": "code",
   "execution_count": null,
   "metadata": {},
   "outputs": [],
   "source": []
  },
  {
   "cell_type": "code",
   "execution_count": null,
   "metadata": {},
   "outputs": [],
   "source": []
  }
 ],
 "metadata": {
  "kernelspec": {
   "display_name": "Python 3",
   "language": "python",
   "name": "python3"
  },
  "language_info": {
   "codemirror_mode": {
    "name": "ipython",
    "version": 3
   },
   "file_extension": ".py",
   "mimetype": "text/x-python",
   "name": "python",
   "nbconvert_exporter": "python",
   "pygments_lexer": "ipython3",
   "version": "3.6.5"
  }
 },
 "nbformat": 4,
 "nbformat_minor": 2
}
