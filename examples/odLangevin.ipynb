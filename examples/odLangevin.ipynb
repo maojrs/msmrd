{
 "cells": [
  {
   "cell_type": "code",
   "execution_count": null,
   "metadata": {},
   "outputs": [],
   "source": [
    "import msmrd2\n",
    "import numpy as np"
   ]
  },
  {
   "cell_type": "code",
   "execution_count": null,
   "metadata": {},
   "outputs": [],
   "source": [
    "# Particle definition\n",
    "D = 1\n",
    "Drot = 1\n",
    "position = np.array([1,1,1])\n",
    "position2 = np.array([2,2,2])\n",
    "orientation = np.array([1,0,0,0])\n",
    "part1 = msmrd2.particle(D, Drot, position, orientation)\n",
    "part2 = msmrd2.particle(D, Drot, position2, orientation)"
   ]
  },
  {
   "cell_type": "code",
   "execution_count": null,
   "metadata": {},
   "outputs": [],
   "source": [
    "# Create list of particles to be integrated\n",
    "# Note the particles in the list will be independent from the original ones.\n",
    "partlist = msmrd2.particleList([part1,part2])"
   ]
  },
  {
   "cell_type": "code",
   "execution_count": null,
   "metadata": {},
   "outputs": [],
   "source": [
    "# Over-damped Langevin integrator definition\n",
    "dt = 0.001\n",
    "seed = 0 # Seed = -1 used random device as seed\n",
    "rotation = True\n",
    "intg = msmrd2.odLangevin(dt, seed, rotation) \n",
    "# Second integrator to test list integration\n",
    "intg2 = msmrd2.odLangevin(dt, seed, rotation) "
   ]
  },
  {
   "cell_type": "code",
   "execution_count": null,
   "metadata": {},
   "outputs": [],
   "source": [
    "# Integrate only one particle and print position and orientation\n",
    "t = 0\n",
    "timesteps = 10\n",
    "print('{:<10s}{:<15s}{:<40s}'.format(\"Iteration\", \"Time\", \"Position 1\"))\n",
    "for i in range(timesteps):\n",
    "    print('{:<10d}{:<15f}{:<40s}{:<40s}'.format(i, intg.clock, str(part1.position), str(part1.orientation)))\n",
    "    intg.integrate(part1)"
   ]
  },
  {
   "cell_type": "code",
   "execution_count": null,
   "metadata": {},
   "outputs": [],
   "source": [
    "# Integrate particle list and print only positions (with integratelist)\n",
    "timesteps = 10\n",
    "print('{:<10s}{:<15s}{:<40s}{:<40s}'.format(\"Iteration\", \"Time\", \"Position 1\", \"Position2\"))\n",
    "for i in range(timesteps):\n",
    "    print('{:<10d}{:<15f}{:<40s}{:<50s}'.format(i, intg2.clock, str(partlist[0].position), str(partlist[1].position)))\n",
    "    intg2.integrateList(partlist)"
   ]
  },
  {
   "cell_type": "code",
   "execution_count": null,
   "metadata": {},
   "outputs": [],
   "source": []
  },
  {
   "cell_type": "code",
   "execution_count": null,
   "metadata": {},
   "outputs": [],
   "source": []
  }
 ],
 "metadata": {
  "kernelspec": {
   "display_name": "Python 3",
   "language": "python",
   "name": "python3"
  },
  "language_info": {
   "codemirror_mode": {
    "name": "ipython",
    "version": 3
   },
   "file_extension": ".py",
   "mimetype": "text/x-python",
   "name": "python",
   "nbconvert_exporter": "python",
   "pygments_lexer": "ipython3",
   "version": "3.6.5"
  }
 },
 "nbformat": 4,
 "nbformat_minor": 2
}
