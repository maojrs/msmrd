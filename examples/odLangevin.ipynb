{
 "cells": [
  {
   "cell_type": "code",
   "execution_count": null,
   "metadata": {},
   "outputs": [],
   "source": [
    "import msmrd2\n",
    "import numpy as np"
   ]
  },
  {
   "cell_type": "code",
   "execution_count": null,
   "metadata": {},
   "outputs": [],
   "source": [
    "# Particle definition\n",
    "pid = 0\n",
    "ptype = 1 # different types correspond to different MSM\n",
    "pstate = 0 # MSM sate\n",
    "D = 1\n",
    "Drot = 0\n",
    "position = np.array([1,1,1])\n",
    "position2 = np.array([2,2,2])\n",
    "orientation = np.array([0,1,0,0])\n",
    "part1 = msmrd2.particle(pid, ptype, pstate, D, Drot, position, orientation)\n",
    "part2 = msmrd2.particle(pid, ptype, pstate, D, Drot, position2, orientation)"
   ]
  },
  {
   "cell_type": "code",
   "execution_count": null,
   "metadata": {},
   "outputs": [],
   "source": [
    "# Create list of particles to be integrated\n",
    "# Note the particles in the list will be independent from the original ones.\n",
    "partlist = msmrd2.particleList([part1,part2])"
   ]
  },
  {
   "cell_type": "code",
   "execution_count": null,
   "metadata": {},
   "outputs": [],
   "source": [
    "# Over-damped Langevin integrator definition\n",
    "dt = 0.001\n",
    "seed = 0 # Seed = -1 used random device as seed\n",
    "intg = msmrd2.odLangevin(dt,seed) "
   ]
  },
  {
   "cell_type": "code",
   "execution_count": null,
   "metadata": {},
   "outputs": [],
   "source": [
    "# Integrate only one particle and print position (with integrate)\n",
    "t = 0\n",
    "timesteps = 10\n",
    "print('{:<10s}{:<15s}{:<40s}'.format(\"Iteration\", \"Time\", \"Position 1\"))\n",
    "for i in range(timesteps):\n",
    "    print('{:<10d}{:<15f}{:<40s}'.format(i, t, str(part1.position)))\n",
    "    intg.integrate(part1)\n",
    "    t += dt"
   ]
  },
  {
   "cell_type": "code",
   "execution_count": null,
   "metadata": {},
   "outputs": [],
   "source": [
    "# Integrate particle list and print positions (with integratelist)\n",
    "t = 0\n",
    "timesteps = 10\n",
    "print('{:<10s}{:<15s}{:<40s}{:<40s}'.format(\"Iteration\", \"Time\", \"Position 1\", \"Position2\"))\n",
    "for i in range(timesteps):\n",
    "    print('{:<10d}{:<15f}{:<40s}{:<50s}'.format(i, t, str(partlist[0].position), str(partlist[1].position)))\n",
    "    intg.integrateList(partlist)\n",
    "    t += dt"
   ]
  },
  {
   "cell_type": "code",
   "execution_count": null,
   "metadata": {},
   "outputs": [],
   "source": []
  },
  {
   "cell_type": "code",
   "execution_count": null,
   "metadata": {},
   "outputs": [],
   "source": []
  }
 ],
 "metadata": {
  "kernelspec": {
   "display_name": "Python 3",
   "language": "python",
   "name": "python3"
  },
  "language_info": {
   "codemirror_mode": {
    "name": "ipython",
    "version": 3
   },
   "file_extension": ".py",
   "mimetype": "text/x-python",
   "name": "python",
   "nbconvert_exporter": "python",
   "pygments_lexer": "ipython3",
   "version": "3.6.5"
  }
 },
 "nbformat": 4,
 "nbformat_minor": 2
}
