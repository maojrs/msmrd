{
 "cells": [
  {
   "cell_type": "code",
   "execution_count": null,
   "metadata": {},
   "outputs": [],
   "source": [
    "import h5py\n",
    "import numpy as np\n",
    "import matplotlib.pyplot as plt\n",
    "import msmrd2.tools as msmrdtls\n",
    "import msmrd2.analysis as msmrdals\n",
    "from msmrd2 import msmrdMarkovModel"
   ]
  },
  {
   "cell_type": "code",
   "execution_count": null,
   "metadata": {},
   "outputs": [],
   "source": [
    "# Define useful parameters\n",
    "dt = 0.00001\n",
    "timesteps = 20000000\n",
    "stride = 2500\n",
    "maxentries = int(timesteps/stride)\n",
    "fnamebase = '../data/dimer/simDimer'\n",
    "nfiles = 10"
   ]
  },
  {
   "cell_type": "code",
   "execution_count": null,
   "metadata": {},
   "outputs": [],
   "source": [
    "# Load full trajectories\n",
    "trajs = []\n",
    "for i in range(nfiles):\n",
    "    traj = msmrdals.loadTrajectory(fnamebase, i)\n",
    "    trajs.append(traj)"
   ]
  },
  {
   "cell_type": "code",
   "execution_count": null,
   "metadata": {},
   "outputs": [],
   "source": [
    "# Plot relative position\n",
    "diffpos =[]\n",
    "file=0\n",
    "for entry in range(maxentries):\n",
    "    time = trajs[file][entry][0]*dt\n",
    "    part1pos = np.array(trajs[file][2*entry][1:4])\n",
    "    part2pos = np.array(trajs[file][2*entry+1][1:4])\n",
    "    diffpos.append(np.linalg.norm(part1pos - part2pos))\n",
    "plt.plot(diffpos)"
   ]
  },
  {
   "cell_type": "code",
   "execution_count": null,
   "metadata": {},
   "outputs": [],
   "source": [
    "# Plot relative orientation\n",
    "difforient =[]\n",
    "for entry in range(int(maxentries)):\n",
    "    time = trajs[file][entry][0]*dt\n",
    "    part1orient = np.array(trajs[file][2*entry][4:8])\n",
    "    part2orient = np.array(trajs[file][2*entry+1][4:8])\n",
    "    relorient = msmrdtls.quaternions.relativeOrientation(part1orient, part2orient)\n",
    "    phi = msmrdtls.quaternions.quat2angle(relorient)\n",
    "    difforient.append(np.linalg.norm(phi))\n",
    "plt.plot(difforient)"
   ]
  },
  {
   "cell_type": "code",
   "execution_count": null,
   "metadata": {},
   "outputs": [],
   "source": [
    "dtrajs = []\n",
    "for i in range(nfiles):\n",
    "    dtraj = msmrdals.loadDiscreteTrajectory(fnamebase, i)\n",
    "    dtrajs.append(dtraj)"
   ]
  },
  {
   "cell_type": "code",
   "execution_count": null,
   "metadata": {},
   "outputs": [],
   "source": [
    "# Create distionaries to keep track of specific events. Needed to calculate rates\n",
    "boundstates = 2\n",
    "orientations = 6\n",
    "timeDict, eventDict = msmrdals.createStatesDictionaries(boundstates, orientations)"
   ]
  },
  {
   "cell_type": "code",
   "execution_count": null,
   "metadata": {},
   "outputs": [],
   "source": [
    "dt = trajs[0][2][0] - trajs[0][0][0]\n",
    "rateDict, timeDict, eventDict = msmrdals.extractRates(dtrajs, timeDict, eventDict)"
   ]
  },
  {
   "cell_type": "code",
   "execution_count": null,
   "metadata": {},
   "outputs": [],
   "source": [
    "rateDict"
   ]
  },
  {
   "cell_type": "code",
   "execution_count": null,
   "metadata": {},
   "outputs": [],
   "source": [
    "a=msmrdMarkovModel(3,6,-1,rateDict)"
   ]
  },
  {
   "cell_type": "code",
   "execution_count": null,
   "metadata": {},
   "outputs": [],
   "source": [
    "a.getRate('b2->b1')"
   ]
  },
  {
   "cell_type": "code",
   "execution_count": null,
   "metadata": {},
   "outputs": [],
   "source": [
    "msmA = a.getMSM('35->b1')"
   ]
  },
  {
   "cell_type": "code",
   "execution_count": null,
   "metadata": {},
   "outputs": [],
   "source": [
    "msmA."
   ]
  },
  {
   "cell_type": "code",
   "execution_count": null,
   "metadata": {},
   "outputs": [],
   "source": [
    "sliceIndex = a.find('->')"
   ]
  },
  {
   "cell_type": "code",
   "execution_count": null,
   "metadata": {},
   "outputs": [],
   "source": []
  }
 ],
 "metadata": {
  "kernelspec": {
   "display_name": "Python [default]",
   "language": "python",
   "name": "python3"
  },
  "language_info": {
   "codemirror_mode": {
    "name": "ipython",
    "version": 3
   },
   "file_extension": ".py",
   "mimetype": "text/x-python",
   "name": "python",
   "nbconvert_exporter": "python",
   "pygments_lexer": "ipython3",
   "version": "3.6.7"
  }
 },
 "nbformat": 4,
 "nbformat_minor": 2
}
