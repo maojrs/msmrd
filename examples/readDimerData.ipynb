{
 "cells": [
  {
   "cell_type": "code",
   "execution_count": null,
   "metadata": {},
   "outputs": [],
   "source": [
    "import h5py\n",
    "import msmrd2\n",
    "import numpy as np\n",
    "import matplotlib.pyplot as plt\n",
    "import msmrd2.tools as msmrdtls\n",
    "import msmrd2.analysis as msmrdals\n",
    "from msmrd2.markovModels import msmrdMarkovModel\n",
    "import pyemma\n",
    "import matplotlib.pyplot as plt\n",
    "import pyemma.plots as mplt"
   ]
  },
  {
   "cell_type": "code",
   "execution_count": null,
   "metadata": {},
   "outputs": [],
   "source": [
    "# Define useful parametersdtrajs\n",
    "dt = 0.000001\n",
    "timesteps = 4000000 # 2000000\n",
    "stride = 25 #2500\n",
    "maxentries = int(timesteps/stride)\n",
    "#fnamebase = '../data/dimer/old/simDimer'\n",
    "fnamebase = '../data/dimer/simDimer_t4.00E+06_s25_'\n",
    "nfiles = 200"
   ]
  },
  {
   "cell_type": "code",
   "execution_count": null,
   "metadata": {},
   "outputs": [],
   "source": [
    "# Load full trajectories\n",
    "trajs = []\n",
    "for i in range(nfiles):\n",
    "    traj = msmrdals.loadTrajectory(fnamebase, i)\n",
    "    trajs.append(traj)\n",
    "    print(\"File \", i+1, \" of \", nfiles, \" done.\", end=\"\\r\")"
   ]
  },
  {
   "cell_type": "code",
   "execution_count": null,
   "metadata": {},
   "outputs": [],
   "source": [
    "# Plot relative position\n",
    "diffpos =[]\n",
    "file=2\n",
    "for entry in range(maxentries):\n",
    "    time = trajs[file][entry][0]*dt\n",
    "    part1pos = np.array(trajs[file][2*entry][1:4])\n",
    "    part2pos = np.array(trajs[file][2*entry+1][1:4])\n",
    "    diffpos.append(np.linalg.norm(part1pos - part2pos))\n",
    "plt.plot(diffpos)"
   ]
  },
  {
   "cell_type": "code",
   "execution_count": null,
   "metadata": {},
   "outputs": [],
   "source": [
    "# Plot relative orientation\n",
    "difforient = []\n",
    "difforientquat = []\n",
    "for entry in range(int(maxentries)):\n",
    "    time = trajs[file][entry][0]*dt\n",
    "    part1orient = np.array(trajs[file][2*entry][4:8])\n",
    "    part2orient = np.array(trajs[file][2*entry+1][4:8])\n",
    "    relorient = msmrdtls.quaternions.relativeOrientation(part1orient, part2orient)\n",
    "    phi = msmrdtls.quaternions.quat2angle(relorient)\n",
    "    quatdist = msmrdtls.quaternionDistance(np.array([1,0,0,0]), relorient)\n",
    "    difforient.append(np.linalg.norm(phi))\n",
    "    difforientquat.append(np.linalg.norm(quatdist))\n",
    "plt.plot(difforientquat, alpha = 0.5) #blue\n",
    "plt.plot(np.array(difforient)/(2*np.pi), alpha = 0.5) #orange\n",
    "#plt.plot([0,80000], [0.5, 0.5], '--')\n",
    "#plt.plot([0,80000], [0.7, 0.7], '--')\n",
    "#plt.plot([0,80000], [0.3, 0.3], '--')"
   ]
  },
  {
   "cell_type": "code",
   "execution_count": null,
   "metadata": {},
   "outputs": [],
   "source": [
    "# Load discrete trajectories\n",
    "dtrajs = []\n",
    "for i in range(nfiles):\n",
    "    dtraj = msmrdals.loadDiscreteTrajectory(fnamebase, i)\n",
    "    dtrajs.append(dtraj)    \n",
    "    print(\"File \", i+1, \" of \", nfiles, \" done.\", end=\"\\r\")"
   ]
  },
  {
   "cell_type": "code",
   "execution_count": null,
   "metadata": {},
   "outputs": [],
   "source": [
    "rateDict = msmrdals.extractRatesMSM(dtrajs, 200, 2)"
   ]
  },
  {
   "cell_type": "code",
   "execution_count": null,
   "metadata": {},
   "outputs": [],
   "source": [
    "rateDict"
   ]
  },
  {
   "cell_type": "code",
   "execution_count": null,
   "metadata": {},
   "outputs": [],
   "source": [
    "np.where(dtrajs[3]<0)"
   ]
  },
  {
   "cell_type": "code",
   "execution_count": null,
   "metadata": {},
   "outputs": [],
   "source": [
    "slicedDtrajs = msmrdals.splitDiscreteTrajs(dtrajs,0)"
   ]
  },
  {
   "cell_type": "code",
   "execution_count": null,
   "metadata": {},
   "outputs": [],
   "source": [
    "stitchedTrajs = msmrdals.stitchTrajs(slicedDtrajs, 500)"
   ]
  },
  {
   "cell_type": "code",
   "execution_count": null,
   "metadata": {},
   "outputs": [],
   "source": [
    "lenlist = []\n",
    "for traj in stitchedTrajs: #slicedDtrajs:\n",
    "    lenlist.append(len(traj))"
   ]
  },
  {
   "cell_type": "code",
   "execution_count": null,
   "metadata": {},
   "outputs": [],
   "source": [
    "plt.hist(np.log10(lenlist), bins=100);"
   ]
  },
  {
   "cell_type": "code",
   "execution_count": null,
   "metadata": {},
   "outputs": [],
   "source": [
    "maxlagtime = 500\n",
    "lagtime = 50"
   ]
  },
  {
   "cell_type": "code",
   "execution_count": null,
   "metadata": {},
   "outputs": [],
   "source": [
    "myMSMs = []\n",
    "numMSMs = 10\n",
    "for i in range(numMSMs):\n",
    "    mymsm = pyemma.msm.estimate_markov_model(stitchedTrajs,(i+1)*lagtime,reversible=True)\n",
    "    myMSMs.append(mymsm)\n",
    "\n",
    "mymsm = myMSMs[0]\n",
    "#mymsm = pyemma.msm.estimate_markov_model(stitchedTrajs,lagtime,reversible=True)"
   ]
  },
  {
   "cell_type": "code",
   "execution_count": null,
   "metadata": {},
   "outputs": [],
   "source": [
    "activeset = mymsm.active_set\n",
    "# np.where(activeset == 66)\n",
    "activeset"
   ]
  },
  {
   "cell_type": "code",
   "execution_count": null,
   "metadata": {},
   "outputs": [],
   "source": [
    "its = pyemma.msm.its(stitchedTrajs, lags = maxlagtime)\n",
    "mplt.plot_implied_timescales(its, nits = 40, ylog=True, units='steps', linewidth=2, dt=1)\n",
    "plt.ylabel(r\"timescale/steps\", fontsize = 24)\n",
    "plt.xlabel(r\"lag time/steps\", fontsize = 24)"
   ]
  },
  {
   "cell_type": "code",
   "execution_count": null,
   "metadata": {},
   "outputs": [],
   "source": [
    "its.timescales[:,1]"
   ]
  },
  {
   "cell_type": "code",
   "execution_count": null,
   "metadata": {},
   "outputs": [],
   "source": [
    "np.linalg.norm(mymsm.eigenvectors_right()[1])"
   ]
  },
  {
   "cell_type": "code",
   "execution_count": null,
   "metadata": {},
   "outputs": [],
   "source": [
    "for i in [8]:#range(10):\n",
    "    normi = np.linalg.norm(mymsm.eigenvectors_left()[i])\n",
    "    plt.plot(mymsm.eigenvectors_left()[i]/normi);\n",
    "#plt.xlim([0,10])"
   ]
  },
  {
   "cell_type": "code",
   "execution_count": null,
   "metadata": {},
   "outputs": [],
   "source": [
    "myMSMs[3].mfpt(10,1)"
   ]
  },
  {
   "cell_type": "code",
   "execution_count": null,
   "metadata": {},
   "outputs": [],
   "source": [
    "for state in range(212):\n",
    "    s1 = state\n",
    "    s2 = 1\n",
    "    #print(mymsm.mfpt(s1,s2), mymsm2.mfpt(s1,s2), mymsm3.mfpt(s1,s2), mymsm4.mfpt(s1,s2))\n",
    "    if (s1 != s2):\n",
    "        try:\n",
    "            mfpts = []\n",
    "            for i in range(numMSMs):\n",
    "                mfpts.append(myMSMs[i].mfpt(s1,s2))\n",
    "            plt.plot(np.log(mfpts))\n",
    "        except: \n",
    "            continue\n",
    "\n",
    "            \n",
    "plt.xlim([0,9])\n",
    "#plt.ylim([9,10])\n",
    "#plt.show()"
   ]
  },
  {
   "cell_type": "code",
   "execution_count": null,
   "metadata": {},
   "outputs": [],
   "source": [
    "mytpt = pyemma.msm.tpt(mymsm,[s1],[s2])\n",
    "mytpt2 = pyemma.msm.tpt(mymsm2,[s1],[s2])\n",
    "mytpt3 = pyemma.msm.tpt(mymsm3,[s1],[s2])\n",
    "mytpt4 = pyemma.msm.tpt(mymsm4,[s1],[s2])\n",
    "\n",
    "print(mytpt.mfpt, mytpt2.mfpt, mytpt3.mfpt, mytpt4.mfpt)"
   ]
  },
  {
   "cell_type": "code",
   "execution_count": null,
   "metadata": {},
   "outputs": [],
   "source": [
    "from msmtools.analysis import mfpt"
   ]
  },
  {
   "cell_type": "code",
   "execution_count": null,
   "metadata": {},
   "outputs": [],
   "source": [
    "print(mfpt(mymsm.transition_matrix, origin = 4, target = 0, tau = lagtime),\n",
    "      mfpt(mymsm2.transition_matrix, origin = 4, target = 0, tau = lagtime*2),\n",
    "      mfpt(mymsm4.transition_matrix, origin = 4, target = 0, tau = lagtime*4),\n",
    "      mfpt(mymsm4.transition_matrix, origin = 4, target = 0, tau = lagtime*8))"
   ]
  },
  {
   "cell_type": "code",
   "execution_count": null,
   "metadata": {},
   "outputs": [],
   "source": [
    "origin = 1\n",
    "target = 0\n",
    "print(-np.log(1.0 - mymsm.transition_matrix[origin][target])/lagtime,\n",
    "      -np.log(1.0 - mymsm2.transition_matrix[origin][target])/(2*lagtime),\n",
    "      -np.log(1.0 - mymsm4.transition_matrix[origin][target])/(4*lagtime),\n",
    "      -np.log(1.0 - mymsm8.transition_matrix[origin][target])/(8*lagtime))"
   ]
  },
  {
   "cell_type": "code",
   "execution_count": null,
   "metadata": {},
   "outputs": [],
   "source": [
    "mytpt = pyemma.msm.tpt(mymsm,[0],[1])\n",
    "mytpt.mfpt"
   ]
  },
  {
   "cell_type": "code",
   "execution_count": null,
   "metadata": {},
   "outputs": [],
   "source": [
    "1/(dt*mymsm.mfpt(0,1)*200)"
   ]
  },
  {
   "cell_type": "code",
   "execution_count": null,
   "metadata": {},
   "outputs": [],
   "source": [
    "mytpt = pyemma.msm.tpt(mymsm,[15],[10])\n",
    "mytpt.rate/dt"
   ]
  },
  {
   "cell_type": "code",
   "execution_count": null,
   "metadata": {},
   "outputs": [],
   "source": [
    "# Create distionaries to keep track of specific events. Needed to calculate rates\n",
    "boundstates = 2\n",
    "orientations = 7\n",
    "dt = trajs[0][2][0] - trajs[0][0][0]\n",
    "rateDict, timeDict, eventDict = msmrdals.extractRates(dtrajs, boundstates, orientations)"
   ]
  },
  {
   "cell_type": "code",
   "execution_count": null,
   "metadata": {},
   "outputs": [],
   "source": [
    "rateDict"
   ]
  },
  {
   "cell_type": "code",
   "execution_count": null,
   "metadata": {},
   "outputs": [],
   "source": [
    "a=msmrdMarkovModel(3,6,-1,rateDict)"
   ]
  },
  {
   "cell_type": "code",
   "execution_count": null,
   "metadata": {},
   "outputs": [],
   "source": [
    "a.getRate('b2->b1')"
   ]
  },
  {
   "cell_type": "code",
   "execution_count": null,
   "metadata": {},
   "outputs": [],
   "source": [
    "msmA = a.getMSM('15a')"
   ]
  },
  {
   "cell_type": "code",
   "execution_count": null,
   "metadata": {},
   "outputs": [],
   "source": [
    "msmA.getTransitionMatrix()"
   ]
  },
  {
   "cell_type": "code",
   "execution_count": null,
   "metadata": {},
   "outputs": [],
   "source": [
    "part1.state"
   ]
  },
  {
   "cell_type": "code",
   "execution_count": null,
   "metadata": {},
   "outputs": [],
   "source": []
  }
 ],
 "metadata": {
  "kernelspec": {
   "display_name": "Python [default]",
   "language": "python",
   "name": "python3"
  },
  "language_info": {
   "codemirror_mode": {
    "name": "ipython",
    "version": 3
   },
   "file_extension": ".py",
   "mimetype": "text/x-python",
   "name": "python",
   "nbconvert_exporter": "python",
   "pygments_lexer": "ipython3",
   "version": "3.6.7"
  }
 },
 "nbformat": 4,
 "nbformat_minor": 2
}
