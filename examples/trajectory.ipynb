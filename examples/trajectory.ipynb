{
 "cells": [
  {
   "cell_type": "code",
   "execution_count": null,
   "metadata": {},
   "outputs": [],
   "source": [
    "import msmrd2\n",
    "import numpy as np"
   ]
  },
  {
   "cell_type": "code",
   "execution_count": null,
   "metadata": {},
   "outputs": [],
   "source": [
    "# Create particle list with two particls\n",
    "p1 = msmrd2.particle(1.0, 1.0, [1.0, 0.0, 0.0], [0.0, 1.0, 0.0, 0.0])\n",
    "p2 = msmrd2.particle(1.0, 1.0, [0.0, 0.0, 1.0], [0.0, 0.0, 1.0, 0.0])\n",
    "plist = msmrd2.integrators.particleList([p1,p2])"
   ]
  },
  {
   "cell_type": "code",
   "execution_count": null,
   "metadata": {},
   "outputs": [],
   "source": [
    "# Defines integrators\n",
    "dt = 0.001\n",
    "seed = 0\n",
    "particletype = \"point\"\n",
    "intg = msmrd2.integrators.overdampedLangevin(dt, seed, particletype)"
   ]
  },
  {
   "cell_type": "code",
   "execution_count": null,
   "metadata": {},
   "outputs": [],
   "source": [
    "# Creates trajectory object to store trajectory data\n",
    "timeIterations = 50\n",
    "traj = msmrd2.trajectories.trajectoryPosition(1, timeIterations)"
   ]
  },
  {
   "cell_type": "code",
   "execution_count": null,
   "metadata": {},
   "outputs": [],
   "source": [
    "# Integrates and stores in trajectory\n",
    "for i in range(timeIterations):\n",
    "    traj.sampleRelative(i,plist)\n",
    "    intg.integrate(plist)"
   ]
  },
  {
   "cell_type": "code",
   "execution_count": null,
   "metadata": {},
   "outputs": [],
   "source": [
    "# Prinsta trajectory data\n",
    "traj.data"
   ]
  },
  {
   "cell_type": "code",
   "execution_count": null,
   "metadata": {},
   "outputs": [],
   "source": [
    "traj.write2file(\"test.bin\")"
   ]
  },
  {
   "cell_type": "code",
   "execution_count": null,
   "metadata": {},
   "outputs": [],
   "source": [
    "with open(\"test.bin\", \"rb\") as binary_file:\n",
    "    # Read the whole file at once\n",
    "    data = binary_file.read()\n",
    "    #print(data)"
   ]
  },
  {
   "cell_type": "code",
   "execution_count": null,
   "metadata": {},
   "outputs": [],
   "source": [
    "len(data)"
   ]
  },
  {
   "cell_type": "code",
   "execution_count": null,
   "metadata": {},
   "outputs": [],
   "source": [
    "data.decode()"
   ]
  },
  {
   "cell_type": "code",
   "execution_count": null,
   "metadata": {},
   "outputs": [],
   "source": []
  }
 ],
 "metadata": {
  "kernelspec": {
   "display_name": "Python [conda env:msmrd-dev]",
   "language": "python",
   "name": "conda-env-msmrd-dev-py"
  },
  "language_info": {
   "codemirror_mode": {
    "name": "ipython",
    "version": 3
   },
   "file_extension": ".py",
   "mimetype": "text/x-python",
   "name": "python",
   "nbconvert_exporter": "python",
   "pygments_lexer": "ipython3",
   "version": "3.6.5"
  }
 },
 "nbformat": 4,
 "nbformat_minor": 2
}
