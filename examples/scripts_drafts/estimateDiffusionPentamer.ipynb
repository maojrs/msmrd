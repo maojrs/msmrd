{
 "cells": [
  {
   "cell_type": "code",
   "execution_count": null,
   "metadata": {},
   "outputs": [],
   "source": [
    "import numpy as np\n",
    "import matplotlib.pyplot as plt\n",
    "import msmrd2\n",
    "import msmrd2.tools.quaternions as quats\n",
    "import msmrd2.visualization as msmrdvis\n",
    "from msmrd2.potentials import patchyParticleAngular2\n",
    "from msmrd2.integrators import overdampedLangevin as odLangevin"
   ]
  },
  {
   "cell_type": "code",
   "execution_count": null,
   "metadata": {},
   "outputs": [],
   "source": [
    "# Define particle list with between two and five particles to estimate the diffusion\n",
    "# of dimers/ trimers / cuatrimers? and pentamer\n",
    "np.random.seed(seed=1) # seed 1 good for pentamer \n",
    "numparticles = 5\n",
    "boxsize = 3\n",
    "D = 1.0\n",
    "Drot = 1.0\n",
    "pyPartlist = [] \n",
    "\n",
    "# Position List for pentamer IC\n",
    "th = 2*np.pi/5.0\n",
    "thextra = np.pi/2 + th/2.0\n",
    "thextra = np.pi\n",
    "for i in range(numparticles):\n",
    "    position = 0.85 * np.array([np.cos(th*i),np.sin(th*i),0.0])\n",
    "    orientation = np.array([np.cos(0.5*(thextra - th*i)),0,0,np.sin(0.5*(thextra - th*i))])\n",
    "    part = msmrd2.particle(D, Drot, position, quats.conjugate(orientation))\n",
    "    pyPartlist.append(part)"
   ]
  },
  {
   "cell_type": "code",
   "execution_count": null,
   "metadata": {},
   "outputs": [],
   "source": [
    "# Create list of particles that can be read from msmrd\n",
    "# Note the particles in this list will be independent from the python list.\n",
    "partlist = msmrd2.integrators.particleList(pyPartlist)"
   ]
  },
  {
   "cell_type": "code",
   "execution_count": null,
   "metadata": {},
   "outputs": [],
   "source": [
    "# Over-damped Langevin integrator definition\n",
    "dt = 0.00001 #0.000005\n",
    "seed = -1 #1 #-1 # Negative seed, uses random device as seed\n",
    "bodytype = 'rigidbody'\n",
    "integrator = odLangevin(dt, seed, bodytype) "
   ]
  },
  {
   "cell_type": "code",
   "execution_count": null,
   "metadata": {},
   "outputs": [],
   "source": [
    "# Define boundary (choose either spherical or box)\n",
    "# sphericalBoundary = msmrd2.sphere(radius,'reflective')\n",
    "boxBoundary = msmrd2.box(boxsize,boxsize,boxsize,'reflective')\n",
    "integrator.setBoundary(boxBoundary)"
   ]
  },
  {
   "cell_type": "code",
   "execution_count": null,
   "metadata": {},
   "outputs": [],
   "source": [
    "# Define Patchy Particle potential\n",
    "sigma = 1.0\n",
    "strength = 160 #100# 60 #200.0\n",
    "angularStrength = 20 #10 #200.0\n",
    "angleDiff = 3*np.pi/5.0\n",
    "patch1 = np.array([np.cos(angleDiff/2),np.sin(angleDiff/2),0.])\n",
    "patch2 = np.array([np.cos(-angleDiff/2),np.sin(-angleDiff/2),0.])\n",
    "patchesCoordinates = [patch1, patch2]\n",
    "potentialPatchyParticleAngular2 = patchyParticleAngular2(sigma, strength, angularStrength, patchesCoordinates)\n",
    "integrator.setPairPotential(potentialPatchyParticleAngular2)"
   ]
  },
  {
   "cell_type": "code",
   "execution_count": null,
   "metadata": {},
   "outputs": [],
   "source": [
    "#Integrate particle list and print only positions \n",
    "timesteps = 100000 #20000000\n",
    "stride = 250 #250 #1000\n",
    "datafile  = open('../../data/vmd/pentamerTest_' + str(numparticles) + 'particles.xyz', 'w')\n",
    "for i in range(timesteps):\n",
    "    if i%stride == 0:\n",
    "        datafile.write(str(3*len(partlist)) + '\\n')\n",
    "        datafile.write(str(0) + '\\n')\n",
    "    for j, part in enumerate(partlist):\n",
    "        if i%stride == 0:\n",
    "            v0 = part.position\n",
    "            v1 = v0 + 0.5*sigma*quats.rotateVec(patchesCoordinates[0], part.orientation)\n",
    "            v2 = v0 + 0.5*sigma*quats.rotateVec(patchesCoordinates[1], part.orientation)\n",
    "            datafile.write('type_0' + ' ' + ' '.join(map(str, v0)) + '\\n')\n",
    "            datafile.write('type_1' + ' ' + ' '.join(map(str, v1)) + '\\n')\n",
    "            datafile.write('type_1' + ' ' + ' '.join(map(str, v2)) + '\\n')\n",
    "    integrator.integrate(partlist)\n",
    "    if i%10000 == 0:\n",
    "        print(\"Percentage complete: \", 100*i/timesteps, \"%\", end=\"\\r\")\n",
    "datafile.close()\n",
    "# Generate TCL script to visualize with VMD\n",
    "msmrdvis.generateTCL_patchyParticles(numparticles = numparticles, \n",
    "                                    outfname = 'pentamerTest_' + str(numparticles) + 'particles', \n",
    "                                    tclfname = '../../data/vmd/pentamerTest_' + str(numparticles) + 'particles_2vmd.tcl')\n",
    "print(\"Percentage complete: \", 100, \" %\")"
   ]
  },
  {
   "cell_type": "code",
   "execution_count": null,
   "metadata": {},
   "outputs": [],
   "source": []
  },
  {
   "cell_type": "code",
   "execution_count": null,
   "metadata": {},
   "outputs": [],
   "source": []
  }
 ],
 "metadata": {
  "kernelspec": {
   "display_name": "Python 3",
   "language": "python",
   "name": "python3"
  },
  "language_info": {
   "codemirror_mode": {
    "name": "ipython",
    "version": 3
   },
   "file_extension": ".py",
   "mimetype": "text/x-python",
   "name": "python",
   "nbconvert_exporter": "python",
   "pygments_lexer": "ipython3",
   "version": "3.8.3"
  }
 },
 "nbformat": 4,
 "nbformat_minor": 4
}
