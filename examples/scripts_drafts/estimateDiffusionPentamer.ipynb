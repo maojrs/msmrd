{
 "cells": [
  {
   "cell_type": "markdown",
   "metadata": {},
   "source": [
    "# Estimate diffusion\n",
    "\n",
    "Creates pentemeric ring molecule formed by five patchy particles, and simulates for some time (even creates vmd output). Then it estimates translational and rotational diffusion coefficients assuming isotropic diffusion. The number of particles can be changed between 2 and 5 to obtain the diffusion coefficients of the different structures."
   ]
  },
  {
   "cell_type": "code",
   "execution_count": null,
   "metadata": {},
   "outputs": [],
   "source": [
    "import numpy as np\n",
    "import matplotlib.pyplot as plt\n",
    "import msmrd2\n",
    "import msmrd2.tools.quaternions as quats\n",
    "import msmrd2.visualization as msmrdvis\n",
    "from msmrd2.potentials import patchyParticleAngular2\n",
    "from msmrd2.integrators import overdampedLangevin as odLangevin"
   ]
  },
  {
   "cell_type": "code",
   "execution_count": null,
   "metadata": {},
   "outputs": [],
   "source": [
    "# Define particle list with between two and five particles to estimate the diffusion\n",
    "# of dimers/ trimers / cuatrimers? and pentamer\n",
    "np.random.seed(seed=1) # seed 1 good for pentamer \n",
    "numparticles = 5 # It has value between 2 and 5\n",
    "boxsize = 3\n",
    "D = 1.0\n",
    "Drot = 1.0\n",
    "pyPartlist = [] \n",
    "\n",
    "# Position List for pentamer IC\n",
    "th = 2*np.pi/5.0\n",
    "thextra = np.pi\n",
    "for i in range(numparticles):\n",
    "    position = 0.85 * np.array([np.cos(th*i),np.sin(th*i),0.0])\n",
    "    orientation = np.array([np.cos(0.5*(thextra - th*i)),0,0,np.sin(0.5*(thextra - th*i))])\n",
    "    part = msmrd2.particle(D, Drot, position, quats.conjugate(orientation))\n",
    "    pyPartlist.append(part)"
   ]
  },
  {
   "cell_type": "code",
   "execution_count": null,
   "metadata": {},
   "outputs": [],
   "source": [
    "# Create list of particles that can be read from msmrd\n",
    "# Note the particles in this list will be independent from the python list.\n",
    "partlist = msmrd2.integrators.particleList(pyPartlist)"
   ]
  },
  {
   "cell_type": "code",
   "execution_count": null,
   "metadata": {},
   "outputs": [],
   "source": [
    "# Over-damped Langevin integrator definition\n",
    "dt = 0.00001 #0.000005\n",
    "seed = -1 #1 #-1 # Negative seed, uses random device as seed\n",
    "bodytype = 'rigidbody'\n",
    "integrator = odLangevin(dt, seed, bodytype) "
   ]
  },
  {
   "cell_type": "code",
   "execution_count": null,
   "metadata": {},
   "outputs": [],
   "source": [
    "# Define boundary (choose either spherical or box)\n",
    "# sphericalBoundary = msmrd2.sphere(radius,'reflective')\n",
    "#boxBoundary = msmrd2.box(boxsize,boxsize,boxsize,'reflective')\n",
    "#integrator.setBoundary(boxBoundary)"
   ]
  },
  {
   "cell_type": "code",
   "execution_count": null,
   "metadata": {},
   "outputs": [],
   "source": [
    "# Define Patchy Particle potential\n",
    "sigma = 1.0\n",
    "strength = 160 #100# 60 #200.0\n",
    "angularStrength = 20 #10 #200.0\n",
    "angleDiff = 3*np.pi/5.0\n",
    "patch1 = np.array([np.cos(angleDiff/2),np.sin(angleDiff/2),0.])\n",
    "patch2 = np.array([np.cos(-angleDiff/2),np.sin(-angleDiff/2),0.])\n",
    "patchesCoordinates = [patch1, patch2]\n",
    "if numparticles > 1:\n",
    "    potentialPatchyParticleAngular2 = patchyParticleAngular2(sigma, strength, angularStrength, patchesCoordinates)\n",
    "    integrator.setPairPotential(potentialPatchyParticleAngular2)"
   ]
  },
  {
   "cell_type": "code",
   "execution_count": null,
   "metadata": {},
   "outputs": [],
   "source": [
    "# Define arrays to calculate autocorrelation functions\n",
    "pentamerPositionArray = []\n",
    "pentamerOrientationArray = []"
   ]
  },
  {
   "cell_type": "code",
   "execution_count": null,
   "metadata": {},
   "outputs": [],
   "source": [
    "#Integrate particle list and print only positions \n",
    "timesteps = 100000 #1000000 #1000000 #20000000\n",
    "stride = 10 #25 #250 #1000\n",
    "datafile  = open('../../data/vmd/pentamerTest_' + str(numparticles) + 'particles.xyz', 'w')\n",
    "cross = [None]*2\n",
    "# Define reference vectors for plotting reference system\n",
    "refVec4 = np.array([0., 0., 3.])\n",
    "refVec5 = np.array([0., 0., -3.])\n",
    "for i in range(timesteps):\n",
    "    if i%stride == 0:\n",
    "        datafile.write(str(3*len(partlist) + 3) + '\\n')\n",
    "        datafile.write(str(0) + '\\n')\n",
    "        if numparticles == 1:\n",
    "            pentamerPositionArray.append(partlist[0].position)\n",
    "            pentamerOrientationArray.append(partlist[0].orientation)\n",
    "        else:\n",
    "            # Calculate and plot center of pentamer position\n",
    "            relpos = partlist[1].position - partlist[0].position\n",
    "            relpos = relpos/np.linalg.norm(relpos)\n",
    "            patch1 = 0.5*sigma*quats.rotateVec(patchesCoordinates[0], partlist[0].orientation)\n",
    "            patch2 = 0.5*sigma*quats.rotateVec(patchesCoordinates[1], partlist[0].orientation)\n",
    "            cross[0] = np.cross(relpos,patch1)\n",
    "            cross[1] = np.cross(relpos,patch2)\n",
    "            maxIndex = np.argmax(np.linalg.norm(cross, axis=1))\n",
    "            rotAxis = cross[maxIndex]/np.linalg.norm(cross[maxIndex])\n",
    "            rotation = 3*np.pi*rotAxis/10.0\n",
    "            quatRotation = quats.angle2quat(rotation)\n",
    "            pentamerCenter = 0.85*quats.rotateVec(relpos,quatRotation)\n",
    "            pentamerCenter = pentamerCenter + partlist[0].position\n",
    "            pentamerPositionArray.append(pentamerCenter)\n",
    "            # Calculate and plot orientation of pentamer (using only the orientation of particle 0)\n",
    "            orientation0 = np.array([np.cos(0.5*(thextra)),0,0,np.sin(0.5*(thextra))])\n",
    "            vec1 = 0.85 * np.array([1.,0.,0.]) + 0.5*sigma*quats.rotateVec(patchesCoordinates[0],orientation0)\n",
    "            vec2 = 0.85 * np.array([1.,0.,0.]) + 0.5*sigma*quats.rotateVec(patchesCoordinates[1],orientation0)\n",
    "            rotVec1 = partlist[0].position + 0.5*sigma*quats.rotateVec(patchesCoordinates[0],partlist[0].orientation)\n",
    "            rotVec2 = partlist[0].position + 0.5*sigma*quats.rotateVec(patchesCoordinates[1],partlist[0].orientation)\n",
    "            pentamerOrientation = quats.recoverRotationFromVectors(np.array([0.,0.,0.]), vec1, vec2, \\\n",
    "                                        pentamerCenter, rotVec1, rotVec2)\n",
    "            #pentamerOrientation = quats.recoverRotationFromVectors(np.array([0.,0.,0.]), \\\n",
    "            #                            0.85 * np.array([1.,0.,0.]), \\\n",
    "            #                            0.85 * np.array([np.cos(th),np.sin(th),0.0]), \\\n",
    "            #                            pentamerCenter, partlist[0].position, partlist[1].position)\n",
    "            pentamerOrientationArray.append(pentamerOrientation)\n",
    "            # Calculate cross reference\n",
    "            v0 = pentamerCenter\n",
    "            v1 = v0 + 0.25*quats.rotateVec(refVec4, pentamerOrientation)\n",
    "            v2 = v0 + 0.25*quats.rotateVec(refVec5, pentamerOrientation)\n",
    "            # Plot cross reference\n",
    "            datafile.write('type_2' + ' ' + ' '.join(map(str, v0)) + '\\n')\n",
    "            datafile.write('type_3' + ' ' + ' '.join(map(str, v1)) + '\\n')\n",
    "            datafile.write('type_3' + ' ' + ' '.join(map(str, v2)) + '\\n')\n",
    "    for j, part in enumerate(partlist):\n",
    "        if i%stride == 0:\n",
    "            v0 = part.position\n",
    "            v1 = v0 + 0.5*sigma*quats.rotateVec(patchesCoordinates[0], part.orientation)\n",
    "            v2 = v0 + 0.5*sigma*quats.rotateVec(patchesCoordinates[1], part.orientation)\n",
    "            datafile.write('type_0' + ' ' + ' '.join(map(str, v0)) + '\\n')\n",
    "            datafile.write('type_1' + ' ' + ' '.join(map(str, v1)) + '\\n')\n",
    "            datafile.write('type_1' + ' ' + ' '.join(map(str, v2)) + '\\n')\n",
    "    integrator.integrate(partlist)\n",
    "    if i%10000 == 0:\n",
    "        print(\"Percentage complete: \", 100*i/timesteps, \"%\", end=\"\\r\")\n",
    "datafile.close()\n",
    "# Generate TCL script to visualize with VMD\n",
    "msmrdvis.generateTCL_pentamerTest(numparticles = numparticles, \n",
    "                                    outfname = 'pentamerTest_' + str(numparticles) + 'particles', \n",
    "                                    tclfname = '../../data/vmd/pentamerTest_' + \n",
    "                                    str(numparticles) + 'particles_2vmd.tcl')\n",
    "print(\"Percentage complete: \", 100, \" %\")"
   ]
  },
  {
   "cell_type": "code",
   "execution_count": null,
   "metadata": {},
   "outputs": [],
   "source": [
    "# Calculate auto-correlation/mean-square displacement for several lagtimes\n",
    "tsteps = len(pentamerPositionArray)\n",
    "lagtimesIndexes = np.arange(100,2000,100) #np.arange(1,20,1)\n",
    "lagtimes = np.zeros(len(lagtimesIndexes) + 1)\n",
    "MSD_3D = np.zeros(len(lagtimesIndexes) + 1)\n",
    "MSD_3D_orientation = np.zeros(len(lagtimesIndexes) + 1)\n",
    "for i, lagtimeIndex in enumerate(lagtimesIndexes):\n",
    "    lagtimes[i+1] = dt * lagtimeIndex * stride\n",
    "    MSD = 0.0\n",
    "    MSD_orientation = 0.0\n",
    "    for j in range(tsteps-lagtimeIndex):\n",
    "        dr = pentamerPositionArray[j+lagtimeIndex] - pentamerPositionArray[j]\n",
    "        dq = pentamerOrientationArray[j+lagtimeIndex] - pentamerOrientationArray[j]\n",
    "        MSD += dr*dr\n",
    "        MSD_orientation += dq*dq\n",
    "    MSD = MSD/(tsteps - lagtimeIndex + 1)\n",
    "    MSD_3D[i+1] = sum(MSD) # D = sum(MSD)/(6*lagtime)\n",
    "    MSD_orientation = MSD_orientation/(tsteps - lagtimeIndex + 1)\n",
    "    MSD_3D_orientation[i+1] = sum(MSD_orientation[1:])"
   ]
  },
  {
   "cell_type": "code",
   "execution_count": null,
   "metadata": {},
   "outputs": [],
   "source": [
    "# Least square approximation with numpy\n",
    "A = np.vstack([lagtimes, np.ones(len(lagtimes))]).T\n",
    "slope,b = np.linalg.lstsq(A, MSD_3D/6, rcond=None)[0]\n",
    "print(slope,b)\n",
    "# Least square approximation with numpy (rotation)\n",
    "y = - np.log(1-4*MSD_3D_orientation/3.0)/2\n",
    "slope2,b2 = np.linalg.lstsq(A, y, rcond=None)[0]\n",
    "print(slope2,b2)\n",
    "# Least square approximation version 2 with numpy (rotation)\n",
    "y = MSD_3D_orientation*2.0/3.0\n",
    "slope3,b3 = np.linalg.lstsq(A, y, rcond=None)[0]\n",
    "print(slope3,b3)"
   ]
  },
  {
   "cell_type": "code",
   "execution_count": null,
   "metadata": {},
   "outputs": [],
   "source": [
    "# Plot MSD against lagtime\n",
    "plt.plot(lagtimes, MSD_3D/6, 'o', label = 'position')\n",
    "plt.plot(lagtimes, - np.log(1-4*MSD_3D_orientation/3.0)/2, 'o', label='orientation')\n",
    "plt.plot(lagtimes, slope*lagtimes + b, '-', label = 'position fit')\n",
    "plt.plot(lagtimes, slope2*lagtimes + b2, '-', label = 'orientation fit')\n",
    "#plt.plot(lagtimesRot, 2*MSD_3D_orientation/3, '-o', label='orientation approx')\n",
    "plt.legend()"
   ]
  },
  {
   "cell_type": "code",
   "execution_count": null,
   "metadata": {},
   "outputs": [],
   "source": [
    "Dapprox = slope\n",
    "DrotApprox = slope2\n",
    "print(Dapprox, DrotApprox)"
   ]
  },
  {
   "cell_type": "code",
   "execution_count": null,
   "metadata": {},
   "outputs": [],
   "source": []
  }
 ],
 "metadata": {
  "kernelspec": {
   "display_name": "Python 3",
   "language": "python",
   "name": "python3"
  },
  "language_info": {
   "codemirror_mode": {
    "name": "ipython",
    "version": 3
   },
   "file_extension": ".py",
   "mimetype": "text/x-python",
   "name": "python",
   "nbconvert_exporter": "python",
   "pygments_lexer": "ipython3",
   "version": "3.8.3"
  }
 },
 "nbformat": 4,
 "nbformat_minor": 4
}
