{
 "cells": [
  {
   "cell_type": "markdown",
   "metadata": {},
   "source": [
    "# Multiparticle MSM/RD simulation\n",
    "\n",
    "Sample implementation of MSM/RD multiparticle simulation. Full versions in scripts folder. Note it requires to have already computed the main MSM for MSM/RD and have it ready to be pickled by python."
   ]
  },
  {
   "cell_type": "code",
   "execution_count": null,
   "metadata": {},
   "outputs": [],
   "source": [
    "import numpy as np\n",
    "import pickle\n",
    "import msmrd2\n",
    "import msmrd2\n",
    "from msmrd2.markovModels import continuousTimeMarkovStateModel as ctmsm\n",
    "from msmrd2.markovModels import msmrdMarkovModel as msmrdMSM\n",
    "from msmrd2.integrators import msmrdMultiParticleIntegrator\n",
    "import msmrd2.tools.particleTools as particleTools\n",
    "import msmrd2.tools.quaternions as quats\n",
    "import msmrd2.visualization as msmrdvis"
   ]
  },
  {
   "cell_type": "code",
   "execution_count": null,
   "metadata": {},
   "outputs": [],
   "source": [
    "# Important paramaters\n",
    "# Main parameters for particle and integrator\n",
    "numparticles = 5\n",
    "partTypes = 0 # All particles are type 0\n",
    "dt = 0.0001 #0.002 # should be smaller than Gillespie inverse transition rates\n",
    "bodytype = 'rigidbody'\n",
    "numBoundStates = 4\n",
    "maxNumBoundStates = 10\n",
    "radialBounds = [1.25, 2.25] # must match patchyDimer discretization\n",
    "minimumUnboundRadius = 1.5\n",
    "numParticleTypes = 1 # num. of particle types (not states) in unbound state\n",
    "\n",
    "# Patchy particles parameters\n",
    "sigma = 1.0\n",
    "angleDiff = 3*np.pi/5.0\n",
    "patch1 = np.array([np.cos(angleDiff/2),np.sin(angleDiff/2),0.])\n",
    "patch2 = np.array([np.cos(-angleDiff/2),np.sin(-angleDiff/2),0.])\n",
    "patchesCoordinates = [patch1, patch2]\n",
    "\n",
    "# Other important parameters\n",
    "lagtime = 40 #100 #300\n",
    "boxsize = 6 #2.5 #6 #8 #6\n",
    "angleDiff = 3*np.pi/5.0\n",
    "dtMDsimulation = 0.00001\n",
    "stride = 25\n",
    "realLagtime = lagtime*dtMDsimulation*stride\n",
    "\n",
    "# Discretization parameters (need to be consistent with the on used to generate the MSM for MSM/RD\n",
    "numSphericalSectionsPos = 7 #7 #7\n",
    "numRadialSectionsQuat = 5 #3 #5\n",
    "numSphericalSectionsQuat = 7 #6 #7\n",
    "totalnumSecsQuat = numSphericalSectionsQuat*(numRadialSectionsQuat -1) + 1\n",
    "numTransitionsStates = numSphericalSectionsPos * totalnumSecsQuat #203\n",
    "\n",
    "# Parameters to define continuous-time MSM for unbound dynamics: unboundMSM (assumed same for all particles)\n",
    "MSMtype = 0\n",
    "ratematrix = np.array([[0]]) # no unbound dynamics\n",
    "Dlist = np.array([1.0])\n",
    "Drotlist = np.array([1.0])\n",
    "\n",
    "# Parameters to define coupling Markov model for bound dynamics: couplingMSM\n",
    "Dbound = np.ones(numBoundStates)\n",
    "DboundRot = 0.5*np.ones(numBoundStates)\n",
    "\n",
    "# Complex diffusion coefficients (D,Drot) (taken from estimateDiffusionCoefficients script)\n",
    "DlistCompound = np.array([0.6424, 0.2484, 0.06956, 0.0196])\n",
    "DrotlistCompound = np.array([0.7234, 0.1869, 0.04041, 0.0341])\n",
    "\n",
    "# Bound states definition, needed to calculate boundstate\n",
    "boundStates = [1, 2, 3, 4]"
   ]
  },
  {
   "cell_type": "code",
   "execution_count": null,
   "metadata": {},
   "outputs": [],
   "source": [
    "# Define discretization\n",
    "discretization = msmrd2.discretizations.positionOrientationPartition(radialBounds[1],\n",
    "                                                                         numSphericalSectionsPos, numRadialSectionsQuat, numSphericalSectionsQuat)"
   ]
  },
  {
   "cell_type": "code",
   "execution_count": null,
   "metadata": {},
   "outputs": [],
   "source": [
    "# Define boundary\n",
    "boxBoundary = msmrd2.box(boxsize,boxsize,boxsize,'periodic')"
   ]
  },
  {
   "cell_type": "code",
   "execution_count": null,
   "metadata": {},
   "outputs": [],
   "source": [
    "# Load rate dicitionary\n",
    "pickle_in = open(\"../../data/pentamer/MSMs/MSM_dimer4trimer_t3.00E+06_s25_lagt\" + str(lagtime)\n",
    "                 +  \".pickle\",\"rb\") # Same MSM as trimer\n",
    "mainMSM = pickle.load(pickle_in)\n",
    "tmatrix = mainMSM['transition_matrix']\n",
    "activeSet = mainMSM['active_set']"
   ]
  },
  {
   "cell_type": "code",
   "execution_count": null,
   "metadata": {},
   "outputs": [],
   "source": [
    "# Set unbound MSM\n",
    "seed = int(-1) # Negative seed, uses random device as seed\n",
    "unboundMSM = ctmsm(MSMtype, ratematrix, seed)\n",
    "unboundMSM.setD(Dlist)\n",
    "unboundMSM.setDrot(Drotlist)"
   ]
  },
  {
   "cell_type": "code",
   "execution_count": null,
   "metadata": {},
   "outputs": [],
   "source": [
    "# Set coupling MSM\n",
    "seed = int(-1) # Negative seed, uses random device as seed\n",
    "couplingMSM = msmrdMSM(numBoundStates, maxNumBoundStates,  tmatrix, activeSet, realLagtime, seed)\n",
    "couplingMSM.setDbound(Dbound, DboundRot)"
   ]
  },
  {
   "cell_type": "code",
   "execution_count": null,
   "metadata": {},
   "outputs": [],
   "source": [
    "# Define integrator, boundary and discretization\n",
    "seed = -int(1) # Negative seed, uses random device as seed\n",
    "integrator = msmrdMultiParticleIntegrator(dt, seed, bodytype, numParticleTypes, radialBounds,\n",
    "                                          unboundMSM, couplingMSM, DlistCompound, DrotlistCompound)\n",
    "integrator.setBoundary(boxBoundary)\n",
    "integrator.setDiscretization(discretization)"
   ]
  },
  {
   "cell_type": "code",
   "execution_count": null,
   "metadata": {},
   "outputs": [],
   "source": [
    "partlist = particleTools.randomParticleMSList(numparticles, boxsize,\n",
    "                                                  minimumUnboundRadius, partTypes, [unboundMSM], seed)"
   ]
  },
  {
   "cell_type": "code",
   "execution_count": null,
   "metadata": {},
   "outputs": [],
   "source": [
    "#Integrate particle list and print only positions \n",
    "timesteps = 500000 #100000 #20000000\n",
    "stride = 25 #250 #1000\n",
    "datafile  = open('../../data/vmd/multiParticleMSMRD.xyz', 'w')\n",
    "for i in range(timesteps):\n",
    "    if i%stride == 0:\n",
    "        datafile.write(str(3*len(partlist)) + '\\n')\n",
    "        datafile.write(str(0) + '\\n')\n",
    "    for j, part in enumerate(partlist):\n",
    "        if i%stride == 0:\n",
    "            v0 = part.position\n",
    "            v1 = v0 + 0.5*sigma*quats.rotateVec(patchesCoordinates[0], part.orientation)\n",
    "            v2 = v0 + 0.5*sigma*quats.rotateVec(patchesCoordinates[1], part.orientation)\n",
    "            datafile.write('type_0' + ' ' + ' '.join(map(str, v0)) + '\\n')\n",
    "            datafile.write('type_1' + ' ' + ' '.join(map(str, v1)) + '\\n')\n",
    "            datafile.write('type_1' + ' ' + ' '.join(map(str, v2)) + '\\n')\n",
    "    integrator.integrate(partlist)\n",
    "    if i%10000 == 0:\n",
    "        print(\"Percentage complete: \", 100*i/timesteps, \"%\", end=\"\\r\")\n",
    "datafile.close()\n",
    "# Generate TCL script to visualize with VMD\n",
    "msmrdvis.generateTCL_patchyParticles(numparticles = numparticles, \n",
    "                                    outfname = \"multiParticleMSMRD\", \n",
    "                                    tclfname = \"../../data/vmd/multiParticleMSMRD_2vmd.tcl\")\n",
    "print(\"Percentage complete: \", 100, \" %\")"
   ]
  },
  {
   "cell_type": "code",
   "execution_count": null,
   "metadata": {},
   "outputs": [],
   "source": [
    "# Check if loops were formed.\n",
    "integrator.findClosedBindingLoops(partlist)"
   ]
  },
  {
   "cell_type": "code",
   "execution_count": null,
   "metadata": {},
   "outputs": [],
   "source": []
  }
 ],
 "metadata": {
  "kernelspec": {
   "display_name": "Python 3",
   "language": "python",
   "name": "python3"
  },
  "language_info": {
   "codemirror_mode": {
    "name": "ipython",
    "version": 3
   },
   "file_extension": ".py",
   "mimetype": "text/x-python",
   "name": "python",
   "nbconvert_exporter": "python",
   "pygments_lexer": "ipython3",
   "version": "3.8.3"
  }
 },
 "nbformat": 4,
 "nbformat_minor": 2
}
