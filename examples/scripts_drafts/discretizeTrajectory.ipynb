{
 "cells": [
  {
   "cell_type": "markdown",
   "metadata": {},
   "source": [
    "# Discretize trajectory  \n",
    "\n",
    "Loads a trajectory of two particles/molecules computed with the benchmark model (positions and orientations) and discretizes it into a discrete trajectory depending on their relativ position and orientation. This is just a draft of the scripts used in the scripts folder."
   ]
  },
  {
   "cell_type": "code",
   "execution_count": null,
   "metadata": {},
   "outputs": [],
   "source": [
    "import pickle\n",
    "import numpy as np\n",
    "import msmrd2\n",
    "import msmrd2.tools.trajectoryTools as trajectoryTools\n",
    "import msmrd2.tools.analysis as analysisTools\n",
    "import timeit"
   ]
  },
  {
   "cell_type": "code",
   "execution_count": null,
   "metadata": {},
   "outputs": [],
   "source": [
    "# Load parameters from parameters file\n",
    "parentDirectory = '../../data/patchyDimer/benchmark/'\n",
    "parameterDictionary = analysisTools.readParameters(parentDirectory + \"parameters\")\n",
    "# Parameters for loading continuous trajectories from files (from original simulation)\n",
    "nfiles = 5 #parameterDictionary['numFiles']\n",
    "dt = parameterDictionary['dt'] \n",
    "stride = parameterDictionary['stride']\n",
    "totalTimeSteps = parameterDictionary['timesteps'] \n",
    "boxsize = parameterDictionary['boxsize']\n",
    "boundaryType = parameterDictionary['boundaryType']\n",
    "parameterDictionary"
   ]
  },
  {
   "cell_type": "code",
   "execution_count": null,
   "metadata": {},
   "outputs": [],
   "source": [
    "# Calculated parameters\n",
    "#dtEffective = dt*stride # needed to obtain rate dictionary\n",
    "effectivetimeSteps = int(totalTimeSteps/stride)\n",
    "fnamebase = parentDirectory + 'simDimer_'\n",
    "#fnamebase = parentDirectory + 'simPatchyProtein_'"
   ]
  },
  {
   "cell_type": "code",
   "execution_count": null,
   "metadata": {},
   "outputs": [],
   "source": [
    "# Setup for discrete trajectory (in this case patchy dimer)\n",
    "numParticles = parameterDictionary['numParticles']\n",
    "bufferSize = effectivetimeSteps\n",
    "\n",
    "# Set trajectory discretizator\n",
    "radialLowerBound = 1.25\n",
    "radialUpperBound = 2.25\n",
    "#discretizator = msmrd2.trajectories.patchyDimer(numParticles, bufferSize)\n",
    "discretizator = msmrd2.trajectories.patchyDimer2(numParticles, bufferSize, radialLowerBound, radialUpperBound)\n",
    "#discretizator = msmrd2.trajectories.patchyProtein(numParticles, bufferSize, radialLowerBound, radialUpperBound)\n",
    "#discretizator = msmrd2.trajectories.patchyProtein2(numParticles, bufferSize, radialLowerBound, radialUpperBound)\n",
    "\n",
    "# Set boundary (important for discretizer)\n",
    "boxBoundary = msmrd2.box(boxsize, boxsize, boxsize, boundaryType)\n",
    "discretizator.setBoundary(boxBoundary)"
   ]
  },
  {
   "cell_type": "markdown",
   "metadata": {},
   "source": [
    "## Discretization (fast approach)"
   ]
  },
  {
   "cell_type": "code",
   "execution_count": null,
   "metadata": {},
   "outputs": [],
   "source": [
    "# Load H5 files and generates discrete trajectories at once directly on c++.\n",
    "dtrajs = []\n",
    "for i in range(nfiles):\n",
    "    filename = fnamebase + str(i).zfill(4) + '.h5'\n",
    "    dtraj = discretizator.discretizeTrajectoryH5(filename)\n",
    "    dtrajs.append(dtraj)\n",
    "    if i%10 == 0:\n",
    "        print(\"File \", i+1, \" of \", nfiles, \" done.\", end=\"\\r\")\n",
    "print(\"Done\")"
   ]
  },
  {
   "cell_type": "code",
   "execution_count": null,
   "metadata": {},
   "outputs": [],
   "source": [
    "# Write discrete trajectory to xyz file\n",
    "for i, dtraj in enumerate(dtrajs):\n",
    "    datafile  = open(fnamebase + str(i).zfill(4) + '_discrete.xyz', 'w')\n",
    "    for j in range(len(dtraj)):\n",
    "        datafile.write(str(dtraj[j]) + '\\n')\n",
    "    datafile.close()\n",
    "    print(\"File \", i+1, \" of \", nfiles, \" done.\", end=\"\\r\")"
   ]
  },
  {
   "cell_type": "markdown",
   "metadata": {},
   "source": [
    "Here you are done with the discretization. Below are additional ways to do the discretization and some tests. \n",
    "\n",
    "## Alternative discretization approach (older approach, slightly slower)\n",
    "\n",
    "Loading first H5 file in python and the discretizing. Could be useful in some cases."
   ]
  },
  {
   "cell_type": "code",
   "execution_count": null,
   "metadata": {},
   "outputs": [],
   "source": [
    "# Load trajectories\n",
    "trajs = []\n",
    "for i in range(nfiles):\n",
    "    traj = trajectoryTools.loadTrajectory(fnamebase, i)\n",
    "    trajs.append(traj)    \n",
    "    print(\"File \", i+1, \" of \", nfiles, \" done.\", end=\"\\r\")"
   ]
  },
  {
   "cell_type": "code",
   "execution_count": null,
   "metadata": {},
   "outputs": [],
   "source": [
    "# Generate discrete trajectories using msmrd2.trajectories.discrete\n",
    "dtrajs = []\n",
    "for i in range(nfiles):\n",
    "    currentTraj = trajs[i]\n",
    "    dtraj = discretizator.discretizeTrajectory(currentTraj)\n",
    "    dtrajs.append(dtraj)\n",
    "    if i%20 == 0:\n",
    "        print(\"File \", i+1, \" of \", nfiles, \" done.\", end=\"\\r\")\n",
    "print(\"Done\")"
   ]
  },
  {
   "cell_type": "code",
   "execution_count": null,
   "metadata": {},
   "outputs": [],
   "source": [
    "# Write discrete trajectory to xyz file\n",
    "for i, dtraj in enumerate(dtrajs):\n",
    "    datafile  = open(fnamebase + str(i).zfill(4) + '_discrete_python_debug.xyz', 'w')\n",
    "    for j in range(len(dtraj)):\n",
    "        datafile.write(str(dtraj[j]) + '\\n')\n",
    "    datafile.close()\n",
    "    print(\"File \", i+1, \" of \", nfiles, \" done.\", end=\"\\r\")"
   ]
  },
  {
   "cell_type": "markdown",
   "metadata": {},
   "source": [
    "## Alternative discretization approach (older approach) \n",
    "\n",
    "Uses batches, so it is better for systems with small memory and for debugging)"
   ]
  },
  {
   "cell_type": "code",
   "execution_count": null,
   "metadata": {},
   "outputs": [],
   "source": [
    "# Load trajectories\n",
    "trajs = []\n",
    "fileNum1 = 258\n",
    "fileNum2 = 259\n",
    "for i in range(fileNum1, fileNum2):\n",
    "    traj = trajectoryTools.loadTrajectory(fnamebase, i)\n",
    "    trajs.append(traj)    \n",
    "    print(\"File \", i+1, \" of \", fileNum2, \" done.\", end=\"\\r\")"
   ]
  },
  {
   "cell_type": "code",
   "execution_count": null,
   "metadata": {},
   "outputs": [],
   "source": [
    "# Generate discrete trajectories using msmrd2.trajectories.discrete\n",
    "dtrajs = []\n",
    "for i in range(fileNum2 - fileNum1):\n",
    "    currentTraj = trajs[i]\n",
    "    dtraj = discretizator.discretizeTrajectory(currentTraj)\n",
    "    dtrajs.append(dtraj)\n",
    "    if i%20 == 0:\n",
    "        print(\"File \", i+1, \" of \", fileNum2 - fileNum1, \" done.\", end=\"\\r\")\n",
    "print(\"Done\")"
   ]
  },
  {
   "cell_type": "code",
   "execution_count": null,
   "metadata": {},
   "outputs": [],
   "source": [
    "# Choose a specific part to debug\n",
    "particles = trajs[0][2*200156:2*200157]"
   ]
  },
  {
   "cell_type": "code",
   "execution_count": null,
   "metadata": {},
   "outputs": [],
   "source": [
    "# Create dummy particles to evaluate state\n",
    "part1 = msmrd2.particle(0,0, particles[0][1:4], particles[0][4:8])\n",
    "part2 = msmrd2.particle(0,0, particles[1][1:4], particles[1][4:8])"
   ]
  },
  {
   "cell_type": "code",
   "execution_count": null,
   "metadata": {},
   "outputs": [],
   "source": [
    "# Evaluate current state\n",
    "discretizator.sampleDiscreteState(part1,part2)"
   ]
  },
  {
   "cell_type": "code",
   "execution_count": null,
   "metadata": {},
   "outputs": [],
   "source": [
    "# Write discrete trajectory to xyz file\n",
    "for i, dtraj in enumerate(dtrajs):\n",
    "    datafile  = open(fnamebase + str(fileNum1 + i).zfill(4) + '_discrete_python_debug.xyz', 'w')\n",
    "    for j in range(len(dtraj)):\n",
    "        datafile.write(str(dtraj[j]) + '\\n')\n",
    "    datafile.close()\n",
    "    print(\"File \", i+1, \" of \", fileNum2 - fileNum1, \" done.\", end=\"\\r\")"
   ]
  },
  {
   "cell_type": "markdown",
   "metadata": {},
   "source": [
    "## Timeit tests\n",
    "Showing it is faster the first way"
   ]
  },
  {
   "cell_type": "code",
   "execution_count": null,
   "metadata": {},
   "outputs": [],
   "source": [
    "mysetup = '''\n",
    "import numpy as np\n",
    "import msmrd2\n",
    "import msmrd2.tools.trajectoryTools as trajectoryTools\n",
    "\n",
    "nfiles = 10\n",
    "dt = 0.00001 # from original simulation\n",
    "stride = 25  # stride of sampling (every 25th dt)\n",
    "totalTimeSteps = 4000000 #2000000\n",
    "boxsize = 4\n",
    "boundaryType = 'periodic'\n",
    "\n",
    "# Calculated parameters\n",
    "dtEffective = dt*stride # needed to obtain rate dictionary\n",
    "effectivetimeSteps = int(totalTimeSteps/25)\n",
    "fnamebase = '../data/dimer/simDimer_t' + \"{:.2E}\".format(totalTimeSteps) + \"_s{:d}\".format(stride) + \"_\"\n",
    "\n",
    "# Setup for discrete trajectory (in this case patchy dimer)\n",
    "numParticles = 2\n",
    "bufferSize = effectivetimeSteps\n",
    "discretizator = msmrd2.trajectories.patchyDimer(numParticles, effectivetimeSteps)\n",
    "# Set boundary (important for discretizer)\n",
    "boxBoundary = msmrd2.box(boxsize, boxsize, boxsize, boundaryType)\n",
    "discretizator.setBoundary(boxBoundary)\n",
    "'''"
   ]
  },
  {
   "cell_type": "code",
   "execution_count": null,
   "metadata": {},
   "outputs": [],
   "source": [
    "mycode1 = '''\n",
    "trajs = []\n",
    "for i in range(nfiles):\n",
    "    traj = trajectoryTools.loadTrajectory(fnamebase, i)\n",
    "    trajs.append(traj)    \n",
    "\n",
    "# Generate discrete trajectories using msmrd2.trajectories.discrete\n",
    "dtrajs = []\n",
    "for i in range(nfiles):\n",
    "    currentTraj = trajs[i]\n",
    "    dtraj = discretizator.discretizeTrajectory(currentTraj)\n",
    "    dtrajs.append(dtraj)\n",
    "'''"
   ]
  },
  {
   "cell_type": "code",
   "execution_count": null,
   "metadata": {},
   "outputs": [],
   "source": [
    "time = timeit.timeit(setup = mysetup, stmt = mycode1, number = 1)\n",
    "print(time)"
   ]
  },
  {
   "cell_type": "code",
   "execution_count": null,
   "metadata": {},
   "outputs": [],
   "source": [
    "mycode2 = '''\n",
    "dtrajs = []\n",
    "for i in range(nfiles):\n",
    "    filename = fnamebase + str(i).zfill(4) + '.h5'\n",
    "    dtraj = discretizator.discretizeTrajectoryH5(filename)\n",
    "    dtrajs.append(dtraj)\n",
    "'''"
   ]
  },
  {
   "cell_type": "code",
   "execution_count": null,
   "metadata": {},
   "outputs": [],
   "source": [
    "time2 = timeit.timeit(setup = mysetup, stmt = mycode2, number = 1)\n",
    "print(time2)"
   ]
  }
 ],
 "metadata": {
  "kernelspec": {
   "display_name": "Python 3",
   "language": "python",
   "name": "python3"
  },
  "language_info": {
   "codemirror_mode": {
    "name": "ipython",
    "version": 3
   },
   "file_extension": ".py",
   "mimetype": "text/x-python",
   "name": "python",
   "nbconvert_exporter": "python",
   "pygments_lexer": "ipython3",
   "version": "3.8.3"
  }
 },
 "nbformat": 4,
 "nbformat_minor": 2
}
