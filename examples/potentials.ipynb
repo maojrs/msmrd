{
 "cells": [
  {
   "cell_type": "code",
   "execution_count": null,
   "metadata": {},
   "outputs": [],
   "source": [
    "import msmrd2\n",
    "import numpy as np\n",
    "import matplotlib.pyplot as plt\n",
    "from ipywidgets import interact"
   ]
  },
  {
   "cell_type": "code",
   "execution_count": null,
   "metadata": {},
   "outputs": [],
   "source": [
    "# Define potential function\n",
    "potential = msmrd2.gaussians3D(15,3,20,-1)"
   ]
  },
  {
   "cell_type": "code",
   "execution_count": null,
   "metadata": {},
   "outputs": [],
   "source": [
    "# Evaluate at some point\n",
    "r = np.array([0.5,0.2,0.4])\n",
    "potential.evaluate(r)"
   ]
  },
  {
   "cell_type": "code",
   "execution_count": null,
   "metadata": {},
   "outputs": [],
   "source": [
    "# Do contour plot with zcuts\n",
    "def plot_contour(zcut):\n",
    "    # Plot potential function\n",
    "    x = np.linspace(-4,4,100)\n",
    "    y = np.linspace(-4,4,100)\n",
    "    f = np.zeros([100,100])\n",
    "    for i in range(100):\n",
    "        for j in range(100):\n",
    "            f[i,j] = potential.evaluate([x[i],y[j],zcut])\n",
    "    plt.contourf(f,np.arange(-15., 1., .2))\n",
    "    plt.clim(-8.,1.)\n",
    "    plt.colorbar()"
   ]
  },
  {
   "cell_type": "code",
   "execution_count": null,
   "metadata": {},
   "outputs": [],
   "source": [
    "interact(plot_contour,zcut=(-4,4,0.5))"
   ]
  },
  {
   "cell_type": "code",
   "execution_count": null,
   "metadata": {},
   "outputs": [],
   "source": []
  }
 ],
 "metadata": {
  "kernelspec": {
   "display_name": "Python 3",
   "language": "python",
   "name": "python3"
  },
  "language_info": {
   "codemirror_mode": {
    "name": "ipython",
    "version": 3
   },
   "file_extension": ".py",
   "mimetype": "text/x-python",
   "name": "python",
   "nbconvert_exporter": "python",
   "pygments_lexer": "ipython3",
   "version": "3.6.5"
  }
 },
 "nbformat": 4,
 "nbformat_minor": 2
}
