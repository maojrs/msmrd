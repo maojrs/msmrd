{
 "cells": [
  {
   "cell_type": "code",
   "execution_count": null,
   "metadata": {},
   "outputs": [],
   "source": [
    "import numpy as np\n",
    "import matplotlib.pyplot as plt\n",
    "from ipywidgets import interact\n",
    "import msmrd2\n",
    "from msmrd2.potentials import gaussians3D\n",
    "from msmrd2.potentials import dipole\n",
    "from msmrd2.integrators import overdampedLangevin as odLangevin"
   ]
  },
  {
   "cell_type": "code",
   "execution_count": null,
   "metadata": {},
   "outputs": [],
   "source": [
    "# Define potential function\n",
    "gauss3Dpot = gaussians3D(15,3,20,-1)"
   ]
  },
  {
   "cell_type": "code",
   "execution_count": null,
   "metadata": {},
   "outputs": [],
   "source": [
    "# Evaluate at some point\n",
    "r = np.array([0.5,0.2,0.4])\n",
    "print(gauss3Dpot.evaluate(r),gauss3Dpot.forceTorque(r))"
   ]
  },
  {
   "cell_type": "code",
   "execution_count": null,
   "metadata": {},
   "outputs": [],
   "source": [
    "# Do contour plot with zcuts\n",
    "def plot_contour(zcut):\n",
    "    # Plot potential function\n",
    "    x = np.linspace(-4,4,100)\n",
    "    y = np.linspace(-4,4,100)\n",
    "    f = np.zeros([100,100])\n",
    "    for i in range(100):\n",
    "        for j in range(100):\n",
    "            f[i,j] = gauss3Dpot.evaluate([x[i],y[j],zcut])\n",
    "    plt.contourf(f,np.arange(-15., 1., .2))\n",
    "    plt.clim(-8.,1.)\n",
    "    plt.colorbar()"
   ]
  },
  {
   "cell_type": "code",
   "execution_count": null,
   "metadata": {},
   "outputs": [],
   "source": [
    "interact(plot_contour,zcut=(-4,4,0.5))"
   ]
  },
  {
   "cell_type": "code",
   "execution_count": null,
   "metadata": {},
   "outputs": [],
   "source": [
    "# How to load the potential into the over-damped Langevin integrator\n",
    "dt = 0.001\n",
    "seed = 0 # Seed = -1 used random device as seed\n",
    "bodytype = 'point'\n",
    "integrator = odLangevin(dt, seed, bodytype) \n",
    "integrator.setExternalPotential(gauss3Dpot)"
   ]
  },
  {
   "cell_type": "code",
   "execution_count": null,
   "metadata": {},
   "outputs": [],
   "source": [
    "bodytype = 'rod'\n",
    "integrator2 = odLangevin(dt, seed, bodytype) \n",
    "dipolePot = dipole(1.0, np.array([0,0,1]))"
   ]
  },
  {
   "cell_type": "code",
   "execution_count": null,
   "metadata": {},
   "outputs": [],
   "source": [
    "u=np.array([1,0,0])\n",
    "print(dipolePot.evaluate(r,u),dipolePot.forceTorque(r,u))"
   ]
  },
  {
   "cell_type": "code",
   "execution_count": null,
   "metadata": {},
   "outputs": [],
   "source": []
  }
 ],
 "metadata": {
  "kernelspec": {
   "display_name": "Python [default]",
   "language": "python",
   "name": "python3"
  },
  "language_info": {
   "codemirror_mode": {
    "name": "ipython",
    "version": 3
   },
   "file_extension": ".py",
   "mimetype": "text/x-python",
   "name": "python",
   "nbconvert_exporter": "python",
   "pygments_lexer": "ipython3",
   "version": "3.6.5"
  }
 },
 "nbformat": 4,
 "nbformat_minor": 2
}
