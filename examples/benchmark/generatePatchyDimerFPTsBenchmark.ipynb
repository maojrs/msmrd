{
 "cells": [
  {
   "cell_type": "code",
   "execution_count": null,
   "metadata": {},
   "outputs": [],
   "source": [
    "# This is done by a script but this notebook was left as an example\n",
    "import numpy as np\n",
    "import matplotlib.pyplot as plt\n",
    "import msmrd2\n",
    "import msmrd2.tools.quaternions as quats\n",
    "import msmrd2.visualization as msmrdvis\n",
    "from msmrd2.potentials import patchyParticleAngular\n",
    "from msmrd2.integrators import overdampedLangevin as odLangevin\n",
    "import msmrd2.tools.quaternions as quats\n",
    "import msmrd2.tools.particleTools as particleTools\n",
    "import msmrd2.tools.analysis as analysisTools\n",
    "import timeit"
   ]
  },
  {
   "cell_type": "code",
   "execution_count": null,
   "metadata": {},
   "outputs": [],
   "source": [
    "# Main parameters\n",
    "numparticles = 2\n",
    "boxsize = 6 #5 \n",
    "D = 1.0\n",
    "Drot = 1.0\n",
    "relativeDistanceCutOff = 2.2\n",
    "numTrajectories = 1000"
   ]
  },
  {
   "cell_type": "code",
   "execution_count": null,
   "metadata": {},
   "outputs": [],
   "source": [
    "# Define integrator and boundary (over-damped Langevin)\n",
    "dt = 0.0001 #0.00001 #0.000005\n",
    "seed = -1 # Negative seed, uses random device as seed\n",
    "bodytype = 'rigidbody'\n",
    "integrator = odLangevin(dt, seed, bodytype) \n",
    "boxBoundary = msmrd2.box(boxsize,boxsize,boxsize,'periodic')\n",
    "integrator.setBoundary(boxBoundary)"
   ]
  },
  {
   "cell_type": "code",
   "execution_count": null,
   "metadata": {},
   "outputs": [],
   "source": [
    "# Define Patchy Particle potential\n",
    "sigma = 1.0\n",
    "strength = 100 #160 #200.0\n",
    "angularStrength = 10 #20 #200.0\n",
    "angleDiff = 3*np.pi/5.0\n",
    "patch1 = np.array([np.cos(angleDiff/2),np.sin(angleDiff/2),0.])\n",
    "patch2 = np.array([np.cos(-angleDiff/2),np.sin(-angleDiff/2),0.])\n",
    "patchesCoordinates = [patch1, patch2]\n",
    "potentialPatchyParticleAngular = patchyParticleAngular(sigma, strength, angularStrength, patchesCoordinates)\n",
    "integrator.setPairPotential(potentialPatchyParticleAngular)"
   ]
  },
  {
   "cell_type": "code",
   "execution_count": null,
   "metadata": {},
   "outputs": [],
   "source": [
    "# Generates FPT data from scratch\n",
    "# Generates numTrajectories trajectories starting at a random position and ending in a given bound state.\n",
    "# This yields the first passage times for a given bound state. Each trajectory is Integrated until \n",
    "# a bound state is reached. The output in the files is the elapsed time and final state.\n",
    "traj = msmrd2.trajectories.patchyDimer(2,1) # dummy trajectory to calculate boundstate of patchydimer\n",
    "outputBoundStates = [1, 2, 5, 6] # Inner bound\n",
    "fptsA = []\n",
    "fptsB = []\n",
    "for i in range(numTrajectories):\n",
    "    print(\"Simulation:\", i, \"   \", end=\"\\r\")\n",
    "    partlist = particleTools.randomParticleList(numparticles, boxsize, relativeDistanceCutOff, D, Drot)\n",
    "    unbound = True\n",
    "    while(unbound):\n",
    "        integrator.integrate(partlist)\n",
    "        boundState = traj.getState(partlist[0], partlist[1])\n",
    "        if ( (boundState >= 1) and (boundState <= 8)):\n",
    "            if boundState in outputBoundStates:\n",
    "                fptsA.append(integrator.clock)\n",
    "                integrator.resetClock()\n",
    "                unbound = False;\n",
    "            else:\n",
    "                fptsB.append(integrator.clock)\n",
    "                integrator.resetClock()\n",
    "                unbound = False;\n",
    "                \n",
    "        if integrator.clock >= 1500.0:  \n",
    "            integrator.resetClock()\n",
    "            unbound = False;"
   ]
  },
  {
   "cell_type": "markdown",
   "metadata": {},
   "source": [
    "## Plots of benchmark FPT data"
   ]
  },
  {
   "cell_type": "code",
   "execution_count": null,
   "metadata": {},
   "outputs": [],
   "source": [
    "hbins = range(0, 600,15)\n",
    "plt.hist(fptsA, bins = hbins, alpha=0.5, label ='A');\n",
    "plt.hist(fptsB, bins = hbins, alpha=0.5, label ='B');\n",
    "plt.legend()"
   ]
  },
  {
   "cell_type": "code",
   "execution_count": null,
   "metadata": {},
   "outputs": [],
   "source": [
    "# Compuate mean and standard deviation of bootstrapped samples\n",
    "numBootsrapSamples = 2000\n",
    "mfptA, fptAstd = analysisTools.bootstrappingMFPTs(fptsA, numBootsrapSamples)\n",
    "mfptB, fptBstd = analysisTools.bootstrappingMFPTs(fptsB, numBootsrapSamples)\n",
    "print(\"Raw MFPTs (A and B): \", np.array(fptsA).mean(), np.array(fptsB).mean() )\n",
    "print(\"Bootstrapping mean and std (A): \", mfptA, fptAstd)\n",
    "print(\"Bootstrapping mean and std (B): \", mfptB, fptBstd)"
   ]
  },
  {
   "cell_type": "markdown",
   "metadata": {},
   "source": [
    "## For testing:"
   ]
  },
  {
   "cell_type": "code",
   "execution_count": null,
   "metadata": {},
   "outputs": [],
   "source": [
    "# Generates numTrajectories trajectories starting at a random position and ending in a given bound state.\n",
    "# This yields the first passage times for a given bound state. Each trajectory is Integrated until \n",
    "# a bound state is reached. The output in the files is the elapsed time and final state.\n",
    "traj = msmrd2.trajectories.patchyDimer(2,1) # dummy trajectory to calculate boundstate of patchydimer\n",
    "outputBoundStates = [1, 2, 5, 6] # Inner bound \n",
    "for i in range(numTrajectories):\n",
    "    partlist = randomPartList()\n",
    "    unbound = True\n",
    "    while(unbound):\n",
    "        integrator.integrate(partlist)\n",
    "        boundState = traj.getState(partlist[0], partlist[1])\n",
    "        if boundState in outputBoundStates:\n",
    "        #if ( (boundState >= 1) and (boundState <= 8)):\n",
    "            print(integrator.clock, boundState)\n",
    "            print(partlist[0].position, partlist[0].orientation)\n",
    "            print(partlist[1].position, partlist[1].orientation)\n",
    "            integrator.resetClock()\n",
    "            break;"
   ]
  },
  {
   "cell_type": "code",
   "execution_count": null,
   "metadata": {},
   "outputs": [],
   "source": [
    "# Create a vmd output to see if states obtained by getBoundState fucntion match those expected.\n",
    "datafile  = open('../../data/vmd/tests/dimerStates.xyz', 'w')\n",
    "datafile.write(str(3*len(partlist)) + '\\n')\n",
    "datafile.write(str(0) + '\\n')\n",
    "for j, part in enumerate(partlist):\n",
    "    v0 = part.position\n",
    "    v1 = v0 + 0.6*sigma*quats.rotateVec(patchesCoordinates[0], part.orientation)\n",
    "    v2 = v0 + 0.6*sigma*quats.rotateVec(patchesCoordinates[1], part.orientation)\n",
    "    if j == 0:\n",
    "        stringtype = 'type_0'\n",
    "    else:\n",
    "        stringtype = 'type_1'\n",
    "    datafile.write(stringtype + ' ' + ' '.join(map(str, v0)) + '\\n')\n",
    "    datafile.write('type_2' + ' ' + ' '.join(map(str, v1)) + '\\n')\n",
    "    datafile.write('type_3' + ' ' + ' '.join(map(str, v2)) + '\\n')\n",
    "msmrdvis.generateTCL_patchyProteinsV2(numparticles = numparticles, \n",
    "                                     outfname = \"dimerStates\", \n",
    "                                     tclfname = \"../../data/vmd/tests/dimerStates2vmd.tcl\")"
   ]
  },
  {
   "cell_type": "code",
   "execution_count": null,
   "metadata": {},
   "outputs": [],
   "source": [
    "map(str, 5.5)"
   ]
  },
  {
   "cell_type": "code",
   "execution_count": null,
   "metadata": {},
   "outputs": [],
   "source": []
  }
 ],
 "metadata": {
  "kernelspec": {
   "display_name": "Python [conda env:msmrd-dev]",
   "language": "python",
   "name": "conda-env-msmrd-dev-py"
  },
  "language_info": {
   "codemirror_mode": {
    "name": "ipython",
    "version": 3
   },
   "file_extension": ".py",
   "mimetype": "text/x-python",
   "name": "python",
   "nbconvert_exporter": "python",
   "pygments_lexer": "ipython3",
   "version": "3.6.7"
  }
 },
 "nbformat": 4,
 "nbformat_minor": 2
}
