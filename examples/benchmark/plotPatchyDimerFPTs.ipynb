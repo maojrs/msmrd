{
 "cells": [
  {
   "cell_type": "code",
   "execution_count": null,
   "metadata": {},
   "outputs": [],
   "source": [
    "import numpy as np\n",
    "import matplotlib.pyplot as plt\n",
    "import msmrd2\n",
    "import msmrd2.tools.quaternions as quats\n",
    "import msmrd2.visualization as msmrdvis\n",
    "from msmrd2.potentials import patchyParticleAngular\n",
    "from msmrd2.integrators import overdampedLangevin as odLangevin\n",
    "import msmrd2.tools.quaternions as quats\n",
    "import msmrd2.tools.particleTools as particleTools\n",
    "import msmrd2.tools.analysis as analysisTools\n",
    "import timeit"
   ]
  },
  {
   "cell_type": "code",
   "execution_count": null,
   "metadata": {},
   "outputs": [],
   "source": [
    "# Main parameters\n",
    "numparticles = 2\n",
    "boxsize = 6 #5 \n",
    "D = 1.0\n",
    "Drot = 1.0\n",
    "numTrajectories = 1000"
   ]
  },
  {
   "cell_type": "markdown",
   "metadata": {},
   "source": [
    "## Get bound2unbound FPT data of bechmark and MSMRD from files"
   ]
  },
  {
   "cell_type": "code",
   "execution_count": null,
   "metadata": {},
   "outputs": [],
   "source": [
    "# Load benchmark FPT data computed by script\n",
    "numTrajs = 10000\n",
    "filename1 = '../../data/dimer/first_passage_times/patchyDimerFPTs_2bound_trajs' + str(numTrajs) + '_boxsize' + str(boxsize) + '.xyz'\n",
    "fptsA = []\n",
    "fptsB = []\n",
    "with open(filename1) as file:\n",
    "    for line in file:\n",
    "        state, time = line.split(\" \")\n",
    "        time = float(time)\n",
    "        if state == 'A':\n",
    "            fptsA.append(time)\n",
    "        elif state == 'B':\n",
    "            fptsB.append(time)"
   ]
  },
  {
   "cell_type": "code",
   "execution_count": null,
   "metadata": {},
   "outputs": [],
   "source": [
    "# Load FPT data obtained with MSMRD integrator\n",
    "lagtime = 600\n",
    "numTrajs = 10000\n",
    "filename = '../../data/dimer/first_passage_times/MSMRDpatchyDimerFPTs_2bound_trajs' + str(numTrajs) + '_lagt' + str(lagtime) +  \\\n",
    "'_boxsize' + str(boxsize) + '.xyz'\n",
    "MSMRDfptsA = []\n",
    "MSMRDfptsB = []\n",
    "with open(filename) as file:\n",
    "    for line in file:\n",
    "        state, time = line.split(\" \")\n",
    "        time = float(time)\n",
    "        if state == 'A':\n",
    "            MSMRDfptsA.append(time)\n",
    "        elif state == 'B':\n",
    "            MSMRDfptsB.append(time)"
   ]
  },
  {
   "cell_type": "markdown",
   "metadata": {},
   "source": [
    "## Plots of FPT data from benchmark and MSMRD simulations"
   ]
  },
  {
   "cell_type": "code",
   "execution_count": null,
   "metadata": {},
   "outputs": [],
   "source": [
    "# Color definitions\n",
    "c1 = '#ff3300' # for benchmark\n",
    "c2 = '#0099ff' # for MSM/RD\n",
    "# Alpha transparency definition\n",
    "a1 = 0.2\n",
    "a2 = 0.7"
   ]
  },
  {
   "cell_type": "code",
   "execution_count": null,
   "metadata": {},
   "outputs": [],
   "source": [
    "hbins = range(0, 600,15)\n",
    "plt.hist(fptsA, bins = hbins, alpha=0.5, edgecolor='None', label ='A');\n",
    "plt.hist(fptsB, bins = hbins, alpha=0.5, edgecolor='None', label ='B');\n",
    "plt.legend()"
   ]
  },
  {
   "cell_type": "code",
   "execution_count": null,
   "metadata": {},
   "outputs": [],
   "source": [
    "# Compuate mean and standard deviation of bootstrapped samples of benchmark\n",
    "numBootsrapSamples = 2000\n",
    "mfptA, fptAstd = analysisTools.bootstrappingMFPTs(fptsA, numBootsrapSamples)\n",
    "mfptB, fptBstd = analysisTools.bootstrappingMFPTs(fptsB, numBootsrapSamples)\n",
    "print(\"Raw MFPTs (A and B): \", np.array(fptsA).mean(), np.array(fptsB).mean() )\n",
    "print(\"Bootstrapping mean and std (A): \", mfptA, fptAstd)\n",
    "print(\"Bootstrapping mean and std (B): \", mfptB, fptBstd)"
   ]
  },
  {
   "cell_type": "code",
   "execution_count": null,
   "metadata": {},
   "outputs": [],
   "source": [
    "hbins = range(0, 600,15)\n",
    "plt.hist(MSMRDfptsA, bins = hbins, alpha=0.5, label ='MSMRD-A');\n",
    "plt.hist(MSMRDfptsB, bins = hbins, alpha=0.5, label ='MSMRD-B');\n",
    "plt.legend()"
   ]
  },
  {
   "cell_type": "code",
   "execution_count": null,
   "metadata": {},
   "outputs": [],
   "source": [
    "# Compuate mean and standard deviation of bootstrapped samples of MSMRD simulation\n",
    "numBootsrapSamples = 2000\n",
    "MSMRDmfptA, MSMRDfptAstd = analysisTools.bootstrappingMFPTs(MSMRDfptsA, numBootsrapSamples)\n",
    "MSMRDmfptB, MSMRDfptBstd = analysisTools.bootstrappingMFPTs(MSMRDfptsB, numBootsrapSamples)\n",
    "print(\"Raw MSMRD MFPTs (A and B): \",np.array(MSMRDfptsA).mean(), np.array(MSMRDfptsB).mean())\n",
    "print(\"MSMRD bootstrapping mean and std (A): \", MSMRDmfptA, MSMRDfptAstd)\n",
    "print(\"MSMRD bootstrapping mean and std (B): \", MSMRDmfptB, MSMRDfptBstd)"
   ]
  },
  {
   "cell_type": "code",
   "execution_count": null,
   "metadata": {},
   "outputs": [],
   "source": [
    "# Normalizing weights\n",
    "weightsA = np.ones_like(fptsA)/float(len(fptsA))\n",
    "weightsAMSMRD = np.ones_like(MSMRDfptsA)/float(len(MSMRDfptsA))\n",
    "# Plot histograms\n",
    "hbins = range(0, 600,15)\n",
    "plt.hist(fptsA, bins = hbins, alpha=a1, color=c1, weights = weightsA );\n",
    "plt.hist(fptsA, bins = hbins, alpha=a2, edgecolor=c1, lw=2, histtype='step', \n",
    "         facecolor = 'None', weights = weightsA, label ='A');\n",
    "plt.hist(MSMRDfptsA, bins = hbins, alpha=a1, color=c2, weights = weightsAMSMRD);\n",
    "plt.hist(MSMRDfptsA, bins = hbins, alpha=a2, edgecolor=c2, lw=2, histtype='step', \n",
    "         weights = weightsAMSMRD, label ='MSMRD-A');\n",
    "plt.xlim([0,500])\n",
    "plt.legend()"
   ]
  },
  {
   "cell_type": "code",
   "execution_count": null,
   "metadata": {},
   "outputs": [],
   "source": [
    "# Normalizing weights\n",
    "weightsB = np.ones_like(fptsB)/float(len(fptsB))\n",
    "weightsBMSMRD = np.ones_like(MSMRDfptsB)/float(len(MSMRDfptsB))\n",
    "# Plot histograms\n",
    "hbins = range(0, 600,15)\n",
    "plt.hist(fptsB, bins = hbins, alpha=a1, color=c1, weights = weightsB);\n",
    "plt.hist(fptsB, bins = hbins, alpha=a2, edgecolor=c1, lw=2, histtype='step',\n",
    "         facecolor='None', weights = weightsB, label ='B',);\n",
    "plt.hist(MSMRDfptsB, bins = hbins, alpha=a1, color=c2, weights = weightsBMSMRD);\n",
    "plt.hist(MSMRDfptsB, bins = hbins, alpha=a2, edgecolor=c2, lw=2, histtype='step',\n",
    "         facecolor='None', weights = weightsBMSMRD, label ='MSMRD-B',);\n",
    "plt.xlim([0,500])\n",
    "plt.legend()"
   ]
  },
  {
   "cell_type": "code",
   "execution_count": null,
   "metadata": {},
   "outputs": [],
   "source": [
    "print(len(fptsB), len(MSMRDfptsB))\n",
    "print(len(fptsA), len(MSMRDfptsA))\n",
    "ratioFPT = float(len(fptsA))/float(len(fptsB))\n",
    "ratioMSMRDFPT = float(len(MSMRDfptsA))/float(len(MSMRDfptsB))\n",
    "print(\"Ratios:\", ratioFPT, ratioMSMRDFPT )"
   ]
  },
  {
   "cell_type": "markdown",
   "metadata": {},
   "source": [
    "## Get unbound2bound FPT data of bechmark and MSMRD from files"
   ]
  },
  {
   "cell_type": "code",
   "execution_count": null,
   "metadata": {},
   "outputs": [],
   "source": [
    "# Load benchmark FPT data computed by script\n",
    "numTrajs = 10000\n",
    "filenameA = '../../data/dimer/first_passage_times/patchyDimerFPTs_A2unbound_trajs' + str(numTrajs) + '_boxsize' + str(boxsize) + '.xyz'\n",
    "filenameB = '../../data/dimer/first_passage_times/patchyDimerFPTs_B2unbound_trajs' + str(numTrajs) + '_boxsize' + str(boxsize) + '.xyz'\n",
    "fptsA2unbound = []\n",
    "fptsB2unbound = []\n",
    "with open(filenameA) as file:\n",
    "    for line in file:\n",
    "        state, time = line.split(\" \")\n",
    "        time = float(time)\n",
    "        fptsA2unbound.append(time)\n",
    "with open(filenameB) as file:\n",
    "    for line in file:\n",
    "        state, time = line.split(\" \")\n",
    "        time = float(time)\n",
    "        fptsB2unbound.append(time)"
   ]
  },
  {
   "cell_type": "code",
   "execution_count": null,
   "metadata": {},
   "outputs": [],
   "source": [
    "# Load FPT data obtained with MSMRD integrator\n",
    "lagtime = 600\n",
    "numTrajs = 10000\n",
    "filenameA = '../../data/dimer/first_passage_times/MSMRDpatchyDimerFPTs_A2unbound_trajs' + str(numTrajs) + '_lagt' + str(lagtime) +  \\\n",
    "'_boxsize' + str(boxsize) + '.xyz'\n",
    "filenameB = '../../data/dimer/first_passage_times/MSMRDpatchyDimerFPTs_B2unbound_trajs' + str(numTrajs) + '_lagt' + str(lagtime) +  \\\n",
    "'_boxsize' + str(boxsize) + '.xyz'\n",
    "MSMRDfptsA2unbound = []\n",
    "MSMRDfptsB2unbound = []\n",
    "with open(filenameA) as file:\n",
    "    for line in file:\n",
    "        state, time = line.split(\" \")\n",
    "        time = float(time)\n",
    "        MSMRDfptsA2unbound.append(time)\n",
    "with open(filenameB) as file:\n",
    "    for line in file:\n",
    "        state, time = line.split(\" \")\n",
    "        time = float(time)\n",
    "        MSMRDfptsB2unbound.append(time)"
   ]
  },
  {
   "cell_type": "markdown",
   "metadata": {},
   "source": [
    "## Plots of FPT data from benchmark and MSMRD simulations"
   ]
  },
  {
   "cell_type": "code",
   "execution_count": null,
   "metadata": {},
   "outputs": [],
   "source": [
    "# Compuate mean and standard deviation of bootstrapped samples of benchmark\n",
    "numBootsrapSamples = 200\n",
    "mfptA2unbound, fptA2unboundstd = analysisTools.bootstrappingMFPTs(fptsA2unbound, numBootsrapSamples)\n",
    "mfptB2unbound, fptB2unboundstd = analysisTools.bootstrappingMFPTs(fptsB2unbound, numBootsrapSamples)\n",
    "print(\"Raw MFPTs (A and B): \", np.array(fptsA2unbound).mean(), np.array(fptsB2unbound).mean() )\n",
    "print(\"Bootstrapping mean and std (A): \", mfptA2unbound, fptA2unboundstd)\n",
    "print(\"Bootstrapping mean and std (B): \", mfptB2unbound, fptB2unboundstd)\n",
    "MSMRDmfptA2unbound, MSMRDfptA2unboundstd = analysisTools.bootstrappingMFPTs(MSMRDfptsA2unbound, numBootsrapSamples)\n",
    "MSMRDmfptB2unbound, MSMRDfptB2unboundstd = analysisTools.bootstrappingMFPTs(MSMRDfptsB2unbound, numBootsrapSamples)\n",
    "print(\"Raw MSMRD MFPTs (A and B): \",np.array(MSMRDfptsA2unbound).mean(), np.array(MSMRDfptsB2unbound).mean())\n",
    "print(\"MSMRD bootstrapping mean and std (A): \", MSMRDmfptA2unbound, MSMRDfptA2unboundstd)\n",
    "print(\"MSMRD bootstrapping mean and std (B): \", MSMRDmfptB2unbound, MSMRDfptB2unboundstd)"
   ]
  },
  {
   "cell_type": "code",
   "execution_count": null,
   "metadata": {},
   "outputs": [],
   "source": [
    "# Plotting histogram for A to unbound FPTs\n",
    "# Normalizing weights\n",
    "weightsA = np.ones_like(fptsA2unbound)/float(len(fptsA2unbound))\n",
    "weightsAMSMRD = np.ones_like(MSMRDfptsA2unbound)/float(len(MSMRDfptsA2unbound))\n",
    "# Plot histograms\n",
    "hbins = np.arange(0, 5, 0.1)\n",
    "plt.hist(fptsA2unbound, bins = hbins, alpha=a1, color=c1, weights = weightsA);\n",
    "plt.hist(fptsA2unbound, bins = hbins, alpha=a2, edgecolor=c1, lw=2, histtype='step',\n",
    "         facecolor='None', weights = weightsA, label ='A');\n",
    "plt.hist(MSMRDfptsA2unbound, bins = hbins, alpha=a1, color=c2, weights = weightsAMSMRD);\n",
    "plt.hist(MSMRDfptsA2unbound, bins = hbins, alpha=a2, edgecolor=c2, lw=2, histtype='step',\n",
    "         facecolor='None', weights = weightsAMSMRD, label ='MSMRD-A');\n",
    "plt.xlim([0,3])\n",
    "plt.legend()"
   ]
  },
  {
   "cell_type": "code",
   "execution_count": null,
   "metadata": {},
   "outputs": [],
   "source": [
    "# Plotting histogram for B to unbound FPTs\n",
    "# Normalizing weights\n",
    "weightsB = np.ones_like(fptsB2unbound)/float(len(fptsB2unbound))\n",
    "weightsBMSMRD = np.ones_like(MSMRDfptsB2unbound)/float(len(MSMRDfptsB2unbound))\n",
    "# Plot histograms\n",
    "hbins = np.arange(0, 5, 0.1)\n",
    "plt.hist(fptsB2unbound, bins = hbins, alpha=a1, color=c1, weights = weightsB);\n",
    "plt.hist(fptsB2unbound, bins = hbins, alpha=a2, edgecolor=c1, lw=2, histtype='step',\n",
    "         facecolor='None', weights = weightsB, label ='B');\n",
    "plt.hist(MSMRDfptsB2unbound, bins = hbins, alpha=a1, color=c2, weights = weightsBMSMRD);\n",
    "plt.hist(MSMRDfptsB2unbound, bins = hbins, alpha=a2, edgecolor=c2, lw=2, histtype='step',\n",
    "         facecolor='None', weights = weightsBMSMRD, label ='MSMRD-B');\n",
    "plt.xlim([0,3])\n",
    "plt.legend()"
   ]
  },
  {
   "cell_type": "code",
   "execution_count": null,
   "metadata": {},
   "outputs": [],
   "source": []
  }
 ],
 "metadata": {
  "kernelspec": {
   "display_name": "Python [conda env:msmrd-dev]",
   "language": "python",
   "name": "conda-env-msmrd-dev-py"
  },
  "language_info": {
   "codemirror_mode": {
    "name": "ipython",
    "version": 3
   },
   "file_extension": ".py",
   "mimetype": "text/x-python",
   "name": "python",
   "nbconvert_exporter": "python",
   "pygments_lexer": "ipython3",
   "version": "3.6.7"
  }
 },
 "nbformat": 4,
 "nbformat_minor": 2
}
