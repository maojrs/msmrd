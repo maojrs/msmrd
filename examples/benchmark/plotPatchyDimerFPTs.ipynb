{
 "cells": [
  {
   "cell_type": "code",
   "execution_count": null,
   "metadata": {},
   "outputs": [],
   "source": [
    "import numpy as np\n",
    "import matplotlib.pyplot as plt\n",
    "import msmrd2.tools.analysis as analysisTools\n",
    "import timeit\n",
    "from matplotlib import rc\n",
    "rc('text', usetex=True)"
   ]
  },
  {
   "cell_type": "code",
   "execution_count": null,
   "metadata": {},
   "outputs": [],
   "source": [
    "# Main parameters\n",
    "numparticles = 2\n",
    "boxsize = 6 #5 \n",
    "D = 1.0\n",
    "Drot = 1.0\n",
    "numTrajectories = 1000"
   ]
  },
  {
   "cell_type": "code",
   "execution_count": null,
   "metadata": {},
   "outputs": [],
   "source": [
    "# Color definitions\n",
    "c1 = '#ff3300' # for benchmark\n",
    "c2 = '#0099ff' # for MSM/RD\n",
    "# Alpha transparency definition\n",
    "a1 = 0.2\n",
    "a2 = 0.7"
   ]
  },
  {
   "cell_type": "markdown",
   "metadata": {},
   "source": [
    "## Get bound2unbound FPT data of bechmark and MSMRD from files"
   ]
  },
  {
   "cell_type": "code",
   "execution_count": null,
   "metadata": {},
   "outputs": [],
   "source": [
    "# Load benchmark FPT data computed by script\n",
    "numTrajs = 10000\n",
    "filename1 = '../../data/dimer/first_passage_times/patchyDimerFPTs_2bound_trajs' + \\\n",
    "str(numTrajs) + '_boxsize' + str(boxsize) + '.xyz'\n",
    "fptsA = []\n",
    "fptsB = []\n",
    "with open(filename1) as file:\n",
    "    for line in file:\n",
    "        state, time = line.split(\" \")\n",
    "        time = float(time)\n",
    "        if state == 'A':\n",
    "            fptsA.append(time)\n",
    "        elif state == 'B':\n",
    "            fptsB.append(time)"
   ]
  },
  {
   "cell_type": "code",
   "execution_count": null,
   "metadata": {},
   "outputs": [],
   "source": [
    "# Load FPT data obtained with MSMRD integrator\n",
    "lagtime = 150\n",
    "numTrajs = 10000\n",
    "filename = '../../data/dimer/first_passage_times/MSMRDpatchyDimerFPTs_2bound_trajs' + \\\n",
    "str(numTrajs) + '_lagt' + str(lagtime) +  '_boxsize' + str(boxsize) + '.xyz'\n",
    "MSMRDfptsA = []\n",
    "MSMRDfptsB = []\n",
    "with open(filename) as file:\n",
    "    for line in file:\n",
    "        state, time = line.split(\" \")\n",
    "        time = float(time)\n",
    "        if state == 'A':\n",
    "            MSMRDfptsA.append(time)\n",
    "        elif state == 'B':\n",
    "            MSMRDfptsB.append(time)"
   ]
  },
  {
   "cell_type": "markdown",
   "metadata": {},
   "source": [
    "## Plots of FPT data from benchmark and MSMRD simulations"
   ]
  },
  {
   "cell_type": "code",
   "execution_count": null,
   "metadata": {},
   "outputs": [],
   "source": [
    "# Compuate mean and standard deviation of bootstrapped samples of benchmark\n",
    "numBootsrapSamples = 2000\n",
    "mfptA, fptAstd = analysisTools.bootstrappingMFPTs(fptsA, numBootsrapSamples)\n",
    "mfptB, fptBstd = analysisTools.bootstrappingMFPTs(fptsB, numBootsrapSamples)\n",
    "print(\"Raw MFPTs (A and B): \", np.array(fptsA).mean(), np.array(fptsB).mean() )\n",
    "print(\"Bootstrapping mean and std (A): \", mfptA, fptAstd)\n",
    "print(\"Bootstrapping mean and std (B): \", mfptB, fptBstd)\n",
    "# Compuate mean and standard deviation of bootstrapped samples of MSMRD simulation\n",
    "MSMRDmfptA, MSMRDfptAstd = analysisTools.bootstrappingMFPTs(MSMRDfptsA, numBootsrapSamples)\n",
    "MSMRDmfptB, MSMRDfptBstd = analysisTools.bootstrappingMFPTs(MSMRDfptsB, numBootsrapSamples)\n",
    "print(\"Raw MSMRD MFPTs (A and B): \",np.array(MSMRDfptsA).mean(), np.array(MSMRDfptsB).mean())\n",
    "print(\"MSMRD bootstrapping mean and std (A): \", MSMRDmfptA, MSMRDfptAstd)\n",
    "print(\"MSMRD bootstrapping mean and std (B): \", MSMRDmfptB, MSMRDfptBstd)\n",
    "print(\"Trajectory lengths\")\n",
    "print(\"FPTs A\", len(fptsA), \"FPTs MSMRD-A\", len(MSMRDfptsA))\n",
    "print(\"FPTs B\", len(fptsB), \"FPTs MSMRD-B\", len(MSMRDfptsB))\n",
    "ratioFPT = float(len(fptsA))/float(len(fptsB))\n",
    "ratioMSMRDFPT = float(len(MSMRDfptsA))/float(len(MSMRDfptsB))\n",
    "print(\"Ratios:\", ratioFPT, ratioMSMRDFPT )"
   ]
  },
  {
   "cell_type": "code",
   "execution_count": null,
   "metadata": {},
   "outputs": [],
   "source": [
    "# Normalizing weights\n",
    "weightsA = np.ones_like(fptsA)/float(len(fptsA))\n",
    "weightsAMSMRD = np.ones_like(MSMRDfptsA)/float(len(MSMRDfptsA))\n",
    "# Plot histograms\n",
    "hbins = range(0, 600,15)\n",
    "plt.hist(fptsA, bins = hbins, alpha=a1, color=c1, weights = weightsA );\n",
    "plt.hist(fptsA, bins = hbins, alpha=a2, edgecolor=c1, lw=2, histtype='step', \n",
    "         facecolor = 'None', weights = weightsA, label ='A');\n",
    "plt.hist(MSMRDfptsA, bins = hbins, alpha=a1, color=c2, weights = weightsAMSMRD);\n",
    "plt.hist(MSMRDfptsA, bins = hbins, alpha=a2, edgecolor=c2, lw=2, histtype='step', \n",
    "         weights = weightsAMSMRD, label ='MSMRD-A');\n",
    "plt.xlim([0,500])\n",
    "plt.legend()"
   ]
  },
  {
   "cell_type": "code",
   "execution_count": null,
   "metadata": {},
   "outputs": [],
   "source": [
    "# Normalizing weights\n",
    "weightsB = np.ones_like(fptsB)/float(len(fptsB))\n",
    "weightsBMSMRD = np.ones_like(MSMRDfptsB)/float(len(MSMRDfptsB))\n",
    "# Plot histograms\n",
    "hbins = range(0, 600,15)\n",
    "plt.hist(fptsB, bins = hbins, alpha=a1, color=c1, weights = weightsB);\n",
    "plt.hist(fptsB, bins = hbins, alpha=a2, edgecolor=c1, lw=2, histtype='step',\n",
    "         facecolor='None', weights = weightsB, label ='B',);\n",
    "plt.hist(MSMRDfptsB, bins = hbins, alpha=a1, color=c2, weights = weightsBMSMRD);\n",
    "plt.hist(MSMRDfptsB, bins = hbins, alpha=a2, edgecolor=c2, lw=2, histtype='step',\n",
    "         facecolor='None', weights = weightsBMSMRD, label ='MSMRD-B',);\n",
    "plt.xlim([0,500])\n",
    "plt.legend()"
   ]
  },
  {
   "cell_type": "code",
   "execution_count": null,
   "metadata": {},
   "outputs": [],
   "source": [
    "# PLOT FOR PAPER #\n",
    "# Configure figure\n",
    "fig, (ax1, ax2) = plt.subplots(nrows=2, sharex=True, figsize=(6,5))\n",
    "fig.subplots_adjust(hspace=0)\n",
    "fsize = 16\n",
    "plt.rcParams['xtick.labelsize']=fsize\n",
    "plt.rcParams['ytick.labelsize']=fsize\n",
    "# Set outer common axes titles\n",
    "ax0 = fig.add_subplot(111, frameon=False)\n",
    "ax0.set_xlabel(\"time\", fontsize=fsize + 2)\n",
    "ax0.set_ylabel(\"FPTs distribution\", labelpad=17, fontsize=fsize + 2)\n",
    "ax0.set_xticks([0])\n",
    "ax0.set_yticks([0])\n",
    "hbins = range(0, 500,15)\n",
    "\n",
    "# Plot A to unbound histogram\n",
    "ax1.hist(fptsA, bins = hbins, alpha=a1, color=c1, weights = weightsA );\n",
    "ax1.hist(fptsA, bins = hbins, alpha=a2, edgecolor=c1, lw=2, histtype='step', \n",
    "         facecolor = 'None', weights = weightsA, label ='Benchmark');\n",
    "ax1.hist(MSMRDfptsA, bins = hbins, alpha=a1, color=c2, weights = weightsAMSMRD);\n",
    "ax1.hist(MSMRDfptsA, bins = hbins, alpha=a2, edgecolor=c2, lw=2, histtype='step', \n",
    "         weights = weightsAMSMRD, label ='MSM/RD');\n",
    "ax1.legend(fontsize=fsize, title=r'Unbound $\\rightarrow$ A ', title_fontsize = fsize, fancybox=True)\n",
    "ax1.set_xlim([0,500])\n",
    "ax1.set_ylim([0,0.25])\n",
    "\n",
    "\n",
    "# Plot B to unbound histogram\n",
    "ax2.hist(fptsB, bins = hbins, alpha=a1, color=c1, weights = weightsB);\n",
    "ax2.hist(fptsB, bins = hbins, alpha=a2, edgecolor=c1, lw=2, histtype='step',\n",
    "         facecolor='None', weights = weightsB, label ='Benchmark',);\n",
    "ax2.hist(MSMRDfptsB, bins = hbins, alpha=a1, color=c2, weights = weightsBMSMRD);\n",
    "ax2.hist(MSMRDfptsB, bins = hbins, alpha=a2, edgecolor=c2, lw=2, histtype='step',\n",
    "         facecolor='None', weights = weightsBMSMRD, label ='MSM/RD',);\n",
    "ax2.legend(fontsize=fsize, title=r' Unbound $\\rightarrow$ B', title_fontsize = fsize, fancybox=True)\n",
    "ax2.set_xlim([0,500])\n",
    "ax2.set_ylim([0,0.25])\n",
    "#plt.savefig('toBound_FPTs.pdf')"
   ]
  },
  {
   "cell_type": "markdown",
   "metadata": {},
   "source": [
    "## Get unbound2bound FPT data of bechmark and MSMRD from files"
   ]
  },
  {
   "cell_type": "code",
   "execution_count": null,
   "metadata": {},
   "outputs": [],
   "source": [
    "# Load benchmark FPT data computed by script\n",
    "numTrajs = 10000\n",
    "filenameA = '../../data/dimer/first_passage_times/patchyDimerFPTs_A2unbound_trajs' + \\\n",
    "str(numTrajs) + '_boxsize' + str(boxsize) + '.xyz'\n",
    "filenameB = '../../data/dimer/first_passage_times/patchyDimerFPTs_B2unbound_trajs' + \\\n",
    "str(numTrajs) + '_boxsize' + str(boxsize) + '.xyz'\n",
    "fptsA2unbound = []\n",
    "fptsB2unbound = []\n",
    "with open(filenameA) as file:\n",
    "    for line in file:\n",
    "        state, time = line.split(\" \")\n",
    "        time = float(time)\n",
    "        fptsA2unbound.append(time)\n",
    "with open(filenameB) as file:\n",
    "    for line in file:\n",
    "        state, time = line.split(\" \")\n",
    "        time = float(time)\n",
    "        fptsB2unbound.append(time)"
   ]
  },
  {
   "cell_type": "code",
   "execution_count": null,
   "metadata": {},
   "outputs": [],
   "source": [
    "# Load FPT data obtained with MSMRD integrator\n",
    "lagtime = 150\n",
    "numTrajs = 10000\n",
    "filenameA = '../../data/dimer/first_passage_times/MSMRDpatchyDimerFPTs_A2unbound_trajs' + \\\n",
    "str(numTrajs) + '_lagt' + str(lagtime) +  '_boxsize' + str(boxsize) + '.xyz'\n",
    "filenameB = '../../data/dimer/first_passage_times/MSMRDpatchyDimerFPTs_B2unbound_trajs' + \\\n",
    "str(numTrajs) + '_lagt' + str(lagtime) +  '_boxsize' + str(boxsize) + '.xyz'\n",
    "MSMRDfptsA2unbound = []\n",
    "MSMRDfptsB2unbound = []\n",
    "with open(filenameA) as file:\n",
    "    for line in file:\n",
    "        state, time = line.split(\" \")\n",
    "        time = float(time)\n",
    "        MSMRDfptsA2unbound.append(time)\n",
    "with open(filenameB) as file:\n",
    "    for line in file:\n",
    "        state, time = line.split(\" \")\n",
    "        time = float(time)\n",
    "        MSMRDfptsB2unbound.append(time)"
   ]
  },
  {
   "cell_type": "markdown",
   "metadata": {},
   "source": [
    "## Plots of FPT data from benchmark and MSMRD simulations"
   ]
  },
  {
   "cell_type": "code",
   "execution_count": null,
   "metadata": {},
   "outputs": [],
   "source": [
    "# Compuate mean and standard deviation of bootstrapped samples of benchmark\n",
    "numBootsrapSamples = 200\n",
    "mfptA2unbound, fptA2unboundstd = analysisTools.bootstrappingMFPTs(fptsA2unbound, numBootsrapSamples)\n",
    "mfptB2unbound, fptB2unboundstd = analysisTools.bootstrappingMFPTs(fptsB2unbound, numBootsrapSamples)\n",
    "print(\"Raw MFPTs (A and B): \", np.array(fptsA2unbound).mean(), np.array(fptsB2unbound).mean() )\n",
    "print(\"Bootstrapping mean and std (A): \", mfptA2unbound, fptA2unboundstd)\n",
    "print(\"Bootstrapping mean and std (B): \", mfptB2unbound, fptB2unboundstd)\n",
    "MSMRDmfptA2unbound, MSMRDfptA2unboundstd = analysisTools.bootstrappingMFPTs(MSMRDfptsA2unbound, numBootsrapSamples)\n",
    "MSMRDmfptB2unbound, MSMRDfptB2unboundstd = analysisTools.bootstrappingMFPTs(MSMRDfptsB2unbound, numBootsrapSamples)\n",
    "print(\"Raw MSMRD MFPTs (A and B): \",np.array(MSMRDfptsA2unbound).mean(), np.array(MSMRDfptsB2unbound).mean())\n",
    "print(\"MSMRD bootstrapping mean and std (A): \", MSMRDmfptA2unbound, MSMRDfptA2unboundstd)\n",
    "print(\"MSMRD bootstrapping mean and std (B): \", MSMRDmfptB2unbound, MSMRDfptB2unboundstd)"
   ]
  },
  {
   "cell_type": "code",
   "execution_count": null,
   "metadata": {},
   "outputs": [],
   "source": [
    "# Plotting histogram for A to unbound FPTs\n",
    "# Normalizing weights\n",
    "weightsA2 = np.ones_like(fptsA2unbound)/float(len(fptsA2unbound))\n",
    "weightsAMSMRD2 = np.ones_like(MSMRDfptsA2unbound)/float(len(MSMRDfptsA2unbound))\n",
    "# Plot histograms\n",
    "hbins = np.arange(0, 6, 0.2)\n",
    "plt.hist(fptsA2unbound, bins = hbins, alpha=a1, color=c1, weights = weightsA2);\n",
    "plt.hist(fptsA2unbound, bins = hbins, alpha=a2, edgecolor=c1, lw=2, histtype='step',\n",
    "         facecolor='None', weights = weightsA2, label ='A');\n",
    "plt.hist(MSMRDfptsA2unbound, bins = hbins, alpha=a1, color=c2, weights = weightsAMSMRD2);\n",
    "plt.hist(MSMRDfptsA2unbound, bins = hbins, alpha=a2, edgecolor=c2, lw=2, histtype='step',\n",
    "         facecolor='None', weights = weightsAMSMRD2, label ='MSMRD-A');\n",
    "plt.xticks(fontsize=16)\n",
    "plt.yticks(np.arange(0, 0.16, step=0.04), fontsize=16)\n",
    "plt.legend(fontsize=16)\n",
    "plt.xlabel('time', fontsize=18)\n",
    "plt.ylabel('FPTs distribution', fontsize=18)\n",
    "plt.xlim([0,6])"
   ]
  },
  {
   "cell_type": "code",
   "execution_count": null,
   "metadata": {},
   "outputs": [],
   "source": [
    "# Plotting histogram for B to unbound FPTs\n",
    "# Normalizing weights\n",
    "weightsB2 = np.ones_like(fptsB2unbound)/float(len(fptsB2unbound))\n",
    "weightsBMSMRD2 = np.ones_like(MSMRDfptsB2unbound)/float(len(MSMRDfptsB2unbound))\n",
    "# Plot histograms\n",
    "hbins = np.arange(0, 6, 0.2)\n",
    "plt.hist(fptsB2unbound, bins = hbins, alpha=a1, color=c1, weights = weightsB2);\n",
    "plt.hist(fptsB2unbound, bins = hbins, alpha=a2, edgecolor=c1, lw=2, histtype='step',\n",
    "         facecolor='None', weights = weightsB2, label ='B');\n",
    "plt.hist(MSMRDfptsB2unbound, bins = hbins, alpha=a1, color=c2, weights = weightsBMSMRD2);\n",
    "plt.hist(MSMRDfptsB2unbound, bins = hbins, alpha=a2, edgecolor=c2, lw=2, histtype='step',\n",
    "         facecolor='None', weights = weightsBMSMRD2, label ='MSMRD-B');\n",
    "plt.xticks(fontsize=16)\n",
    "plt.yticks(np.arange(0, 0.16, step=0.04), fontsize=16)\n",
    "plt.legend(fontsize=16)\n",
    "plt.xlabel('time', fontsize=18)\n",
    "plt.ylabel('FPTs distribution', fontsize=18)\n",
    "plt.xlim([0,6])"
   ]
  },
  {
   "cell_type": "code",
   "execution_count": null,
   "metadata": {},
   "outputs": [],
   "source": [
    "# PLOT FOR PAPER #\n",
    "# Configure figure\n",
    "fig, (ax1, ax2) = plt.subplots(nrows=2, sharex=True, figsize=(6,5))\n",
    "fig.subplots_adjust(hspace=0)\n",
    "fsize = 16\n",
    "plt.rcParams['xtick.labelsize']=fsize\n",
    "plt.rcParams['ytick.labelsize']=fsize\n",
    "hbins = np.arange(0, 6, 0.2)\n",
    "\n",
    "# Set outer common axes titles\n",
    "ax0 = fig.add_subplot(111, frameon=False)\n",
    "ax0.set_xlabel(\"time\", fontsize=fsize + 2)\n",
    "ax0.set_ylabel(\"FPTs distribution\", labelpad=17, fontsize=fsize + 2)\n",
    "ax0.set_xticks([0])\n",
    "ax0.set_yticks([0])\n",
    "\n",
    "# Plot A to unbound histogram\n",
    "ax1.hist(fptsA2unbound, bins = hbins, alpha=a1, color=c1, weights = weightsA2);\n",
    "ax1.hist(fptsA2unbound, bins = hbins, alpha=a2, edgecolor=c1, lw=2, histtype='step',\n",
    "         facecolor='None', weights = weightsA2, label = 'Benchmark');\n",
    "ax1.hist(MSMRDfptsA2unbound, bins = hbins, alpha=a1, color=c2, weights = weightsAMSMRD2);\n",
    "ax1.hist(MSMRDfptsA2unbound, bins = hbins, alpha=a2, edgecolor=c2, lw=2, histtype='step',\n",
    "         facecolor='None', weights = weightsAMSMRD2, label ='MSM/RD');\n",
    "ax1.legend(fontsize=fsize, title=r'A $\\rightarrow$ Unbound', title_fontsize = fsize, fancybox=True)\n",
    "ax1.set_xlim([0,6])\n",
    "ax1.set_ylim([0,0.15])\n",
    "ax1.set_yticks(np.arange(0, 0.2, step=0.1));\n",
    "\n",
    "\n",
    "# Plot B to unbound histogram\n",
    "ax2.hist(fptsB2unbound, bins = hbins, alpha=a1, color=c1, weights = weightsB2);\n",
    "ax2.hist(fptsB2unbound, bins = hbins, alpha=a2, edgecolor=c1, lw=2, histtype='step',\n",
    "         facecolor='None', weights = weightsB2, label ='Benchmark');\n",
    "ax2.hist(MSMRDfptsB2unbound, bins = hbins, alpha=a1, color=c2, weights = weightsBMSMRD2);\n",
    "ax2.hist(MSMRDfptsB2unbound, bins = hbins, alpha=a2, edgecolor=c2, lw=2, histtype='step',\n",
    "         facecolor='None', weights = weightsBMSMRD2, label ='MSM/RD');\n",
    "ax2.legend(fontsize=fsize, title=r'B $\\rightarrow$ Unbound', title_fontsize = fsize, fancybox=True)\n",
    "ax2.set_xlim([0,6])\n",
    "ax2.set_ylim([0,0.15])\n",
    "ax2.set_yticks(np.arange(0, 0.2, step=0.1));\n",
    "#plt.savefig('toUnbound_FPTs.pdf')"
   ]
  },
  {
   "cell_type": "markdown",
   "metadata": {},
   "source": [
    "## Get bound2bound FPT data of bechmark and MSMRD from files (on trial)"
   ]
  },
  {
   "cell_type": "code",
   "execution_count": null,
   "metadata": {},
   "outputs": [],
   "source": [
    "# Load benchmark FPT data computed by script\n",
    "numTrajs = 10000\n",
    "filenameA = '../../data/dimer/first_passage_times/patchyDimerFPTs_A2B_trajs' + \\\n",
    "str(numTrajs) + '_boxsize' + str(boxsize) + '.xyz'\n",
    "filenameB = '../../data/dimer/first_passage_times/patchyDimerFPTs_B2A_trajs' + \\\n",
    "str(numTrajs) + '_boxsize' + str(boxsize) + '.xyz'\n",
    "fptsA2B = []\n",
    "fptsB2A = []\n",
    "with open(filenameA) as file:\n",
    "    for line in file:\n",
    "        state, time = line.split(\" \")\n",
    "        time = float(time)\n",
    "        fptsA2B.append(time)\n",
    "with open(filenameB) as file:\n",
    "    for line in file:\n",
    "        state, time = line.split(\" \")\n",
    "        time = float(time)\n",
    "        fptsB2A.append(time)"
   ]
  },
  {
   "cell_type": "code",
   "execution_count": null,
   "metadata": {},
   "outputs": [],
   "source": [
    "# Load FPT data obtained with MSMRD integrator\n",
    "lagtime = 150\n",
    "numTrajs = 10000\n",
    "filenameA = '../../data/dimer/first_passage_times/MSMRDpatchyDimerFPTs_A2B_trajs' + \\\n",
    "str(numTrajs) + '_lagt' + str(lagtime) +  '_boxsize' + str(boxsize) + '.xyz'\n",
    "filenameB = '../../data/dimer/first_passage_times/MSMRDpatchyDimerFPTs_B2A_trajs' + \\\n",
    "str(numTrajs) + '_lagt' + str(lagtime) +  '_boxsize' + str(boxsize) + '.xyz'\n",
    "MSMRDfptsA2B = []\n",
    "MSMRDfptsB2A = []\n",
    "with open(filenameA) as file:\n",
    "    for line in file:\n",
    "        state, time = line.split(\" \")\n",
    "        time = float(time)\n",
    "        MSMRDfptsA2B.append(time)\n",
    "with open(filenameB) as file:\n",
    "    for line in file:\n",
    "        state, time = line.split(\" \")\n",
    "        time = float(time)\n",
    "        MSMRDfptsB2A.append(time)"
   ]
  },
  {
   "cell_type": "code",
   "execution_count": null,
   "metadata": {},
   "outputs": [],
   "source": [
    "lagtime = 150\n",
    "numTrajs = 10000\n",
    "filenameA = '../../data/dimer/first_passage_times/MSMRDpatchyDimerFPTs_A2B_trajs' + \\\n",
    "str(numTrajs) + '_lagt' + str(lagtime) +  '_boxsize' + str(boxsize) + '.xyz'\n",
    "MSMRDfptsA2B = []\n",
    "with open(filenameA) as file:\n",
    "    for line in file:\n",
    "        state, time = line.split(\" \")\n",
    "        time = float(time)\n",
    "        MSMRDfptsA2B.append(time)"
   ]
  },
  {
   "cell_type": "code",
   "execution_count": null,
   "metadata": {},
   "outputs": [],
   "source": [
    "# Plotting histogram for A to unbound FPTs\n",
    "# Normalizing weights\n",
    "#weightsA2B = np.ones_like(fptsA2B)/float(len(fptsA2B))\n",
    "weightsA2BMSMRD = np.ones_like(MSMRDfptsA2B)/float(len(MSMRDfptsA2B))\n",
    "# Plot histograms\n",
    "hbins = np.arange(0, 6, 0.2)\n",
    "#plt.hist(fptsA2B, bins = hbins, alpha=a1, color=c1, weights = weightsA2B);\n",
    "#plt.hist(fptsA2B, bins = hbins, alpha=a2, edgecolor=c1, lw=2, histtype='step',\n",
    "#         facecolor='None', weights = weightsA2, label ='A');\n",
    "plt.hist(MSMRDfptsA2B, bins = hbins, alpha=a1, color=c2, weights = weightsA2BMSMRD);\n",
    "plt.hist(MSMRDfptsA2B, bins = hbins, alpha=a2, edgecolor=c2, lw=2, histtype='step',\n",
    "         facecolor='None', weights = weightsA2BMSMRD, label ='MSMRD-A');\n",
    "plt.xticks(fontsize=16)\n",
    "#plt.yticks(np.arange(0, 0.16, step=0.04), fontsize=16)\n",
    "plt.legend(fontsize=16)\n",
    "plt.xlabel('time', fontsize=18)\n",
    "plt.ylabel('FPTs distribution', fontsize=18)\n",
    "#plt.xlim([0,6])"
   ]
  },
  {
   "cell_type": "code",
   "execution_count": null,
   "metadata": {},
   "outputs": [],
   "source": []
  }
 ],
 "metadata": {
  "kernelspec": {
   "display_name": "Python [conda env:msmrd-dev]",
   "language": "python",
   "name": "conda-env-msmrd-dev-py"
  },
  "language_info": {
   "codemirror_mode": {
    "name": "ipython",
    "version": 3
   },
   "file_extension": ".py",
   "mimetype": "text/x-python",
   "name": "python",
   "nbconvert_exporter": "python",
   "pygments_lexer": "ipython3",
   "version": "3.6.7"
  }
 },
 "nbformat": 4,
 "nbformat_minor": 2
}
