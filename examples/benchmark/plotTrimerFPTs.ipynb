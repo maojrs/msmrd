{
 "cells": [
  {
   "cell_type": "code",
   "execution_count": null,
   "metadata": {},
   "outputs": [],
   "source": [
    "import numpy as np\n",
    "import matplotlib.pyplot as plt\n",
    "import msmrd2.tools.analysis as analysisTools\n",
    "import timeit\n",
    "from matplotlib import rc\n",
    "rc('text', usetex=True)"
   ]
  },
  {
   "cell_type": "code",
   "execution_count": null,
   "metadata": {},
   "outputs": [],
   "source": [
    "# Main parameters\n",
    "numparticles = 3\n",
    "boxsize = 6 #2.5 #10 #8 #6 #5 \n",
    "D = 1.0\n",
    "Drot = 1.0\n",
    "lagtime = 40 # 100\n",
    "rootDirectory = '../../data/trimer/first_passage_times/'"
   ]
  },
  {
   "cell_type": "code",
   "execution_count": null,
   "metadata": {},
   "outputs": [],
   "source": [
    "# Color definitions\n",
    "c1 = '#ff3300' #'xkcd:bright orange' # 'darkorange' #'C1' # '#ff3300' # for benchmark\n",
    "c2 = '#0099ff' #'royalblue' #'royalblue' # 'C0' # '#0099ff' # for MSM/RD\n",
    "c1alt = 'xkcd:bright orange'\n",
    "c2alt = 'royalblue'\n",
    "# Alpha transparency definition\n",
    "a1 = 0.2 #0.2\n",
    "a2 = 0.7 #0.9 #0.7"
   ]
  },
  {
   "cell_type": "markdown",
   "metadata": {},
   "source": [
    "## Load FPT for trimer formation data (bechmark and MSMRD)"
   ]
  },
  {
   "cell_type": "code",
   "execution_count": null,
   "metadata": {},
   "outputs": [],
   "source": [
    "# Load benchmark FPT data computed by script\n",
    "numTrajs = 6000\n",
    "filename1 = rootDirectory + 'trimerFPTs_trajs' + str(numTrajs) + '_boxsize' + str(boxsize) + '.xyz'\n",
    "fpts = []\n",
    "with open(filename1) as file:\n",
    "    for line in file:\n",
    "        state, time = line.split(\" \")\n",
    "        time = float(time)\n",
    "        fpts.append(time)\n",
    "\n",
    "# Normalize weights\n",
    "weights = np.ones_like(fpts)/float(len(fpts))"
   ]
  },
  {
   "cell_type": "code",
   "execution_count": null,
   "metadata": {},
   "outputs": [],
   "source": [
    "# Load FPT data obtained with MSMRD integrator\n",
    "numTrajs = 6000\n",
    "filename = rootDirectory + 'MSMRDtrimerFPTs_trajs' + str(numTrajs) + '_lagt' + str(lagtime) +  '_boxsize' + str(boxsize) + '.xyz'\n",
    "#filename = rootDirectory + 'trimerFPTs_trajs' + str(numTrajs) + '_boxsize' + str(boxsize) + '.xyz'\n",
    "MSMRDfpts = []\n",
    "with open(filename) as file:\n",
    "    for line in file:\n",
    "        state, time = line.split(\" \")\n",
    "        time = float(time)\n",
    "        MSMRDfpts.append(time)\n",
    "            \n",
    "# Normalize weights\n",
    "weightsMSMRD = np.ones_like(MSMRDfpts)/float(len(MSMRDfpts))"
   ]
  },
  {
   "cell_type": "markdown",
   "metadata": {},
   "source": [
    "### Calculation of FPTs and comparisons plots"
   ]
  },
  {
   "cell_type": "code",
   "execution_count": null,
   "metadata": {},
   "outputs": [],
   "source": [
    "# Compuate mean and standard deviation of bootstrapped samples of benchmark\n",
    "calculateRates = False\n",
    "numBootsrapSamples = 2000\n",
    "mfpt, fptstd = analysisTools.bootstrapping(fpts, numBootsrapSamples)\n",
    "print(\"Raw MFPTs: \", np.array(fpts).mean())\n",
    "print(\"Bootstrapping mean and std (A): \", mfpt, fptstd)\n",
    "# Compuate mean and standard deviation of bootstrapped samples of MSMRD simulation\n",
    "MSMRDmfpt, MSMRDfptstd = analysisTools.bootstrapping(MSMRDfpts, numBootsrapSamples)\n",
    "print(\"Raw MSMRD MFPTs: \",np.array(MSMRDfpts).mean())\n",
    "print(\"MSMRD bootstrapping mean and std: \", MSMRDmfpt, MSMRDfptstd)\n",
    "print(\"Trajectory lengths\")\n",
    "if calculateRates:\n",
    "    mkonA = 1.0/mfptA\n",
    "    mkonB = 1.0/mfptB\n",
    "    MSMRDmkonA = 1.0/MSMRDmfptA\n",
    "    MSMRDmkonB = 1.0/MSMRDmfptB\n",
    "    konAstd = fptAstd/(mfptA*mfptA)\n",
    "    konBstd = fptBstd/(mfptB*mfptB)\n",
    "    MSMRDkonAstd = MSMRDfptAstd/(MSMRDmfptA*MSMRDmfptA)\n",
    "    MSMRDkonBstd = MSMRDfptBstd/(MSMRDmfptB*MSMRDmfptB)\n",
    "    errorKonA = np.abs(mkonA - MSMRDmkonA)\n",
    "    relErrorKonA = errorKonA/mkonA\n",
    "    errorKonB = np.abs(mkonB - MSMRDmkonB)\n",
    "    relErrorKonB = errorKonB/mkonB\n",
    "    print(\"On rates:\")\n",
    "    print(\"Bootstrapping mean and std (A):\", mkonA, konAstd)\n",
    "    print(\"Bootstrapping mean and std (B):\", mkonB, konBstd)\n",
    "    print(\"Bootstrapping MSMRD mean and std (A):\", MSMRDmkonA, MSMRDkonAstd)\n",
    "    print(\"Bootstrapping MSMRD mean and std (B):\", MSMRDmkonB, MSMRDkonBstd)\n",
    "    print(\"Error and relative error (A):\", errorKonA, relErrorKonA)\n",
    "    print(\"Error and relative error (B):\", errorKonB, relErrorKonB)"
   ]
  },
  {
   "cell_type": "code",
   "execution_count": null,
   "metadata": {},
   "outputs": [],
   "source": [
    "# PLOT FOR PAPER #\n",
    "# Configure figure\n",
    "fig, ax1 = plt.subplots(nrows=1, figsize=(6,5))\n",
    "fig.subplots_adjust(hspace=0)\n",
    "fsize = 16\n",
    "plt.rcParams['xtick.labelsize']=fsize\n",
    "plt.rcParams['ytick.labelsize']=fsize\n",
    "# Set outer common axes titles\n",
    "ax0 = fig.add_subplot(111, frameon=False)\n",
    "ax0.set_xlabel(r'$\\mathrm{time}$', fontsize=fsize + 4)\n",
    "ax0.set_ylabel(r'$\\mathrm{FPTs \\ distribution}$', labelpad=17, fontsize=fsize + 4)\n",
    "ax0.set_xticks([0])\n",
    "ax0.set_yticks([0])\n",
    "#hbins = range(0, 500,15)\n",
    "#hbins = range(0, 400,12)\n",
    "#hbins = range(0, 200,6)\n",
    "hbins = range(0, 100,3)\n",
    "#hbins = range(0, 33,1)\n",
    "\n",
    "\n",
    "# Plot A to unbound histogram\n",
    "ax1.hist(fpts, bins = hbins, alpha=a1, color=c1, weights = weights );\n",
    "ax1.hist(fpts, bins = hbins, alpha=a2, edgecolor=c1, lw=2, histtype='step', \n",
    "         facecolor = 'None', weights = weights, label =r'$\\mathrm{Benchmark}$');\n",
    "ax1.hist(MSMRDfpts, bins = hbins, alpha=a1, color=c2, weights = weightsMSMRD);\n",
    "ax1.hist(MSMRDfpts, bins = hbins, alpha=a2, edgecolor=c2, lw=2, histtype='step', \n",
    "         weights = weightsMSMRD, label =r'$\\mathrm{MSM/RD}$');\n",
    "ax1.legend(fontsize=fsize, title=r'$\\mathrm{Unbound} \\rightarrow A$', title_fontsize = fsize, fancybox=True)\n",
    "ax1.text(40, 0.075, r'$\\tau = {:.2f} \\pm {:.2f}$'.format(mfpt, fptstd), fontsize=fsize, color=c1)\n",
    "ax1.text(50, 0.065, r'$\\tau = {:.2f} \\pm {:.2f}$'.format(MSMRDmfpt, MSMRDfptstd), fontsize=fsize, color=c2alt)\n",
    "ax1.set_yticks(np.arange(0, 0.18, step=0.1));\n",
    "#ax1.set_xlim([0,33])\n",
    "#ax1.set_ylim([0,0.18])\n",
    "ax1.set_xlim([0,100])\n",
    "\n",
    "plt.savefig('trimerFPTs.pdf', bbox_inches='tight')\n",
    "plt.savefig('trimerFPTs.svg', bbox_inches='tight')"
   ]
  },
  {
   "cell_type": "markdown",
   "metadata": {},
   "source": [
    "## Load all unbound to bound FPT data for $K_{on}$ vs concentration plot"
   ]
  },
  {
   "cell_type": "code",
   "execution_count": null,
   "metadata": {},
   "outputs": [],
   "source": [
    "# Load all data\n",
    "numTrajs = 5000\n",
    "boxsizes = [6, 7, 8, 9, 10, 11, 12, 13]\n",
    "numBoxes = len(boxsizes)\n",
    "fpt = [[] for i in range(numBoxes)]\n",
    "MSMRDfpt = [[] for i in range(numBoxes)]\n",
    "for i, boxsize in enumerate(boxsizes):\n",
    "    filename1 = rootDirectory + '/patchyDimerFPTs_2bound_trajs' + \\\n",
    "        str(numTrajs) + '_boxsize' + str(boxsize) + '.xyz'\n",
    "    filename2 = rootDirectory + 'MSMRDpatchyDimerFPTs_2bound_trajs' + \\\n",
    "        str(numTrajs) + '_lagt' + str(lagtime) +  '_boxsize' + str(boxsize) + '.xyz'\n",
    "    with open(filename1) as file:\n",
    "        for line in file:\n",
    "            state, time = line.split(\" \")\n",
    "            fpt[i].append(float(time))\n",
    "    with open(filename2) as file:\n",
    "        for line in file:\n",
    "            state, time = line.split(\" \")\n",
    "            MSMRDfpt[i].append(float(time))"
   ]
  },
  {
   "cell_type": "markdown",
   "metadata": {},
   "source": [
    "### Calculation of FPTs and comparisons plots"
   ]
  },
  {
   "cell_type": "code",
   "execution_count": null,
   "metadata": {},
   "outputs": [],
   "source": [
    "# Calculate meand and bootstrapping error\n",
    "numBootsrapSamples = 1000\n",
    "numValues = 250\n",
    "meanKon = np.zeros(numBoxes)\n",
    "meanKonMSMRD = np.zeros(numBoxes)\n",
    "stdDevKon = np.zeros(numBoxes)\n",
    "stdDevKonMSMRD = np.zeros(numBoxes)\n",
    "errorKon = np.zeros(numBoxes)\n",
    "errorKonMSMRD = np.zeros(numBoxes)\n",
    "for i, boxsize in enumerate(boxsizes):\n",
    "    # Calculate bootstrapping samples of mean first passage times\n",
    "    mfpt, fptStdDev = analysisTools.bootstrapping(fpt[i], numBootsrapSamples, numValues)\n",
    "    MSMRDmfpt, MSMRDfptStdDev = analysisTools.bootstrapping(MSMRDfpt[i], numBootsrapSamples, numValues)\n",
    "    # Calculate on rate corresponding to bootstrapping samples\n",
    "    meanKon[i], stdDevKon[i] = 1.0/mfpt, fptStdDev/(mfpt*mfpt)\n",
    "    meanKonMSMRD[i], stdDevKonMSMRD[i] = 1.0/MSMRDmfpt, MSMRDfptStdDev/(MSMRDmfpt*MSMRDmfpt)\n",
    "    # Percentual errors\n",
    "    errorKon[i] = stdDevKon[i] #1.96*stdDevKon[i]/numBootsrapSamples\n",
    "    errorKonMSMRD[i] = stdDevKonMSMRD[i] #1.96*stdDevKonMSMRD[i]/numBootsrapSamples"
   ]
  },
  {
   "cell_type": "code",
   "execution_count": null,
   "metadata": {},
   "outputs": [],
   "source": [
    "# Plot on rates vs concentration:\n",
    "fig = plt.figure()\n",
    "fsize = 16\n",
    "plt.rcParams['xtick.labelsize']=fsize\n",
    "plt.rcParams['ytick.labelsize']=fsize\n",
    "ax = fig.add_subplot(111)\n",
    "linewidth = 2\n",
    "concentrations = 1.0/pow(np.array(boxsizes),3)\n",
    "# Assuming moleculas have a diameter of 5nm, the actual boxsize is 5*boxisze nm,\n",
    "# lets convert to Molar concentration\n",
    "avogadro = 6.022E23\n",
    "oneLiter2nm = 1.0E24\n",
    "concentrationsMolar = concentrations*oneLiter2nm/avogadro\n",
    "\n",
    "# Plots with shaded regions as error bars\n",
    "ax.plot(concentrationsMolar, meanKon, marker='o', markersize=6, linewidth=linewidth , color=c1alt, \n",
    "        label=r'$\\mathrm{Benchmark}$')\n",
    "ax.fill_between(concentrationsMolar, meanKon-errorKon, meanKon+errorKon, alpha=0.3, edgecolor=c1alt, \n",
    "                facecolor=c1alt)\n",
    "\n",
    "# Traditional error bar plots\n",
    "ax.errorbar(concentrationsMolar, meanKonMSMRD, yerr=errorKonMSMRD, marker='o', markersize=6, linestyle='--',\n",
    "            elinewidth=2, linewidth=linewidth, capsize=5, color=c2alt, label=r'$\\mathrm{MSM/RD}$')\n",
    "\n",
    "ax.set_yscale('log')\n",
    "#ax.set_xlabel(r'$\\mathrm{Concentration}$ ($1/\\mathrm{Volume}$)', fontsize = fsize+4)\n",
    "ax.set_xlabel(r'$\\mathrm{Concentration}$ ($M$)', fontsize = fsize+4)\n",
    "ax.set_ylabel(r'$\\mathrm{log}(k_\\mathrm{on}$)', fontsize = fsize+6)\n",
    "ax.set_yticks([0.001,.01])\n",
    "#ax.set_ylim([0.01,0.12])\n",
    "ax.legend(fontsize=fsize, title_fontsize = fsize, fancybox=True)\n",
    "#plt.savefig('kon_dimer.pdf', bbox_inches='tight')"
   ]
  },
  {
   "cell_type": "code",
   "execution_count": null,
   "metadata": {},
   "outputs": [],
   "source": [
    "# Plot equilibrium constant vs concentration\n",
    "fig = plt.figure()\n",
    "fsize = 16\n",
    "plt.rcParams['xtick.labelsize']=fsize\n",
    "plt.rcParams['ytick.labelsize']=fsize\n",
    "ax = fig.add_subplot(111)\n",
    "linewidth = 2\n",
    "\n",
    "# Calculate Keq and errors\n",
    "Keq = meanKon/meanKoff\n",
    "KeqMSMRD = meanKonMSMRD/meanKoffMSMRD\n",
    "errorKeq = Keq*(errorKon/meanKon + koffstd/meanKoff)\n",
    "errorKeqMSMRD = KeqMSMRD*(errorKonMSMRD/meanKonMSMRD + koffstdMSMRD/meanKoffMSMRD)\n",
    "\n",
    "# Plots with shaded regions as error bars\n",
    "ax.plot(concentrationsMolar, Keq, marker='o', markersize=6, linewidth=linewidth , color=c1alt, \n",
    "        label=r'$\\mathrm{Benchmark}$')\n",
    "ax.fill_between(concentrationsMolar, Keq-errorKeq, Keq+errorKeq, alpha=0.3, edgecolor=c1alt, facecolor=c1alt)\n",
    "\n",
    "# Traditional error bar plots\n",
    "ax.errorbar(concentrationsMolar, KeqMSMRD, yerr=errorKeqMSMRD, marker='o', markersize=6, linestyle='--',\n",
    "            elinewidth=2, linewidth=linewidth, capsize=5, color=c2alt, label=r'$\\mathrm{MSM/RD}$')\n",
    "\n",
    "ax.set_yscale('log')\n",
    "ax.set_xlabel(r'$\\mathrm{Concentration}$ ($M$)', fontsize = fsize+4)\n",
    "ax.set_ylabel(r'$\\mathrm{log}(k_\\mathrm{eq}$)', fontsize = fsize+6)\n",
    "ax.legend(fontsize=fsize, title_fontsize = fsize, fancybox=True)\n",
    "#plt.savefig('keq_dimer.pdf', bbox_inches='tight')"
   ]
  },
  {
   "cell_type": "code",
   "execution_count": null,
   "metadata": {},
   "outputs": [],
   "source": [
    "# Plot on rates vs concentration, zoomed\n",
    "fig = plt.figure()\n",
    "fsize = 16\n",
    "ax = fig.add_subplot(111)\n",
    "linewidth = 2\n",
    "\n",
    "# Plots with shaded regions as error bars\n",
    "ax.plot(concentrationsMolar, meanKon, marker='o', markersize=6, linewidth=linewidth , color='C1', \n",
    "        label=r'$\\mathrm{Benchmark}$')\n",
    "ax.fill_between(concentrationsMolar, meanKon-errorKon, meanKon+errorKon, alpha=0.3, edgecolor='C1', facecolor='C1')\n",
    "#ax.plot(concentrations, meanKonMSMRD, marker='o', markersize=6, linewidth=0*linewidth, color='C0', \n",
    "#        label=r'$\\mathrm{MSM/RD}$)\n",
    "#ax.fill_between(concentrations, meanKonMSMRD-errorKonMSMRD, meanKonMSMRD+errorKonMSMRD, alpha=0.35, \n",
    "#                edgecolor='C0', facecolor='C0')\n",
    "\n",
    "# Traditional error bar plots\n",
    "#ax.errorbar(concentrations, meanKon, yerr=errorKon, marker='o', markersize=6, elinewidth=2, \n",
    "#            linewidth=linewidth , capsize=5, color='C1', label=r'$\\mathrm{Benchmark}$')\n",
    "ax.errorbar(concentrationsMolar, meanKonMSMRD, yerr=errorKonMSMRD, marker='o', markersize=6, linestyle='--',\n",
    "            elinewidth=2, linewidth=linewidth, capsize=5, color='C0', label=r'$\\mathrm{MSM/RD}$')\n",
    "ax.set_yscale('log')\n",
    "ax.set_xlim([0.0018,0.0047])\n",
    "ax.set_ylim([0.003,0.018])\n",
    "ax.set_xticks([], [])\n",
    "#plt.savefig('kon_dimer_zoom.pdf', bbox_inches='tight')"
   ]
  },
  {
   "cell_type": "code",
   "execution_count": null,
   "metadata": {},
   "outputs": [],
   "source": []
  }
 ],
 "metadata": {
  "kernelspec": {
   "display_name": "Python 3",
   "language": "python",
   "name": "python3"
  },
  "language_info": {
   "codemirror_mode": {
    "name": "ipython",
    "version": 3
   },
   "file_extension": ".py",
   "mimetype": "text/x-python",
   "name": "python",
   "nbconvert_exporter": "python",
   "pygments_lexer": "ipython3",
   "version": "3.8.3"
  }
 },
 "nbformat": 4,
 "nbformat_minor": 2
}
