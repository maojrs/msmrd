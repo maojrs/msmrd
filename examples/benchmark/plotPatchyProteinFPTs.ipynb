{
 "cells": [
  {
   "cell_type": "code",
   "execution_count": null,
   "metadata": {},
   "outputs": [],
   "source": [
    "import numpy as np\n",
    "import matplotlib.pyplot as plt\n",
    "import msmrd2.tools.analysis as analysisTools\n",
    "import timeit\n",
    "from matplotlib import rc\n",
    "rc('text', usetex=True)"
   ]
  },
  {
   "cell_type": "code",
   "execution_count": null,
   "metadata": {},
   "outputs": [],
   "source": [
    "# Main parameters\n",
    "numparticles = 2\n",
    "boxsize = 6 #10 #8 #6 #5 \n",
    "D = 1.0\n",
    "Drot = 1.0\n",
    "lagtime = 50\n",
    "rootDirectory = '../../data/patchyProtein/first_passage_times/'"
   ]
  },
  {
   "cell_type": "code",
   "execution_count": null,
   "metadata": {},
   "outputs": [],
   "source": [
    "# Color definitions\n",
    "c1 = 'xkcd:bright orange' # 'darkorange' #'C1' # '#ff3300' # for benchmark\n",
    "c2 = 'royalblue' #'royalblue' # 'C0' # '#0099ff' # for MSM/RD\n",
    "# Alpha transparency definition\n",
    "a1 = 0.2 #0.2\n",
    "a2 = 0.9 #0.7"
   ]
  },
  {
   "cell_type": "markdown",
   "metadata": {},
   "source": [
    "## Load unbound to bound FPT data (bechmark and MSMRD)"
   ]
  },
  {
   "cell_type": "code",
   "execution_count": null,
   "metadata": {},
   "outputs": [],
   "source": [
    "# Load benchmark FPT data computed by script\n",
    "numTrajs = 5000\n",
    "filename1 = rootDirectory + 'patchyProteinFPTs_2bound_trajs' + str(numTrajs) + '_boxsize' + str(boxsize) + '.xyz'\n",
    "fpts = []\n",
    "with open(filename1) as file:\n",
    "    for line in file:\n",
    "        state, time = line.split(\" \")\n",
    "        time = float(time)\n",
    "        fpts.append(time)\n",
    "            \n",
    "# Normalize weights\n",
    "weights = np.ones_like(fpts)/float(len(fpts))"
   ]
  },
  {
   "cell_type": "code",
   "execution_count": null,
   "metadata": {},
   "outputs": [],
   "source": [
    "# Load FPT data obtained with MSMRD integrator\n",
    "numTrajs = 5000\n",
    "filename = rootDirectory + 'testMSMRDpatchyProteinFPTs_2bound_trajs' + \\\n",
    "str(numTrajs) + '_lagt' + str(lagtime) +  '_boxsize' + str(boxsize) + '.xyz'\n",
    "MSMRDfpts = []\n",
    "with open(filename) as file:\n",
    "    for line in file:\n",
    "        state, time = line.split(\" \")\n",
    "        time = float(time)\n",
    "        MSMRDfpts.append(time)\n",
    "            \n",
    "# Normalize weights\n",
    "weightsMSMRD = np.ones_like(MSMRDfpts)/float(len(MSMRDfpts))"
   ]
  },
  {
   "cell_type": "markdown",
   "metadata": {},
   "source": [
    "### Calculation of FPTs and comparisons plots"
   ]
  },
  {
   "cell_type": "code",
   "execution_count": null,
   "metadata": {},
   "outputs": [],
   "source": [
    "# Compuate mean and standard deviation of bootstrapped samples of benchmark\n",
    "calculateRates = True\n",
    "numBootsrapSamples = 2000\n",
    "mfpt, fptstd = analysisTools.bootstrapping(fpts, numBootsrapSamples)\n",
    "print(\"Raw MFPT: \", np.array(fpts).mean())\n",
    "print(\"Bootstrapping mean and std: \", mfpt, fptstd)\n",
    "# Compuate mean and standard deviation of bootstrapped samples of MSMRD simulation\n",
    "MSMRDmfpt, MSMRDfptstd = analysisTools.bootstrapping(MSMRDfpts, numBootsrapSamples)\n",
    "print(\"Raw MSMRD MFPT: \",np.array(MSMRDfpts).mean())\n",
    "print(\"MSMRD bootstrapping mean and std: \", MSMRDmfpt, MSMRDfptstd)\n",
    "if calculateRates:\n",
    "    mkon = 1.0/mfpt\n",
    "    MSMRDmkon = 1.0/MSMRDmfpt\n",
    "    konstd = fptstd/(mfpt*mfpt)\n",
    "    MSMRDkonstd = MSMRDfptstd/(MSMRDmfpt*MSMRDmfpt)\n",
    "    print(\"On rates:\")\n",
    "    print(\"Bootstrapping mean and std:\", mkon, konstd)\n",
    "    print(\"Bootstrapping MSMRD mean and std (A):\", MSMRDmkon, MSMRDkonstd)"
   ]
  },
  {
   "cell_type": "code",
   "execution_count": null,
   "metadata": {},
   "outputs": [],
   "source": [
    "# PLOT FOR PAPER #\n",
    "# Configure figure\n",
    "fig, ax1 = plt.subplots(nrows=1, figsize=(6,5))\n",
    "fig.subplots_adjust(hspace=0)\n",
    "fsize = 16\n",
    "plt.rcParams['xtick.labelsize']=fsize\n",
    "plt.rcParams['ytick.labelsize']=fsize\n",
    "# Set outer common axes titles\n",
    "ax0 = fig.add_subplot(111, frameon=False)\n",
    "ax0.set_xlabel(r'$\\mathrm{time}$', fontsize=fsize + 4)\n",
    "ax0.set_ylabel(r'$\\mathrm{FPTs \\ distribution}$', labelpad=17, fontsize=fsize + 4)\n",
    "ax0.set_xticks([0])\n",
    "ax0.set_yticks([0])\n",
    "hbins = range(0, 1000,30)\n",
    "\n",
    "# Plot A to unbound histogram\n",
    "ax1.hist(fpts, bins = hbins, alpha=a1, color=c1, weights = weights );\n",
    "ax1.hist(fpts, bins = hbins, alpha=a2, edgecolor=c1, lw=2, histtype='step', \n",
    "         facecolor = 'None', weights = weights, label =r'$\\mathrm{Benchmark}$');\n",
    "ax1.hist(MSMRDfpts, bins = hbins, alpha=a1, color=c2, weights = weightsMSMRD);\n",
    "ax1.hist(MSMRDfpts, bins = hbins, alpha=a2, edgecolor=c2, lw=2, histtype='step', \n",
    "         weights = weightsMSMRD, label =r'$\\mathrm{MSM/RD}$');\n",
    "ax1.legend(fontsize=fsize, title=r'$\\mathrm{Unbound} \\rightarrow \\mathrm{Bound}$', title_fontsize = fsize, fancybox=True)\n",
    "ax1.text(75, 0.13, r'$\\tau = {:.2f} \\pm {:.2f}$'.format(mfpt, fptstd), fontsize=fsize, color=c1)\n",
    "ax1.text(85, 0.10, r'$\\tau = {:.2f} \\pm {:.2f}$'.format(MSMRDmfpt, MSMRDfptstd), fontsize=fsize, color=c2)\n",
    "ax1.set_yticks(np.arange(0, 0.18, step=0.1));\n",
    "ax1.set_xlim([0,1000])\n",
    "ax1.set_ylim([0,0.18])\n",
    "\n",
    "#plt.savefig('toBound_FPTs.pdf', bbox_inches='tight')"
   ]
  },
  {
   "cell_type": "markdown",
   "metadata": {},
   "source": [
    "## Load bound to unbound FPT data (bechmark and MSMRD)"
   ]
  },
  {
   "cell_type": "code",
   "execution_count": null,
   "metadata": {},
   "outputs": [],
   "source": [
    "# Load benchmark FPT data computed by script\n",
    "numTrajs = 5000\n",
    "filename = rootDirectory + 'patchyProteinFPTs_2unbound_trajs' + str(numTrajs) + '_boxsize' + str(boxsize) + '.xyz'\n",
    "fpts2unbound = []\n",
    "with open(filename) as file:\n",
    "    \n",
    "    for line in file:\n",
    "        state, time = line.split(\" \")\n",
    "        time = float(time)\n",
    "        fpts2unbound.append(time)\n",
    "        \n",
    "# Normalizing weights\n",
    "weights2 = np.ones_like(fpts2unbound)/float(len(fpts2unbound))"
   ]
  },
  {
   "cell_type": "code",
   "execution_count": null,
   "metadata": {},
   "outputs": [],
   "source": [
    "# Load FPT data obtained with MSMRD integrator\n",
    "numTrajs = 5000\n",
    "filename = rootDirectory + 'testMSMRDpatchyProteinFPTs_2unbound_trajs' + \\\n",
    "str(numTrajs) + '_lagt' + str(lagtime) +  '_boxsize' + str(boxsize) + '.xyz'\n",
    "MSMRDfpts2unbound = []\n",
    "with open(filename) as file:\n",
    "    for line in file:\n",
    "        state, time = line.split(\" \")\n",
    "        time = float(time)\n",
    "        MSMRDfpts2unbound.append(time)\n",
    "        \n",
    "# Normalizing weights\n",
    "weightsMSMRD2 = np.ones_like(MSMRDfpts2unbound)/float(len(MSMRDfpts2unbound))"
   ]
  },
  {
   "cell_type": "markdown",
   "metadata": {},
   "source": [
    "### Calculation of FPTs and comparisons plots"
   ]
  },
  {
   "cell_type": "code",
   "execution_count": null,
   "metadata": {},
   "outputs": [],
   "source": [
    "# Compuate mean and standard deviation of bootstrapped samples of benchmark\n",
    "numBootsrapSamples = 2000\n",
    "mfpt2unbound, fpt2unboundstd = analysisTools.bootstrapping(fpts2unbound, numBootsrapSamples)\n",
    "print(\"Raw MFPT: \", np.array(fpts2unbound).mean())\n",
    "print(\"Bootstrapping mean and std: \", mfpt2unbound, fpt2unboundstd)\n",
    "MSMRDmfpt2unbound, MSMRDfpt2unboundstd = analysisTools.bootstrapping(MSMRDfpts2unbound, numBootsrapSamples)\n",
    "print(\"Raw MSMRD MFPT: \",np.array(MSMRDfpts2unbound).mean())\n",
    "print(\"MSMRD bootstrapping mean and std: \", MSMRDmfpt2unbound, MSMRDfpt2unboundstd)\n",
    "# Calculate rates\n",
    "mkoff = 1.0/mfpt2unbound\n",
    "mkoffMSMRD = 1.0/MSMRDmfpt2unbound\n",
    "koffstd = fpt2unboundstd/(mfpt2unbound*mfpt2unbound)\n",
    "koffstdMSMRD = MSMRDfpt2unboundstd/(MSMRDmfpt2unbound*MSMRDmfpt2unbound)\n",
    "print(\"Off rates:\")\n",
    "print(\"Bootstrapping mean and std:\", mkoff, koffstd)\n",
    "print(\"Bootstrapping MSMRD mean and std:\", mkoffMSMRD, koffstdMSMRD)"
   ]
  },
  {
   "cell_type": "code",
   "execution_count": null,
   "metadata": {},
   "outputs": [],
   "source": [
    "# PLOT FOR PAPER #\n",
    "# Configure figure\n",
    "fig, ax1 = plt.subplots(nrows=1, figsize=(6,5))\n",
    "fig.subplots_adjust(hspace=0)\n",
    "fsize = 16\n",
    "plt.rcParams['xtick.labelsize']=fsize\n",
    "plt.rcParams['ytick.labelsize']=fsize\n",
    "hbins = np.arange(0, 15, 0.5)\n",
    "#hbins = np.arange(0, 20, 0.66666666)\n",
    "\n",
    "# Set outer common axes titles\n",
    "ax0 = fig.add_subplot(111, frameon=False)\n",
    "ax0.set_xlabel(r'$\\mathrm{time}$', fontsize=fsize + 4)\n",
    "ax0.set_ylabel(r'$\\mathrm{FPTs \\ distribution}$', labelpad=17, fontsize=fsize + 4)\n",
    "ax0.set_xticks([0])\n",
    "ax0.set_yticks([0])\n",
    "\n",
    "# Plot A to unbound histogram\n",
    "ax1.hist(fpts2unbound, bins = hbins, alpha=a1, color=c1, weights = weights2);\n",
    "ax1.hist(fpts2unbound, bins = hbins, alpha=a2, edgecolor=c1, lw=2, histtype='step',\n",
    "         facecolor='None', weights = weights2, label = r'$\\mathrm{Benchmark}$');\n",
    "ax1.hist(MSMRDfpts2unbound, bins = hbins, alpha=a1, color=c2, weights = weightsMSMRD2);\n",
    "ax1.hist(MSMRDfpts2unbound, bins = hbins, alpha=a2, edgecolor=c2, lw=2, histtype='step',\n",
    "         facecolor='None', weights = weightsMSMRD2, label =r'$\\mathrm{MSM/RD}$');\n",
    "ax1.legend(fontsize=fsize, title=r'$ \\mathrm{Bound} \\rightarrow \\mathrm{Unbound}$', title_fontsize = fsize, fancybox=True)\n",
    "ax1.text(1.4, 0.12, r'$\\tau = {:.2f} \\pm {:.2f}$'.format(mfpt2unbound, fpt2unboundstd), fontsize=fsize, color=c1)\n",
    "ax1.text(1.45, 0.097, r'$\\tau = {:.2f} \\pm {:.2f}$'.format(MSMRDmfpt2unbound, MSMRDfpt2unboundstd), \n",
    "         fontsize=fsize, color=c2)\n",
    "ax1.set_xlim([0,15])\n",
    "ax1.set_ylim([0,0.15])\n",
    "ax1.set_yticks(np.arange(0, 0.2, step=0.1));\n",
    "\n",
    "\n",
    "#plt.savefig('toUnbound_FPTs.pdf', bbox_inches='tight')"
   ]
  },
  {
   "cell_type": "markdown",
   "metadata": {},
   "source": [
    "## UP UNTIL HERE MODIFICATIONS FOR PATCHY PROTEINS"
   ]
  },
  {
   "cell_type": "markdown",
   "metadata": {},
   "source": [
    "## Load bound to bound FPT data (bechmark and MSMRD)"
   ]
  },
  {
   "cell_type": "code",
   "execution_count": null,
   "metadata": {},
   "outputs": [],
   "source": [
    "# Load benchmark FPT data computed by script\n",
    "numTrajs = 10000\n",
    "filenameA = rootDirectory + 'patchyDimerFPTs_A2B_trajs' + str(numTrajs) + '_boxsize' + str(boxsize) + '.xyz'\n",
    "filenameB = rootDirectory + 'patchyDimerFPTs_B2A_trajs' + str(numTrajs) + '_boxsize' + str(boxsize) + '.xyz'\n",
    "fptsA2B = []\n",
    "fptsB2A = []\n",
    "with open(filenameA) as file:\n",
    "    for line in file:\n",
    "        state, time = line.split(\" \")\n",
    "        time = float(time)\n",
    "        fptsA2B.append(time)\n",
    "with open(filenameB) as file:\n",
    "    for line in file:\n",
    "        state, time = line.split(\" \")\n",
    "        time = float(time)\n",
    "        fptsB2A.append(time)\n",
    "        \n",
    "# Normalizing weights\n",
    "weightsA2B = np.ones_like(fptsA2B)/float(len(fptsA2B))\n",
    "weightsB2A = np.ones_like(fptsB2A)/float(len(fptsB2A))"
   ]
  },
  {
   "cell_type": "code",
   "execution_count": null,
   "metadata": {},
   "outputs": [],
   "source": [
    "# Load FPT data obtained with MSMRD integrator\n",
    "numTrajs = 10000\n",
    "filenameA = rootDirectory + 'MSMRDpatchyDimerFPTs_A2B_trajs' + \\\n",
    "str(numTrajs) + '_lagt' + str(lagtime) +  '_boxsize' + str(boxsize) + '.xyz'\n",
    "filenameB = rootDirectory + 'MSMRDpatchyDimerFPTs_B2A_trajs' + \\\n",
    "str(numTrajs) + '_lagt' + str(lagtime) +  '_boxsize' + str(boxsize) + '.xyz'\n",
    "MSMRDfptsA2B = []\n",
    "MSMRDfptsB2A = []\n",
    "with open(filenameA) as file:\n",
    "    for line in file:\n",
    "        state, time = line.split(\" \")\n",
    "        time = float(time)\n",
    "        MSMRDfptsA2B.append(time)\n",
    "with open(filenameB) as file:\n",
    "    for line in file:\n",
    "        state, time = line.split(\" \")\n",
    "        time = float(time)\n",
    "        MSMRDfptsB2A.append(time)\n",
    "        \n",
    "# Normalizing weights\n",
    "weightsA2BMSMRD = np.ones_like(MSMRDfptsA2B)/float(len(MSMRDfptsA2B))\n",
    "weightsB2AMSMRD = np.ones_like(MSMRDfptsB2A)/float(len(MSMRDfptsB2A))"
   ]
  },
  {
   "cell_type": "markdown",
   "metadata": {},
   "source": [
    "### Calculation of FPTs and comparisons plots"
   ]
  },
  {
   "cell_type": "code",
   "execution_count": null,
   "metadata": {},
   "outputs": [],
   "source": [
    "# Compuate mean and standard deviation of bootstrapped samples of benchmark\n",
    "numBootsrapSamples = 2000\n",
    "mfptA2B, fptA2Bstd = analysisTools.bootstrapping(fptsA2B, numBootsrapSamples)\n",
    "mfptB2A, fptB2Astd = analysisTools.bootstrapping(fptsB2A, numBootsrapSamples)\n",
    "print(\"Bootstrapping mean and std (A2B): \", mfptA2B, fptA2Bstd)\n",
    "print(\"Bootstrapping mean and std (B2A): \", mfptB2A, fptB2Astd)\n",
    "MSMRDmfptA2B, MSMRDfptA2Bstd = analysisTools.bootstrapping(MSMRDfptsA2B, numBootsrapSamples)\n",
    "MSMRDmfptB2A, MSMRDfptB2Astd = analysisTools.bootstrapping(MSMRDfptsB2A, numBootsrapSamples)\n",
    "print(\"MSMRD bootstrapping mean and std (A): \", MSMRDmfptA2B, MSMRDfptA2Bstd)\n",
    "print(\"MSMRD bootstrapping mean and std (B): \", MSMRDmfptB2A, MSMRDfptB2Astd)"
   ]
  },
  {
   "cell_type": "code",
   "execution_count": null,
   "metadata": {},
   "outputs": [],
   "source": [
    "# PLOT FOR PAPER #\n",
    "# Configure figure\n",
    "fig, (ax1, ax2) = plt.subplots(nrows=2, sharex=True, figsize=(6,5))\n",
    "fig.subplots_adjust(hspace=0)\n",
    "fsize = 16\n",
    "plt.rcParams['xtick.labelsize']=fsize\n",
    "plt.rcParams['ytick.labelsize']=fsize\n",
    "hbins = np.arange(0, 500, 15)\n",
    "\n",
    "# Set outer common axes titles\n",
    "ax0 = fig.add_subplot(111, frameon=False)\n",
    "ax0.set_xlabel(r'$\\mathrm{time}$', fontsize=fsize + 4)\n",
    "ax0.set_ylabel(r'$\\mathrm{FPTs \\ distribution}$', labelpad=17, fontsize=fsize + 4)\n",
    "ax0.set_xticks([0])\n",
    "ax0.set_yticks([0])\n",
    "\n",
    "# Plot A to B histogram\n",
    "ax1.hist(fptsA2B, bins = hbins, alpha=a1, color=c1, weights = weightsA2B);\n",
    "ax1.hist(fptsA2B, bins = hbins, alpha=a2, edgecolor=c1, lw=2, histtype='step',\n",
    "         facecolor='None', weights = weightsA2B, label = r'$\\mathrm{Benchmark}$');\n",
    "ax1.hist(MSMRDfptsA2B, bins = hbins, alpha=a1, color=c2, weights = weightsA2BMSMRD);\n",
    "ax1.hist(MSMRDfptsA2B, bins = hbins, alpha=a2, edgecolor=c2, lw=2, histtype='step',\n",
    "         facecolor='None', weights = weightsA2BMSMRD, label =r'$\\mathrm{MSM/RD}$');\n",
    "ax1.legend(fontsize=fsize, title=r'$A \\rightarrow B$', title_fontsize = fsize, fancybox=True)\n",
    "ax1.text(60, 0.18, r'$\\tau = {:.2f} \\pm {:.2f}$'.format(mfptA2B, fptA2Bstd), fontsize=fsize, color=c1)\n",
    "ax1.text(70, 0.13, r'$\\tau = {:.2f} \\pm {:.2f}$'.format(MSMRDmfptA2B, MSMRDfptA2Bstd), fontsize=fsize, color=c2)\n",
    "ax1.set_xlim([0,500])\n",
    "ax1.set_ylim([0,0.3])\n",
    "ax1.set_yticks(np.arange(0, 0.2, step=0.1));\n",
    "\n",
    "# Plot B to A histogram\n",
    "ax2.hist(fptsB2A, bins = hbins, alpha=a1, color=c1, weights = weightsB2A);\n",
    "ax2.hist(fptsB2A, bins = hbins, alpha=a2, edgecolor=c1, lw=2, histtype='step',\n",
    "         facecolor='None', weights = weightsB2A, label = r'$\\mathrm{Benchmark}$');\n",
    "ax2.hist(MSMRDfptsB2A, bins = hbins, alpha=a1, color=c2, weights = weightsB2AMSMRD);\n",
    "ax2.hist(MSMRDfptsB2A, bins = hbins, alpha=a2, edgecolor=c2, lw=2, histtype='step',\n",
    "         facecolor='None', weights = weightsB2AMSMRD, label =r'$\\mathrm{MSM/RD}$');\n",
    "ax2.legend(fontsize=fsize, title=r'$B \\rightarrow A$', title_fontsize = fsize, fancybox=True)\n",
    "ax2.text(60, 0.18, r'$\\tau = {:.2f} \\pm {:.2f}$'.format(mfptB2A, fptB2Astd), fontsize=fsize, color=c1)\n",
    "ax2.text(70, 0.13, r'$\\tau = {:.2f} \\pm {:.2f}$'.format(MSMRDmfptB2A, MSMRDfptB2Astd), fontsize=fsize, color=c2)\n",
    "ax2.set_xlim([0,500])\n",
    "ax2.set_ylim([0,0.3])\n",
    "ax2.set_yticks(np.arange(0, 0.2, step=0.1));\n",
    "\n",
    "#plt.savefig('bound2bound_FPTs.pdf', bbox_inches='tight')"
   ]
  },
  {
   "cell_type": "markdown",
   "metadata": {},
   "source": [
    "## Load all unbound to bound FPT data for $K_{on}$ vs concentration plot"
   ]
  },
  {
   "cell_type": "code",
   "execution_count": null,
   "metadata": {},
   "outputs": [],
   "source": [
    "# Load all data\n",
    "numTrajs = 5000\n",
    "boxsizes = [6, 7, 8, 9, 10, 11, 12]\n",
    "numBoxes = len(boxsizes)\n",
    "fpt = [[] for i in range(numBoxes)]\n",
    "MSMRDfpt = [[] for i in range(numBoxes)]\n",
    "for i, boxsize in enumerate(boxsizes):\n",
    "    filename1 = rootDirectory + '/patchyDimerFPTs_2bound_trajs' + \\\n",
    "        str(numTrajs) + '_boxsize' + str(boxsize) + '.xyz'\n",
    "    filename2 = rootDirectory + 'MSMRDpatchyDimerFPTs_2bound_trajs' + \\\n",
    "        str(numTrajs) + '_lagt' + str(lagtime) +  '_boxsize' + str(boxsize) + '.xyz'\n",
    "    with open(filename1) as file:\n",
    "        for line in file:\n",
    "            state, time = line.split(\" \")\n",
    "            fpt[i].append(float(time))\n",
    "    with open(filename2) as file:\n",
    "        for line in file:\n",
    "            state, time = line.split(\" \")\n",
    "            MSMRDfpt[i].append(float(time))"
   ]
  },
  {
   "cell_type": "markdown",
   "metadata": {},
   "source": [
    "### Calculation of FPTs and comparisons plots"
   ]
  },
  {
   "cell_type": "code",
   "execution_count": null,
   "metadata": {},
   "outputs": [],
   "source": [
    "# Calculate meand and bootstrapping error\n",
    "numBootsrapSamples = 1000\n",
    "numValues = 250\n",
    "meanKon = np.zeros(numBoxes)\n",
    "meanKonMSMRD = np.zeros(numBoxes)\n",
    "stdDevKon = np.zeros(numBoxes)\n",
    "stdDevKonMSMRD = np.zeros(numBoxes)\n",
    "errorKon = np.zeros(numBoxes)\n",
    "errorKonMSMRD = np.zeros(numBoxes)\n",
    "for i, boxsize in enumerate(boxsizes):\n",
    "    # Calculate bootstrapping samples of mean first passage times\n",
    "    mfpt, fptStdDev = analysisTools.bootstrapping(fpt[i], numBootsrapSamples, numValues)\n",
    "    MSMRDmfpt, MSMRDfptStdDev = analysisTools.bootstrapping(MSMRDfpt[i], numBootsrapSamples, numValues)\n",
    "    # Calculate on rate corresponding to bootstrapping samples\n",
    "    meanKon[i], stdDevKon[i] = 1.0/mfpt, fptStdDev/(mfpt*mfpt)\n",
    "    meanKonMSMRD[i], stdDevKonMSMRD[i] = 1.0/MSMRDmfpt, MSMRDfptStdDev/(MSMRDmfpt*MSMRDmfpt)\n",
    "    # Percentual errors\n",
    "    errorKon[i] = stdDevKon[i] #1.96*stdDevKon[i]/numBootsrapSamples\n",
    "    errorKonMSMRD[i] = stdDevKonMSMRD[i] #1.96*stdDevKonMSMRD[i]/numBootsrapSamples"
   ]
  },
  {
   "cell_type": "code",
   "execution_count": null,
   "metadata": {},
   "outputs": [],
   "source": [
    "# Plot on rates vs concentration:\n",
    "fig = plt.figure()\n",
    "fsize = 16\n",
    "plt.rcParams['xtick.labelsize']=fsize\n",
    "plt.rcParams['ytick.labelsize']=fsize\n",
    "ax = fig.add_subplot(111)\n",
    "linewidth = 2\n",
    "concentrations = 1.0/pow(np.array(boxsizes),3)\n",
    "\n",
    "# Plots with shaded regions as error bars\n",
    "ax.plot(concentrations, meanKon, marker='o', markersize=6, linewidth=linewidth , color=c1, \n",
    "        label=r'$\\mathrm{Benchmark}$')\n",
    "ax.fill_between(concentrations, meanKon-errorKon, meanKon+errorKon, alpha=0.3, edgecolor=c1, facecolor=c1)\n",
    "\n",
    "# Traditional error bar plots\n",
    "ax.errorbar(concentrations, meanKonMSMRD, yerr=errorKonMSMRD, marker='o', markersize=6, linestyle='--',\n",
    "            elinewidth=2, linewidth=linewidth, capsize=5, color=c2, label=r'$\\mathrm{MSM/RD}$')\n",
    "\n",
    "ax.set_yscale('log')\n",
    "ax.set_xlabel(r'$\\mathrm{Concentration}$ ($1/\\mathrm{Volume}$)', fontsize = fsize+4)\n",
    "ax.set_ylabel(r'$\\mathrm{log}(k_\\mathrm{on}$)', fontsize = fsize+6)\n",
    "ax.set_yticks([0.001,.01])\n",
    "#ax.set_ylim([0,0.12])\n",
    "ax.legend(fontsize=fsize, title_fontsize = fsize, fancybox=True)\n",
    "plt.savefig('kon_dimer.pdf', bbox_inches='tight')"
   ]
  },
  {
   "cell_type": "code",
   "execution_count": null,
   "metadata": {},
   "outputs": [],
   "source": [
    "# Plot equilibrium constant vs concentration\n",
    "fig = plt.figure()\n",
    "fsize = 16\n",
    "plt.rcParams['xtick.labelsize']=fsize\n",
    "plt.rcParams['ytick.labelsize']=fsize\n",
    "ax = fig.add_subplot(111)\n",
    "linewidth = 2\n",
    "concentrations = 1.0/pow(np.array(boxsizes),3)\n",
    "\n",
    "# Calculate Keq and errors\n",
    "Keq = meanKon/meanKoff\n",
    "KeqMSMRD = meanKonMSMRD/meanKoffMSMRD\n",
    "errorKeq = Keq*(errorKon/meanKon + koffstd/meanKoff)\n",
    "errorKeqMSMRD = KeqMSMRD*(errorKonMSMRD/meanKonMSMRD + koffstdMSMRD/meanKoffMSMRD)\n",
    "\n",
    "# Plots with shaded regions as error bars\n",
    "ax.plot(concentrations, Keq, marker='o', markersize=6, linewidth=linewidth , color=c1, \n",
    "        label=r'$\\mathrm{Benchmark}$')\n",
    "ax.fill_between(concentrations, Keq-errorKeq, Keq+errorKeq, alpha=0.3, edgecolor=c1, facecolor=c1)\n",
    "\n",
    "# Traditional error bar plots\n",
    "ax.errorbar(concentrations, KeqMSMRD, yerr=errorKeqMSMRD, marker='o', markersize=6, linestyle='--',\n",
    "            elinewidth=2, linewidth=linewidth, capsize=5, color=c2, label=r'$\\mathrm{MSM/RD}$')\n",
    "\n",
    "ax.set_yscale('log')\n",
    "ax.set_xlabel(r'$\\mathrm{Concentration}$ ($1/\\mathrm{Volume}$)', fontsize = fsize+4)\n",
    "ax.set_ylabel(r'$\\mathrm{log}(k_\\mathrm{eq}$)', fontsize = fsize+6)\n",
    "ax.legend(fontsize=fsize, title_fontsize = fsize, fancybox=True)\n",
    "plt.savefig('keq_dimer.pdf', bbox_inches='tight')"
   ]
  },
  {
   "cell_type": "code",
   "execution_count": null,
   "metadata": {},
   "outputs": [],
   "source": [
    "# Plot on rates vs concentration, zoomed\n",
    "fig = plt.figure()\n",
    "fsize = 16\n",
    "ax = fig.add_subplot(111)\n",
    "linewidth = 2\n",
    "concentrations = 1.0/pow(np.array(boxsizes),3)\n",
    "\n",
    "# Plots with shaded regions as error bars\n",
    "ax.plot(concentrations, meanKon, marker='o', markersize=6, linewidth=linewidth , color='C1', \n",
    "        label=r'$\\mathrm{Benchmark}$')\n",
    "ax.fill_between(concentrations, meanKon-errorKon, meanKon+errorKon, alpha=0.3, edgecolor='C1', facecolor='C1')\n",
    "#ax.plot(concentrations, meanKonMSMRD, marker='o', markersize=6, linewidth=0*linewidth, color='C0', \n",
    "#        label=r'$\\mathrm{MSM/RD}$)\n",
    "#ax.fill_between(concentrations, meanKonMSMRD-errorKonMSMRD, meanKonMSMRD+errorKonMSMRD, alpha=0.35, \n",
    "#                edgecolor='C0', facecolor='C0')\n",
    "\n",
    "# Traditional error bar plots\n",
    "#ax.errorbar(concentrations, meanKon, yerr=errorKon, marker='o', markersize=6, elinewidth=2, \n",
    "#            linewidth=linewidth , capsize=5, color='C1', label=r'$\\mathrm{Benchmark}$')\n",
    "ax.errorbar(concentrations, meanKonMSMRD, yerr=errorKonMSMRD, marker='o', markersize=6, linestyle='--',\n",
    "            elinewidth=2, linewidth=linewidth, capsize=5, color='C0', label=r'$\\mathrm{MSM/RD}$')\n",
    "ax.set_yscale('log')\n",
    "ax.set_xlim([0.0018,0.0047])\n",
    "ax.set_ylim([0.003,0.018])\n",
    "ax.set_xticks([], [])\n",
    "#plt.savefig('kon_dimer_zoom.pdf', bbox_inches='tight')"
   ]
  },
  {
   "cell_type": "code",
   "execution_count": null,
   "metadata": {},
   "outputs": [],
   "source": []
  }
 ],
 "metadata": {
  "kernelspec": {
   "display_name": "Python [conda env:msmrd-dev]",
   "language": "python",
   "name": "conda-env-msmrd-dev-py"
  },
  "language_info": {
   "codemirror_mode": {
    "name": "ipython",
    "version": 3
   },
   "file_extension": ".py",
   "mimetype": "text/x-python",
   "name": "python",
   "nbconvert_exporter": "python",
   "pygments_lexer": "ipython3",
   "version": "3.6.7"
  }
 },
 "nbformat": 4,
 "nbformat_minor": 2
}
