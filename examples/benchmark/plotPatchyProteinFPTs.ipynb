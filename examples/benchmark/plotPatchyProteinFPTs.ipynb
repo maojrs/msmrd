{
 "cells": [
  {
   "cell_type": "code",
   "execution_count": null,
   "metadata": {},
   "outputs": [],
   "source": [
    "import numpy as np\n",
    "import matplotlib.pyplot as plt\n",
    "import msmrd2.tools.analysis as analysisTools\n",
    "import timeit\n",
    "from matplotlib import rc\n",
    "import matplotlib as mpl\n",
    "import matplotlib.colors as colors\n",
    "rc('text', usetex=True)"
   ]
  },
  {
   "cell_type": "code",
   "execution_count": null,
   "metadata": {},
   "outputs": [],
   "source": [
    "# Main parameters\n",
    "numparticles = 2\n",
    "boxsize = 6 #10 #8 #6 #5 \n",
    "D = 1.0\n",
    "Drot = 1.0\n",
    "lagtime = 150 #150 #75 #75 #75\n",
    "rootDirectory = '../../data/patchyProtein/first_passage_times/'\n",
    "#rootDirectory = '../../data/testPatchyProtein/first_passage_times/'"
   ]
  },
  {
   "cell_type": "code",
   "execution_count": null,
   "metadata": {},
   "outputs": [],
   "source": [
    "# Color definitions\n",
    "c1 = '#ff3300' #'xkcd:bright orange' # 'darkorange' #'C1' # '#ff3300' # for benchmark\n",
    "c2 = '#0099ff' #'royalblue' #'royalblue' # 'C0' # '#0099ff' # for MSM/RD\n",
    "c2alt = 'royalblue' #'royalblue' #'royalblue' # 'C0' # '#0099ff' # for MSM/RD\n",
    "# Alpha transparency definition\n",
    "a1 = 0.2 #0.2\n",
    "a2 = 0.7 #0.9 #0.7"
   ]
  },
  {
   "cell_type": "markdown",
   "metadata": {},
   "source": [
    "## Load unbound to bound FPT data (bechmark and MSMRD)"
   ]
  },
  {
   "cell_type": "code",
   "execution_count": null,
   "metadata": {},
   "outputs": [],
   "source": [
    "# Load benchmark FPT data computed by script\n",
    "numTrajs = 5000\n",
    "filename1 = rootDirectory + 'patchyProteinFPTs_2bound_trajs' + str(numTrajs) + '_boxsize' + str(boxsize) + '.xyz'\n",
    "#filename1 = rootDirectory + 'testNew7_ALL_PatchyProteinFPTs_2bound_trajs' + str(numTrajs) + '_boxsize' + str(boxsize) + '.xyz'\n",
    "fpts = []\n",
    "with open(filename1) as file:\n",
    "    for line in file:\n",
    "        state, time = line.split(\" \")\n",
    "        time = float(time)\n",
    "        fpts.append(time)\n",
    "            \n",
    "# Normalize weights\n",
    "weights = np.ones_like(fpts)/float(len(fpts))\n",
    "max(fpts)"
   ]
  },
  {
   "cell_type": "code",
   "execution_count": null,
   "metadata": {},
   "outputs": [],
   "source": [
    "# Load FPT data obtained with MSMRD integrator\n",
    "numTrajs = 5000\n",
    "filename = rootDirectory + 'MSMRDpatchyProteinFPTs_2bound_trajs' + \\\n",
    "str(numTrajs) + '_lagt' + str(lagtime) +  '_boxsize' + str(boxsize) + '.xyz'\n",
    "#filename = rootDirectory + 'testNew7_ALL_MSMRDpatchyProteinFPTs_2bound_trajs' + \\\n",
    "#str(numTrajs) + '_lagt' + str(lagtime) +  '_boxsize' + str(boxsize) + '.xyz'\n",
    "MSMRDfpts = []\n",
    "with open(filename) as file:\n",
    "    for line in file:\n",
    "        state, time = line.split(\" \")\n",
    "        time = float(time)\n",
    "        MSMRDfpts.append(time)\n",
    "            \n",
    "# Normalize weights\n",
    "#MSMRDfpts = [x for x in MSMRDfpts if x <= max(fpts)]\n",
    "weightsMSMRD = np.ones_like(MSMRDfpts)/float(len(MSMRDfpts))\n",
    "max(MSMRDfpts)"
   ]
  },
  {
   "cell_type": "markdown",
   "metadata": {},
   "source": [
    "### Calculation of FPTs and comparisons plots"
   ]
  },
  {
   "cell_type": "code",
   "execution_count": null,
   "metadata": {},
   "outputs": [],
   "source": [
    "# Compuate mean and standard deviation of bootstrapped samples of benchmark\n",
    "calculateRates = True\n",
    "numBootsrapSamples = 2000\n",
    "mfpt, fptstd = analysisTools.bootstrapping(fpts, numBootsrapSamples)\n",
    "print(\"Raw MFPT: \", np.array(fpts).mean())\n",
    "print(\"Bootstrapping mean and std: \", mfpt, fptstd)\n",
    "# Compuate mean and standard deviation of bootstrapped samples of MSMRD simulation\n",
    "MSMRDmfpt, MSMRDfptstd = analysisTools.bootstrapping(MSMRDfpts, numBootsrapSamples)\n",
    "print(\"Raw MSMRD MFPT: \",np.array(MSMRDfpts).mean())\n",
    "print(\"MSMRD bootstrapping mean and std: \", MSMRDmfpt, MSMRDfptstd)\n",
    "if calculateRates:\n",
    "    mkon = 1.0/mfpt\n",
    "    MSMRDmkon = 1.0/MSMRDmfpt\n",
    "    konstd = fptstd/(mfpt*mfpt)\n",
    "    MSMRDkonstd = MSMRDfptstd/(MSMRDmfpt*MSMRDmfpt)\n",
    "    konError = np.abs(mkon - MSMRDmkon)\n",
    "    konRelError = konError/mkon\n",
    "    print(\"On rates:\")\n",
    "    print(\"Bootstrapping mean and std:\", mkon, konstd)\n",
    "    print(\"Bootstrapping MSMRD mean and std (A):\", MSMRDmkon, MSMRDkonstd)\n",
    "    print(\"Error and relative error:\", konError, konRelError)"
   ]
  },
  {
   "cell_type": "code",
   "execution_count": null,
   "metadata": {},
   "outputs": [],
   "source": [
    "# PLOT FOR PAPER #\n",
    "# Configure figure\n",
    "fig, ax1 = plt.subplots(nrows=1, figsize=(6,5))\n",
    "fig.subplots_adjust(hspace=0)\n",
    "fsize = 22\n",
    "plt.rcParams['xtick.labelsize']=fsize\n",
    "plt.rcParams['ytick.labelsize']=fsize\n",
    "# Set outer common axes titles\n",
    "ax0 = fig.add_subplot(111, frameon=False)\n",
    "ax0.set_xlabel(r'$\\mathrm{time}$', fontsize=fsize + 4)\n",
    "ax0.set_ylabel(r'$\\mathrm{FPTs \\ distribution}$', labelpad=17, fontsize=fsize + 4)\n",
    "ax0.set_xticks([0])\n",
    "ax0.set_yticks([0])\n",
    "hbins = range(0, 300,9)\n",
    "#hbins = range(0, 500,15)\n",
    "#hbins = range(0, 2000,60)\n",
    "#hbins = np.arange(0, 10,0.5)\n",
    "\n",
    "\n",
    "# Plot A to unbound histogram\n",
    "ax1.hist(fpts, bins = hbins, alpha=a1, color=c1, weights = weights );\n",
    "ax1.hist(fpts, bins = hbins, alpha=a2, edgecolor=c1, lw=2, histtype='step', \n",
    "         facecolor = 'None', weights = weights, label =r'$\\mathrm{Benchmark}$');\n",
    "ax1.hist(MSMRDfpts, bins = hbins, alpha=a1, color=c2, weights = weightsMSMRD);\n",
    "ax1.hist(MSMRDfpts, bins = hbins, alpha=a2, edgecolor=c2, lw=2, histtype='step', \n",
    "         weights = weightsMSMRD, label =r'$\\mathrm{MSM/RD}$');\n",
    "ax1.legend(fontsize=fsize, title=r'$\\mathrm{Unbound} \\rightarrow \\mathrm{Bound}$', title_fontsize = fsize, fancybox=True)\n",
    "ax1.text(80, 0.130, r'$\\tau = {:.2f} \\pm {:.2f}$'.format(mfpt, fptstd), fontsize=fsize, color=c1)\n",
    "ax1.text(100, 0.105, r'$\\tau = {:.2f} \\pm {:.2f}$'.format(MSMRDmfpt, MSMRDfptstd), fontsize=fsize, color=c2alt)\n",
    "ax1.set_yticks(np.arange(0, 0.18, step=0.1));\n",
    "ax1.set_xlim([0,300])\n",
    "#ax1.set_xlim([0,2000])\n",
    "#ax1.set_xlim([0,10])\n",
    "#ax1.set_ylim([0,0.18])\n",
    "\n",
    "#plt.savefig('toBound_patchyProtein_FPTs.pdf', bbox_inches='tight')"
   ]
  },
  {
   "cell_type": "markdown",
   "metadata": {},
   "source": [
    "## Load bound to unbound FPT data (bechmark and MSMRD)"
   ]
  },
  {
   "cell_type": "code",
   "execution_count": null,
   "metadata": {},
   "outputs": [],
   "source": [
    "# Load benchmark FPT data computed by script\n",
    "numTrajs = 5000\n",
    "filename = rootDirectory + 'patchyProteinFPTs_2unbound_trajs' + str(numTrajs) + '_boxsize' + str(boxsize) + '.xyz'\n",
    "fpts2unbound = []\n",
    "with open(filename) as file:\n",
    "    \n",
    "    for line in file:\n",
    "        state, dummy1, dummy2, dummy3, dummy4, dummy5, time = line.split(\" \")\n",
    "        time = float(time)\n",
    "        fpts2unbound.append(time)\n",
    "        \n",
    "# Normalizing weights\n",
    "weights2 = np.ones_like(fpts2unbound)/float(len(fpts2unbound))"
   ]
  },
  {
   "cell_type": "code",
   "execution_count": null,
   "metadata": {},
   "outputs": [],
   "source": [
    "# Load FPT data obtained with MSMRD integrator\n",
    "numTrajs = 5000\n",
    "filename = rootDirectory + 'MSMRDpatchyProteinFPTs_2unbound_trajs' + \\\n",
    "str(numTrajs) + '_lagt' + str(lagtime) +  '_boxsize' + str(boxsize) + '.xyz'\n",
    "MSMRDfpts2unbound = []\n",
    "with open(filename) as file:\n",
    "    for line in file:\n",
    "        state, dummy1, dummy2, dummy3, dummy4, dummy5, time = line.split(\" \")\n",
    "        time = float(time)\n",
    "        MSMRDfpts2unbound.append(time)\n",
    "        \n",
    "# Normalizing weights\n",
    "weightsMSMRD2 = np.ones_like(MSMRDfpts2unbound)/float(len(MSMRDfpts2unbound))"
   ]
  },
  {
   "cell_type": "markdown",
   "metadata": {},
   "source": [
    "### Calculation of FPTs and comparisons plots"
   ]
  },
  {
   "cell_type": "code",
   "execution_count": null,
   "metadata": {},
   "outputs": [],
   "source": [
    "# Compuate mean and standard deviation of bootstrapped samples of benchmark\n",
    "numBootsrapSamples = 2000\n",
    "mfpt2unbound, fpt2unboundstd = analysisTools.bootstrapping(fpts2unbound, numBootsrapSamples)\n",
    "print(\"Raw MFPT: \", np.array(fpts2unbound).mean())\n",
    "print(\"Bootstrapping mean and std: \", mfpt2unbound, fpt2unboundstd)\n",
    "MSMRDmfpt2unbound, MSMRDfpt2unboundstd = analysisTools.bootstrapping(MSMRDfpts2unbound, numBootsrapSamples)\n",
    "print(\"Raw MSMRD MFPT: \",np.array(MSMRDfpts2unbound).mean())\n",
    "print(\"MSMRD bootstrapping mean and std: \", MSMRDmfpt2unbound, MSMRDfpt2unboundstd)\n",
    "# Calculate rates\n",
    "mkoff = 1.0/mfpt2unbound\n",
    "mkoffMSMRD = 1.0/MSMRDmfpt2unbound\n",
    "koffstd = fpt2unboundstd/(mfpt2unbound*mfpt2unbound)\n",
    "koffstdMSMRD = MSMRDfpt2unboundstd/(MSMRDmfpt2unbound*MSMRDmfpt2unbound)\n",
    "koffError = np.abs(mkoff - mkoffMSMRD)\n",
    "koffRelError = koffError/mkoff\n",
    "print(\"Off rates:\")\n",
    "print(\"Bootstrapping mean and std:\", mkoff, koffstd)\n",
    "print(\"Bootstrapping MSMRD mean and std:\", mkoffMSMRD, koffstdMSMRD)\n",
    "print(\"Error and relative error:\", koffError, koffRelError)"
   ]
  },
  {
   "cell_type": "code",
   "execution_count": null,
   "metadata": {},
   "outputs": [],
   "source": [
    "# PLOT FOR PAPER #\n",
    "# Configure figure\n",
    "fig, ax1 = plt.subplots(nrows=1, figsize=(6,5))\n",
    "fig.subplots_adjust(hspace=0)\n",
    "fsize = 22\n",
    "plt.rcParams['xtick.labelsize']=fsize\n",
    "plt.rcParams['ytick.labelsize']=fsize\n",
    "#hbins = np.arange(0, 15, 0.5)\n",
    "hbins = np.arange(0, 10, 0.33333333)\n",
    "#hbins = np.arange(0, 20, 0.66666666)\n",
    "\n",
    "# Set outer common axes titles\n",
    "ax0 = fig.add_subplot(111, frameon=False)\n",
    "ax0.set_xlabel(r'$\\mathrm{time}$', fontsize=fsize + 4)\n",
    "ax0.set_ylabel(r'$\\mathrm{FPTs \\ distribution}$', labelpad=17, fontsize=fsize + 4)\n",
    "ax0.set_xticks([0])\n",
    "ax0.set_yticks([0])\n",
    "\n",
    "# Plot A to unbound histogram\n",
    "ax1.hist(fpts2unbound, bins = hbins, alpha=a1, color=c1, weights = weights2);\n",
    "ax1.hist(fpts2unbound, bins = hbins, alpha=a2, edgecolor=c1, lw=2, histtype='step',\n",
    "         facecolor='None', weights = weights2, label = r'$\\mathrm{Benchmark}$');\n",
    "ax1.hist(MSMRDfpts2unbound, bins = hbins, alpha=a1, color=c2, weights = weightsMSMRD2);\n",
    "ax1.hist(MSMRDfpts2unbound, bins = hbins, alpha=a2, edgecolor=c2, lw=2, histtype='step',\n",
    "         facecolor='None', weights = weightsMSMRD2, label =r'$\\mathrm{MSM/RD}$');\n",
    "ax1.legend(fontsize=fsize, title=r'$ \\mathrm{Bound} \\rightarrow \\mathrm{Unbound}$', title_fontsize = fsize, fancybox=True)\n",
    "ax1.text(3.0, 0.09, r'$\\tau = {:.2f} \\pm {:.2f}$'.format(mfpt2unbound, fpt2unboundstd), fontsize=fsize, color=c1)\n",
    "ax1.text(3.2, 0.075, r'$\\tau = {:.2f} \\pm {:.2f}$'.format(MSMRDmfpt2unbound, MSMRDfpt2unboundstd), \n",
    "         fontsize=fsize, color=c2alt)\n",
    "#ax1.set_xlim([0,15])\n",
    "#ax1.set_ylim([0,0.2])\n",
    "ax1.set_xlim([0,10])\n",
    "ax1.set_ylim([0,0.18])\n",
    "ax1.set_yticks(np.arange(0, 0.2, step=0.1));\n",
    "\n",
    "\n",
    "#plt.savefig('toUnbound_patchyProtein_FPTs.pdf', bbox_inches='tight')"
   ]
  },
  {
   "cell_type": "markdown",
   "metadata": {},
   "source": [
    "## Load bound to bound FPT data (bechmark and MSMRD)"
   ]
  },
  {
   "cell_type": "code",
   "execution_count": null,
   "metadata": {},
   "outputs": [],
   "source": [
    "# Load benchmark FPT data computed by script\n",
    "numTrajs = 1000\n",
    "boundStates = [1,2,3,4,5,6]\n",
    "fptsB2B = np.zeros([len(boundStates),len(boundStates),numTrajs])\n",
    "weightsB2B = np.zeros([len(boundStates),len(boundStates),numTrajs])\n",
    "for i in boundStates:\n",
    "    for j in boundStates:\n",
    "        if i != j:\n",
    "            filenameB2B = rootDirectory + 'patchyProteinFPTs_' + str(i) + 'to' + str(j) \\\n",
    "            + '_trajs' + str(numTrajs) + '_boxsize' + str(boxsize) + '.xyz'\n",
    "            with open(filenameB2B) as file:\n",
    "                k=0\n",
    "                for line in file:\n",
    "                    initState, endState, time = line.split(\" \")\n",
    "                    time = float(time)\n",
    "                    fptsB2B[i-1,j-1,k] = time\n",
    "                    k += 1\n",
    "\n",
    "            # Normalizing weights\n",
    "            weightsB2B[i-1,j-1] = np.ones_like(fptsB2B[i-1,j-1])/float(len(fptsB2B[i-1,j-1]))"
   ]
  },
  {
   "cell_type": "code",
   "execution_count": null,
   "metadata": {},
   "outputs": [],
   "source": [
    "# Load FPT data obtained with MSMRD integrator\n",
    "# Load benchmark FPT data computed by script\n",
    "MSMRDfptsB2B = np.zeros([len(boundStates),len(boundStates),numTrajs])\n",
    "MSMRDweightsB2B = np.zeros([len(boundStates),len(boundStates),numTrajs])\n",
    "for i in boundStates:\n",
    "    for j in boundStates:\n",
    "        if i != j:\n",
    "            filenameB2B = rootDirectory + 'MSMRDpatchyProteinFPTs_' + str(i) + 'to' + str(j) \\\n",
    "            + '_trajs' + str(numTrajs) + '_lagt' + str(lagtime) + '_boxsize' + str(boxsize) + '.xyz'\n",
    "            with open(filenameB2B) as file:\n",
    "                k=0\n",
    "                for line in file:\n",
    "                    initState, endState, time = line.split(\" \")\n",
    "                    time = float(time)\n",
    "                    MSMRDfptsB2B[i-1,j-1,k] = time\n",
    "                    k += 1\n",
    "\n",
    "            # Normalizing weights\n",
    "            MSMRDweightsB2B[i-1,j-1] = np.ones_like(MSMRDfptsB2B[i-1,j-1])/float(len(MSMRDfptsB2B[i-1,j-1]))"
   ]
  },
  {
   "cell_type": "markdown",
   "metadata": {},
   "source": [
    "### Calculation of FPTs and comparisons plots"
   ]
  },
  {
   "cell_type": "code",
   "execution_count": null,
   "metadata": {},
   "outputs": [],
   "source": [
    "# Compuate mean and standard deviation of bootstrapped samples of benchmark\n",
    "numBootsrapSamples = 2000\n",
    "mfptsB2B = np.zeros([len(boundStates),len(boundStates)])\n",
    "MSMRDmfptsB2B = np.zeros([len(boundStates),len(boundStates)])\n",
    "fptB2Bstd = np.zeros([len(boundStates),len(boundStates)])\n",
    "MSMRDfptB2Bstd = np.zeros([len(boundStates),len(boundStates)])\n",
    "mfptsB2BDiff = np.zeros([len(boundStates),len(boundStates)])\n",
    "mfptsB2BRelDiff = np.zeros([len(boundStates),len(boundStates)])\n",
    "print(\"Begins boostrapping:\") \n",
    "print(\"Transition     MFPT       stddev     MSMRD-MFPT  MSMRD-stddev    Error       Relative Error\")\n",
    "for i in boundStates:\n",
    "    for j in boundStates:\n",
    "        if i != j:\n",
    "            mfptsB2B[i-1,j-1], fptB2Bstd[i-1,j-1] = analysisTools.bootstrapping(fptsB2B[i-1,j-1], numBootsrapSamples)\n",
    "            MSMRDmfptsB2B[i-1,j-1], MSMRDfptB2Bstd[i-1,j-1] = analysisTools.bootstrapping(MSMRDfptsB2B[i-1,j-1], numBootsrapSamples)\n",
    "            mfptsB2BDiff[i-1,j-1] = np.abs(mfptsB2B[i-1,j-1] - MSMRDmfptsB2B[i-1,j-1])\n",
    "            mfptsB2BRelDiff[i-1,j-1] = mfptsB2BDiff[i-1,j-1]/mfptsB2B[i-1,j-1]\n",
    "            print(str(i) + \" to \" + str(j) + \":    {:10.4f} {:10.2f} {:10.4f} {:10.2f} {:16.4f} {:12.4f}\"\n",
    "                  .format(mfptsB2B[i-1,j-1], fptB2Bstd[i-1,j-1], MSMRDmfptsB2B[i-1,j-1], \n",
    "                          MSMRDfptB2Bstd[i-1,j-1], mfptsB2BDiff[i-1,j-1], mfptsB2BRelDiff[i-1,j-1]))"
   ]
  },
  {
   "cell_type": "code",
   "execution_count": null,
   "metadata": {},
   "outputs": [],
   "source": [
    "# Grid plot for histograms\n",
    "fig, ax = plt.subplots(nrows=6, ncols=5, sharex=True, sharey=True, figsize=(14,10))\n",
    "fig.subplots_adjust(hspace=0, wspace=0)\n",
    "fsize = 22\n",
    "fsize2 = 15\n",
    "plt.rcParams['xtick.labelsize']=fsize\n",
    "plt.rcParams['ytick.labelsize']=fsize\n",
    "#hbins = np.arange(0, 500, 15)\n",
    "hbins = np.arange(0, 600, 18)\n",
    "# Set outer common axes titles\n",
    "ax0 = fig.add_subplot(111, frameon=False)\n",
    "ax0.set_xlabel(r'$\\mathrm{time}$', fontsize=fsize + 4)\n",
    "ax0.set_ylabel(r'$\\mathrm{FPTs \\ distribution}$', labelpad=17, fontsize=fsize + 4)\n",
    "ax0.set_title(r'$\\mathrm{Transitions \\ between \\ bound \\ states}$', pad = 10, fontsize=fsize + 10)\n",
    "ax0.set_xticks([0])\n",
    "ax0.set_yticks([0])\n",
    "# Loop over plotting grid\n",
    "for i in range(6):\n",
    "    for j in range(5):\n",
    "        if j < i:\n",
    "            jj = j\n",
    "        else:\n",
    "            jj = j+1\n",
    "        ax[i,j].hist(fptsB2B[i,jj], bins = hbins, alpha=a1, color=c1, weights = weightsB2B[i,jj]);\n",
    "        ax[i,j].hist(fptsB2B[i,jj], bins = hbins, alpha=a2, edgecolor=c1, lw=1, histtype='step',\n",
    "         facecolor='None', weights = weightsB2B[i,jj], label = r'$\\mathrm{Benchmark}$');\n",
    "        ax[i,j].hist(MSMRDfptsB2B[i,jj], bins = hbins, alpha=a1, color=c2, weights = MSMRDweightsB2B[i,jj]);\n",
    "        ax[i,j].hist(MSMRDfptsB2B[i,jj], bins = hbins, alpha=a2, edgecolor=c2, lw=1, histtype='step',\n",
    "         facecolor='None', weights = MSMRDweightsB2B[i,jj], label =r'$\\mathrm{MSM/RD}$');\n",
    "        ax[i,j].text(350,0.12, r'{:d} to {:d}'.format(i+1, jj+1), fontsize=fsize, family=\"serif\")\n",
    "        ax[i,j].text(140,0.095, r'$\\tau = {:.2f} \\pm {:.2f}$'.format(mfptsB2B[i,jj] , fptB2Bstd[i,jj]), \n",
    "                     fontsize=fsize2, color=c1)\n",
    "        ax[i,j].text(160,0.07, r'$\\tau = {:.2f} \\pm {:.2f}$'.format(MSMRDmfptsB2B[i,jj], MSMRDfptB2Bstd[i,jj]), \n",
    "                     fontsize=fsize2, color=c2alt)\n",
    "        # Add legend\n",
    "        if i == 0 and j == 4:\n",
    "            ax[i,j].legend(fontsize=fsize, fancybox=True, framealpha=1.0, \n",
    "                           bbox_to_anchor=(1.0, 1.0)) #1.4,1.8\n",
    "        # Set plotlimits\n",
    "        ax[i,j].set_xlim([0,600])\n",
    "        #ax[i,j].set_ylim([0,0.23])\n",
    "        ax[i,j].set_ylim([0,0.15])\n",
    "        #ax[i,j].set_xticks(np.arange(0, 500, step=300));\n",
    "        #ax[i,j].set_yticks(np.arange(-0.1, 0.3, step=0.2));\n",
    "        \n",
    "#plt.savefig('bound2bound__patchyProtein_FPTs.pdf', bbox_inches='tight')"
   ]
  },
  {
   "cell_type": "markdown",
   "metadata": {},
   "source": [
    "## MFPT comparison table"
   ]
  },
  {
   "cell_type": "code",
   "execution_count": null,
   "metadata": {},
   "outputs": [],
   "source": [
    "# Calculate MFPT difference between benchmark and MSM/RD for all transitions between bound states\n",
    "MFPTdiff = mfptsB2BDiff\n",
    "MFPTdiffRel = 0.0 * MFPTdiff\n",
    "MFPTDiffStd = 0.0 * MFPTdiff \n",
    "MFPTDiffRelStd = 0.0 * MFPTdiff \n",
    "for i in boundStates:\n",
    "    for j in boundStates:\n",
    "        if mfptsB2B[i-1,j-1] != 0:\n",
    "            MFPTdiffRel[i-1,j-1] = MFPTdiff[i-1,j-1]/mfptsB2B[i-1,j-1]\n",
    "        MFPTDiffStd[i-1,j-1] = np.sqrt( fptB2Bstd[i-1,j-1]**2 + MSMRDfptB2Bstd[i-1,j-1]**2 )\n",
    "        if fptB2Bstd[i-1,j-1] != 0:\n",
    "            MFPTDiffRelStd[i-1,j-1] = MFPTDiffStd[i-1,j-1]/mfptsB2B[i-1,j-1]"
   ]
  },
  {
   "cell_type": "code",
   "execution_count": null,
   "metadata": {},
   "outputs": [],
   "source": [
    "# Plot square grid with errors\n",
    "fig, ax = plt.subplots(figsize=(6,6))\n",
    "im = ax.imshow(MFPTdiffRel, cmap='Blues')\n",
    "im.set_clim(0.0,0.15)\n",
    "# Set labels\n",
    "ax.set_title(r\"$\\mathrm{MFPT \\ relative \\ error}$\", fontsize = fsize + 2)\n",
    "ax.set_ylabel(r\"$\\mathrm{Initial \\ bound \\ state}$\", fontsize = fsize + 2)\n",
    "ax.set_xlabel(r'$\\mathrm{Final \\ bound \\ state}$', fontsize = fsize + 2)\n",
    "# We want to show all ticks...\n",
    "ax.set_xticks(np.arange(len(boundStates)))\n",
    "ax.set_yticks(np.arange(len(boundStates)))\n",
    "# ... and label them with the respective list entries\n",
    "ax.set_xticklabels(boundStates)\n",
    "ax.set_yticklabels(boundStates)\n",
    "# Loop over data dimensions and create text annotations.\n",
    "for i in range(len(boundStates)):\n",
    "    for j in range(len(boundStates)):\n",
    "        if i != j:\n",
    "            #text = ax.text(j, i, '{:.2f}'.format(MFPTdiffRel[i, j]), ha=\"center\", \n",
    "            #               va=\"center\", color=\"w\", fontsize =fsize)\n",
    "            text = ax.text(j, i, r'$\\pm${:}'.format(round(MFPTDiffRelStd[i, j],2)), ha=\"center\", \n",
    "                           va=\"center\", color=\"k\", fontsize =fsize-2)\n",
    "# Set colorbar\n",
    "cbar = fig.colorbar(im, ax=ax, shrink = 0.8)\n",
    "cbar.set_ticks([0.0,0.1])\n",
    "cbar.set_ticklabels([0.0,0.1])\n",
    "# Show plot\n",
    "fig.tight_layout()\n",
    "#plt.show()\n",
    "#plt.savefig('patchyProtein_MFPTs_relError.pdf', bbox_inches='tight')"
   ]
  },
  {
   "cell_type": "code",
   "execution_count": null,
   "metadata": {},
   "outputs": [],
   "source": [
    "np.mean(mfptsB2BRelDiff)"
   ]
  },
  {
   "cell_type": "markdown",
   "metadata": {},
   "source": [
    "### Rates comaprison"
   ]
  },
  {
   "cell_type": "code",
   "execution_count": null,
   "metadata": {},
   "outputs": [],
   "source": [
    "ratesB2B = np.zeros([len(boundStates),len(boundStates)])\n",
    "ratesB2Bstd = np.zeros([len(boundStates),len(boundStates)])\n",
    "MSMRDratesB2B = np.zeros([len(boundStates),len(boundStates)])\n",
    "MSMRDratesB2Bstd = np.zeros([len(boundStates),len(boundStates)])\n",
    "ratesB2BDiff = np.zeros([len(boundStates),len(boundStates)])\n",
    "ratesB2BRelDiff = np.zeros([len(boundStates),len(boundStates)])\n",
    "print(\"Transition     rate       stddev     MSMRD-rate  MSMRD-stddev    Error       Relative Error\")\n",
    "for i in boundStates:\n",
    "    for j in boundStates:\n",
    "        if i != j:\n",
    "            ratesB2B[i-1,j-1] = 1.0/mfptsB2B[i-1,j-1]\n",
    "            ratesB2Bstd[i-1,j-1] = ratesB2B[i-1,j-1]*fptB2Bstd[i-1,j-1]/mfptsB2B[i-1,j-1]\n",
    "            MSMRDratesB2B[i-1,j-1] = 1.0/MSMRDmfptsB2B[i-1,j-1]\n",
    "            MSMRDratesB2Bstd[i-1,j-1] = MSMRDratesB2B[i-1,j-1]*MSMRDfptB2Bstd[i-1,j-1]/MSMRDmfptsB2B[i-1,j-1]\n",
    "            ratesB2BDiff[i-1,j-1] = np.abs(ratesB2B[i-1,j-1] - MSMRDratesB2B[i-1,j-1])\n",
    "            ratesB2BRelDiff[i-1,j-1] = ratesB2BDiff[i-1,j-1]/ratesB2B[i-1,j-1]\n",
    "            print(str(i) + \" to \" + str(j) + \":    {:10.4f} {:10.5f} {:10.4f} {:12.5f} {:16.4f} {:12.4f}\"\n",
    "                  .format(ratesB2B[i-1,j-1], ratesB2Bstd[i-1,j-1], MSMRDratesB2B[i-1,j-1], \n",
    "                          MSMRDratesB2Bstd[i-1,j-1], ratesB2BDiff[i-1,j-1], ratesB2BRelDiff[i-1,j-1]))"
   ]
  },
  {
   "cell_type": "markdown",
   "metadata": {},
   "source": [
    "## Rates comparison table"
   ]
  },
  {
   "cell_type": "code",
   "execution_count": null,
   "metadata": {},
   "outputs": [],
   "source": [
    "# Calculate MFPT difference between benchmark and MSM/RD for all transitions between bound states\n",
    "ratesDiffStd = np.zeros([len(boundStates),len(boundStates)])\n",
    "ratesDiffRelStd = np.zeros([len(boundStates),len(boundStates)])\n",
    "for i in boundStates:\n",
    "    for j in boundStates:\n",
    "        ratesDiffStd[i-1,j-1] = np.sqrt( ratesB2Bstd[i-1,j-1]**2 + MSMRDratesB2Bstd[i-1,j-1]**2 )\n",
    "        if ratesB2Bstd[i-1,j-1] != 0:\n",
    "            ratesDiffRelStd[i-1,j-1] = ratesDiffStd[i-1,j-1]/ratesB2B[i-1,j-1]"
   ]
  },
  {
   "cell_type": "code",
   "execution_count": null,
   "metadata": {},
   "outputs": [],
   "source": [
    "# Truncate colormap function\n",
    "def truncate_colormap(cmap='jet', minval=0.0, maxval=1.0, n=1000):\n",
    "    '''truncate_colormap(cmapIn='jet', minval=0.0, maxval=1.0, n=100)'''    \n",
    "    cmapIn = plt.get_cmap(cmap)\n",
    "\n",
    "    new_cmap = colors.LinearSegmentedColormap.from_list(\n",
    "        'trunc({n},{a:.2f},{b:.2f})'.format(n=cmapIn.name, a=minval, b=maxval),\n",
    "        cmapIn(np.linspace(minval, maxval, n)))\n",
    "\n",
    "    return new_cmap"
   ]
  },
  {
   "cell_type": "code",
   "execution_count": null,
   "metadata": {},
   "outputs": [],
   "source": [
    "# Plot square grid with errors\n",
    "fig, ax = plt.subplots(figsize=(6,6))\n",
    "myColorMap = truncate_colormap(cmap='Blues', minval = 0.0, maxval = 0.65)\n",
    "im = ax.imshow(100*ratesB2BRelDiff, cmap=myColorMap)\n",
    "im.set_clim(0.0,15)\n",
    "# Set labels\n",
    "ax.set_title(r\"$\\mathrm{Transition \\ rates \\ percentual \\ error}$\", fontsize = fsize + 2)\n",
    "ax.set_ylabel(r\"$\\mathrm{Initial \\ bound \\ state}$\", fontsize = fsize + 2)\n",
    "ax.set_xlabel(r'$\\mathrm{Final \\ bound \\ state}$', fontsize = fsize + 2)\n",
    "# We want to show all ticks...\n",
    "ax.set_xticks(np.arange(len(boundStates)))\n",
    "ax.set_yticks(np.arange(len(boundStates)))\n",
    "# ... and label them with the respective list entries\n",
    "ax.set_xticklabels(boundStates)\n",
    "ax.set_yticklabels(boundStates)\n",
    "# Loop over data dimensions and create text annotations.\n",
    "for i in range(len(boundStates)):\n",
    "    for j in range(len(boundStates)):\n",
    "        if i != j:\n",
    "            #text = ax.text(j, i, '{:.2f}'.format(MFPTdiffRel[i, j]), ha=\"center\", \n",
    "            #               va=\"center\", color=\"w\", fontsize =fsize)\n",
    "            text = ax.text(j, i, r'$\\pm${:}'.format(round(ratesDiffRelStd[i, j],2)), ha=\"center\", \n",
    "                           va=\"center\", color=\"k\", fontsize =fsize-2)\n",
    "# Set colorbar\n",
    "cbar = fig.colorbar(im, ax=ax, shrink = 0.8, norm = mpl.colors.Normalize(vmin=0.,vmax=0.15))\n",
    "cbar.set_ticks([0,5,10, 15])\n",
    "cbar.set_ticklabels([0,5,10, 15])\n",
    "# Show plot\n",
    "fig.tight_layout()\n",
    "#plt.show()\n",
    "#plt.savefig('patchyProtein_rates_relError.pdf', bbox_inches='tight')"
   ]
  },
  {
   "cell_type": "code",
   "execution_count": null,
   "metadata": {},
   "outputs": [],
   "source": [
    "np.mean(ratesB2BRelDiff)"
   ]
  }
 ],
 "metadata": {
  "kernelspec": {
   "display_name": "Python 3",
   "language": "python",
   "name": "python3"
  },
  "language_info": {
   "codemirror_mode": {
    "name": "ipython",
    "version": 3
   },
   "file_extension": ".py",
   "mimetype": "text/x-python",
   "name": "python",
   "nbconvert_exporter": "python",
   "pygments_lexer": "ipython3",
   "version": "3.8.3"
  }
 },
 "nbformat": 4,
 "nbformat_minor": 2
}
