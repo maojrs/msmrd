{
 "cells": [
  {
   "cell_type": "code",
   "execution_count": null,
   "metadata": {},
   "outputs": [],
   "source": [
    "import numpy as np\n",
    "import matplotlib.pyplot as plt\n",
    "import msmrd2\n",
    "import msmrd2.tools.quaternions as quats\n",
    "import msmrd2.visualization as msmrdvis\n",
    "from msmrd2.potentials import patchyParticleAngular\n",
    "from msmrd2.integrators import overdampedLangevin as odLangevin\n",
    "import msmrd2.tools.quaternions as quats\n",
    "import timeit"
   ]
  },
  {
   "cell_type": "code",
   "execution_count": null,
   "metadata": {},
   "outputs": [],
   "source": [
    "# Main parameters\n",
    "numparticles = 2\n",
    "boxsize = 5 \n",
    "D = 1.0\n",
    "Drot = 1.0\n",
    "relativeDistanceCutOff = 2.2\n",
    "numTrajectories = 1"
   ]
  },
  {
   "cell_type": "code",
   "execution_count": null,
   "metadata": {},
   "outputs": [],
   "source": [
    "# Particle list generation\n",
    "def randomPartList():\n",
    "    '''\n",
    "    Generates particle list with uniformly random position and orientation. It also enforces the particles don't\n",
    "    overlap over a distance given by the relative distance cut off.\n",
    "    '''\n",
    "    pyPartlist = [] \n",
    "    for i in range(numparticles):\n",
    "\n",
    "        overlap = True\n",
    "        while overlap:\n",
    "            position = np.array([boxsize*np.random.rand()-0.5*boxsize,\n",
    "                                 boxsize*np.random.rand()-0.5*boxsize,\n",
    "                                 boxsize*np.random.rand()-0.5*boxsize])\n",
    "            overlap = False     \n",
    "            for j in range(len(pyPartlist)):\n",
    "                if np.linalg.norm(position - pyPartlist[j].position) < relativeDistanceCutOff:\n",
    "                    overlap = True\n",
    "                    continue\n",
    "\n",
    "        orientation = np.array([np.random.rand(),np.random.rand(),np.random.rand(),np.random.rand()])\n",
    "        orientation = orientation/np.linalg.norm(orientation)\n",
    "        part = msmrd2.particle(D, Drot, position, orientation)\n",
    "        pyPartlist.append(part)\n",
    "\n",
    "    partlist = msmrd2.integrators.particleList(pyPartlist)\n",
    "    return partlist"
   ]
  },
  {
   "cell_type": "code",
   "execution_count": null,
   "metadata": {},
   "outputs": [],
   "source": [
    "# Define integrator and boundary (over-damped Langevin)\n",
    "dt = 0.0001 #0.00001 #0.000005\n",
    "seed = -1 # Negative seed, uses random device as seed\n",
    "bodytype = 'rigidbody'\n",
    "integrator = odLangevin(dt, seed, bodytype) \n",
    "boxBoundary = msmrd2.box(boxsize,boxsize,boxsize,'periodic')\n",
    "integrator.setBoundary(boxBoundary)"
   ]
  },
  {
   "cell_type": "code",
   "execution_count": null,
   "metadata": {},
   "outputs": [],
   "source": [
    "# Define Patchy Particle potential\n",
    "sigma = 1.0\n",
    "strength = 160 #200.0\n",
    "angularStrength = 20 #200.0\n",
    "angleDiff = 3*np.pi/5.0\n",
    "patch1 = np.array([np.cos(angleDiff/2),np.sin(angleDiff/2),0.])\n",
    "patch2 = np.array([np.cos(-angleDiff/2),np.sin(-angleDiff/2),0.])\n",
    "patchesCoordinates = [patch1, patch2]\n",
    "potentialPatchyParticleAngular = patchyParticleAngular(sigma, strength, angularStrength, patchesCoordinates)\n",
    "integrator.setPairPotential(potentialPatchyParticleAngular)"
   ]
  },
  {
   "cell_type": "code",
   "execution_count": null,
   "metadata": {},
   "outputs": [],
   "source": [
    "# Generates numTrajectories trajectories starting at a random position and ending in a given bound state.\n",
    "# This yields the first passage times for a given bound state. Each trajectory is Integrated until \n",
    "# a bound state is reached. The output in the files is the elapsed time and final state.\n",
    "#datafile  = open('../../data/firts_passage_times/dimerFPTs_state1.xyz', 'w')\n",
    "# datafile.close()\n",
    "traj = msmrd2.trajectories.patchyDimer(2,1) # dummy trajectory to calculate boundstate of patchydimer\n",
    "for i in range(numTrajectories):\n",
    "    partlist = randomPartList()\n",
    "    unbound = True\n",
    "    while(unbound):\n",
    "        #start = timeit.timeit()\n",
    "        integrator.integrate(partlist)\n",
    "        boundState = traj.getBoundState(partlist[0], partlist[1])\n",
    "        #end = timeit.timeit()\n",
    "        #print(end - start)\n",
    "        if ( (boundState >= 1) and (boundState <= 8)):\n",
    "            #datafile.write('type_1' + ' ' + ' '.join(map(str, v2)) + '\\n')\n",
    "            print(integrator.clock, boundState)\n",
    "            print(partlist[0].position, partlist[0].orientation)\n",
    "            print(partlist[1].position, partlist[1].orientation)\n",
    "            integrator.resetClock()\n",
    "            break;\n"
   ]
  },
  {
   "cell_type": "code",
   "execution_count": null,
   "metadata": {},
   "outputs": [],
   "source": [
    "start = timeit.timeit()\n",
    "print(\"hello\")\n",
    "end = timeit.timeit()\n",
    "print(end - start)"
   ]
  },
  {
   "cell_type": "code",
   "execution_count": null,
   "metadata": {},
   "outputs": [],
   "source": [
    "p1 = partlist[0].position\n",
    "p2 = partlist[1].position\n",
    "q1 = partlist[0].orientation \n",
    "q2 = partlist[1].orientation\n",
    "relp = p2 - p1\n",
    "np.linalg.norm(relp)"
   ]
  },
  {
   "cell_type": "code",
   "execution_count": null,
   "metadata": {},
   "outputs": [],
   "source": [
    "q0 = np.array([1.0, 0., 0., 0.])\n",
    "qrel = quats.multiply(quats.conjugate(q1), q2)\n",
    "print(quats.multiply(quats.conjugate(q1), q2))\n",
    "print(quats.multiply(quats.conjugate(q2), q1))\n",
    "print(quats.multiply(q2, quats.conjugate(q1)))\n",
    "print(quats.multiply(q1, quats.conjugate(q2)))"
   ]
  },
  {
   "cell_type": "code",
   "execution_count": null,
   "metadata": {},
   "outputs": [],
   "source": [
    "quats.quaternionAngleDistance(q1,q2)"
   ]
  },
  {
   "cell_type": "code",
   "execution_count": null,
   "metadata": {},
   "outputs": [],
   "source": [
    "np.pi - 3*np.pi/5"
   ]
  },
  {
   "cell_type": "code",
   "execution_count": null,
   "metadata": {},
   "outputs": [],
   "source": [
    "datafile  = open('../../data/vmd/tests/dimerStates.xyz', 'w')\n",
    "datafile.write(str(3*len(partlist)) + '\\n')\n",
    "datafile.write(str(0) + '\\n')\n",
    "for j, part in enumerate(partlist):\n",
    "    v0 = part.position\n",
    "    v1 = v0 + 0.6*sigma*quats.rotateVec(patchesCoordinates[0], part.orientation)\n",
    "    v2 = v0 + 0.6*sigma*quats.rotateVec(patchesCoordinates[1], part.orientation)\n",
    "    datafile.write('type_0' + ' ' + ' '.join(map(str, v0)) + '\\n')\n",
    "    datafile.write('type_1' + ' ' + ' '.join(map(str, v1)) + '\\n')\n",
    "    datafile.write('type_1' + ' ' + ' '.join(map(str, v2)) + '\\n')\n",
    "msmrdvis.generateTCL_patchyParticles(numparticles = numparticles, \n",
    "                                     outfname = \"dimerStates\", \n",
    "                                     tclfname = \"../../data/vmd/tests/dimerStates2vmd.tcl\")"
   ]
  },
  {
   "cell_type": "code",
   "execution_count": null,
   "metadata": {},
   "outputs": [],
   "source": []
  },
  {
   "cell_type": "code",
   "execution_count": null,
   "metadata": {},
   "outputs": [],
   "source": []
  }
 ],
 "metadata": {
  "kernelspec": {
   "display_name": "Python [conda env:msmrd-dev]",
   "language": "python",
   "name": "conda-env-msmrd-dev-py"
  },
  "language_info": {
   "codemirror_mode": {
    "name": "ipython",
    "version": 3
   },
   "file_extension": ".py",
   "mimetype": "text/x-python",
   "name": "python",
   "nbconvert_exporter": "python",
   "pygments_lexer": "ipython3",
   "version": "3.6.7"
  }
 },
 "nbformat": 4,
 "nbformat_minor": 2
}
