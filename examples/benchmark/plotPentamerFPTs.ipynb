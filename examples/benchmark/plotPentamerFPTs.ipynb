{
 "cells": [
  {
   "cell_type": "code",
   "execution_count": 1,
   "metadata": {},
   "outputs": [],
   "source": [
    "import numpy as np\n",
    "import matplotlib.pyplot as plt\n",
    "import msmrd2.tools.analysis as analysisTools\n",
    "import timeit\n",
    "from matplotlib import rc\n",
    "rc('text', usetex=True)"
   ]
  },
  {
   "cell_type": "code",
   "execution_count": 2,
   "metadata": {},
   "outputs": [],
   "source": [
    "# Main parameters\n",
    "numparticles = 3\n",
    "boxsize = 6 #2.5 #10 #8 #6 #5 \n",
    "D = 1.0\n",
    "Drot = 1.0\n",
    "lagtime = 40 # 100\n",
    "rootDirectory = '../../data/pentamer/first_passage_times/'"
   ]
  },
  {
   "cell_type": "code",
   "execution_count": 3,
   "metadata": {},
   "outputs": [],
   "source": [
    "# Color definitions\n",
    "c1 = '#ff3300' #'xkcd:bright orange' # 'darkorange' #'C1' # '#ff3300' # for benchmark\n",
    "c2 = '#0099ff' #'royalblue' #'royalblue' # 'C0' # '#0099ff' # for MSM/RD\n",
    "c1alt = 'xkcd:bright orange'\n",
    "c2alt = 'royalblue'\n",
    "# Alpha transparency definition\n",
    "a1 = 0.2 #0.2\n",
    "a2 = 0.7 #0.9 #0.7"
   ]
  },
  {
   "cell_type": "markdown",
   "metadata": {},
   "source": [
    "## Load FPT for trimer formation data (bechmark and MSMRD)"
   ]
  },
  {
   "cell_type": "code",
   "execution_count": 4,
   "metadata": {},
   "outputs": [],
   "source": [
    "# Load benchmark FPT data computed by script\n",
    "numTrajs = 12000\n",
    "filename1 = rootDirectory + 'pentamerFPTs_trajs' + str(numTrajs) + '_boxsize' + str(boxsize) + '.xyz'\n",
    "fpts = []\n",
    "with open(filename1) as file:\n",
    "    for line in file:\n",
    "        state, time = line.split(\" \")\n",
    "        time = float(time)\n",
    "        fpts.append(time)\n",
    "\n",
    "# Normalize weights\n",
    "weights = np.ones_like(fpts)/float(len(fpts))"
   ]
  },
  {
   "cell_type": "code",
   "execution_count": 5,
   "metadata": {},
   "outputs": [],
   "source": [
    "# Load FPT data obtained with MSMRD integrator\n",
    "numTrajs = 18000\n",
    "filename = rootDirectory + 'MSMRDpentamerFPTs_trajs' + str(numTrajs) + '_lagt' + str(lagtime) +  '_boxsize' + str(boxsize) + '.xyz'\n",
    "#filename = rootDirectory + 'trimerFPTs_trajs' + str(numTrajs) + '_boxsize' + str(boxsize) + '.xyz'\n",
    "MSMRDfpts = []\n",
    "with open(filename) as file:\n",
    "    for line in file:\n",
    "        state, time = line.split(\" \")\n",
    "        time = float(time)\n",
    "        MSMRDfpts.append(time)\n",
    "            \n",
    "# Normalize weights\n",
    "weightsMSMRD = np.ones_like(MSMRDfpts)/float(len(MSMRDfpts))"
   ]
  },
  {
   "cell_type": "code",
   "execution_count": 6,
   "metadata": {},
   "outputs": [
    {
     "data": {
      "text/plain": [
       "array([], dtype=float64)"
      ]
     },
     "execution_count": 6,
     "metadata": {},
     "output_type": "execute_result"
    }
   ],
   "source": [
    "fpts = np.array(fpts)\n",
    "fpts[fpts > 400]"
   ]
  },
  {
   "cell_type": "markdown",
   "metadata": {},
   "source": [
    "### Calculation of FPTs and comparisons plots"
   ]
  },
  {
   "cell_type": "code",
   "execution_count": 7,
   "metadata": {},
   "outputs": [
    {
     "name": "stdout",
     "output_type": "stream",
     "text": [
      "Raw MFPTs:  18.590800000073596\n",
      "Bootstrapping mean and std (A):  18.58724813678962 0.7386638311536272\n",
      "Raw MSMRD MFPTs:  76.06307256407406\n",
      "MSMRD bootstrapping mean and std:  76.07123346430663 0.5225099984000907\n",
      "Trajectory lengths\n",
      "On rates:\n",
      "Bootstrapping mean and std: 0.05380032550492004 0.002138044010727904\n",
      "Bootstrapping MSMRD mean and std: 0.013145573621718778 9.029291808808926e-05\n",
      "Error and relative error: 0.040654751883201265 0.755659961192677\n"
     ]
    }
   ],
   "source": [
    "# Compuate mean and standard deviation of bootstrapped samples of benchmark\n",
    "calculateRates = True\n",
    "numBootsrapSamples = 2000\n",
    "mfpt, fptstd = analysisTools.bootstrapping(fpts, numBootsrapSamples)\n",
    "print(\"Raw MFPTs: \", np.array(fpts).mean())\n",
    "print(\"Bootstrapping mean and std (A): \", mfpt, fptstd)\n",
    "# Compuate mean and standard deviation of bootstrapped samples of MSMRD simulation\n",
    "MSMRDmfpt, MSMRDfptstd = analysisTools.bootstrapping(MSMRDfpts, numBootsrapSamples)\n",
    "print(\"Raw MSMRD MFPTs: \",np.array(MSMRDfpts).mean())\n",
    "print(\"MSMRD bootstrapping mean and std: \", MSMRDmfpt, MSMRDfptstd)\n",
    "print(\"Trajectory lengths\")\n",
    "if calculateRates:\n",
    "    mkon = 1.0/mfpt\n",
    "    MSMRDmkon = 1.0/MSMRDmfpt\n",
    "    konstd = fptstd/(mfpt*mfpt)\n",
    "    MSMRDkonstd = MSMRDfptstd/(MSMRDmfpt*MSMRDmfpt)\n",
    "    errorKon = np.abs(mkon - MSMRDmkon)\n",
    "    relErrorKon = errorKon/mkon\n",
    "    print(\"On rates:\")\n",
    "    print(\"Bootstrapping mean and std:\", mkon, konstd)\n",
    "    print(\"Bootstrapping MSMRD mean and std:\", MSMRDmkon, MSMRDkonstd)\n",
    "    print(\"Error and relative error:\", errorKon, relErrorKon)"
   ]
  },
  {
   "cell_type": "code",
   "execution_count": 8,
   "metadata": {},
   "outputs": [
    {
     "data": {
      "text/plain": [
       "(0.0, 400.0)"
      ]
     },
     "execution_count": 8,
     "metadata": {},
     "output_type": "execute_result"
    },
    {
     "data": {
      "image/png": "[encoded data removed]",
      "text/plain": [
       "<Figure size 432x360 with 2 Axes>"
      ]
     },
     "metadata": {
      "needs_background": "light"
     },
     "output_type": "display_data"
    }
   ],
   "source": [
    "# PLOT FOR PAPER #\n",
    "# Configure figure\n",
    "fig, ax1 = plt.subplots(nrows=1, figsize=(6,5))\n",
    "fig.subplots_adjust(hspace=0)\n",
    "fsize = 16\n",
    "plt.rcParams['xtick.labelsize']=fsize\n",
    "plt.rcParams['ytick.labelsize']=fsize\n",
    "# Set outer common axes titles\n",
    "ax0 = fig.add_subplot(111, frameon=False)\n",
    "ax0.set_xlabel(r'$\\mathrm{time}$', fontsize=fsize + 4)\n",
    "ax0.set_ylabel(r'$\\mathrm{FPTs \\ distribution}$', labelpad=17, fontsize=fsize + 4)\n",
    "ax0.set_xticks([0])\n",
    "ax0.set_yticks([0])\n",
    "#hbins = range(0, 500,15)\n",
    "hbins = range(0, 400,12)\n",
    "#hbins = range(0, 200,6)\n",
    "#hbins = range(0, 300,9)\n",
    "#hbins = range(0, 100,3)\n",
    "#hbins = range(0, 33,1)\n",
    "\n",
    "\n",
    "# Plot A to unbound histogram\n",
    "ax1.hist(fpts, bins = hbins, alpha=a1, color=c1, weights = weights );\n",
    "ax1.hist(fpts, bins = hbins, alpha=a2, edgecolor=c1, lw=2, histtype='step', \n",
    "         facecolor = 'None', weights = weights, label =r'$\\mathrm{Benchmark}$');\n",
    "ax1.hist(MSMRDfpts, bins = hbins, alpha=a1, color=c2, weights = weightsMSMRD);\n",
    "ax1.hist(MSMRDfpts, bins = hbins, alpha=a2, edgecolor=c2, lw=2, histtype='step', \n",
    "         weights = weightsMSMRD, label =r'$\\mathrm{MSM/RD}$');\n",
    "ax1.legend(fontsize=fsize, title=r'$\\mathrm{Unbound} \\rightarrow A$', title_fontsize = fsize, fancybox=True)\n",
    "ax1.text(180, 0.095, r'$\\tau = {:.2f} \\pm {:.2f}$'.format(mfpt, fptstd), fontsize=fsize, color=c1)\n",
    "ax1.text(200, 0.080, r'$\\tau = {:.2f} \\pm {:.2f}$'.format(MSMRDmfpt, MSMRDfptstd), fontsize=fsize, color=c2alt)\n",
    "ax1.set_yticks(np.arange(0, 0.18, step=0.1));\n",
    "#ax1.set_xlim([0,33])\n",
    "#ax1.set_ylim([0,0.18])\n",
    "ax1.set_xlim([0,400])\n",
    "\n",
    "#plt.savefig('pentamerFPTs.pdf', bbox_inches='tight')\n",
    "#plt.savefig('pentamerFPTs.svg', bbox_inches='tight')"
   ]
  },
  {
   "cell_type": "code",
   "execution_count": null,
   "metadata": {},
   "outputs": [],
   "source": []
  }
 ],
 "metadata": {
  "kernelspec": {
   "display_name": "Python 3",
   "language": "python",
   "name": "python3"
  },
  "language_info": {
   "codemirror_mode": {
    "name": "ipython",
    "version": 3
   },
   "file_extension": ".py",
   "mimetype": "text/x-python",
   "name": "python",
   "nbconvert_exporter": "python",
   "pygments_lexer": "ipython3",
   "version": "3.8.3"
  }
 },
 "nbformat": 4,
 "nbformat_minor": 2
}
