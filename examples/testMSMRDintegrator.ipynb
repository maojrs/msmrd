{
 "cells": [
  {
   "cell_type": "code",
   "execution_count": 7,
   "metadata": {},
   "outputs": [],
   "source": [
    "import pickle\n",
    "import numpy as np\n",
    "import msmrd2\n",
    "from msmrd2.markovModels import continuousTimeMarkovStateModel as ctmsm\n",
    "from msmrd2.markovModels import msmrdMarkovModel as msmrdMSM\n",
    "from msmrd2.integrators import msmrdIntegrator "
   ]
  },
  {
   "cell_type": "code",
   "execution_count": 1,
   "metadata": {},
   "outputs": [],
   "source": [
    "# Main parameters\n",
    "numBoundStates = 8\n",
    "maxNumBoundStates = 10\n",
    "radialBounds = [1.25, 2.25]\n",
    "relativeDistanceCutOff = radialBounds[1]\n",
    "numParticleTypes = 1 # num. of particle types (not states) in unbound state\n",
    "boxsize = 6\n",
    "\n",
    "# Discretization parameters (need to be consistent with those of integrator\n",
    "numSphericalSectionsPos = 7 #7\n",
    "numRadialSectionsQuat = 5 #5\n",
    "numSphericalSectionsQuat = 7 #7\n",
    "totalnumSecsQuat = numSphericalSectionsQuat*(numRadialSectionsQuat -1) + 1\n",
    "numTransitionsStates = numSphericalSectionsPos * totalnumSecsQuat #203 \n",
    "\n",
    "# Trajectory relevant parameters (Need to be equal to the one used to generate the rateDictionary)\n",
    "dt = 0.0001\n",
    "original_dt = 0.00001\n",
    "lagtime = 150\n",
    "timesteps = 3000000 # 2000000\n",
    "stride = 25 #2500\n",
    "realLagtime = lagtime*original_dt*stride\n",
    "maxentries = int(timesteps/stride)"
   ]
  },
  {
   "cell_type": "code",
   "execution_count": 9,
   "metadata": {},
   "outputs": [],
   "source": [
    "# Load pickled rateDicitionary generated in generateRateDictionary\n",
    "pickle_in = open(\"../data/pickled_data/MSM_dimer_t3.00E+06_s25_lagt150.pickle\",\"rb\")\n",
    "pickle_in = open(\"../data/pickled_data/MSM_patchyProtein_t6.00E+06_s50_lagt75.pickle\",\"rb\")\n",
    "mainMSM = pickle.load(pickle_in)\n",
    "tmatrix = mainMSM['transition_matrix']\n",
    "activeSet = mainMSM['active_set']"
   ]
  },
  {
   "cell_type": "code",
   "execution_count": 10,
   "metadata": {},
   "outputs": [
    {
     "data": {
      "text/plain": [
       "array([  1,   2,   3,   4,   5,   6,  11,  12,  13,  14,  15,  16,  17,\n",
       "        18,  19,  20,  21,  22,  23,  24,  25,  26,  27,  28,  29,  30,\n",
       "        31,  32,  33,  34,  35,  36,  37,  38,  39,  40,  41,  42,  43,\n",
       "        44,  45,  46,  47,  48,  49,  50,  51,  52,  53,  54,  55,  56,\n",
       "        57,  58,  59,  60,  61,  62,  63,  64,  65,  66,  67,  68,  69,\n",
       "        70,  71,  72,  73,  74,  75,  76,  77,  78,  79,  80,  81,  82,\n",
       "        83,  84,  85,  86,  87,  88,  89,  90,  91,  92,  93,  94,  95,\n",
       "        96,  97,  98,  99, 100, 101, 102, 103, 104, 105, 106, 107, 108,\n",
       "       109, 110, 111, 112, 113, 114, 115, 116, 117, 118, 119, 120, 121,\n",
       "       122, 123, 124, 125, 126, 127, 128, 129, 130, 131, 132, 133, 134,\n",
       "       135, 136, 137, 138, 139, 140, 141, 142, 143, 144, 145, 146, 147,\n",
       "       148, 149, 150, 151, 152, 153, 154, 155, 156, 157, 158, 159, 160,\n",
       "       161, 162, 163, 164, 165, 166, 167, 168, 169, 170, 171, 172, 173,\n",
       "       174, 175, 176, 177, 178, 179, 180, 181, 182, 183, 184, 185, 186,\n",
       "       187, 188, 189, 190, 191, 192, 193, 194, 195, 196, 197, 198, 199,\n",
       "       200, 201, 202, 203, 204, 205, 206, 207, 208, 209, 210, 211, 212,\n",
       "       213, 214, 215, 216, 217, 218, 219, 220, 221, 222, 223, 224, 225,\n",
       "       226, 227, 228, 229, 230, 231, 232, 233, 234, 235, 236, 237, 238])"
      ]
     },
     "execution_count": 10,
     "metadata": {},
     "output_type": "execute_result"
    }
   ],
   "source": [
    "activeSet"
   ]
  },
  {
   "cell_type": "code",
   "execution_count": null,
   "metadata": {},
   "outputs": [],
   "source": [
    "# Define continuous-time MSM for unbound dynamics (same for all particles)\n",
    "MSMtype = 0\n",
    "ratematrix = np.array([[0]]) # no unbound dynamics\n",
    "seed = 0 # Seed = -1 used random device as seed\n",
    "unboundMSM = ctmsm(MSMtype, ratematrix, seed)\n",
    "Dlist = np.array([1.0])\n",
    "Drotlist = np.array([1.0])\n",
    "unboundMSM.setD(Dlist)\n",
    "unboundMSM.setDrot(Drotlist)"
   ]
  },
  {
   "cell_type": "code",
   "execution_count": null,
   "metadata": {},
   "outputs": [],
   "source": [
    "# Define coupling Markov model\n",
    "seed = 0\n",
    "Dbound = [0.5]*numBoundStates\n",
    "DboundRot = [1.0]*numBoundStates\n",
    "couplingMSM = msmrdMSM(numBoundStates, maxNumBoundStates, tmatrix, activeSet, realLagtime, seed) \n",
    "couplingMSM.setDbound(Dbound, DboundRot)"
   ]
  },
  {
   "cell_type": "code",
   "execution_count": null,
   "metadata": {},
   "outputs": [],
   "source": [
    "# Define particle list (make sure all particles are inside box)\n",
    "ptype = 0\n",
    "pstate = 0\n",
    "D = Dlist[pstate]\n",
    "Drot = Drotlist[pstate]\n",
    "position = np.array([1,1,1])\n",
    "orientation = np.array([1,0,0,0])\n",
    "part1 = msmrd2.particle(ptype, pstate, D, Drot, 0.1*position, orientation)\n",
    "part2 = msmrd2.particle(ptype, pstate, D, Drot, -0.1*position, orientation)\n",
    "part1.deactivateMSM()\n",
    "part2.deactivateMSM()\n",
    "partList = msmrd2.integrators.particleList([part1, part2])"
   ]
  },
  {
   "cell_type": "code",
   "execution_count": null,
   "metadata": {},
   "outputs": [],
   "source": [
    "# MSM/RD integrator definition\n",
    "dt = 0.002 # should be smaller than Gillespie inverse transition rates\n",
    "seed = 0 # Seed = -1 used random device as seed\n",
    "bodytype = 'rigidbody'\n",
    "integrator = msmrdIntegrator(dt, seed, bodytype, numParticleTypes, radialBounds, unboundMSM, couplingMSM)"
   ]
  },
  {
   "cell_type": "code",
   "execution_count": null,
   "metadata": {},
   "outputs": [],
   "source": [
    "# Set boundary and discretization in integrator (optional since default values also work)\n",
    "boundary = msmrd2.box(boxsize,boxsize,boxsize,'periodic')\n",
    "integrator.setBoundary(boundary)\n",
    "discretization = msmrd2.discretizations.positionOrientationPartition(relativeDistanceCutOff, numSphericalSectionsPos,\n",
    "                                                                    numRadialSectionsQuat, numSphericalSectionsQuat)\n",
    "integrator.setDiscretization(discretization)"
   ]
  },
  {
   "cell_type": "code",
   "execution_count": null,
   "metadata": {},
   "outputs": [],
   "source": [
    "print(partList[0].position, partList[1].position, \n",
    "      partList[0].state, partList[1].state, \n",
    "      partList[0].boundTo, partList[1].boundTo)\n",
    "prevstate = 1"
   ]
  },
  {
   "cell_type": "code",
   "execution_count": null,
   "metadata": {},
   "outputs": [],
   "source": [
    "prevstate = 0\n",
    "for i in range(20000000):\n",
    "    integrator.integrate(partList)\n",
    "    #print(partList[0].position, partList[1].position, partList[0].state, partList[1].state, partList[0].boundTo, partList[1].boundTo)\n",
    "    if (partList[0].boundState != prevstate):\n",
    "        print(\"{:.4f}\".format(integrator.clock), partList[0].boundState, partList[1].boundState)\n",
    "        #print(partList[0].position, partList[1].position, partList[0].state, partList[1].state, partList[0].boundTo, partList[1].boundTo)\n",
    "        prevstate = partList[0].boundState"
   ]
  },
  {
   "cell_type": "code",
   "execution_count": null,
   "metadata": {},
   "outputs": [],
   "source": []
  }
 ],
 "metadata": {
  "kernelspec": {
   "display_name": "Python [conda env:msmrd-dev]",
   "language": "python",
   "name": "conda-env-msmrd-dev-py"
  },
  "language_info": {
   "codemirror_mode": {
    "name": "ipython",
    "version": 3
   },
   "file_extension": ".py",
   "mimetype": "text/x-python",
   "name": "python",
   "nbconvert_exporter": "python",
   "pygments_lexer": "ipython3",
   "version": "3.6.7"
  }
 },
 "nbformat": 4,
 "nbformat_minor": 2
}
