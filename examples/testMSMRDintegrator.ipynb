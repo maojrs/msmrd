{
 "cells": [
  {
   "cell_type": "code",
   "execution_count": null,
   "metadata": {},
   "outputs": [],
   "source": [
    "import pickle\n",
    "import numpy as np\n",
    "import msmrd2\n",
    "import msmrd2.analysis as msmrdals\n",
    "from msmrd2.markovModels import continuousTimeMarkovStateModel as ctmsm\n",
    "from msmrd2.markovModels import msmrdMarkovStateModel as msmrdMSM\n",
    "from msmrd2.integrators import msmrdIntegrator "
   ]
  },
  {
   "cell_type": "code",
   "execution_count": null,
   "metadata": {},
   "outputs": [],
   "source": [
    "# Main parameters\n",
    "numBoundStates = 2\n",
    "maxNumBoundStates = 10\n",
    "numTransitionsStates = 203\n",
    "relativeDistanceCutOff = 2.2\n",
    "numParticleTypes = 1 # num. of particle types (not states) in unbound state\n",
    "boxsize = 6\n",
    "\n",
    "# Trajectory relevant parameters\n",
    "dt = 0.000001\n",
    "timesteps = 4000000 # 2000000\n",
    "stride = 25 #2500\n",
    "maxentries = int(timesteps/stride)"
   ]
  },
  {
   "cell_type": "code",
   "execution_count": null,
   "metadata": {},
   "outputs": [],
   "source": [
    "# Load pickled rateDicitionary generated in generateRateDictionary\n",
    "pickle_in = open(\"data/ratedictionary_dimer.pickle\",\"rb\")\n",
    "rateDictionary = pickle.load(pickle_in)"
   ]
  },
  {
   "cell_type": "code",
   "execution_count": null,
   "metadata": {},
   "outputs": [],
   "source": [
    "# Define continuous-time MSM for unbound dynamics (same for all particles)\n",
    "MSMtype = 0\n",
    "ratematrix = np.array([[0]]) # no unbound dynamics\n",
    "seed = 0 # Seed = -1 used random device as seed\n",
    "unboundMSM = ctmsm(MSMtype, ratematrix, seed)\n",
    "Dlist = np.array([1.0])\n",
    "Drotlist = np.array([1.0])\n",
    "unboundMSM.setD(Dlist)\n",
    "unboundMSM.setDrot(Drotlist)"
   ]
  },
  {
   "cell_type": "code",
   "execution_count": null,
   "metadata": {},
   "outputs": [],
   "source": [
    "# Define coupling Markov model\n",
    "seed = 0\n",
    "Dbound = [0.5, 0.5]\n",
    "DboundRot = [1.0, 1.0]\n",
    "couplingMSM = msmrdMSM(numBoundStates, numTransitionsStates, seed, rateDictionary) \n",
    "couplingMSM.setDbound(Dbound, DboundRot)\n",
    "couplingMSM.setmaxNumberBoundStates(maxNumBoundStates)"
   ]
  },
  {
   "cell_type": "code",
   "execution_count": null,
   "metadata": {},
   "outputs": [],
   "source": [
    "# Define particle list (make sure all particles are inside box)\n",
    "ptype = 0\n",
    "pstate = 0\n",
    "D = Dlist[pstate]\n",
    "Drot = Drotlist[pstate]\n",
    "position = np.array([1,1,1])\n",
    "orientation = np.array([1,0,0,0])\n",
    "part1 = msmrd2.particleMS(ptype, pstate, D, Drot, 0.1*position, orientation)\n",
    "part2 = msmrd2.particleMS(ptype, pstate, D, Drot, -0.1*position, orientation)\n",
    "part1.deactivateMSM()\n",
    "part2.deactivateMSM()\n",
    "partList = msmrd2.integrators.particleMSList([part1, part2])"
   ]
  },
  {
   "cell_type": "code",
   "execution_count": null,
   "metadata": {},
   "outputs": [],
   "source": [
    "# MSM/RD integrator definition\n",
    "dt = 0.05 # should be smaller than Gillespie inverse transition rates\n",
    "seed = 0 # Seed = -1 used random device as seed\n",
    "bodytype = 'rigidbody'\n",
    "integrator = msmrdIntegrator(dt, seed, bodytype, numParticleTypes, relativeDistanceCutOff, unboundMSM, couplingMSM)\n",
    "boundary = msmrd2.box(boxsize,boxsize,boxsize,'periodic')\n",
    "#boundary = msmrd2.sphere(boxsize,'reflective')\n",
    "#boundary = msmrd2.noBoundary()\n",
    "integrator.setBoundary(boundary)"
   ]
  },
  {
   "cell_type": "code",
   "execution_count": null,
   "metadata": {},
   "outputs": [],
   "source": [
    "print(partList[0].position, partList[1].position, \n",
    "      partList[0].state, partList[1].state, \n",
    "      partList[0].boundTo, partList[1].boundTo)"
   ]
  },
  {
   "cell_type": "code",
   "execution_count": null,
   "metadata": {},
   "outputs": [],
   "source": [
    "for i in range(200000):\n",
    "    integrator.integrate(partList)\n",
    "    if (partList[0].boundTo != -1):\n",
    "        print(partList[0].position, partList[1].position, \n",
    "      partList[0].state, partList[1].state, \n",
    "      partList[0].boundTo, partList[1].boundTo)\n",
    "    #print(partList[0].state, partList[1].state)"
   ]
  },
  {
   "cell_type": "code",
   "execution_count": null,
   "metadata": {},
   "outputs": [],
   "source": [
    "print(partList[0].position, partList[1].position, \n",
    "      partList[0].state, partList[1].state, \n",
    "      partList[0].boundTo, partList[1].boundTo)"
   ]
  },
  {
   "cell_type": "code",
   "execution_count": null,
   "metadata": {},
   "outputs": [],
   "source": [
    "rateDictionary"
   ]
  },
  {
   "cell_type": "code",
   "execution_count": null,
   "metadata": {},
   "outputs": [],
   "source": []
  }
 ],
 "metadata": {
  "kernelspec": {
   "display_name": "Python [conda env:msmrd-dev]",
   "language": "python",
   "name": "conda-env-msmrd-dev-py"
  },
  "language_info": {
   "codemirror_mode": {
    "name": "ipython",
    "version": 3
   },
   "file_extension": ".py",
   "mimetype": "text/x-python",
   "name": "python",
   "nbconvert_exporter": "python",
   "pygments_lexer": "ipython3",
   "version": "3.6.7"
  }
 },
 "nbformat": 4,
 "nbformat_minor": 2
}
