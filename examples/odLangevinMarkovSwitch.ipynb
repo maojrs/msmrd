{
 "cells": [
  {
   "cell_type": "code",
   "execution_count": null,
   "metadata": {},
   "outputs": [],
   "source": [
    "import msmrd2\n",
    "import numpy as np"
   ]
  },
  {
   "cell_type": "code",
   "execution_count": null,
   "metadata": {},
   "outputs": [],
   "source": [
    "# Define continuous-time MSM\n",
    "MSMtype = 1\n",
    "ratematrix = np.array([[-5.0,2.0,3.0],[1.0,-2.0,1.0],[3.3,5.4,-8.7]])\n",
    "seed = 0 # Seed = -1 used random device as seed\n",
    "ctmsm = msmrd2.ctmsm(MSMtype, ratematrix, seed)\n",
    "Dlist = np.array([1.0, 3.0, 2.0])\n",
    "Drotlist = np.array([0.5, 0.2, 0.1])\n",
    "ctmsm.setD(Dlist)\n",
    "ctmsm.setDrot(Drotlist)"
   ]
  },
  {
   "cell_type": "code",
   "execution_count": null,
   "metadata": {},
   "outputs": [],
   "source": [
    "# Particle definition\n",
    "ptype = 0\n",
    "pstate = 0\n",
    "bodytype = 'rigidbody'\n",
    "D = Dlist[pstate]\n",
    "Drot = Drotlist[pstate]\n",
    "position = np.array([1,1,1])\n",
    "orientation = np.array([1,0,0,0])\n",
    "part1 = msmrd2.particleMS(ptype, pstate, D, Drot, bodytype, position, orientation)"
   ]
  },
  {
   "cell_type": "code",
   "execution_count": null,
   "metadata": {},
   "outputs": [],
   "source": [
    "# Over-damped Langevin integrator with Markovian switch definition\n",
    "dt = 0.05 # should be smaller than Gillespie inverse transition rates\n",
    "seed = 0 # Seed = -1 used random device as seed\n",
    "rotation = True\n",
    "intg = msmrd2.integrators.odLangevinMarkovSwitch(ctmsm, dt, seed, rotation) \n",
    "# Create second integrator for list integration\n",
    "intg2 = msmrd2.integrators.odLangevinMarkovSwitch(ctmsm, dt, seed, rotation) "
   ]
  },
  {
   "cell_type": "code",
   "execution_count": null,
   "metadata": {},
   "outputs": [],
   "source": [
    "# Integrate only one particle and print position and orientation\n",
    "timesteps = 50\n",
    "print('{:<10s}{:<15s}{:<15s}{:<15s}{:<15s}{:<40s}'.format(\"Iteration\", \"Time\", \"State\", \"D\", \"Drot\", \"Position 1\"))\n",
    "for i in range(timesteps):\n",
    "    print('{:<10d}{:<15f}{:<15d}{:<15f}{:<15f}{:<40s}'\n",
    "          .format(i, intg.clock, part1.state, part1.D, part1.Drot, str(part1.position)))\n",
    "    intg.integrate(part1)"
   ]
  },
  {
   "cell_type": "code",
   "execution_count": null,
   "metadata": {},
   "outputs": [],
   "source": [
    "# For a list of particles\n",
    "position2 = np.array([2,2,2])\n",
    "part1 = msmrd2.particleMS(ptype, pstate, D, Drot, bodytype, position, orientation)\n",
    "part2 = msmrd2.particleMS(ptype, pstate, D, Drot, bodytype, position2, orientation)\n",
    "partlist = msmrd2.integrators.particleMSList([part1,part2])\n",
    "# Integrate particle list and print only positions (with integratelist)\n",
    "t = 0\n",
    "timesteps = 50\n",
    "print('{:<10s}{:^10s}{:<40s}{:^15s}{:<30s}'.format(\"Time\", \"State 1\", \"Position 1\", \"State 2\", \"Position2\"))\n",
    "for i in range(timesteps):\n",
    "    print('{:<10f}{:^10d}{:<40s}{:^15d}{:<30s}'\n",
    "          .format(intg2.clock, partlist[0].state, str(partlist[0].position), partlist[1].state, str(partlist[1].position)))\n",
    "    intg2.integrateList(partlist)"
   ]
  },
  {
   "cell_type": "code",
   "execution_count": null,
   "metadata": {},
   "outputs": [],
   "source": []
  },
  {
   "cell_type": "code",
   "execution_count": null,
   "metadata": {},
   "outputs": [],
   "source": []
  }
 ],
 "metadata": {
  "kernelspec": {
   "display_name": "Python 3",
   "language": "python",
   "name": "python3"
  },
  "language_info": {
   "codemirror_mode": {
    "name": "ipython",
    "version": 3
   },
   "file_extension": ".py",
   "mimetype": "text/x-python",
   "name": "python",
   "nbconvert_exporter": "python",
   "pygments_lexer": "ipython3",
   "version": "3.6.5"
  }
 },
 "nbformat": 4,
 "nbformat_minor": 2
}
