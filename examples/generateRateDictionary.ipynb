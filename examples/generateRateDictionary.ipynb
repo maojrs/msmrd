{
 "cells": [
  {
   "cell_type": "code",
   "execution_count": null,
   "metadata": {},
   "outputs": [],
   "source": [
    "import pickle\n",
    "import numpy as np\n",
    "import msmrd2.analysis as msmrdals\n",
    "import pyemma\n",
    "import pyemma.plots as mplt\n",
    "import matplotlib.pyplot as plt"
   ]
  },
  {
   "cell_type": "code",
   "execution_count": null,
   "metadata": {},
   "outputs": [],
   "source": [
    "# Parameters for loading files\n",
    "nfiles = 500\n",
    "dt = 0.00001 # from original simulation\n",
    "stride = 25  # stride of sampling (every 25th dt)\n",
    "dtEffective = dt*stride # needed to obtain rate dictionary\n",
    "totalTimeSteps = 2000000\n",
    "fnamebase = '../data/dimer/simDimer_t2.00E+06_s25_'\n",
    "# Parameters for MSM generation \n",
    "numBoundStates = 8\n",
    "lagtime = 200\n",
    "reversible = True\n",
    "stitching = True\n",
    "fullDictionary = False # Only rates to and from bound states."
   ]
  },
  {
   "cell_type": "code",
   "execution_count": null,
   "metadata": {},
   "outputs": [],
   "source": [
    "# Load discrete trajectories\n",
    "dtrajs = []\n",
    "for i in range(nfiles):\n",
    "    dtraj = msmrdals.loadDiscreteTrajectory(fnamebase, i)\n",
    "    dtrajs.append(dtraj)    \n",
    "    print(\"File \", i+1, \" of \", nfiles, \" done.\", end=\"\\r\")"
   ]
  },
  {
   "cell_type": "code",
   "execution_count": null,
   "metadata": {},
   "outputs": [],
   "source": [
    "# Slice trajectories getting rid of the unbound state 0\n",
    "unboundStateIndex = 0\n",
    "slicedDtrajs = msmrdals.splitDiscreteTrajs(dtrajs, unboundStateIndex)\n",
    "# Stitch trajectories if wanted\n",
    "if stitching:\n",
    "    finalTrajs = msmrdals.stitchTrajs(slicedDtrajs, 500)\n",
    "else:\n",
    "    finalTrajs = slicedDtrajs"
   ]
  },
  {
   "cell_type": "code",
   "execution_count": null,
   "metadata": {},
   "outputs": [],
   "source": [
    "# Create MSM between transision states and bound states without stitching\n",
    "mainmsm = pyemma.msm.estimate_markov_model(finalTrajs, lagtime, reversible=reversible)\n",
    "# The active set keep track of the indexes used by pyemma and the ones used to describe the state in our model.\n",
    "activeSet = mainmsm.active_set\n",
    "print(activeSet)"
   ]
  },
  {
   "cell_type": "code",
   "execution_count": null,
   "metadata": {},
   "outputs": [],
   "source": [
    "# CK-test\n",
    "nstates = 8\n",
    "cktest = mainmsm.cktest(nstates, mlags=6)\n",
    "mplt.plot_cktest(cktest);"
   ]
  },
  {
   "cell_type": "code",
   "execution_count": null,
   "metadata": {},
   "outputs": [],
   "source": [
    "maxlagtime = 1000\n",
    "nits = 40\n",
    "its = pyemma.msm.its(finalTrajs, maxlagtime, reversible=reversible)\n",
    "mplt.plot_implied_timescales(its, nits = nits, ylog=True, units='steps', linewidth=2, dt=1)\n",
    "plt.ylabel(r\"log(timescale/steps)\", fontsize = 24)\n",
    "plt.xlabel(r\"lag time/steps\", fontsize = 24)"
   ]
  },
  {
   "cell_type": "code",
   "execution_count": null,
   "metadata": {},
   "outputs": [],
   "source": [
    "mplt.plot_implied_timescales(its, nits = nits, ylog=False, units='steps', linewidth=2, dt=1)\n",
    "plt.ylabel(r\"timescale/steps\", fontsize = 24)\n",
    "plt.xlabel(r\"lag time/steps\", fontsize = 24)"
   ]
  },
  {
   "cell_type": "code",
   "execution_count": null,
   "metadata": {},
   "outputs": [],
   "source": [
    "eig0 = mainmsm.eigenvectors_right()[4]\n",
    "np.where(eig0>0.01)"
   ]
  },
  {
   "cell_type": "code",
   "execution_count": null,
   "metadata": {},
   "outputs": [],
   "source": [
    "rateDictionary = msmrdals.MSMtoRateDictionary(mainmsm, numBoundStates, dtEffective, fullDictionary)\n",
    "# Alternatively, it can all be done with one function: slice and stitch trajectories then build MSM and extract rates\n",
    "# rateDictionary = msmrdals.extractRatesMSM(dtrajs, lagtime, numBoundStates, stitching, fullDictionary)"
   ]
  },
  {
   "cell_type": "code",
   "execution_count": null,
   "metadata": {},
   "outputs": [],
   "source": [
    "# Export to data file with pickle (to be loaded later)\n",
    "pickle_out = open(\"pickled_data/ratedictionary_dimer_test_t\" + \"{:.2E}\".format(totalTimeSteps ) + \"_s\" + \"{:d}\".format(stride) + \"_lagt\" + \"{:d}\".format(lagtime) + \".pickle\",\"wb\")\n",
    "pickle.dump(rateDictionary, pickle_out)\n",
    "pickle_out.close()"
   ]
  },
  {
   "cell_type": "code",
   "execution_count": null,
   "metadata": {},
   "outputs": [],
   "source": [
    "rateDictionary"
   ]
  },
  {
   "cell_type": "code",
   "execution_count": null,
   "metadata": {},
   "outputs": [],
   "source": [
    "rateDictionary[\"b2->b1\"]"
   ]
  }
 ],
 "metadata": {
  "kernelspec": {
   "display_name": "Python [conda env:msmrd-dev]",
   "language": "python",
   "name": "conda-env-msmrd-dev-py"
  },
  "language_info": {
   "codemirror_mode": {
    "name": "ipython",
    "version": 3
   },
   "file_extension": ".py",
   "mimetype": "text/x-python",
   "name": "python",
   "nbconvert_exporter": "python",
   "pygments_lexer": "ipython3",
   "version": "3.6.7"
  }
 },
 "nbformat": 4,
 "nbformat_minor": 2
}
