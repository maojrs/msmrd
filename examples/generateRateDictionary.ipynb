{
 "cells": [
  {
   "cell_type": "code",
   "execution_count": null,
   "metadata": {},
   "outputs": [],
   "source": [
    "import pickle\n",
    "import numpy as np\n",
    "import msmrd2.analysis as msmrdals"
   ]
  },
  {
   "cell_type": "code",
   "execution_count": null,
   "metadata": {},
   "outputs": [],
   "source": [
    "# Parameters for laoding files\n",
    "nfiles = 200\n",
    "fnamebase = '../data/dimer/simDimer_t4.00E+06_s25_'\n",
    "# Parameters for MSM generation \n",
    "numBoundStates = 2\n",
    "lagtime = 200\n",
    "stitching = True\n",
    "fullDictionary = False # Only rates to and from bound states."
   ]
  },
  {
   "cell_type": "code",
   "execution_count": null,
   "metadata": {},
   "outputs": [],
   "source": [
    "# Load discrete trajectories\n",
    "dtrajs = []\n",
    "for i in range(nfiles):\n",
    "    dtraj = msmrdals.loadDiscreteTrajectory(fnamebase, i)\n",
    "    dtrajs.append(dtraj)    \n",
    "    print(\"File \", i+1, \" of \", nfiles, \" done.\", end=\"\\r\")"
   ]
  },
  {
   "cell_type": "code",
   "execution_count": null,
   "metadata": {},
   "outputs": [],
   "source": [
    "# Slice and stitch trajectories build MSM and extract rates\n",
    "rateDictionary = msmrdals.extractRatesMSM(dtrajs, lagtime, numBoundStates, stitching, fullDictionary)"
   ]
  },
  {
   "cell_type": "code",
   "execution_count": null,
   "metadata": {},
   "outputs": [],
   "source": [
    "# Export to data file with pickle (to be loaded later)\n",
    "pickle_out = open(\"data/ratedictionary_dimer.pickle\",\"wb\")\n",
    "pickle.dump(rateDictionary, pickle_out)\n",
    "pickle_out.close()"
   ]
  },
  {
   "cell_type": "code",
   "execution_count": null,
   "metadata": {},
   "outputs": [],
   "source": [
    "rateDictionary"
   ]
  },
  {
   "cell_type": "code",
   "execution_count": null,
   "metadata": {},
   "outputs": [],
   "source": []
  }
 ],
 "metadata": {
  "kernelspec": {
   "display_name": "Python [conda env:msmrd-dev]",
   "language": "python",
   "name": "conda-env-msmrd-dev-py"
  },
  "language_info": {
   "codemirror_mode": {
    "name": "ipython",
    "version": 3
   },
   "file_extension": ".py",
   "mimetype": "text/x-python",
   "name": "python",
   "nbconvert_exporter": "python",
   "pygments_lexer": "ipython3",
   "version": "3.6.7"
  }
 },
 "nbformat": 4,
 "nbformat_minor": 2
}
