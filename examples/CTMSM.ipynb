{
 "cells": [
  {
   "cell_type": "code",
   "execution_count": null,
   "metadata": {},
   "outputs": [],
   "source": [
    "import numpy as np\n",
    "import msmrd2\n",
    "from msmrd2 import continuousTimeMarkovStateModel as ctmsm"
   ]
  },
  {
   "cell_type": "code",
   "execution_count": null,
   "metadata": {},
   "outputs": [],
   "source": [
    "# Particle definition\n",
    "ptype = 1 # different types correspond to different MSM\n",
    "pstate = 0 # MSM sate\n",
    "D = 1\n",
    "Drot = 0\n",
    "bodytype = 'point'\n",
    "position = np.array([1,1,1])\n",
    "orientation = np.array([0,1,0,0])\n",
    "part1 = msmrd2.particleMS(ptype, pstate, D, Drot, bodytype, position, orientation)"
   ]
  },
  {
   "cell_type": "code",
   "execution_count": null,
   "metadata": {},
   "outputs": [],
   "source": [
    "# Define continuous-time MSM\n",
    "MSMtype = 1\n",
    "ratematrix = np.array([[-5.0,2.0,3.0],[1.0,-2.0,1.0],[3.3,5.4,-8.7]])\n",
    "seed = 0 # Seed = -1 used random device as seed\n",
    "markovModel = ctmsm(MSMtype, ratematrix, seed)"
   ]
  },
  {
   "cell_type": "code",
   "execution_count": null,
   "metadata": {},
   "outputs": [],
   "source": [
    "# Propagate CTMSM by changing state of particle\n",
    "totalsteps = 10\n",
    "ksteps = 1\n",
    "t = 0\n",
    "print('{:<15s}{:<15s}{:<10s}{:<10s}'.format(\"Iteration\", \"Time\", \"State\", \"Lagtime\"))\n",
    "for i in range(totalsteps):\n",
    "    print('{:<15d}{:<15f}{:<10d}{:<10f}'.format(i, t, part1.state, markovModel.lagtime))\n",
    "    #print(i, t, part1.state, ctmsm.lagtime)\n",
    "    markovModel.propagate(part1, ksteps)\n",
    "    t += markovModel.lagtime"
   ]
  },
  {
   "cell_type": "code",
   "execution_count": null,
   "metadata": {},
   "outputs": [],
   "source": []
  }
 ],
 "metadata": {
  "kernelspec": {
   "display_name": "Python [default]",
   "language": "python",
   "name": "python3"
  },
  "language_info": {
   "codemirror_mode": {
    "name": "ipython",
    "version": 3
   },
   "file_extension": ".py",
   "mimetype": "text/x-python",
   "name": "python",
   "nbconvert_exporter": "python",
   "pygments_lexer": "ipython3",
   "version": "3.6.5"
  }
 },
 "nbformat": 4,
 "nbformat_minor": 2
}
