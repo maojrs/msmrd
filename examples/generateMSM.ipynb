{
 "cells": [
  {
   "cell_type": "code",
   "execution_count": null,
   "metadata": {},
   "outputs": [],
   "source": [
    "import pickle\n",
    "import numpy as np\n",
    "import pyemma\n",
    "import pyemma.plots as mplt\n",
    "import matplotlib.pyplot as plt\n",
    "import msmrd2.tools.trajectoryTools as trajectoryTools\n",
    "import msmrd2.tools.analysis as analysisTools\n",
    "import msmrd2.tools.msmTools as msmTools"
   ]
  },
  {
   "cell_type": "code",
   "execution_count": null,
   "metadata": {},
   "outputs": [],
   "source": [
    "# Load parameters from parameters file\n",
    "parentDirectory = '../data/dimer/60strength_improved/'\n",
    "parameterDictionary = analysisTools.readParameters(parentDirectory + \"parameters\")\n",
    "# Parameters for loading files (from original simulation)\n",
    "nfiles = parameterDictionary['numFiles']\n",
    "dt = parameterDictionary['dt'] \n",
    "stride = parameterDictionary['stride']\n",
    "totalTimeSteps = parameterDictionary['timesteps'] \n",
    "parameterDictionary"
   ]
  },
  {
   "cell_type": "code",
   "execution_count": null,
   "metadata": {},
   "outputs": [],
   "source": [
    "# Calculated parameters\n",
    "dtEffective = dt*stride # needed to obtain rate dictionary\n",
    "fnamebase = parentDirectory + 'simDimer_'\n",
    "# Parameters for MSM generation \n",
    "numBoundStates = 8\n",
    "lagtime = 400\n",
    "reversible = True\n",
    "stitching = True\n",
    "fullDictionary = False # Only rates to and from bound states."
   ]
  },
  {
   "cell_type": "code",
   "execution_count": null,
   "metadata": {},
   "outputs": [],
   "source": [
    "# Load discrete trajectories\n",
    "dtrajs = []\n",
    "fnamesuffix = '_discrete_python' #'_discrete_python' # '_discrete'\n",
    "filetype = 'xyz' #'xyz' # 'h5'\n",
    "for i in range(nfiles):\n",
    "    dtraj = trajectoryTools.loadDiscreteTrajectory(fnamebase, i, fnamesuffix, filetype)\n",
    "    dtrajs.append(dtraj)    \n",
    "    print(\"File \", i+1, \" of \", nfiles, \" done.\", end=\"\\r\")"
   ]
  },
  {
   "cell_type": "code",
   "execution_count": null,
   "metadata": {},
   "outputs": [],
   "source": [
    "# Slice trajectories getting rid of the unbound state 0\n",
    "unboundStateIndex = 0\n",
    "slicedDtrajs = trajectoryTools.splitDiscreteTrajs(dtrajs, unboundStateIndex)\n",
    "# Stitch trajectories if wanted\n",
    "if stitching:\n",
    "    minLength = 5000\n",
    "    finalTrajs = trajectoryTools.stitchTrajs(slicedDtrajs, minLength)\n",
    "else:\n",
    "    finalTrajs = slicedDtrajs"
   ]
  },
  {
   "cell_type": "code",
   "execution_count": null,
   "metadata": {},
   "outputs": [],
   "source": [
    "# Create MSM between transision states and bound states without stitching\n",
    "mainmsm = pyemma.msm.estimate_markov_model(finalTrajs, lagtime, reversible=reversible)\n",
    "# The active set keep track of the indexes used by pyemma and the ones used to describe the state in our model.\n",
    "activeSet = mainmsm.active_set\n",
    "print(activeSet)"
   ]
  },
  {
   "cell_type": "code",
   "execution_count": null,
   "metadata": {},
   "outputs": [],
   "source": [
    "# CK-test\n",
    "nstates = 8\n",
    "cktest = mainmsm.cktest(nstates, mlags=6)\n",
    "mplt.plot_cktest(cktest);"
   ]
  },
  {
   "cell_type": "code",
   "execution_count": null,
   "metadata": {},
   "outputs": [],
   "source": [
    "# Calculate implied time scales\n",
    "maxlagtime = 500\n",
    "nits = 20\n",
    "its = pyemma.msm.its(finalTrajs, maxlagtime, reversible=reversible)"
   ]
  },
  {
   "cell_type": "code",
   "execution_count": null,
   "metadata": {},
   "outputs": [],
   "source": [
    "# Plot implied timescales in ylog\n",
    "mplt.plot_implied_timescales(its, nits = nits, ylog=True, units='steps', linewidth=2, dt=1)\n",
    "plt.ylabel(r\"log(timescale/steps)\", fontsize = 24)\n",
    "plt.xlabel(r\"lag time/steps\", fontsize = 24)\n",
    "plt.ylim([10.0,8000])"
   ]
  },
  {
   "cell_type": "code",
   "execution_count": null,
   "metadata": {},
   "outputs": [],
   "source": [
    "# Plot implied timescales without log\n",
    "mplt.plot_implied_timescales(its, nits = nits, ylog=False, units='steps', linewidth=2, dt=1)\n",
    "plt.ylabel(r\"timescale/steps\", fontsize = 24)\n",
    "plt.xlabel(r\"lag time/steps\", fontsize = 24)"
   ]
  },
  {
   "cell_type": "code",
   "execution_count": null,
   "metadata": {},
   "outputs": [],
   "source": [
    "eig0 = mainmsm.eigenvectors_right()[0]\n",
    "print(np.where(eig0>0.1))\n",
    "plt.plot(eig0)\n",
    "plt.xlim([0,10])"
   ]
  },
  {
   "cell_type": "code",
   "execution_count": null,
   "metadata": {},
   "outputs": [],
   "source": [
    "rateDictionary = msmTools.MSMtoRateDictionary(mainmsm, numBoundStates, dtEffective, fullDictionary)\n",
    "# Alternatively, it can all be done with one function: slice and stitch trajectories then build MSM and extract rates\n",
    "# rateDictionary = msmrdals.extractRatesMSM(dtrajs, lagtime, numBoundStates, stitching, fullDictionary)"
   ]
  },
  {
   "cell_type": "code",
   "execution_count": null,
   "metadata": {},
   "outputs": [],
   "source": [
    "# Export to data file with pickle (to be loaded later)\n",
    "pickle_out = open(\"../data/pickled_data/ratedictionary_dimer_t\" + \"{:.2E}\".format(totalTimeSteps ) + \"_s\" + \"{:d}\".format(stride) + \"_lagt\" + \"{:d}\".format(lagtime) + \".pickle\",\"wb\")\n",
    "pickle.dump(rateDictionary, pickle_out)\n",
    "pickle_out.close()"
   ]
  },
  {
   "cell_type": "code",
   "execution_count": null,
   "metadata": {},
   "outputs": [],
   "source": [
    "# Alternatively pickle MSM transition matrix and active set as a dictionary   \n",
    "MSM = {'transition_matrix' : mainmsm.transition_matrix, 'active_set': mainmsm.active_set}\n",
    "pickle_out = open(\"../data/pickled_data/MSM_dimer_t\" + \"{:.2E}\".format(totalTimeSteps ) + \"_s\" + \"{:d}\".format(stride) + \"_lagt\" + \"{:d}\".format(lagtime) + \".pickle\",\"wb\")\n",
    "pickle.dump(MSM, pickle_out)\n",
    "pickle_out.close()"
   ]
  },
  {
   "cell_type": "code",
   "execution_count": null,
   "metadata": {},
   "outputs": [],
   "source": [
    "MSM[1]"
   ]
  },
  {
   "cell_type": "code",
   "execution_count": null,
   "metadata": {},
   "outputs": [],
   "source": [
    "rateDictionary"
   ]
  },
  {
   "cell_type": "code",
   "execution_count": null,
   "metadata": {},
   "outputs": [],
   "source": [
    "rateDictionary[\"b2->b1\"]"
   ]
  }
 ],
 "metadata": {
  "kernelspec": {
   "display_name": "Python [conda env:msmrd-dev]",
   "language": "python",
   "name": "conda-env-msmrd-dev-py"
  },
  "language_info": {
   "codemirror_mode": {
    "name": "ipython",
    "version": 3
   },
   "file_extension": ".py",
   "mimetype": "text/x-python",
   "name": "python",
   "nbconvert_exporter": "python",
   "pygments_lexer": "ipython3",
   "version": "3.6.7"
  }
 },
 "nbformat": 4,
 "nbformat_minor": 2
}
