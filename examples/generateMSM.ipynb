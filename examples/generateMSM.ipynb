{
 "cells": [
  {
   "cell_type": "code",
   "execution_count": null,
   "metadata": {},
   "outputs": [],
   "source": [
    "import pickle\n",
    "import numpy as np\n",
    "import pyemma\n",
    "import pyemma.plots as mplt\n",
    "import matplotlib.pyplot as plt\n",
    "import msmrd2.tools.trajectoryTools as trajectoryTools\n",
    "import msmrd2.tools.analysis as analysisTools\n",
    "import msmrd2.tools.msmTools as msmTools"
   ]
  },
  {
   "cell_type": "code",
   "execution_count": null,
   "metadata": {},
   "outputs": [],
   "source": [
    "# Load parameters from parameters file\n",
    "#parentDirectory = '../data/dimer/60strength/'\n",
    "#parentDirectory = '../data/pentamer/dimer/'\n",
    "parentDirectory = '../data/patchyProtein/benchmark/'\n",
    "parameterDictionary = analysisTools.readParameters(parentDirectory + \"parameters\")\n",
    "# Parameters for loading files (from original simulation)\n",
    "nfiles = parameterDictionary['numFiles']\n",
    "dt = parameterDictionary['dt'] \n",
    "stride = parameterDictionary['stride']\n",
    "totalTimeSteps = parameterDictionary['timesteps'] \n",
    "parameterDictionary"
   ]
  },
  {
   "cell_type": "code",
   "execution_count": null,
   "metadata": {},
   "outputs": [],
   "source": [
    "# Calculated parameters\n",
    "dtEffective = dt*stride # needed to obtain rate dictionary\n",
    "#fnamebase = parentDirectory + 'simDimer_'\n",
    "fnamebase = parentDirectory + 'simPatchyProtein_'\n",
    "# Parameters for MSM generation \n",
    "#numBoundStates = 8\n",
    "numBoundStates = 6\n",
    "lagtime = 50 #75 150\n",
    "reversible = True #False\n",
    "stitching = True"
   ]
  },
  {
   "cell_type": "code",
   "execution_count": null,
   "metadata": {},
   "outputs": [],
   "source": [
    "# Load discrete trajectories\n",
    "dtrajs = []\n",
    "fnamesuffix = '_discrete' #'_discrete_test' #'_discrete_python' # '_discrete'\n",
    "filetype = 'xyz' # 'h5' or 'xyz'\n",
    "for i in range(nfiles):\n",
    "    dtraj = trajectoryTools.loadDiscreteTrajectory(fnamebase, i, fnamesuffix, filetype)\n",
    "    dtrajs.append(dtraj)    \n",
    "    print(\"File \", i+1, \" of \", nfiles, \" done.\", end=\"\\r\")"
   ]
  },
  {
   "cell_type": "code",
   "execution_count": null,
   "metadata": {},
   "outputs": [],
   "source": [
    "# Slice trajectories getting rid of the unbound state 0\n",
    "unboundStateIndex = 0\n",
    "slicedDtrajs = trajectoryTools.splitDiscreteTrajs(dtrajs, unboundStateIndex)\n",
    "# Stitch trajectories if wanted\n",
    "if stitching:\n",
    "    minLength = 5000\n",
    "    finalTrajs = trajectoryTools.stitchTrajs(slicedDtrajs, minLength)\n",
    "else:\n",
    "    finalTrajs = slicedDtrajs"
   ]
  },
  {
   "cell_type": "code",
   "execution_count": null,
   "metadata": {},
   "outputs": [],
   "source": [
    "# Create MSM between transision states and bound states without stitching\n",
    "mainmsm = pyemma.msm.estimate_markov_model(finalTrajs, lagtime, reversible=reversible)\n",
    "# The active set keep track of the indexes used by pyemma and the ones used to describe the state in our model.\n",
    "activeSet = mainmsm.active_set\n",
    "print(activeSet)"
   ]
  },
  {
   "cell_type": "code",
   "execution_count": null,
   "metadata": {},
   "outputs": [],
   "source": [
    "# Pickle MSM transition matrix and active set as a dictionary   \n",
    "MSM = {'transition_matrix' : mainmsm.transition_matrix, 'active_set': mainmsm.active_set}\n",
    "#pickle_out = open(\"../data/pickled_data/MSM_dimer_t\" + \"{:.2E}\".format(totalTimeSteps ) + \n",
    "#\"_s\" + \"{:d}\".format(stride) + \"_lagt\" + \"{:d}\".format(lagtime) + \".pickle\",\"wb\")\n",
    "#pickle_out = open(\"../data/pickled_data/MSM_pentamer_t\" + \"{:.2E}\".format(totalTimeSteps ) + \n",
    "#\"_s\" + \"{:d}\".format(stride) + \"_lagt\" + \"{:d}\".format(lagtime) + \".pickle\",\"wb\")\n",
    "pickle_out = open(\"../data/pickled_data/MSM_patchyProtein_t\" + \"{:.2E}\".format(totalTimeSteps ) + \n",
    "\"_s\" + \"{:d}\".format(stride) + \"_lagt\" + \"{:d}\".format(lagtime) + \".pickle\",\"wb\")\n",
    "pickle.dump(MSM, pickle_out)\n",
    "pickle_out.close()"
   ]
  },
  {
   "cell_type": "markdown",
   "metadata": {},
   "source": [
    "## Implied timescales and CK test"
   ]
  },
  {
   "cell_type": "code",
   "execution_count": null,
   "metadata": {},
   "outputs": [],
   "source": [
    "# CK-test\n",
    "nsets = 12\n",
    "#sets = [1, 3, 5, 7, 9, 11, 13, 15]\n",
    "#memberships = np.vstack((range(nsets), sets)).transpose()\n",
    "cktest = mainmsm.cktest(nsets, mlags=6)\n",
    "mplt.plot_cktest(cktest);\n",
    "#plt.savefig('cktest12.pdf')"
   ]
  },
  {
   "cell_type": "code",
   "execution_count": null,
   "metadata": {},
   "outputs": [],
   "source": [
    "mplt.plot_cktest(cktest);\n",
    "#plt.savefig('cktest12.pdf')"
   ]
  },
  {
   "cell_type": "code",
   "execution_count": null,
   "metadata": {},
   "outputs": [],
   "source": [
    "# Calculate implied time scales\n",
    "maxlagtime = 100 #300\n",
    "its = pyemma.msm.its(finalTrajs, maxlagtime, reversible=reversible)\n",
    "# with error bars\n",
    "#its = pyemma.msm.its(finalTrajs, maxlagtime, reversible=reversible, errors='bayes')"
   ]
  },
  {
   "cell_type": "code",
   "execution_count": null,
   "metadata": {},
   "outputs": [],
   "source": [
    "# Plot implied timescales in ylog\n",
    "nits = 20\n",
    "mplt.plot_implied_timescales(its, nits = nits, ylog=True, units='steps', linewidth=1, dt=1)\n",
    "plt.ylabel(r\"log(timescale/steps)\", fontsize = 18)\n",
    "plt.xlabel(r\"lag time/steps\", fontsize = 18)\n",
    "#plt.ylim([10.0,100000])\n",
    "#plt.ylim([10.0,8000])"
   ]
  },
  {
   "cell_type": "code",
   "execution_count": null,
   "metadata": {},
   "outputs": [],
   "source": [
    "# Plot implied timescales without log\n",
    "mplt.plot_implied_timescales(its, nits = nits, ylog=False, units='steps', linewidth=2, dt=1)\n",
    "plt.ylabel(r\"timescale/steps\", fontsize = 24)\n",
    "plt.xlabel(r\"lag time/steps\", fontsize = 24)"
   ]
  },
  {
   "cell_type": "code",
   "execution_count": null,
   "metadata": {},
   "outputs": [],
   "source": [
    "# PLOT OF ITS FOR PAPER #\n",
    "nits = 20\n",
    "fig, ax = plt.subplots(figsize=(10, 7))\n",
    "mplt.plot_implied_timescales(its, ax = ax, nits = nits, ylog=True, units='steps', linewidth=2, dt=1, \n",
    "                             show_mean=False, markersize=0, confidence=0.95)\n",
    "plt.ylabel(r\"log(timescale/steps)\", fontsize = 24)\n",
    "plt.xlabel(r\"lag time/steps\", fontsize = 24)\n",
    "plt.xticks(fontsize = 28)\n",
    "plt.yticks(fontsize = 28)\n",
    "plt.ylim([10.0,100000])\n",
    "#plt.savefig('its_dimer_strength60_final_alt.pdf')\n",
    "#plt.savefig('its_pentamer_strength80_test.pdf')\n",
    "#plt.savefig('its_patchyProteinTest.pdf')"
   ]
  },
  {
   "cell_type": "code",
   "execution_count": null,
   "metadata": {},
   "outputs": [],
   "source": [
    "# PLOT OF ITS NOLOG FOR PAPER (maybe)#\n",
    "nits = 20\n",
    "fig, ax = plt.subplots(figsize=(12, 7))\n",
    "mplt.plot_implied_timescales(its, ax = ax, nits = nits, ylog=False, units='steps', linewidth=2, dt=1, \n",
    "                             show_mean=False, markersize=0, confidence=0.95)\n",
    "plt.ylabel(r\"timescale/steps\", fontsize = 24)\n",
    "plt.xlabel(r\"lag time/steps\", fontsize = 24)\n",
    "plt.xticks(fontsize = 28)\n",
    "plt.yticks(fontsize = 28)\n",
    "plt.ylim([10.0,40000])\n",
    "#plt.savefig('its_nolog_dimer_strength60_final_alt.pdf')\n",
    "#plt.savefig('its_nolog_pentamer_strength80_test.pdf')"
   ]
  },
  {
   "cell_type": "code",
   "execution_count": null,
   "metadata": {},
   "outputs": [],
   "source": [
    "eig0 = mainmsm.eigenvectors_left()[0]\n",
    "print(np.where(np.abs(eig0)>0.1))\n",
    "plt.plot(eig0)\n",
    "#plt.xlim([0,10])"
   ]
  },
  {
   "cell_type": "markdown",
   "metadata": {},
   "source": [
    "## Old rate dictionary approach (deprecated)"
   ]
  },
  {
   "cell_type": "code",
   "execution_count": null,
   "metadata": {},
   "outputs": [],
   "source": [
    "rateDictionary = msmTools.MSMtoRateDictionary(mainmsm, numBoundStates, dtEffective, fullDictionary)\n",
    "# Alternatively, it can all be done with one function: slice and stitch trajectories then build MSM and extract rates\n",
    "# rateDictionary = msmrdals.extractRatesMSM(dtrajs, lagtime, numBoundStates, stitching, fullDictionary)"
   ]
  },
  {
   "cell_type": "code",
   "execution_count": null,
   "metadata": {},
   "outputs": [],
   "source": [
    "# Export to data file with pickle (to be loaded later)\n",
    "pickle_out = open(\"../data/pickled_data/ratedictionary_dimer_t\" + \"{:.2E}\".format(totalTimeSteps ) + \"_s\" + \"{:d}\".format(stride) + \"_lagt\" + \"{:d}\".format(lagtime) + \".pickle\",\"wb\")\n",
    "pickle.dump(rateDictionary, pickle_out)\n",
    "pickle_out.close()"
   ]
  },
  {
   "cell_type": "code",
   "execution_count": null,
   "metadata": {},
   "outputs": [],
   "source": [
    "rateDictionary"
   ]
  },
  {
   "cell_type": "code",
   "execution_count": null,
   "metadata": {},
   "outputs": [],
   "source": [
    "rateDictionary[\"b2->b1\"]"
   ]
  }
 ],
 "metadata": {
  "kernelspec": {
   "display_name": "Python [conda env:msmrd-dev]",
   "language": "python",
   "name": "conda-env-msmrd-dev-py"
  },
  "language_info": {
   "codemirror_mode": {
    "name": "ipython",
    "version": 3
   },
   "file_extension": ".py",
   "mimetype": "text/x-python",
   "name": "python",
   "nbconvert_exporter": "python",
   "pygments_lexer": "ipython3",
   "version": "3.6.7"
  }
 },
 "nbformat": 4,
 "nbformat_minor": 2
}
